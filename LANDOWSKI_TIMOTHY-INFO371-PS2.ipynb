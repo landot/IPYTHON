{
 "cells": [
  {
   "cell_type": "markdown",
   "metadata": {},
   "source": [
    "# Problem Set 2, due April 20 at 11:59am (i.e., noon)."
   ]
  },
  {
   "cell_type": "markdown",
   "metadata": {},
   "source": [
    "## Introduction to the assignment\n",
    "\n",
    "For this assignment, you will be using data from the [Progresa program](http://en.wikipedia.org/wiki/Oportunidades), a government social assistance program in Mexico. This program, as well as the details of its impact, are described in the paper \"[School subsidies for the poor: evaluating the Mexican Progresa poverty program](http://www.sciencedirect.com/science/article/pii/S0304387803001858)\", by Paul Shultz (available on Canvas). Please familiarize yourself with the PROGRESA program before beginning this problem set, so you have a rough sense of where the data come from and how they were generated. If you just proceed into the problem set without understanding Progresa or the data, it will be very difficult!\n",
    "\n",
    "The goal of this problem set is to implement some of the basic econometric techniques that you are learning in class to measure the impact of Progresa on secondary school enrollment rates. The timeline of the program was:\n",
    "\n",
    " * Baseline survey conducted in 1997\n",
    " * Intervention begins in 1998, \"Wave 1\" of data collected in 1998\n",
    " * \"Wave 2 of data\" collected in 1999\n",
    " * Evaluation ends in 2000, at which point the control villages were treated. \n",
    " \n",
    "When you are ready, download the progresa_sample.csv data from Canvas. The data are actual data collected to evaluate the impact of the Progresa program.  In this file, each row corresponds to an observation taken for a given child for a given year. There are two years of data (1997 and 1998), and just under 40,000 children who are surveyed in each year. For each child-year observation, the following variables are collected:\n",
    "\n",
    "| Variable name | Description|\n",
    "|------|------|\n",
    "|year\t  |year in which data is collected\n",
    "|sex\t  |male = 1|\n",
    "|indig\t  |indigenous = 1|\n",
    "|dist_sec |nearest distance to a secondary school|\n",
    "|sc\t      |enrolled in school in year of survey|\n",
    "|grc      |grade enrolled|\n",
    "|fam_n    |family size|\n",
    "|min_dist |\tmin distance to an urban center|\n",
    "|dist_cap |\tmin distance to the capital|\n",
    "|poor     |\tpoor = 1|\n",
    "|progresa |treatment =1|\n",
    "|hohedu\t  |years of schooling of head of household|\n",
    "|hohwag\t  |monthly wages of head of household|\n",
    "|welfare_index|\twelfare index used to classify poor|\n",
    "|hohsex\t|gender of head of household (male=1)|\n",
    "|hohage\t|age of head of household|\n",
    "|age\t|years old|\n",
    "|folnum\t|individual id|\n",
    "|village|\tvillage id|\n",
    "|sc97\t|schooling in 1997|"
   ]
  },
  {
   "cell_type": "markdown",
   "metadata": {},
   "source": [
    "---\n",
    "\n",
    "## Part 1: Descriptive analysis\n",
    "\n",
    "### 1.1\tSummary Statistics\n",
    "\n",
    "Present summary statistics (mean and standard deviation) for all of the demographic variables in the dataset (i.e., everything except year, folnum, village). Present these in a single table alphabetized by variable name. Do NOT simply expect the grader to scroll through your output!"
   ]
  },
  {
   "cell_type": "code",
   "execution_count": 37,
   "metadata": {
    "collapsed": false
   },
   "outputs": [],
   "source": [
    "import pandas as pd\n",
    "import numpy as np\n",
    "import scipy as sp\n",
    "from scipy import stats\n",
    "%matplotlib inline  \n",
    "import matplotlib.pyplot as plt  \n",
    "import matplotlib.spines as spines\n",
    "\n",
    "prog_df = pd.read_csv('data/progresa_sample.csv')"
   ]
  },
  {
   "cell_type": "code",
   "execution_count": 38,
   "metadata": {
    "collapsed": false
   },
   "outputs": [],
   "source": [
    "summ_df = pd.DataFrame(columns = ['Mean', 'Standard Deviation'])\n",
    "summ_df['Mean'] = prog_df.mean()\n",
    "summ_df['Standard Deviation'] = prog_df.std()\n",
    "remove = ['year', 'folnum', 'village']\n",
    "summ_df = summ_df.drop(remove)"
   ]
  },
  {
   "cell_type": "code",
   "execution_count": 39,
   "metadata": {
    "collapsed": false
   },
   "outputs": [
    {
     "data": {
      "text/html": [
       "<div>\n",
       "<table border=\"1\" class=\"dataframe\">\n",
       "  <thead>\n",
       "    <tr style=\"text-align: right;\">\n",
       "      <th></th>\n",
       "      <th>Mean</th>\n",
       "      <th>Standard Deviation</th>\n",
       "    </tr>\n",
       "  </thead>\n",
       "  <tbody>\n",
       "    <tr>\n",
       "      <th>age</th>\n",
       "      <td>11.366460</td>\n",
       "      <td>3.167744</td>\n",
       "    </tr>\n",
       "    <tr>\n",
       "      <th>dist_cap</th>\n",
       "      <td>147.674452</td>\n",
       "      <td>76.063134</td>\n",
       "    </tr>\n",
       "    <tr>\n",
       "      <th>dist_sec</th>\n",
       "      <td>2.418910</td>\n",
       "      <td>2.234109</td>\n",
       "    </tr>\n",
       "    <tr>\n",
       "      <th>fam_n</th>\n",
       "      <td>7.215715</td>\n",
       "      <td>2.352900</td>\n",
       "    </tr>\n",
       "    <tr>\n",
       "      <th>grc</th>\n",
       "      <td>3.963537</td>\n",
       "      <td>2.499063</td>\n",
       "    </tr>\n",
       "    <tr>\n",
       "      <th>grc97</th>\n",
       "      <td>3.705372</td>\n",
       "      <td>2.572387</td>\n",
       "    </tr>\n",
       "    <tr>\n",
       "      <th>hohage</th>\n",
       "      <td>44.436717</td>\n",
       "      <td>11.620372</td>\n",
       "    </tr>\n",
       "    <tr>\n",
       "      <th>hohedu</th>\n",
       "      <td>2.768104</td>\n",
       "      <td>2.656106</td>\n",
       "    </tr>\n",
       "    <tr>\n",
       "      <th>hohsex</th>\n",
       "      <td>0.925185</td>\n",
       "      <td>0.263095</td>\n",
       "    </tr>\n",
       "    <tr>\n",
       "      <th>hohwag</th>\n",
       "      <td>586.985312</td>\n",
       "      <td>788.133664</td>\n",
       "    </tr>\n",
       "    <tr>\n",
       "      <th>indig</th>\n",
       "      <td>0.298324</td>\n",
       "      <td>0.457525</td>\n",
       "    </tr>\n",
       "    <tr>\n",
       "      <th>min_dist</th>\n",
       "      <td>103.447520</td>\n",
       "      <td>42.089441</td>\n",
       "    </tr>\n",
       "    <tr>\n",
       "      <th>sc</th>\n",
       "      <td>0.819818</td>\n",
       "      <td>0.384342</td>\n",
       "    </tr>\n",
       "    <tr>\n",
       "      <th>sc97</th>\n",
       "      <td>0.813922</td>\n",
       "      <td>0.389172</td>\n",
       "    </tr>\n",
       "    <tr>\n",
       "      <th>sex</th>\n",
       "      <td>0.512211</td>\n",
       "      <td>0.499854</td>\n",
       "    </tr>\n",
       "    <tr>\n",
       "      <th>welfare_index</th>\n",
       "      <td>690.346564</td>\n",
       "      <td>139.491130</td>\n",
       "    </tr>\n",
       "  </tbody>\n",
       "</table>\n",
       "</div>"
      ],
      "text/plain": [
       "                     Mean  Standard Deviation\n",
       "age             11.366460            3.167744\n",
       "dist_cap       147.674452           76.063134\n",
       "dist_sec         2.418910            2.234109\n",
       "fam_n            7.215715            2.352900\n",
       "grc              3.963537            2.499063\n",
       "grc97            3.705372            2.572387\n",
       "hohage          44.436717           11.620372\n",
       "hohedu           2.768104            2.656106\n",
       "hohsex           0.925185            0.263095\n",
       "hohwag         586.985312          788.133664\n",
       "indig            0.298324            0.457525\n",
       "min_dist       103.447520           42.089441\n",
       "sc               0.819818            0.384342\n",
       "sc97             0.813922            0.389172\n",
       "sex              0.512211            0.499854\n",
       "welfare_index  690.346564          139.491130"
      ]
     },
     "execution_count": 39,
     "metadata": {},
     "output_type": "execute_result"
    }
   ],
   "source": [
    "summ_df = summ_df.sort_index()\n",
    "summ_df"
   ]
  },
  {
   "cell_type": "code",
   "execution_count": 40,
   "metadata": {
    "collapsed": false
   },
   "outputs": [],
   "source": [
    "#prog_df.progresa[0:100]\n",
    "# myset = set(prog_df.progresa)\n",
    "# print(myset)\n",
    "# print(len(prog_df[prog_df.progresa == 'basal']))\n",
    "# print(len(prog_df[prog_df.progresa != 'basal']))"
   ]
  },
  {
   "cell_type": "code",
   "execution_count": 42,
   "metadata": {
    "collapsed": false
   },
   "outputs": [],
   "source": [
    "\n",
    "#print(stats.ttest_ind(treatment_df[5], control_df[5]))"
   ]
  },
  {
   "cell_type": "markdown",
   "metadata": {},
   "source": [
    "### 1.2 Differences at baseline?\n",
    "\n",
    "Are the baseline (1997) demographic characteristics **for the poor**  different in treatment and control villages? Hint: Use a T-Test to determine whether there is a statistically significant difference in the average values of each of the variables in the dataset. Focus only on the data from 1997 for individuals who are poor (i.e., poor=='pobre').\n",
    "\n",
    "Present your results in a single table with the following columns and 14 (or so) rows:\n",
    "\n",
    "| Variable name | Average value (Treatment villages) | Average value (Control villages) | Difference (Treat - Control) | p-value |\n",
    "|------|------|------|------|------|\n",
    "|Male|?|?|?|?|\n"
   ]
  },
  {
   "cell_type": "code",
   "execution_count": 149,
   "metadata": {
    "collapsed": false
   },
   "outputs": [
    {
     "data": {
      "text/html": [
       "<div>\n",
       "<table border=\"1\" class=\"dataframe\">\n",
       "  <thead>\n",
       "    <tr style=\"text-align: right;\">\n",
       "      <th></th>\n",
       "      <th>Variable name</th>\n",
       "      <th>Average value (Treatment villages)</th>\n",
       "      <th>Average value (Control villages)</th>\n",
       "      <th>Difference (Treat - Control)</th>\n",
       "      <th>p-value</th>\n",
       "    </tr>\n",
       "  </thead>\n",
       "  <tbody>\n",
       "    <tr>\n",
       "      <th>age</th>\n",
       "      <td>age</td>\n",
       "      <td>10.716991</td>\n",
       "      <td>10.742023</td>\n",
       "      <td>-0.025032</td>\n",
       "      <td>4.785594e-01</td>\n",
       "    </tr>\n",
       "    <tr>\n",
       "      <th>dist_cap</th>\n",
       "      <td>dist_cap</td>\n",
       "      <td>150.829074</td>\n",
       "      <td>153.769730</td>\n",
       "      <td>-2.940656</td>\n",
       "      <td>8.415005e-04</td>\n",
       "    </tr>\n",
       "    <tr>\n",
       "      <th>dist_sec</th>\n",
       "      <td>dist_sec</td>\n",
       "      <td>2.453122</td>\n",
       "      <td>2.507662</td>\n",
       "      <td>-0.054540</td>\n",
       "      <td>3.569843e-02</td>\n",
       "    </tr>\n",
       "    <tr>\n",
       "      <th>fam_n</th>\n",
       "      <td>fam_n</td>\n",
       "      <td>7.281327</td>\n",
       "      <td>7.302469</td>\n",
       "      <td>-0.021142</td>\n",
       "      <td>4.271039e-01</td>\n",
       "    </tr>\n",
       "    <tr>\n",
       "      <th>grc</th>\n",
       "      <td>grc</td>\n",
       "      <td>3.531599</td>\n",
       "      <td>3.543050</td>\n",
       "      <td>-0.011450</td>\n",
       "      <td>6.890151e-01</td>\n",
       "    </tr>\n",
       "    <tr>\n",
       "      <th>grc97</th>\n",
       "      <td>grc97</td>\n",
       "      <td>3.531599</td>\n",
       "      <td>3.543050</td>\n",
       "      <td>-0.011450</td>\n",
       "      <td>6.890151e-01</td>\n",
       "    </tr>\n",
       "    <tr>\n",
       "      <th>hohage</th>\n",
       "      <td>hohage</td>\n",
       "      <td>43.648828</td>\n",
       "      <td>44.276918</td>\n",
       "      <td>-0.628090</td>\n",
       "      <td>1.796243e-06</td>\n",
       "    </tr>\n",
       "    <tr>\n",
       "      <th>hohedu</th>\n",
       "      <td>hohedu</td>\n",
       "      <td>2.663139</td>\n",
       "      <td>2.590348</td>\n",
       "      <td>0.072791</td>\n",
       "      <td>1.105093e-02</td>\n",
       "    </tr>\n",
       "    <tr>\n",
       "      <th>hohsex</th>\n",
       "      <td>hohsex</td>\n",
       "      <td>0.924656</td>\n",
       "      <td>0.922947</td>\n",
       "      <td>0.001709</td>\n",
       "      <td>5.711858e-01</td>\n",
       "    </tr>\n",
       "    <tr>\n",
       "      <th>hohwag</th>\n",
       "      <td>hohwag</td>\n",
       "      <td>544.339544</td>\n",
       "      <td>573.163558</td>\n",
       "      <td>-28.824015</td>\n",
       "      <td>3.253835e-04</td>\n",
       "    </tr>\n",
       "    <tr>\n",
       "      <th>indig</th>\n",
       "      <td>indig</td>\n",
       "      <td>0.325986</td>\n",
       "      <td>0.332207</td>\n",
       "      <td>-0.006222</td>\n",
       "      <td>2.453603e-01</td>\n",
       "    </tr>\n",
       "    <tr>\n",
       "      <th>min_dist</th>\n",
       "      <td>min_dist</td>\n",
       "      <td>107.152915</td>\n",
       "      <td>103.237854</td>\n",
       "      <td>3.915060</td>\n",
       "      <td>2.358312e-16</td>\n",
       "    </tr>\n",
       "    <tr>\n",
       "      <th>sc</th>\n",
       "      <td>sc</td>\n",
       "      <td>0.822697</td>\n",
       "      <td>0.815186</td>\n",
       "      <td>0.007511</td>\n",
       "      <td>9.517806e-02</td>\n",
       "    </tr>\n",
       "    <tr>\n",
       "      <th>sc97</th>\n",
       "      <td>sc97</td>\n",
       "      <td>0.822697</td>\n",
       "      <td>0.815186</td>\n",
       "      <td>0.007511</td>\n",
       "      <td>9.517806e-02</td>\n",
       "    </tr>\n",
       "    <tr>\n",
       "      <th>sex</th>\n",
       "      <td>sex</td>\n",
       "      <td>0.519317</td>\n",
       "      <td>0.505052</td>\n",
       "      <td>0.014265</td>\n",
       "      <td>1.219172e-02</td>\n",
       "    </tr>\n",
       "    <tr>\n",
       "      <th>welfare_index</th>\n",
       "      <td>welfare_index</td>\n",
       "      <td>655.428377</td>\n",
       "      <td>659.579100</td>\n",
       "      <td>-4.150723</td>\n",
       "      <td>1.431016e-03</td>\n",
       "    </tr>\n",
       "  </tbody>\n",
       "</table>\n",
       "</div>"
      ],
      "text/plain": [
       "               Variable name  Average value (Treatment villages)  \\\n",
       "age                      age                           10.716991   \n",
       "dist_cap            dist_cap                          150.829074   \n",
       "dist_sec            dist_sec                            2.453122   \n",
       "fam_n                  fam_n                            7.281327   \n",
       "grc                      grc                            3.531599   \n",
       "grc97                  grc97                            3.531599   \n",
       "hohage                hohage                           43.648828   \n",
       "hohedu                hohedu                            2.663139   \n",
       "hohsex                hohsex                            0.924656   \n",
       "hohwag                hohwag                          544.339544   \n",
       "indig                  indig                            0.325986   \n",
       "min_dist            min_dist                          107.152915   \n",
       "sc                        sc                            0.822697   \n",
       "sc97                    sc97                            0.822697   \n",
       "sex                      sex                            0.519317   \n",
       "welfare_index  welfare_index                          655.428377   \n",
       "\n",
       "               Average value (Control villages)  Difference (Treat - Control)  \\\n",
       "age                                   10.742023                     -0.025032   \n",
       "dist_cap                             153.769730                     -2.940656   \n",
       "dist_sec                               2.507662                     -0.054540   \n",
       "fam_n                                  7.302469                     -0.021142   \n",
       "grc                                    3.543050                     -0.011450   \n",
       "grc97                                  3.543050                     -0.011450   \n",
       "hohage                                44.276918                     -0.628090   \n",
       "hohedu                                 2.590348                      0.072791   \n",
       "hohsex                                 0.922947                      0.001709   \n",
       "hohwag                               573.163558                    -28.824015   \n",
       "indig                                  0.332207                     -0.006222   \n",
       "min_dist                             103.237854                      3.915060   \n",
       "sc                                     0.815186                      0.007511   \n",
       "sc97                                   0.815186                      0.007511   \n",
       "sex                                    0.505052                      0.014265   \n",
       "welfare_index                        659.579100                     -4.150723   \n",
       "\n",
       "                    p-value  \n",
       "age            4.785594e-01  \n",
       "dist_cap       8.415005e-04  \n",
       "dist_sec       3.569843e-02  \n",
       "fam_n          4.271039e-01  \n",
       "grc            6.890151e-01  \n",
       "grc97          6.890151e-01  \n",
       "hohage         1.796243e-06  \n",
       "hohedu         1.105093e-02  \n",
       "hohsex         5.711858e-01  \n",
       "hohwag         3.253835e-04  \n",
       "indig          2.453603e-01  \n",
       "min_dist       2.358312e-16  \n",
       "sc             9.517806e-02  \n",
       "sc97           9.517806e-02  \n",
       "sex            1.219172e-02  \n",
       "welfare_index  1.431016e-03  "
      ]
     },
     "execution_count": 149,
     "metadata": {},
     "output_type": "execute_result"
    }
   ],
   "source": [
    "#subset df into poor\n",
    "#df of poor families\n",
    "poor_df = prog_df[prog_df['poor'] == 'pobre']\n",
    "poor_df = poor_df[poor_df.year == 97]\n",
    "\n",
    "\n",
    "#dividing families into treatment and control\n",
    "treatment_df = poor_df[poor_df['progresa'] == 'basal']\n",
    "control_df = poor_df[poor_df['progresa'] != 'basal']\n",
    "\n",
    "\n",
    "#columns not needed for baseline\n",
    "remove = ['year', 'folnum', 'village', 'poor', 'progresa']\n",
    "\n",
    "#creating structure of baseline df\n",
    "baseline_df = pd.DataFrame(columns = ['Variable name', 'Average value (Treatment villages)', \n",
    "                                      'Average value (Control villages)', 'Difference (Treat - Control)', 'p-value'])\n",
    "\n",
    "for item in prog_df.columns:\n",
    "    if item not in remove:\n",
    "        baseline_df.loc[item] = [item, treatment_df[item].mean(), control_df[item].mean(), \n",
    "                                 treatment_df[item].mean() - control_df[item].mean(), \n",
    "                                 stats.ttest_ind(treatment_df[item].dropna(axis=0), control_df[item].dropna(axis=0))[1]]\n",
    "        #print(stats.ttest_ind(treatment_df[item].dropna(axis=0), control_df[item].dropna(axis=0), equal_var=False))\n",
    "                                        \n",
    "baseline_df = baseline_df.sort_index()\n",
    "baseline_df\n",
    "\n",
    "#df_a.dropna(axis=0), df_b.dropna(axis=0)\n",
    "#df['MyColumnName'] = df['MyColumnName'].astype('float64')"
   ]
  },
  {
   "cell_type": "markdown",
   "metadata": {},
   "source": [
    "### 1.3 Interpretation\n",
    "\n",
    "* A: Are there statistically significant differences between treatment and control villages as baseline? \n",
    "\n",
    "Some of the variables  within this dataset are statistically significantly different between the treatment and control villages. This can be seen through the lower p values.\n",
    "\n",
    "* B: Why does it matter if there are differences at baseline?\n",
    "\n",
    "The reason for experimentation and randomization is to be able to have an environment to establish causal relationships. If the data is significantly different between the treatment and control group, causal relationships cannot be made properly and the experiment won't be perfect.\n",
    "\n",
    "* C: What does this imply about how to measure the impact of the treatment?\n",
    "\n",
    "This implies that since there are differences between the treatment and control group, you cannot calculate the effect of the treatment through the normal means of finding the difference between treatment and control but you will most likely need to use a different technique to find the impact of the experiment."
   ]
  },
  {
   "cell_type": "markdown",
   "metadata": {},
   "source": [
    "### 1.4 Graphical exploration, part 1\n",
    "\n",
    "For each level of household head education, compute the average enrollment rate in 1997. Create a scatterplot that shows this relationship. What do you notice?"
   ]
  },
  {
   "cell_type": "code",
   "execution_count": 173,
   "metadata": {
    "collapsed": false
   },
   "outputs": [
    {
     "data": {
      "image/png": "[encoded data removed]",
      "text/plain": [
       "<matplotlib.figure.Figure at 0xc31e240>"
      ]
     },
     "metadata": {},
     "output_type": "display_data"
    }
   ],
   "source": [
    "#df for scatter plot\n",
    "scatter_df = prog_df[prog_df['year'] == 97]\n",
    "scatter_df = scatter_df.groupby(['hohedu']).mean()\n",
    "\n",
    "edu_set = set(prog_df.hohedu)\n",
    "\n",
    "#plot scatter with axis\n",
    "plt.scatter(list(edu_set), scatter_df.sc97)\n",
    "plt.title('Head of Household Education vs. Average Enrollment')\n",
    "plt.ylabel('Average Enrollment')\n",
    "plt.xlabel('Head of Household Education in years')\n",
    "\n",
    "#getting rid of spines and ticks\n",
    "#help from divenex http://stackoverflow.com/questions/925024/how-can-i-remove-the-top-and-right-axis-in-matplotlib\n",
    "ax = plt.axes()\n",
    "ax.spines['right'].set_visible(False)\n",
    "ax.spines['top'].set_visible(False)\n",
    "ax.yaxis.set_ticks_position('left')\n",
    "ax.xaxis.set_ticks_position('bottom')"
   ]
  },
  {
   "cell_type": "markdown",
   "metadata": {},
   "source": [
    "Generally as the number of years of education of the head of the household increases, the average enrollment rate decreases. This is shown by decreases in enrollment in the collegiate number of years of education (12+). THe highest enrollment is generally between 0-13 years of education and the loweset enrollment is from households with 20 years of education."
   ]
  },
  {
   "cell_type": "markdown",
   "metadata": {},
   "source": [
    "### 1.5 Graphical exploration, part 2\n",
    "\n",
    "Create a histogram of village enrollment rates **among poor households in treated villages**, before and after treatment. Specifically, for each village, calculate the average rate of enrollment of poor households in treated villages in 1997, then compute the average rate of enrollment of poor households in treated villages in 1998. Create two separate histograms showing the distribution of these average enrollments rates, one histogram for 1997 and one histogram for 1998. On each histogram, draw a vertical line that intersects the x-axis at the average value (across all households). Does there appear to be a difference? Is this difference statistically significant?"
   ]
  },
  {
   "cell_type": "code",
   "execution_count": 213,
   "metadata": {
    "collapsed": false,
    "scrolled": true
   },
   "outputs": [
    {
     "data": {
      "image/png": "[encoded data removed]",
      "text/plain": [
       "<matplotlib.figure.Figure at 0x11f9b400>"
      ]
     },
     "metadata": {},
     "output_type": "display_data"
    }
   ],
   "source": [
    "village_set = set(prog_df.village)\n",
    "\n",
    "#sorting by 1997\n",
    "nine_seven_df = prog_df[prog_df.year == 97]\n",
    "#sorting by poor\n",
    "nine_seven_df = nine_seven_df[nine_seven_df.poor == 'pobre']\n",
    "#sorting by treated villages\n",
    "nine_seven_df = nine_seven_df[nine_seven_df.progresa == 'basal']\n",
    "nine_seven_df = nine_seven_df.groupby('village').mean()\n",
    "\n",
    "#sorting by 1998\n",
    "nine_eight_df = prog_df[prog_df.year == 98]\n",
    "#sorting by poor\n",
    "nine_eight_df = nine_eight_df[nine_eight_df.poor == 'pobre']\n",
    "#sorting by treated villages\n",
    "nine_eight_df = nine_eight_df[nine_eight_df.progresa == 'basal']\n",
    "nine_eight_df = nine_eight_df.groupby('village').mean()\n",
    "\n",
    "#creates histogram\n",
    "fig = plt.figure()\n",
    "ax1 = fig.add_subplot(111)\n",
    "ax1.hist(nine_seven_df.sc,color='green', bins=20)\n",
    "#chart labels\n",
    "plt.title('Enrollment Average in 1997')\n",
    "plt.xlabel('Enrollment Percentage')\n",
    "plt.ylabel('Number of Villages')\n",
    "\n",
    "#getting rid of spines and ticks\n",
    "#help from divenex http://stackoverflow.com/questions/925024/how-can-i-remove-the-top-and-right-axis-in-matplotlib\n",
    "ax = plt.axes()\n",
    "ax.spines['right'].set_visible(False)\n",
    "ax.spines['top'].set_visible(False)\n",
    "ax.yaxis.set_ticks_position('left')\n",
    "ax.xaxis.set_ticks_position('bottom')\n",
    "\n",
    "plt.axvline(nine_seven_df[\"sc\"].mean(), color='red', linewidth=3)\n",
    "\n",
    "plt.show()\n"
   ]
  },
  {
   "cell_type": "code",
   "execution_count": 212,
   "metadata": {
    "collapsed": false
   },
   "outputs": [
    {
     "data": {
      "image/png": "[encoded data removed]",
      "text/plain": [
       "<matplotlib.figure.Figure at 0xc764c18>"
      ]
     },
     "metadata": {},
     "output_type": "display_data"
    }
   ],
   "source": [
    "#creates histogram\n",
    "fig = plt.figure()\n",
    "ax1 = fig.add_subplot(111)\n",
    "ax1.hist(nine_eight_df.sc,color='blue', bins=20)\n",
    "#chart labels\n",
    "plt.title('Enrollment Average in 1998')\n",
    "plt.xlabel('Enrollment Percentage')\n",
    "plt.ylabel('Number of Villages')\n",
    "\n",
    "#getting rid of spines and ticks\n",
    "#help from divenex http://stackoverflow.com/questions/925024/how-can-i-remove-the-top-and-right-axis-in-matplotlib\n",
    "ax = plt.axes()\n",
    "ax.spines['right'].set_visible(False)\n",
    "ax.spines['top'].set_visible(False)\n",
    "ax.yaxis.set_ticks_position('left')\n",
    "ax.xaxis.set_ticks_position('bottom')\n",
    "\n",
    "plt.axvline(nine_eight_df[\"sc\"].mean(), color='red', linewidth=3)\n",
    "\n",
    "plt.show()"
   ]
  },
  {
   "cell_type": "code",
   "execution_count": 221,
   "metadata": {
    "collapsed": false
   },
   "outputs": [
    {
     "name": "stdout",
     "output_type": "stream",
     "text": [
      "('1997 Mean: ', 0.8138394110596501)\n",
      "('1998 Mean: ', 0.8295362042630732)\n"
     ]
    },
    {
     "data": {
      "text/plain": [
       "Ttest_indResult(statistic=-2.0157134865156379, pvalue=0.04424870036572115)"
      ]
     },
     "execution_count": 221,
     "metadata": {},
     "output_type": "execute_result"
    }
   ],
   "source": [
    "print('1997 Mean: ',nine_seven_df[\"sc\"].mean())\n",
    "print('1998 Mean: ', nine_eight_df[\"sc\"].mean())\n",
    "\n",
    "stats.ttest_ind(nine_seven_df[\"sc\"].dropna(), \n",
    "                nine_eight_df[\"sc\"].dropna())"
   ]
  },
  {
   "cell_type": "markdown",
   "metadata": {},
   "source": [
    "If you look at the histograms you can see the distributions between the two groups being slightly different. After running a ttest to find the p-value, it is found to not be statistically significant since it is less than .05"
   ]
  },
  {
   "cell_type": "markdown",
   "metadata": {},
   "source": [
    "## Part 2: Measuring Impact\n",
    "\n",
    "Our goal is to estimate the causal impact of the PROGRESA program on the social and economic outcomes of individuals in Mexico. We will focus on the impact of the program on the poor (those with poor=='pobre'), since only the poor were eligible to receive the PROGRESA assistance.\n",
    "\n",
    "### 2.1 Simple differences: T-test\n",
    "\n",
    "Begin by estimating the impact of Progresa using \"simple differences.\" Restricting yourself to data from 1998 (after treatment), calculate the average enrollment rate among **poor** households in the Treatment villages and the average enrollment rate among **poor** households in the control villages. Use a t-test to determine if this difference is statistically significant. What do you conclude?"
   ]
  },
  {
   "cell_type": "code",
   "execution_count": 121,
   "metadata": {
    "collapsed": false
   },
   "outputs": [
    {
     "name": "stdout",
     "output_type": "stream",
     "text": [
      "Ttest_indResult(statistic=8.3587205674183735, pvalue=6.636344447523235e-17)\n",
      "0.846479121395\n",
      "0.80763695673\n"
     ]
    }
   ],
   "source": [
    "poor_df = prog_df[prog_df.year == 98]\n",
    "poor_df = poor_df[poor_df.poor == 'pobre']\n",
    "\n",
    "\n",
    "print(stats.ttest_ind(poor_df[poor_df['progresa'] == 'basal'].sc.dropna(axis=0), \n",
    "                poor_df[poor_df['progresa'] == '0'].sc.dropna(axis=0)))\n",
    "\n",
    "print(poor_df[poor_df['progresa'] == 'basal'].sc.dropna(axis=0).mean())\n",
    "print(poor_df[poor_df['progresa'] == '0'].sc.dropna(axis=0).mean())"
   ]
  },
  {
   "cell_type": "markdown",
   "metadata": {},
   "source": [
    "Since the P-value is low, it can be concluded that we can reject the null hypothesis of equal averages. This means that the difference between these groups are statistically significant."
   ]
  },
  {
   "cell_type": "markdown",
   "metadata": {},
   "source": [
    "### 2.2 Simple differences: Regression\n",
    "\n",
    "Estimate the effects of Progresa on enrollment using a regression model, by regressing the 1998 enrollment rates **of the poor** on treatment assignment. Discuss the following:\n",
    "\n",
    "* Based on this model, how much did Progresa increase the likelihood of a child enrolling?\n",
    "* How does your regression estimate compare to your t-test estimate from part 2.1?\n",
    "* Based on this regression model, can we reject the null hypothesis that the treatment effects are zero? \n",
    "* What is the counterfactual assumption underlying this regression?"
   ]
  },
  {
   "cell_type": "code",
   "execution_count": 227,
   "metadata": {
    "collapsed": false
   },
   "outputs": [],
   "source": [
    "import statsmodels.api as sm\n",
    "import statsmodels.formula.api as smf\n",
    "import scipy.stats as stats"
   ]
  },
  {
   "cell_type": "code",
   "execution_count": 232,
   "metadata": {
    "collapsed": false
   },
   "outputs": [
    {
     "data": {
      "text/html": [
       "<table class=\"simpletable\">\n",
       "<caption>OLS Regression Results</caption>\n",
       "<tr>\n",
       "  <th>Dep. Variable:</th>           <td>sc</td>        <th>  R-squared:         </th> <td>   0.003</td> \n",
       "</tr>\n",
       "<tr>\n",
       "  <th>Model:</th>                   <td>OLS</td>       <th>  Adj. R-squared:    </th> <td>   0.003</td> \n",
       "</tr>\n",
       "<tr>\n",
       "  <th>Method:</th>             <td>Least Squares</td>  <th>  F-statistic:       </th> <td>   69.87</td> \n",
       "</tr>\n",
       "<tr>\n",
       "  <th>Date:</th>             <td>Fri, 22 Apr 2016</td> <th>  Prob (F-statistic):</th> <td>6.64e-17</td> \n",
       "</tr>\n",
       "<tr>\n",
       "  <th>Time:</th>                 <td>01:46:51</td>     <th>  Log-Likelihood:    </th> <td> -11926.</td> \n",
       "</tr>\n",
       "<tr>\n",
       "  <th>No. Observations:</th>      <td> 27450</td>      <th>  AIC:               </th> <td>2.386e+04</td>\n",
       "</tr>\n",
       "<tr>\n",
       "  <th>Df Residuals:</th>          <td> 27448</td>      <th>  BIC:               </th> <td>2.387e+04</td>\n",
       "</tr>\n",
       "<tr>\n",
       "  <th>Df Model:</th>              <td>     1</td>      <th>                     </th>     <td> </td>    \n",
       "</tr>\n",
       "<tr>\n",
       "  <th>Covariance Type:</th>      <td>nonrobust</td>    <th>                     </th>     <td> </td>    \n",
       "</tr>\n",
       "</table>\n",
       "<table class=\"simpletable\">\n",
       "<tr>\n",
       "          <td></td>             <th>coef</th>     <th>std err</th>      <th>t</th>      <th>P>|t|</th> <th>[95.0% Conf. Int.]</th> \n",
       "</tr>\n",
       "<tr>\n",
       "  <th>Intercept</th>         <td>    0.8076</td> <td>    0.004</td> <td>  220.676</td> <td> 0.000</td> <td>    0.800     0.815</td>\n",
       "</tr>\n",
       "<tr>\n",
       "  <th>progresa[T.basal]</th> <td>    0.0388</td> <td>    0.005</td> <td>    8.359</td> <td> 0.000</td> <td>    0.030     0.048</td>\n",
       "</tr>\n",
       "</table>\n",
       "<table class=\"simpletable\">\n",
       "<tr>\n",
       "  <th>Omnibus:</th>       <td>7638.939</td> <th>  Durbin-Watson:     </th> <td>   1.734</td> \n",
       "</tr>\n",
       "<tr>\n",
       "  <th>Prob(Omnibus):</th>  <td> 0.000</td>  <th>  Jarque-Bera (JB):  </th> <td>15767.534</td>\n",
       "</tr>\n",
       "<tr>\n",
       "  <th>Skew:</th>           <td>-1.767</td>  <th>  Prob(JB):          </th> <td>    0.00</td> \n",
       "</tr>\n",
       "<tr>\n",
       "  <th>Kurtosis:</th>       <td> 4.140</td>  <th>  Cond. No.          </th> <td>    3.01</td> \n",
       "</tr>\n",
       "</table>"
      ],
      "text/plain": [
       "<class 'statsmodels.iolib.summary.Summary'>\n",
       "\"\"\"\n",
       "                            OLS Regression Results                            \n",
       "==============================================================================\n",
       "Dep. Variable:                     sc   R-squared:                       0.003\n",
       "Model:                            OLS   Adj. R-squared:                  0.003\n",
       "Method:                 Least Squares   F-statistic:                     69.87\n",
       "Date:                Fri, 22 Apr 2016   Prob (F-statistic):           6.64e-17\n",
       "Time:                        01:46:51   Log-Likelihood:                -11926.\n",
       "No. Observations:               27450   AIC:                         2.386e+04\n",
       "Df Residuals:                   27448   BIC:                         2.387e+04\n",
       "Df Model:                           1                                         \n",
       "Covariance Type:            nonrobust                                         \n",
       "=====================================================================================\n",
       "                        coef    std err          t      P>|t|      [95.0% Conf. Int.]\n",
       "-------------------------------------------------------------------------------------\n",
       "Intercept             0.8076      0.004    220.676      0.000         0.800     0.815\n",
       "progresa[T.basal]     0.0388      0.005      8.359      0.000         0.030     0.048\n",
       "==============================================================================\n",
       "Omnibus:                     7638.939   Durbin-Watson:                   1.734\n",
       "Prob(Omnibus):                  0.000   Jarque-Bera (JB):            15767.534\n",
       "Skew:                          -1.767   Prob(JB):                         0.00\n",
       "Kurtosis:                       4.140   Cond. No.                         3.01\n",
       "==============================================================================\n",
       "\n",
       "Warnings:\n",
       "[1] Standard Errors assume that the covariance matrix of the errors is correctly specified.\n",
       "\"\"\""
      ]
     },
     "execution_count": 232,
     "metadata": {},
     "output_type": "execute_result"
    }
   ],
   "source": [
    "nine_eight_df = prog_df[prog_df.poor == 'pobre']\n",
    "nine_eight_df = nine_eight_df[nine_eight_df.year == 98]\n",
    "\n",
    "\n",
    "lm = smf.ols(formula='sc ~ progresa', data = nine_eight_df)\n",
    "lm_result = lm.fit()\n",
    "lm_result.summary()"
   ]
  },
  {
   "cell_type": "markdown",
   "metadata": {},
   "source": [
    "*Discuss your results here*"
   ]
  },
  {
   "cell_type": "markdown",
   "metadata": {},
   "source": [
    "### 2.3 Multiple Regression\n",
    "\n",
    "Re-run the above regression estimated but this time include a set of control variables. Include, for instance, age, distance to a secondary school, gender, education of household head, welfare index, indigenous, etc.\n",
    "\n",
    "* How do the controls affect the point estimate of treatment effect?\n",
    "* How do the controls affect the standard error on the treatment effect? \n",
    "* How do you interpret the differences (or similarities) between your estimates of 2.2 and 2.3?"
   ]
  },
  {
   "cell_type": "code",
   "execution_count": 185,
   "metadata": {
    "collapsed": false
   },
   "outputs": [],
   "source": [
    "# Your code here"
   ]
  },
  {
   "cell_type": "markdown",
   "metadata": {},
   "source": [
    "*Discuss your results here*"
   ]
  },
  {
   "cell_type": "markdown",
   "metadata": {},
   "source": [
    "### 2.4 Difference-in-Difference, version 1 (tabular)\n",
    "\n",
    "Thus far, we have computed the effects of Progresa by estimating the difference in 1998 enrollment rates across villages. An alternative approach would be to compute the treatment effect using a difference-in-differences framework.\n",
    "\n",
    "Begin by estimating the average treatment effects of the program for poor households using data from 1997 and 1998. Specifically, calculate the difference (between 1997 and 1998) in enrollment rates among poor households in treated villages; then compute the difference (between 1997 and 1998) in enrollment rates among poor households in control villages. The difference between these two differences is your estimate.\n",
    "\n",
    "* What is your estimate of the impact, and how does it compare to your earlier (simple difference) results?\n",
    "* What is the counterfactual assumption underlying this estimate? \n"
   ]
  },
  {
   "cell_type": "code",
   "execution_count": 186,
   "metadata": {
    "collapsed": false
   },
   "outputs": [],
   "source": [
    "# Your code here"
   ]
  },
  {
   "cell_type": "markdown",
   "metadata": {},
   "source": [
    "*Discuss your results here*"
   ]
  },
  {
   "cell_type": "markdown",
   "metadata": {},
   "source": [
    "### 2.5 Difference-in-Difference, version 2 (regression)\n",
    "\n",
    "Now use a regression specification to estimate the average treatment effects of the program in a difference-in-differences framework. Include at least 5 control variables.\n",
    "\n",
    "* What is your estimate of the impact of Progresa? Be very specific in interpreting your coefficients and standard errors, and make sure to specify exactly what units you are measuring and estimating.\n",
    "* How do these estimates of the treatment effect compare to the estimates based on the simple difference?\n",
    "* How do these estimates compare to the difference-in-difference estimates from 2.4 above? What accounts for these differences?\n",
    "* What is the counterfactual assumption underlying this regression? "
   ]
  },
  {
   "cell_type": "code",
   "execution_count": 187,
   "metadata": {
    "collapsed": false
   },
   "outputs": [],
   "source": [
    "# Your code here"
   ]
  },
  {
   "cell_type": "markdown",
   "metadata": {},
   "source": [
    "*Discuss your results here*"
   ]
  },
  {
   "cell_type": "markdown",
   "metadata": {},
   "source": [
    "### 2.6 Summary\n",
    "\n",
    "* Based on all the analysis you have undertaken to date, do you believe that Progresa had a causal impact on the enrollment rates of poor households in Mexico? \n",
    "* Describe one other way that you might analyze these data to further investigate the causal impact of Progresa on enrollment, and clearly state the counterfactual assumption you would need to make for that approach to be valid.  *(Hint: Consider using the non-poor in your analysis)*"
   ]
  },
  {
   "cell_type": "markdown",
   "metadata": {},
   "source": [
    "*Discuss your results here*"
   ]
  }
 ],
 "metadata": {
  "kernelspec": {
   "display_name": "Python 2",
   "language": "python",
   "name": "python2"
  },
  "language_info": {
   "codemirror_mode": {
    "name": "ipython",
    "version": 2
   },
   "file_extension": ".py",
   "mimetype": "text/x-python",
   "name": "python",
   "nbconvert_exporter": "python",
   "pygments_lexer": "ipython2",
   "version": "2.7.11"
  }
 },
 "nbformat": 4,
 "nbformat_minor": 0
}
