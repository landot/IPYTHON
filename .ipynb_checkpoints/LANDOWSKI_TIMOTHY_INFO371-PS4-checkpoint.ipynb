{
 "cells": [
  {
   "cell_type": "markdown",
   "metadata": {},
   "source": [
    "# Problem Set 4, due May 16 at 11:59am, mid-day, noon.\n",
    "\n",
    "### Before You Start\n",
    "\n",
    "This is a fun but challenging problem set. It will test your python skills, as well as your understanding of the material in class and in the readings. Start early and debug often! Some notes:\n",
    "\n",
    "* Part 1 is meant to be easy, so get through it quickly.\n",
    "* Part 2 (especially 2.1) will be difficult, but it is the lynchpin of this problem set to make sure to do it well and understand what you've done. If you find your gradient descent algorithm is taking more than a few minutes to complete, debug more, compare notes with others, and go to the TA sessions.\n",
    "* Depending on how well you've done 2.1, parts 2.3 and 3.3 will be relatively painless or incredibly painful. \n",
    "* Part 3 (especially 3.3) will be computationally intensive. Don't leave this until the last minute, otherwise your code might be running when the deadline arrives.\n",
    "* Do the extra credit problems last."
   ]
  },
  {
   "cell_type": "markdown",
   "metadata": {},
   "source": [
    "---\n",
    "\n",
    "## Introduction to the assignment\n",
    "\n",
    "As with the last assignment, you will be using the [Boston Housing Prices Data Set](http://archive.ics.uci.edu/ml/datasets/Housing)."
   ]
  },
  {
   "cell_type": "code",
   "execution_count": 168,
   "metadata": {
    "collapsed": false
   },
   "outputs": [],
   "source": [
    "import IPython\n",
    "import numpy as np\n",
    "import scipy as sp\n",
    "import pandas as pd\n",
    "import matplotlib\n",
    "import sklearn\n",
    "\n",
    "from sklearn.datasets import load_boston\n",
    "bdata = load_boston()\n",
    "\n",
    "#adds MEDV\n",
    "bdata_df = pd.DataFrame(bdata.data)\n",
    "bdata_df.columns = bdata.feature_names[:]\n",
    "newdf = pd.DataFrame(bdata.target)\n",
    "bdata_df = pd.concat([bdata_df, newdf], axis=1)\n",
    "bdata_df.columns.values[13] = 'MEDV'"
   ]
  },
  {
   "cell_type": "markdown",
   "metadata": {},
   "source": [
    "---\n",
    "\n",
    "## Part 1: Getting oriented\n",
    "\n",
    "Use different learning rates\n",
    "\n",
    "### 1.1 Use existing libraries\n",
    "\n",
    "Soon, you will write your own gradient descent algorithm, which you will then use to minimize the squared error cost function.  First, however, let's use the canned versions that come with Python, to make sure we understand what we're aiming to achieve.\n",
    "\n",
    "Using the same Boston housing prices dataset, use the [Linear Regression class](http://scikit-learn.org/stable/modules/generated/sklearn.linear_model.LinearRegression.html) from sklearn or the [OLS class](http://wiki.scipy.org/Cookbook/OLS) from SciPy to explore the relationship between  median housing price and number of rooms per house. Do this by first (a) regressing the housing price on the number of rooms per house, and then (b) regressing the housing price on the number of rooms per house and the (number of rooms per house) squared.  **Interpret your results.**"
   ]
  },
  {
   "cell_type": "code",
   "execution_count": 169,
   "metadata": {
    "collapsed": false
   },
   "outputs": [],
   "source": [
    "# Your code here\n",
    "from sklearn import linear_model\n",
    "\n",
    "#adds new column of RM^2\n",
    "bdata_df[\"RMSQUARED\"] = bdata_df.RM ** 2"
   ]
  },
  {
   "cell_type": "code",
   "execution_count": 170,
   "metadata": {
    "collapsed": false
   },
   "outputs": [
    {
     "name": "stdout",
     "output_type": "stream",
     "text": [
      "9.10210898118\n",
      "-34.6706207764\n"
     ]
    }
   ],
   "source": [
    "#Regressing housing price on number of rooms\n",
    "lm = linear_model.LinearRegression()\n",
    "lm.fit(bdata_df.RM.reshape(-1,1), bdata_df.MEDV.reshape(-1,1))\n",
    "\n",
    "print(lm.coef_[0][0])\n",
    "print(lm.intercept_[0])\n",
    "a_slope_coef = lm.coef_[0][0]\n",
    "a_interecept_coef = lm.intercept_"
   ]
  },
  {
   "cell_type": "code",
   "execution_count": 171,
   "metadata": {
    "collapsed": false
   },
   "outputs": [],
   "source": [
    "RM_RMSQUARED = bdata_df[['RM', 'RMSQUARED']]"
   ]
  },
  {
   "cell_type": "code",
   "execution_count": 172,
   "metadata": {
    "collapsed": false
   },
   "outputs": [
    {
     "name": "stdout",
     "output_type": "stream",
     "text": [
      "-22.6432623742\n",
      "2.47012384403\n",
      "66.0588474848\n"
     ]
    }
   ],
   "source": [
    "#regressing housing price on number of rooms and number of rooms squared\n",
    "lm2 = linear_model.LinearRegression()\n",
    "lm2.fit(RM_RMSQUARED, bdata_df.MEDV.reshape(-1,1))\n",
    "\n",
    "print(lm2.coef_[0][0])\n",
    "print(lm2.coef_[0][1])\n",
    "print(lm2.intercept_[0])\n",
    "b_slope_coef1 = lm2.coef_[0][0]\n",
    "b_slope_coef2 = lm2.coef_[0][1]\n",
    "b_interecept_coef = lm2.intercept_[0]"
   ]
  },
  {
   "cell_type": "markdown",
   "metadata": {},
   "source": [
    "*Enter your observations here*"
   ]
  },
  {
   "cell_type": "markdown",
   "metadata": {},
   "source": [
    "### 1.2 Training and testing\n",
    "\n",
    "Chances are, for the above problem you used all of your data to fit the regression line. In some circumstances this is a reasonable thing to do, but often this will result in overfitting. Let's redo the above results the ML way, using careful cross-validation.  Since you are now experts in cross-validation, and have written your own cross-validation algorithm from scratch, you can now take a shortcut and use the libraries that others have built for you.\n",
    "\n",
    "Using the [cross-validation functions](http://scikit-learn.org/stable/modules/cross_validation.html) from scikit-learn, use k-fold cross-validation to fit regression (a) above, i.e. the linear fit of housing price on number of rooms per house. Each fold of cross-validation will give you one slope coefficient and one intercept coefficient.  Plot the distribution of the k slope coefficients, and draw a vertical line at the value of the slope coefficient that you estimated in 1.1 using the full dataset.  What do you observe?"
   ]
  },
  {
   "cell_type": "code",
   "execution_count": 173,
   "metadata": {
    "collapsed": false
   },
   "outputs": [
    {
     "name": "stdout",
     "output_type": "stream",
     "text": [
      "bdata_train  (339L, 13L)\n",
      "btarget_train  (339L,)\n",
      "bdata_test  (167L, 13L)\n",
      "btarget_test  (167L,)\n",
      " \n",
      "coef 9.03358224555\n",
      "intercept -34.1785419767\n",
      " \n",
      "coef 9.00472630295\n",
      "intercept -34.034469433\n",
      " \n",
      "coef 9.00788467403\n",
      "intercept -34.0487328813\n",
      " \n",
      "coef 9.06861197613\n",
      "intercept -34.4141307823\n",
      " \n",
      "coef 9.05974732885\n",
      "intercept -34.3118904049\n",
      " \n",
      "coef 9.02246593423\n",
      "intercept -34.2001230209\n",
      " \n",
      "coef 9.00093218945\n",
      "intercept -33.9262279439\n",
      " \n",
      "coef 9.03128079225\n",
      "intercept -34.154695221\n",
      " \n",
      "coef 9.06477295993\n",
      "intercept -34.3708986911\n",
      " \n",
      "coef 9.01957978035\n",
      "intercept -34.1317136228\n",
      " \n",
      "coef 8.91950544151\n",
      "intercept -33.5123322682\n",
      " \n",
      "coef 9.03196115012\n",
      "intercept -34.1607108516\n",
      " \n",
      "coef 9.04041975093\n",
      "intercept -34.2497476592\n",
      " \n",
      "coef 8.85286457156\n",
      "intercept -33.0879311678\n",
      " \n",
      "coef 9.06693772053\n",
      "intercept -34.3929724089\n",
      " \n",
      "coef 9.3436365815\n",
      "intercept -36.2568837297\n",
      " \n",
      "coef 9.05570105567\n",
      "intercept -34.2832264186\n",
      " \n",
      "coef 9.39676899442\n",
      "intercept -36.410638828\n",
      " \n",
      "coef 9.03742515255\n",
      "intercept -34.2336808787\n",
      " \n",
      "coef 9.05204089969\n",
      "intercept -34.2804420843\n",
      " \n",
      "coef 9.09097520624\n",
      "intercept -34.5656562203\n",
      " \n",
      "coef 9.05117421176\n",
      "intercept -34.2931447688\n",
      " \n",
      "coef 9.0528468927\n",
      "intercept -34.2803870531\n",
      " \n",
      "coef 9.07050081303\n",
      "intercept -34.3677293771\n",
      " \n",
      "coef 9.01040293945\n",
      "intercept -34.0263463338\n",
      " \n",
      "coef 9.02123520658\n",
      "intercept -34.1262766841\n",
      " \n",
      "coef 8.97755494238\n",
      "intercept -33.8908483136\n",
      " \n",
      "coef 9.04411303159\n",
      "intercept -34.2447921113\n",
      " \n",
      "coef 9.00257861101\n",
      "intercept -33.9614279844\n",
      " \n",
      "coef 9.03761217304\n",
      "intercept -34.2299899893\n",
      " \n",
      "coef 9.0540501106\n",
      "intercept -34.2690964693\n",
      " \n",
      "coef 9.05097153116\n",
      "intercept -34.3159855774\n",
      " \n",
      "coef 8.89972898998\n",
      "intercept -33.3936859627\n",
      " \n",
      "coef 9.09470272856\n",
      "intercept -34.5679020125\n",
      " \n",
      "coef 8.94903703465\n",
      "intercept -33.667084011\n",
      " \n",
      "coef 9.002866088\n",
      "intercept -34.0016756464\n",
      " \n",
      "coef 8.99529553154\n",
      "intercept -33.9634810769\n",
      " \n",
      "coef 9.14699773106\n",
      "intercept -34.9197991066\n",
      " \n",
      "coef 9.18981407045\n",
      "intercept -35.124416167\n",
      " \n",
      "coef 9.36764883774\n",
      "intercept -36.3728637326\n",
      " \n",
      "coef 8.94553057051\n",
      "intercept -33.688893169\n",
      " \n",
      "coef 8.92062299666\n",
      "intercept -33.5130589721\n",
      " \n",
      "coef 9.02055076565\n",
      "intercept -34.0771329038\n",
      " \n",
      "coef 9.03983851295\n",
      "intercept -34.203163607\n",
      " \n",
      "coef 9.04431962383\n",
      "intercept -34.2118635048\n",
      " \n",
      "coef 9.03395268249\n",
      "intercept -34.1970726375\n",
      " \n",
      "coef 9.06068283041\n",
      "intercept -34.2917662982\n",
      " \n",
      "coef 9.01070365912\n",
      "intercept -34.0246600834\n",
      " \n",
      "coef 8.95882949444\n",
      "intercept -33.7603693594\n",
      " \n",
      "coef 9.06411067589\n",
      "intercept -34.3424536967\n",
      " \n",
      "coef 9.05765275891\n",
      "intercept -34.3307149824\n",
      " \n",
      "coef 9.0860476167\n",
      "intercept -34.490701233\n",
      " \n",
      "coef 8.95254025484\n",
      "intercept -33.6725054276\n",
      " \n",
      "coef 9.03042883924\n",
      "intercept -34.173102207\n",
      " \n",
      "coef 8.91272830038\n",
      "intercept -33.4209792905\n",
      " \n",
      "coef 9.0491604949\n",
      "intercept -34.2663109408\n",
      " \n",
      "coef 9.03265668307\n",
      "intercept -34.1545545818\n",
      " \n",
      "coef 8.90656451501\n",
      "intercept -33.4326291261\n",
      " \n",
      "coef 9.03004021537\n",
      "intercept -34.1017964546\n",
      " \n",
      "coef 9.06230528581\n",
      "intercept -34.3233071603\n",
      " \n",
      "coef 9.0478755432\n",
      "intercept -34.2860386255\n",
      " \n",
      "coef 9.03179698685\n",
      "intercept -34.1681344136\n",
      " \n",
      "coef 9.00736156333\n",
      "intercept -34.0022320005\n",
      " \n",
      "coef 9.10426521989\n",
      "intercept -34.6881486383\n",
      " \n",
      "coef 9.01603898908\n",
      "intercept -34.0728111913\n",
      " \n",
      "coef 9.05262829933\n",
      "intercept -34.3178814979\n",
      " \n",
      "coef 9.04623514097\n",
      "intercept -34.2772391475\n",
      " \n",
      "coef 9.0500502635\n",
      "intercept -34.3081439875\n",
      " \n",
      "coef 9.02800299666\n",
      "intercept -34.1644683262\n",
      " \n",
      "coef 8.93285215227\n",
      "intercept -33.6158126239\n",
      " \n",
      "coef 9.00549445763\n",
      "intercept -33.9961871155\n",
      " \n",
      "coef 9.03517842997\n",
      "intercept -34.2091720991\n",
      " \n",
      "coef 9.03055364615\n",
      "intercept -34.1630306864\n",
      " \n",
      "coef 9.05262161889\n",
      "intercept -34.2930058548\n",
      " \n",
      "coef 9.09896237129\n",
      "intercept -34.5593321381\n",
      " \n",
      "coef 9.0363140632\n",
      "intercept -34.1541736804\n",
      " \n",
      "coef 9.12035863631\n",
      "intercept -34.7329973821\n",
      " \n",
      "coef 9.03658875166\n",
      "intercept -34.2030904588\n",
      " \n",
      "coef 9.00519327046\n",
      "intercept -34.0144972171\n",
      " \n",
      "coef 9.05826652943\n",
      "intercept -34.3265185656\n",
      " \n",
      "coef 8.89290728514\n",
      "intercept -33.3246587525\n",
      " \n",
      "coef 9.03488760939\n",
      "intercept -34.1937145069\n",
      " \n",
      "coef 9.0332069374\n",
      "intercept -34.1810096291\n",
      " \n",
      "coef 9.03446450586\n",
      "intercept -34.189026291\n",
      " \n",
      "coef 9.05100559824\n",
      "intercept -34.2924461939\n",
      " \n",
      "coef 9.02741611579\n",
      "intercept -34.1227848269\n",
      " \n",
      "coef 9.03161110281\n",
      "intercept -34.1725476251\n",
      " \n",
      "coef 9.02992599421\n",
      "intercept -34.1795951588\n",
      " \n",
      "coef 9.03992725716\n",
      "intercept -34.239817119\n",
      " \n",
      "coef 9.03984712405\n",
      "intercept -34.236677291\n",
      " \n",
      "coef 9.02896093488\n",
      "intercept -34.1481389739\n",
      " \n",
      "coef 9.03075939716\n",
      "intercept -34.1708464998\n",
      " \n",
      "coef 8.97194509392\n",
      "intercept -33.7987900427\n",
      " \n",
      "coef 9.06507571984\n",
      "intercept -34.3841811138\n",
      " \n",
      "coef 9.11918483218\n",
      "intercept -34.827602714\n",
      " \n",
      "coef 9.03754512438\n",
      "intercept -34.1881215472\n",
      " \n",
      "coef 9.08576433529\n",
      "intercept -34.5438296754\n",
      " \n",
      "coef 9.00756612316\n",
      "intercept -34.0046270348\n",
      " \n",
      "coef 9.05262893325\n",
      "intercept -34.3242501666\n",
      " \n",
      "coef 9.06488729891\n",
      "intercept -34.3302100805\n",
      " \n",
      "[9.0335822455508765, 9.0047263029488782, 9.0078846740279293, 9.0686119761257498, 9.0597473288507846, 9.0224659342275579, 9.0009321894543461, 9.0312807922486016, 9.0647729599308899, 9.0195797803482449, 8.9195054415078037, 9.0319611501246406, 9.0404197509295496, 8.8528645715629661, 9.0669377205281503, 9.3436365814952254, 9.0557010556677753, 9.3967689944208317, 9.0374251525496145, 9.0520408996926651, 9.0909752062393814, 9.0511742117635094, 9.0528468926968539, 9.070500813027893, 9.0104029394457186, 9.0212352065766428, 8.9775549423773775, 9.0441130315890348, 9.0025786110147887, 9.0376121730430512, 9.0540501105982543, 9.0509715311555645, 8.8997289899764898, 9.0947027285550863, 8.949037034653049, 9.0028660880018201, 8.9952955315409096, 9.1469977310597432, 9.1898140704477083, 9.367648837744305, 8.9455305705130694, 8.9206229966585671, 9.0205507656483874, 9.0398385129469876, 9.0443196238263841, 9.0339526824914422, 9.0606828304069715, 9.0107036591164444, 8.9588294944426323, 9.0641106758905448, 9.0576527589084677, 9.0860476166996005, 8.9525402548407964, 9.030428839242969, 8.9127283003807385, 9.0491604949005922, 9.0326566830733359, 8.9065645150122368, 9.030040215374763, 9.062305285811151, 9.0478755432002878, 9.0317969868450962, 9.0073615633341841, 9.104265219890971, 9.0160389890843327, 9.0526282993323957, 9.046235140974364, 9.050050263500431, 9.0280029966559532, 8.9328521522708133, 9.0054944576337892, 9.0351784299741382, 9.030553646152768, 9.0526216188930348, 9.0989623712928331, 9.0363140632005781, 9.120358636312158, 9.036588751656188, 9.0051932704571716, 9.0582665294291704, 8.8929072851398487, 9.0348876093940724, 9.0332069373998465, 9.0344645058635304, 9.0510055982417104, 9.0274161157873145, 9.0316111028136419, 9.0299259942133396, 9.0399272571603309, 9.0398471240454779, 9.0289609348782793, 9.0307593971556077, 8.9719450939194392, 9.0650757198356438, 9.1191848321809701, 9.0375451243833194, 9.0857643352936659, 9.0075661231592932, 9.0526289332466945, 9.0648872989121578]\n",
      " \n",
      "[-34.178541976676883, -34.034469433018316, -34.048732881293574, -34.414130782282612, -34.311890404940158, -34.200123020895418, -33.926227943888804, -34.154695220956114, -34.370898691144632, -34.131713622782748, -33.512332268175292, -34.160710851638598, -34.249747659176634, -33.08793116784291, -34.392972408914403, -36.25688372967177, -34.283226418550257, -36.410638828007365, -34.233680878689675, -34.280442084286236, -34.565656220264998, -34.293144768758282, -34.280387053136991, -34.367729377103636, -34.02634633381976, -34.126276684095586, -33.890848313638017, -34.24479211125054, -33.961427984429314, -34.229989989295973, -34.269096469317631, -34.315985577364373, -33.393685962716376, -34.567902012507986, -33.667084011016712, -34.001675646380065, -33.963481076919877, -34.919799106553903, -35.124416166976886, -36.372863732633071, -33.688893169005695, -33.513058972066418, -34.077132903809293, -34.203163606975721, -34.211863504801386, -34.197072637455584, -34.29176629817978, -34.024660083353844, -33.760369359376256, -34.342453696658907, -34.330714982398504, -34.490701233033306, -33.672505427634675, -34.173102207041104, -33.420979290543897, -34.266310940798519, -34.154554581764145, -33.432629126053968, -34.10179645459791, -34.323307160320134, -34.286038625532065, -34.168134413604903, -34.00223200054343, -34.688148638344579, -34.07281119126857, -34.317881497882254, -34.277239147527368, -34.30814398751393, -34.164468326205323, -33.615812623937074, -33.996187115542135, -34.209172099098659, -34.16303068639418, -34.293005854826717, -34.559332138073543, -34.154173680361197, -34.732997382083425, -34.20309045876175, -34.014497217145077, -34.326518565649707, -33.324658752487622, -34.19371450693032, -34.181009629068129, -34.189026290971789, -34.292446193882526, -34.122784826949669, -34.172547625096229, -34.179595158822636, -34.23981711903658, -34.236677290976445, -34.148138973936682, -34.170846499832095, -33.798790042691095, -34.38418111384884, -34.827602713960076, -34.18812154718249, -34.543829675443831, -34.004627034815606, -34.3242501666221, -34.330210080518498]\n"
     ]
    }
   ],
   "source": [
    "# your code here\n",
    "from sklearn import cross_validation\n",
    "bdata_train, bdata_test, btarget_train, btarget_test = cross_validation.train_test_split(bdata.data, bdata.target, test_size=0.33, random_state=42)\n",
    "\n",
    "\n",
    "print'bdata_train ' , bdata_train.shape\n",
    "print 'btarget_train ' , btarget_train.shape\n",
    "\n",
    "print 'bdata_test ' , bdata_test.shape\n",
    "print 'btarget_test ', btarget_test.shape\n",
    "print ' '\n",
    "\n",
    "from sklearn.cross_validation import KFold\n",
    "slope_coef = []\n",
    "int_coef = []\n",
    "bdata_kfold = KFold(len(bdata_train), n_folds=100)\n",
    "#print(bdata_train)\n",
    "train_data = bdata_train[:,5:6]\n",
    "#print(train_data)\n",
    "target_data = btarget_train\n",
    "#print(target_data)\n",
    "\n",
    "for train_index, test_index in bdata_kfold:\n",
    "    x_train = train_data[train_index]\n",
    "    x_test = train_data[test_index]\n",
    "    y_train =target_data[train_index]\n",
    "    y_test = target_data[test_index]\n",
    "    \n",
    "    lm = linear_model.LinearRegression()\n",
    "    lm.fit(x_train, y_train)\n",
    "    print 'coef',(lm.coef_[0])\n",
    "    slope_coef.append(lm.coef_[0])\n",
    "    print 'intercept', (lm.intercept_)\n",
    "    int_coef.append(lm.intercept_)\n",
    "    print(' ')\n",
    "\n",
    "print(slope_coef)\n",
    "print ' '\n",
    "print(int_coef)"
   ]
  },
  {
   "cell_type": "code",
   "execution_count": 174,
   "metadata": {
    "collapsed": false
   },
   "outputs": [
    {
     "data": {
      "image/png": "[encoded data removed]",
      "text/plain": [
       "<matplotlib.figure.Figure at 0xb8cba58>"
      ]
     },
     "metadata": {},
     "output_type": "display_data"
    }
   ],
   "source": [
    "%matplotlib inline  \n",
    "import matplotlib.pyplot as plt  \n",
    "\n",
    "plt.hist(slope_coef)\n",
    "\n",
    "#Add the vertical line to show the slope coefficient value in estimation\n",
    "plt.xlabel('Slope Coefficient')\n",
    "plt.ylabel('Frequency of Slopes')\n",
    "plt.title('Histogram of 100 Slope Coefficients')\n",
    "plt.axvline(a_slope_coef, color='pink', linestyle='solid', linewidth=3)\n",
    "\n",
    "#Remove the right and top axis\n",
    "ax = plt.subplot(111)\n",
    "ax.spines[\"right\"].set_visible(False)\n",
    "ax.spines[\"top\"].set_visible(False)\n",
    "plt.tick_params(top = \"off\", right = \"off\")\n",
    "\n",
    "plt.show()"
   ]
  },
  {
   "cell_type": "markdown",
   "metadata": {},
   "source": [
    "*Enter your observations here*"
   ]
  },
  {
   "cell_type": "markdown",
   "metadata": {},
   "source": [
    "### 1.3 Regression lines\n",
    "\n",
    "Create a scatterplot of housing price on rooms per house, and add the two regression lines from 1.1 (or 1.2 if you prefer to do so). Show the linear regression line in red, and the linear+quadratic regression line (which may have curvature) in blue.  Label these two regression lines with the corresponding regression equations (i.e. the slope and intercept of the line).\n",
    "\n",
    "Bonus: Add the 95% confidence bands (i.e.,  the area that has a 95% chance of containing the true regression line) to each of these lines."
   ]
  },
  {
   "cell_type": "markdown",
   "metadata": {},
   "source": [
    "\n"
   ]
  },
  {
   "cell_type": "code",
   "execution_count": 175,
   "metadata": {
    "collapsed": false
   },
   "outputs": [
    {
     "data": {
      "text/plain": [
       "<matplotlib.legend.Legend at 0xc4ca0f0>"
      ]
     },
     "execution_count": 175,
     "metadata": {},
     "output_type": "execute_result"
    },
    {
     "data": {
      "image/png": "[encoded data removed]",
      "text/plain": [
       "<matplotlib.figure.Figure at 0xbbecba8>"
      ]
     },
     "metadata": {},
     "output_type": "display_data"
    }
   ],
   "source": [
    "# Your code here\n",
    "#creates scatterplot with labels\n",
    "plt.scatter(bdata_df.RM, bdata_df.MEDV)\n",
    "plt.title('Room Numbers vs. Median House Value')\n",
    "plt.ylabel('Housing Prices in 1000\\'s')\n",
    "plt.xlabel('Number of Rooms in Dwelling')\n",
    "\n",
    "#getting rid of spines and ticks\n",
    "#help from divenex http://stackoverflow.com/questions/925024/how-can-i-remove-the-top-and-right-axis-in-matplotlib\n",
    "ax = plt.axes()\n",
    "ax.spines['right'].set_visible(False)\n",
    "ax.spines['top'].set_visible(False)\n",
    "ax.yaxis.set_ticks_position('left')\n",
    "ax.xaxis.set_ticks_position('bottom')\n",
    "plt.grid()\n",
    "\n",
    "#help from http://stackoverflow.com/questions/33903846/trying-to-plot-a-quadratic-regression-getting-multiple-lines\n",
    "x = np.linspace(bdata_df.RM.min(), bdata_df.RM.max(), 1000)\n",
    "\n",
    "line1, = plt.plot(bdata_df.RM,a_interecept_coef + a_slope_coef*bdata_df.RM, '-', color = 'green', label ='-34.67 + 9.10x', linewidth=3)\n",
    "line2, = plt.plot(x, b_interecept_coef + b_slope_coef1*x + b_slope_coef2*x**2, '-', color = 'orange', label='66.06 -22.64x + 2.47x^2', linewidth=3)\n",
    "\n",
    "plt.legend()"
   ]
  },
  {
   "cell_type": "markdown",
   "metadata": {},
   "source": [
    "## Part 2: Gradient descent: Linear Regression\n",
    "\n",
    "This is where it gets fun!\n",
    "\n",
    "### 2.1 Implement gradient descent with one independent variable (Average rooms per house)\n",
    "\n",
    "Implement the basic gradient descent algorithm that we discussed in class. Use the version you implement to regress the housing price on the number of rooms per house. Experiment with 3-4 different values of the learning rate *R*, and do the following:\n",
    "\n",
    "* Report the values of alpha and beta that minimize the loss function\n",
    "* Report the number of iterations it takes for your algorithm to converge (for each value of *R*)\n",
    "* Report the total running time of your algorithm, in seconds\n",
    "\n",
    "Some skeleton code is provided below, but you should feel free to delete this code and start from scratch if you prefer.\n",
    "\n",
    "* *Hint 1: Don't forget to implement a stopping condition, so that at every iteration you check whether your results have converged. Common approaches to this are to (a) check to see if the loss has stopped decreasing; and (b) check if both your current parameter esimates are close to the estimates from the previous iteration.  In both cases, \"close\" should not be ==0, it should be <=epsilon, where epsilon is something very small (like 0.0001).*\n",
    "* *Hint 2: Some people like to include a MaxIterations parameter in their gradient descent algorithm, to prevent divergence. *\n",
    "* *Hint 3: R = 0.005 is a reasonable first guess - but try some others to see how it affects your results. *"
   ]
  },
  {
   "cell_type": "code",
   "execution_count": 176,
   "metadata": {
    "collapsed": false
   },
   "outputs": [
    {
     "name": "stdout",
     "output_type": "stream",
     "text": [
      " \n",
      "Number of iterations:  58778\n",
      "Time taken: 1.3 seconds\n",
      "(-34.198977640896594, 9.0354249527317023)\n",
      " \n",
      "Number of iterations:  30777\n",
      "Time taken: 0.65 seconds\n",
      "(-34.205826386754197, 9.0364938657098879)\n",
      " \n",
      "Number of iterations:  21059\n",
      "Time taken: 0.45 seconds\n",
      "(-34.208862407952509, 9.0369677104879518)\n",
      " \n",
      "Number of iterations:  16082\n",
      "Time taken: 0.34 seconds\n",
      "(-34.210673355208939, 9.0372503527505579)\n",
      "None\n",
      "None\n",
      "None\n"
     ]
    }
   ],
   "source": [
    "import time\n",
    "\n",
    "\"\"\"\n",
    "Function\n",
    "--------\n",
    "bivariate_ols\n",
    "    Gradient Decent to minimize OLS. Used to find co-efficients of bivariate OLS Linear regression\n",
    "\n",
    "Parameters\n",
    "----------\n",
    "xvalues, yvalues : narray\n",
    "    xvalues: independent variable\n",
    "    yvalues: dependent variable\n",
    "    \n",
    "R: float\n",
    "    Learning rate\n",
    "    \n",
    "MaxIterations: Int\n",
    "    maximum number of iterations\n",
    "    \n",
    "\n",
    "Returns\n",
    "-------\n",
    "alpha: float\n",
    "    intercept\n",
    "    \n",
    "beta: float\n",
    "    co-efficient\n",
    "\"\"\"\n",
    "def bivariate_ols(xvalues, yvalues, R=0.01, MaxIterations=1000):\n",
    "    # initialize the parameters\n",
    "    start_time = time.time()\n",
    "    # your code here\n",
    "    a = 1.00\n",
    "    b = 1.00\n",
    "    count = 0    \n",
    "    length = len(xvalues)\n",
    "    lowest_cost = 0.0\n",
    "    e = .0001\n",
    "    \n",
    "    while count < MaxIterations:\n",
    "        a_sum = np.sum(a + np.dot(xvalues, b) - yvalues)\n",
    "        b_sum = np.sum((a + np.dot(xvalues, b) - yvalues)*xvalues)\n",
    "#         console.log(a_sum)\n",
    "#         console.log(b_sum)\n",
    "        \n",
    "        a = a - R*(a_sum/length)\n",
    "        b = b - R*(b_sum/length)\n",
    "#         console.log(a)\n",
    "#         console.log(b)\n",
    "\n",
    "        cost = (np.sum((a + np.dot(xvalues, b) - yvalues)**2)/2*length)\n",
    "    \n",
    "        #stopping condition for checking convergence\n",
    "        if(np.abs(lowest_cost - cost) <= e):\n",
    "            print(' ')\n",
    "            print 'Number of iterations: ', count\n",
    "            print \"Time taken: \" + str(round(time.time() - start_time,2)) + \" seconds\"\n",
    "            return a, b\n",
    "\n",
    "        lowest_cost = cost\n",
    "        count = count + 1\n",
    "         \n",
    "#     return alpha, beta\n",
    "\n",
    "# example function call\n",
    "print bivariate_ols(bdata_train[:,5], btarget_train, 0.01, 100000)\n",
    "print bivariate_ols(bdata_train[:,5], btarget_train, 0.02, 100000)\n",
    "print bivariate_ols(bdata_train[:,5], btarget_train, 0.03, 100000)\n",
    "print bivariate_ols(bdata_train[:,5], btarget_train, 0.04, 100000)\n",
    "print bivariate_ols(bdata_train[:,5], btarget_train, 0.1, 100000)\n",
    "print bivariate_ols(bdata_train[:,5], btarget_train, 0.5, 100000)\n",
    "print bivariate_ols(bdata_train[:,5], btarget_train, 1.0, 100000)\n",
    "# print bivariate_ols(X, Y, 0.01, 100000)\n"
   ]
  },
  {
   "cell_type": "markdown",
   "metadata": {},
   "source": [
    "*Enter your observations here*"
   ]
  },
  {
   "cell_type": "markdown",
   "metadata": {},
   "source": [
    "### 2.2 Data normalization\n",
    "\n",
    "Soon, you will implement a version of gradient descent that can use an arbitrary number of independent variables. Before doing this, however, you should re-scale your features to ensure that no single feature dominates the cost function. Write a simple function to [standardize](http://en.wikipedia.org/wiki/Standard_score) a feature. * This is done for you!*"
   ]
  },
  {
   "cell_type": "code",
   "execution_count": 177,
   "metadata": {
    "collapsed": false
   },
   "outputs": [],
   "source": [
    "def standardize(raw_data):\n",
    "    return ((raw_data - np.mean(raw_data, axis = 0)) / np.std(raw_data, axis = 0))"
   ]
  },
  {
   "cell_type": "markdown",
   "metadata": {},
   "source": [
    "### 2.3 Implement gradient descent with an arbitrary number of independent variables\n",
    "\n",
    "Now that you have a simple version of gradient descent working, create a version of gradient descent that can take more than one independent variable.  Assume all independent variables will be continuous.  Test your algorithm using CRIM and RM as independent variables. Standardize these variables before before inputting them to the gradient descent algorithm. \n",
    "\n",
    "As before,  report and interpret your estimated coefficients, the number of iterations before convergence, and the total running time of your algorithm. Experiment with 2-3 different values of R.\n",
    "\n",
    "* *Hint 1: Be careful to implement this efficiently, otherwise it might take a long time for your code to run. Commands like `np.dot` can be a good friend to you on this problem - see 2.2 above for an example.*"
   ]
  },
  {
   "cell_type": "code",
   "execution_count": 178,
   "metadata": {
    "collapsed": false
   },
   "outputs": [
    {
     "name": "stdout",
     "output_type": "stream",
     "text": [
      " \n",
      "Number of iterations:  10139\n",
      "Time taken: 0.28 seconds\n",
      "(22.969933687442008, [-2.1985811201132748, 6.0366081525524473])\n",
      " \n",
      "Number of iterations:  2190\n",
      "Time taken: 0.06 seconds\n",
      "(22.970423024579311, [-2.1984423901800634, 6.0367707134347297])\n",
      " \n",
      "Number of iterations:  1129\n",
      "Time taken: 0.03 seconds\n",
      "(22.970539647950545, [-2.19840394110083, 6.0368141213322373])\n",
      " \n",
      "Number of iterations:  238\n",
      "Time taken: 0.01 seconds\n",
      "(22.970692279430541, [-2.1983475930452374, 6.0368762767463098])\n",
      " \n",
      "Number of iterations:  120\n",
      "Time taken: 0.0 seconds\n",
      "(22.970732605980704, [-2.1983309591747076, 6.036894231191023])\n",
      " \n",
      "Number of iterations:  22\n",
      "Time taken: 0.0 seconds\n",
      "(22.970793841053951, [-2.1982956584797968, 6.0369308485912718])\n",
      " \n",
      "Number of iterations:  9\n",
      "Time taken: 0.0 seconds\n",
      "(22.970796460176985, [-2.1982857576872679, 6.0369391754790023])\n",
      "None\n"
     ]
    }
   ],
   "source": [
    "\"\"\"\n",
    "Function\n",
    "--------\n",
    "multivariate_ols\n",
    "    Gradient Decent to minimize OLS. Used to find co-efficients of bivariate OLS Linear regression\n",
    "\n",
    "Parameters\n",
    "----------\n",
    "xvalue_matrix, yvalues : narray\n",
    "    xvalue_matrix: independent variable\n",
    "    yvalues: dependent variable\n",
    "    \n",
    "R: float\n",
    "    Learning rate\n",
    "    \n",
    "MaxIterations: Int\n",
    "    maximum number of iterations\n",
    "    \n",
    "\n",
    "Returns\n",
    "-------\n",
    "alpha: float\n",
    "    intercept\n",
    "    \n",
    "beta_array: array[float]\n",
    "    co-efficient\n",
    "\"\"\"\n",
    "\n",
    "def multivariate_ols(xvalue_matrix, yvalues, R=0.01, MaxIterations=1000, norm=True):\n",
    "    # your code here\n",
    "    start_time = time.time()\n",
    "    #normalize the data\n",
    "    \n",
    "    if(norm):\n",
    "        xvalue_matrix = standardize(xvalue_matrix)\n",
    "    \n",
    "    #initialize variables\n",
    "    count = 0 #count of iterations\n",
    "    rows = xvalue_matrix.shape[0] #number of rows\n",
    "    cols = xvalue_matrix.shape[1] #number of features\n",
    "    a = 1.0\n",
    "    arr_b = [1.0] * cols\n",
    "    lowest_cost = 0.0\n",
    "    e = .0001\n",
    "    \n",
    "    #go through the number of iterations\n",
    "    while count < MaxIterations:\n",
    "        sum_feat = 0\n",
    "        \n",
    "        #each feature\n",
    "        for index in range(cols):\n",
    "            sum_feat = sum_feat + np.dot(xvalue_matrix[:,index],arr_b[index]) \n",
    "        \n",
    "        #alpha\n",
    "        a_sum = np.sum(a + sum_feat - yvalues)     \n",
    "        a = a - R*(a_sum/rows)\n",
    "        \n",
    "        #beta\n",
    "        for index in range(cols):\n",
    "            b_sum = np.sum((a + sum_feat - yvalues)*xvalue_matrix[:,index])\n",
    "            arr_b[index] = arr_b[index] - R*b_sum/rows\n",
    "        \n",
    "        #cost\n",
    "        cost = (np.sum((a + sum_feat - yvalues)**2)/2*rows)\n",
    "        \n",
    "        #stopping condition for checking convergence\n",
    "        if(np.abs(lowest_cost - cost) <= e):\n",
    "            print(' ')\n",
    "            print 'Number of iterations: ', count\n",
    "            print \"Time taken: \" + str(round(time.time() - start_time,2)) + \" seconds\"\n",
    "            return a, arr_b\n",
    "        lowest_cost = cost\n",
    "        count = count + 1\n",
    "        \n",
    "#crim is index 0, RM is index 5\n",
    "print multivariate_ols(bdata_train[:,(0,5)], btarget_train, R=0.001, MaxIterations=500000, norm=True)\n",
    "\n",
    "print multivariate_ols(bdata_train[:,(0,5)], btarget_train, R=0.005, MaxIterations=500000, norm = True)\n",
    "\n",
    "print multivariate_ols(bdata_train[:,(0,5)], btarget_train, R=0.01, MaxIterations=500000, norm = True)\n",
    "\n",
    "print multivariate_ols(bdata_train[:,(0,5)], btarget_train, R=0.05, MaxIterations=500000, norm = True)\n",
    "\n",
    "print multivariate_ols(bdata_train[:,(0,5)], btarget_train, R=0.1, MaxIterations=500000, norm = True)\n",
    "\n",
    "print multivariate_ols(bdata_train[:,(0,5)], btarget_train, R=0.5, MaxIterations=500000, norm = True)\n",
    "\n",
    "print multivariate_ols(bdata_train[:,(0,5)], btarget_train, R=1.0, MaxIterations=500000, norm = True)\n",
    "\n",
    "print multivariate_ols(bdata_train[:,(0,5)], btarget_train, R=5.0, MaxIterations=500000, norm = True)"
   ]
  },
  {
   "cell_type": "markdown",
   "metadata": {},
   "source": [
    "*Enter your observations here*"
   ]
  },
  {
   "cell_type": "markdown",
   "metadata": {},
   "source": [
    "### 2.4 Compare standardized vs. non-standardized results\n",
    "\n",
    "Repeat the analysis from 2.3, but this time do not standardize your variables - i.e., use the original data. Use the same three values of R (0.1, 0.01, and 0.001). What do you notice about the running time and convergence properties of your algorithm?"
   ]
  },
  {
   "cell_type": "code",
   "execution_count": 179,
   "metadata": {
    "collapsed": false
   },
   "outputs": [
    {
     "name": "stdout",
     "output_type": "stream",
     "text": [
      " \n",
      "Number of iterations:  10139\n",
      "Time taken: 0.32 seconds\n",
      "(22.969933687442008, [-2.1985811201132748, 6.0366081525524473])\n",
      " \n",
      "Number of iterations:  1129\n",
      "Time taken: 0.03 seconds\n",
      "(22.970539647950545, [-2.19840394110083, 6.0368141213322373])\n",
      " \n",
      "Number of iterations:  120\n",
      "Time taken: 0.01 seconds\n",
      "(22.970732605980704, [-2.1983309591747076, 6.036894231191023])\n"
     ]
    }
   ],
   "source": [
    "# Your code here\n",
    "#STANDARDIZED\n",
    "#crim is index 0, RM is index 5\n",
    "print multivariate_ols(bdata_train[:,(0,5)], btarget_train, R=0.001, MaxIterations=500000, norm=True)\n",
    "\n",
    "print multivariate_ols(bdata_train[:,(0,5)], btarget_train, R=0.01, MaxIterations=500000, norm=True)\n",
    "\n",
    "print multivariate_ols(bdata_train[:,(0,5)], btarget_train, R=0.1, MaxIterations=500000, norm = True)\n"
   ]
  },
  {
   "cell_type": "code",
   "execution_count": 180,
   "metadata": {
    "collapsed": false
   },
   "outputs": [
    {
     "name": "stdout",
     "output_type": "stream",
     "text": [
      " \n",
      "Number of iterations:  510957\n",
      "Time taken: 14.73 seconds\n",
      "(-29.075616096655505, [-0.28692921896698226, 8.3764415524169902])\n",
      " \n",
      "Number of iterations:  60477\n",
      "Time taken: 1.71 seconds\n",
      "(-29.129830547836406, [-0.28672643184066882, 8.3848039127963236])\n",
      "None\n"
     ]
    }
   ],
   "source": [
    "#NOT STANDARDIZED\n",
    "#crim is index 0, RM is index 5\n",
    "print multivariate_ols(bdata_train[:,(0,5)], btarget_train, R=0.001, MaxIterations=1000000, norm=False)\n",
    "\n",
    "print multivariate_ols(bdata_train[:,(0,5)], btarget_train, R=0.01, MaxIterations=1000000, norm=False)\n",
    "\n",
    "print multivariate_ols(bdata_train[:,(0,5)], btarget_train, R=0.1, MaxIterations=1000000, norm=False)"
   ]
  },
  {
   "cell_type": "markdown",
   "metadata": {},
   "source": [
    "## 3. Prediction\n",
    "\n",
    "Let's use our fitted model to make predictions about housing prices. Since the focus is now on prediction rather than the interpretation of the coefficients, make sure to use the standardized version of your features in everything that follows.\n",
    "\n",
    "### 3.1 Cross-Validation\n",
    "\n",
    "Unless you were careful above, you probably overfit your data again.  Use 10-fold cross-validation to re-fit the multivariate regression from 2.3 above, and report your estimated coefficients (there should be three coefficients for each fold, corresponding to the intercept and the two coefficients for CRIM and RM). \n",
    "\n",
    "How do your estimated coefficients from cross-validation compare to the ones you estimated in 2.3 above? How do they compare to the ones estimated using standard packages?"
   ]
  },
  {
   "cell_type": "code",
   "execution_count": 181,
   "metadata": {
    "collapsed": false
   },
   "outputs": [
    {
     "name": "stdout",
     "output_type": "stream",
     "text": [
      " \n",
      "Number of iterations:  237\n",
      "Time taken: 0.01 seconds\n",
      " \n",
      "Number of iterations:  234\n",
      "Time taken: 0.01 seconds\n",
      " \n",
      "Number of iterations:  237\n",
      "Time taken: 0.01 seconds\n",
      " \n",
      "Number of iterations:  248\n",
      "Time taken: 0.01 seconds\n",
      " \n",
      "Number of iterations:  234\n",
      "Time taken: 0.01 seconds\n",
      " \n",
      "Number of iterations:  236\n",
      "Time taken: 0.01 seconds\n",
      " \n",
      "Number of iterations:  236\n",
      "Time taken: 0.01 seconds\n",
      " \n",
      "Number of iterations:  239\n",
      "Time taken: 0.01 seconds\n",
      " \n",
      "Number of iterations:  235\n",
      "Time taken: 0.01 seconds\n",
      " \n",
      "Number of iterations:  236\n",
      "Time taken: 0.01 seconds\n",
      " \n",
      "22.9706729608\n",
      "[-2.21405267  6.02423833]\n"
     ]
    }
   ],
   "source": [
    "# Your code here\n",
    "\n",
    "slope_coef = []\n",
    "int_coef = []\n",
    "# length = len(bdata_train[:,(0,5)])\n",
    "\n",
    "bdata_kfold = KFold(len(bdata_train[:,(0,5)]), n_folds=10)\n",
    "\n",
    "\n",
    "train_data = bdata_train[:,(0,5)]\n",
    "#print(train_data)\n",
    "target_data = btarget_train\n",
    "#print(target_data)\n",
    "\n",
    "#split into test and train\n",
    "for train_index, test_index in bdata_kfold:\n",
    "    x_train = train_data[train_index]\n",
    "    x_test = train_data[test_index]\n",
    "    y_train =target_data[train_index]\n",
    "    y_test = target_data[test_index]\n",
    "    \n",
    "    grad_desc = multivariate_ols(x_train, y_train, R=0.05, MaxIterations=10000, norm=True)\n",
    "    \n",
    "    int_coef.append(grad_desc[0])\n",
    "    slope_coef.append(grad_desc[1])\n",
    " \n",
    "\n",
    "    \n",
    "int_coef_mean = np.mean(int_coef)\n",
    "slope_coef_mean = np.mean(slope_coef, axis = 0)\n",
    "   \n",
    "print(' ')\n",
    "print int_coef_mean\n",
    "print slope_coef_mean"
   ]
  },
  {
   "cell_type": "code",
   "execution_count": 188,
   "metadata": {
    "collapsed": false
   },
   "outputs": [
    {
     "name": "stdout",
     "output_type": "stream",
     "text": [
      "-2.19828637049\n",
      "6.03694014057\n",
      "22.9707964602\n"
     ]
    }
   ],
   "source": [
    "#standard packages\n",
    "std_pkg = standardize(bdata_train[:,(0,5)])\n",
    "\n",
    "lm3 = linear_model.LinearRegression()\n",
    "lm3.fit(std_pkg, btarget_train)\n",
    "\n",
    "print(lm3.coef_[0])\n",
    "print(lm3.coef_[1])\n",
    "print(lm3.intercept_)"
   ]
  },
  {
   "cell_type": "markdown",
   "metadata": {},
   "source": [
    "*Discuss your results here*"
   ]
  },
  {
   "cell_type": "markdown",
   "metadata": {},
   "source": [
    "### 3.2 Predicted values and RMSE\n",
    "\n",
    "Let's figure out how accurate this predictive model turned out to be. Report the average 10-fold cross-validated RMSE, separately for the training data and for the testing data. \n",
    "\n",
    "In other words, run 10-fold cross-validation. In each of the 10 iterations, you will fit a model on 90% of the data. Use that model to generate predicted outputs for 100% of the data. For that iteration, the training RMSE is the RMSE calculated across the (90%) training data, and the test RMSE is the RMSE calculated across the (10%) test data. The average 10-fold cross-validated RMSE is the average of the 10 iterations.\n",
    "\n",
    "What is your test RMSE?  How does it compare to the performance of your nearest neighbor algorithm from the last problem set?"
   ]
  },
  {
   "cell_type": "code",
   "execution_count": 190,
   "metadata": {
    "collapsed": false
   },
   "outputs": [],
   "source": [
    "# Your code here\n",
    "def compute_rmse(predictions, yvalues):\n",
    "    Pred = np.array(predictions)\n",
    "    Y_val = np.array(yvalues)\n",
    "    rmse = ((Pred-Y_val)**2).sum()*1.0 / len(Pred) \n",
    "    rmse = np.sqrt(rmse)\n",
    "    return rmse"
   ]
  },
  {
   "cell_type": "code",
   "execution_count": 210,
   "metadata": {
    "collapsed": false
   },
   "outputs": [
    {
     "name": "stdout",
     "output_type": "stream",
     "text": [
      " \n",
      "Number of iterations:  2224\n",
      "Time taken: 0.29 seconds\n",
      "5.18633986021\n"
     ]
    }
   ],
   "source": [
    "def gdesc_kfold_rmse(k, x, y, R=0.01, MaxIteration=1000):\n",
    "    rows = len(x)\n",
    "    cols = x.shape[1]\n",
    "    rmse_arr = []\n",
    "    kf = KFold(rows, n_folds=k)\n",
    "\n",
    "    for train_index, test_index in kf:\n",
    "        x_train = x[train_index]\n",
    "        x_test = x[test_index]\n",
    "        y_train =y[train_index]\n",
    "        y_test = y[test_index]\n",
    "        \n",
    "        \n",
    "        \n",
    "        grad_desc = multivariate_ols(x_train, y_train, R=0.05, MaxIterations=100000, norm=True)\n",
    "        int_coef = grad_desc[0]\n",
    "        slope_coef = grad_desc[1]\n",
    "        pred_arr = []\n",
    "        \n",
    "        for index in range(len(x_test)):\n",
    "            pred = int_coef + np.sum(slope_coef[i]*x_test[index,i] for i in range(cols))\n",
    "            pred_arr.append(pred)\n",
    "        rmse_arr.append(compute_rmse(pred_arr, y_test))\n",
    "        \n",
    "        \n",
    "        return np.mean(rmse_arr)\n",
    "    \n",
    "    \n",
    "x = standardize(bdata_train)\n",
    "y = btarget_train\n",
    "\n",
    "print gdesc_kfold_rmse(10, x, y, R=.01, MaxIteration=1000)"
   ]
  },
  {
   "cell_type": "markdown",
   "metadata": {},
   "source": [
    "*Discuss your results here*"
   ]
  },
  {
   "cell_type": "markdown",
   "metadata": {},
   "source": [
    "### Extra Credit: Logistic Regression\n",
    "\n",
    "For extra credit, implement logistic regression using gradient descent. Create a new variable (EXPENSIVE) to indicate whether the median housing price is more than $400,000. Use your model  a logistic regression of EXPENSIVE on CHAS and RM. Report your results."
   ]
  },
  {
   "cell_type": "code",
   "execution_count": 136,
   "metadata": {
    "collapsed": false
   },
   "outputs": [],
   "source": [
    "# Your code here"
   ]
  },
  {
   "cell_type": "markdown",
   "metadata": {},
   "source": [
    "*Discuss your results here*"
   ]
  },
  {
   "cell_type": "markdown",
   "metadata": {},
   "source": [
    "## 4 Regularization \n",
    "\n",
    "### 4.1 Get prepped\n",
    "\n",
    "Step 1: For each of the continuous features F in the original dataset, create a standardized version F_1.  Now, create polynomials up to degree 6 of each F_1: the square of F_1 (call this F_2); the cube of F_1 (call this F_3); and so forth up to F_6. If you originally had *K* features, you should now have *6K* features (i.e., we're going to ignore the original unscaled features for the remainder of this problem).\n",
    "\n",
    "Step 2: For simplicity, generate a single training and testing set.  Randomly sample 66% of your data and call this the training set, and set aside the remaining 34% as your test set."
   ]
  },
  {
   "cell_type": "code",
   "execution_count": 137,
   "metadata": {
    "collapsed": false
   },
   "outputs": [],
   "source": [
    "# Your code here"
   ]
  },
  {
   "cell_type": "markdown",
   "metadata": {},
   "source": [
    "### 4.2 Let's overfit!\n",
    "Now, using your version of multivariate regression from 2.3, (over)fit your model on the training data. Using your training set, regress housing price on as many of those *6K* features as you can.  If you get too greedy, or if you did not efficiently implement your solution to 2.3, it's possible this will take a long time to compute.\n",
    "\n",
    "Report the RMSE when you apply your model to your training set and to your testing set. How do these numbers compare to each other, and to the RMSE from 2.5 and nearest neighbors?"
   ]
  },
  {
   "cell_type": "code",
   "execution_count": 138,
   "metadata": {
    "collapsed": false
   },
   "outputs": [],
   "source": [
    "# Your code here"
   ]
  },
  {
   "cell_type": "markdown",
   "metadata": {},
   "source": [
    "*Discuss your results here*"
   ]
  },
  {
   "cell_type": "markdown",
   "metadata": {},
   "source": [
    "### 4.3 Ridge regularization\n",
    "Incorporate L2 (Ridge) regularization into your multivariate_ols regression. Write a new version of your gradient descent algorithm that includes a regularization term \"lambda\" to penalize excessive complexity. \n",
    "\n",
    "Use your regularized regression to re-fit the model from 4.2 above on your training data. Try this for several different values of lambda, and report your RMSE for each lambda separately for your training and testing data. How do these numbers compare to each other, to the RMSE from 4.2,  to the RMSE from 2.3, and to the RMSE from nearest neighbors?\n",
    "\n",
    "Go brag to your friends about how you just implemented ridge-regularized multivariate regression using gradient descent optimization, from scratch. If you still have friends."
   ]
  },
  {
   "cell_type": "code",
   "execution_count": 139,
   "metadata": {
    "collapsed": false
   },
   "outputs": [],
   "source": [
    "# Your code here"
   ]
  },
  {
   "cell_type": "markdown",
   "metadata": {},
   "source": [
    "*Discuss your results here*"
   ]
  },
  {
   "cell_type": "markdown",
   "metadata": {},
   "source": [
    "### Extra Credit 2: Cross-validate lambda\n",
    "\n",
    "Use k-fold cross-validation to select the optimal value of lambda. Report the average RMSE across all training sets, and the average RMSE across all testing sets. How do these numbers compare to each other, to the RMSE from your previous efforts?  Finally, create a scatter plot that shows RMSE as a function of lambda."
   ]
  },
  {
   "cell_type": "code",
   "execution_count": 140,
   "metadata": {
    "collapsed": false
   },
   "outputs": [],
   "source": [
    "# Your code here"
   ]
  },
  {
   "cell_type": "markdown",
   "metadata": {},
   "source": [
    "*Discuss your results here*"
   ]
  },
  {
   "cell_type": "markdown",
   "metadata": {},
   "source": [
    "### (Showoff) Extra Credit 3: Lambda and coefficients\n",
    "\n",
    "If you're feeling extra-special, create a parameter plot that shows how the different coefficient estimates change as a function of lambda. To make this graph intelligible, only include the *K* original F_s features in this plot."
   ]
  },
  {
   "cell_type": "code",
   "execution_count": 141,
   "metadata": {
    "collapsed": false
   },
   "outputs": [],
   "source": [
    "# Your code here"
   ]
  },
  {
   "cell_type": "markdown",
   "metadata": {},
   "source": [
    "*Discuss your results here*"
   ]
  }
 ],
 "metadata": {
  "kernelspec": {
   "display_name": "Python 2",
   "language": "python",
   "name": "python2"
  },
  "language_info": {
   "codemirror_mode": {
    "name": "ipython",
    "version": 2
   },
   "file_extension": ".py",
   "mimetype": "text/x-python",
   "name": "python",
   "nbconvert_exporter": "python",
   "pygments_lexer": "ipython2",
   "version": "2.7.11"
  }
 },
 "nbformat": 4,
 "nbformat_minor": 0
}
