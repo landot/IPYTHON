{
 "cells": [
  {
   "cell_type": "code",
   "execution_count": 1,
   "metadata": {
    "collapsed": true
   },
   "outputs": [],
   "source": [
    "import numpy as np\n",
    "import pandas as pd\n",
    "import matplotlib.pyplot as plt  \n",
    "%matplotlib inline"
   ]
  },
  {
   "cell_type": "code",
   "execution_count": 2,
   "metadata": {
    "collapsed": true
   },
   "outputs": [],
   "source": [
    "#http://fiscal.wa.gov/salaries.aspx\n",
    "df = pd.read_csv('data\\WA_SALARY_DATA.csv')"
   ]
  },
  {
   "cell_type": "code",
   "execution_count": 7,
   "metadata": {
    "collapsed": false
   },
   "outputs": [
    {
     "data": {
      "text/html": [
       "<div>\n",
       "<table border=\"1\" class=\"dataframe\">\n",
       "  <thead>\n",
       "    <tr style=\"text-align: right;\">\n",
       "      <th></th>\n",
       "      <th>Agy</th>\n",
       "      <th>Agency_Title</th>\n",
       "      <th>employee_name</th>\n",
       "      <th>job_title</th>\n",
       "      <th>Sal2011</th>\n",
       "      <th>Sal2012</th>\n",
       "      <th>Sal2013</th>\n",
       "      <th>Sal2014</th>\n",
       "    </tr>\n",
       "  </thead>\n",
       "  <tbody>\n",
       "    <tr>\n",
       "      <th>0</th>\n",
       "      <td>165</td>\n",
       "      <td>Accountancy</td>\n",
       "      <td>ASMATH, MOSAR</td>\n",
       "      <td>FORMS &amp; RECORDS ANALYST 2</td>\n",
       "      <td>0</td>\n",
       "      <td>0</td>\n",
       "      <td>32,272</td>\n",
       "      <td>17,745</td>\n",
       "    </tr>\n",
       "    <tr>\n",
       "      <th>1</th>\n",
       "      <td>165</td>\n",
       "      <td>Accountancy</td>\n",
       "      <td>AUBREY, DONALD F</td>\n",
       "      <td>BOARD MEMBER</td>\n",
       "      <td>950</td>\n",
       "      <td>0</td>\n",
       "      <td>0</td>\n",
       "      <td>400</td>\n",
       "    </tr>\n",
       "    <tr>\n",
       "      <th>2</th>\n",
       "      <td>165</td>\n",
       "      <td>Accountancy</td>\n",
       "      <td>AUBREY, DONALD F.</td>\n",
       "      <td>BOARD MEMBER</td>\n",
       "      <td>0</td>\n",
       "      <td>1,450</td>\n",
       "      <td>0</td>\n",
       "      <td>0</td>\n",
       "    </tr>\n",
       "    <tr>\n",
       "      <th>3</th>\n",
       "      <td>165</td>\n",
       "      <td>Accountancy</td>\n",
       "      <td>DONOVAN, KIRSTEN M</td>\n",
       "      <td>ADMINISTRATIVE TRAINEE 3</td>\n",
       "      <td>0</td>\n",
       "      <td>0</td>\n",
       "      <td>15,182</td>\n",
       "      <td>13,620</td>\n",
       "    </tr>\n",
       "    <tr>\n",
       "      <th>4</th>\n",
       "      <td>165</td>\n",
       "      <td>Accountancy</td>\n",
       "      <td>DONOVAN, KIRSTEN M</td>\n",
       "      <td>LEGAL SECRETARY 2</td>\n",
       "      <td>0</td>\n",
       "      <td>0</td>\n",
       "      <td>0</td>\n",
       "      <td>20,750</td>\n",
       "    </tr>\n",
       "  </tbody>\n",
       "</table>\n",
       "</div>"
      ],
      "text/plain": [
       "   Agy Agency_Title       employee_name                  job_title Sal2011  \\\n",
       "0  165  Accountancy       ASMATH, MOSAR  FORMS & RECORDS ANALYST 2       0   \n",
       "1  165  Accountancy    AUBREY, DONALD F               BOARD MEMBER     950   \n",
       "2  165  Accountancy   AUBREY, DONALD F.               BOARD MEMBER       0   \n",
       "3  165  Accountancy  DONOVAN, KIRSTEN M   ADMINISTRATIVE TRAINEE 3       0   \n",
       "4  165  Accountancy  DONOVAN, KIRSTEN M          LEGAL SECRETARY 2       0   \n",
       "\n",
       "  Sal2012 Sal2013 Sal2014  \n",
       "0       0  32,272  17,745  \n",
       "1       0       0     400  \n",
       "2   1,450       0       0  \n",
       "3       0  15,182  13,620  \n",
       "4       0       0  20,750  "
      ]
     },
     "execution_count": 7,
     "metadata": {},
     "output_type": "execute_result"
    }
   ],
   "source": [
    "df.head(5)"
   ]
  },
  {
   "cell_type": "code",
   "execution_count": 8,
   "metadata": {
    "collapsed": false
   },
   "outputs": [],
   "source": [
    "agy_count = df.Agency_Title.value_counts()"
   ]
  },
  {
   "cell_type": "code",
   "execution_count": 14,
   "metadata": {
    "collapsed": false,
    "scrolled": false
   },
   "outputs": [
    {
     "data": {
      "text/plain": [
       "University of Washington          91105\n",
       "Social and Health Services        36268\n",
       "Washington State University       26618\n",
       "Corrections                       16052\n",
       "Transportation                    12492\n",
       "Western Washington University      7623\n",
       "Labor and Industries               6046\n",
       "Eastern Washington University      5725\n",
       "State Patrol                       5682\n",
       "Employment Security Department     4345\n",
       "Name: Agency_Title, dtype: int64"
      ]
     },
     "execution_count": 14,
     "metadata": {},
     "output_type": "execute_result"
    }
   ],
   "source": [
    "agy_count.head(10)"
   ]
  },
  {
   "cell_type": "code",
   "execution_count": 18,
   "metadata": {
    "collapsed": false
   },
   "outputs": [],
   "source": [
    "college_set = set(df[df['Agency_Title'].str.contains(\"College\")].Agency_Title)"
   ]
  },
  {
   "cell_type": "code",
   "execution_count": 13,
   "metadata": {
    "collapsed": false
   },
   "outputs": [],
   "source": [
    "univ_set = set(df[df['Agency_Title'].str.contains(\"University\")].Agency_Title)"
   ]
  },
  {
   "cell_type": "code",
   "execution_count": 19,
   "metadata": {
    "collapsed": false
   },
   "outputs": [
    {
     "data": {
      "text/plain": [
       "{'Bates Technical College',\n",
       " 'Bellevue Community College',\n",
       " 'Bellingham Technical College',\n",
       " 'Big Bend Community College',\n",
       " 'Cascadia Community College',\n",
       " 'Centralia College',\n",
       " 'Clark College',\n",
       " 'Clover Park Technical College',\n",
       " 'Columbia Basin Community College',\n",
       " 'Edmonds Community College',\n",
       " 'Everett Community College',\n",
       " 'Grays Harbor College',\n",
       " 'Green River Community College',\n",
       " 'Highline Community College',\n",
       " 'Lake Washington Technical College',\n",
       " 'Lower Columbia Community College',\n",
       " 'Olympic College',\n",
       " 'Peninsula Community College',\n",
       " 'Pierce Community College',\n",
       " 'Renton Technical College',\n",
       " 'Seattle Community College',\n",
       " 'Shoreline Community College',\n",
       " 'Skagit Valley College',\n",
       " 'South Puget Sound Community College',\n",
       " 'Spokane Community College',\n",
       " 'Tacoma Community College',\n",
       " 'The Evergreen State College',\n",
       " 'Walla Walla Community College',\n",
       " 'Wenatchee Valley College',\n",
       " 'Whatcom Community College',\n",
       " 'Yakima Valley College'}"
      ]
     },
     "execution_count": 19,
     "metadata": {},
     "output_type": "execute_result"
    }
   ],
   "source": [
    "college_set"
   ]
  },
  {
   "cell_type": "code",
   "execution_count": 16,
   "metadata": {
    "collapsed": false
   },
   "outputs": [
    {
     "data": {
      "text/plain": [
       "{'Central Washington University',\n",
       " 'Eastern Washington University',\n",
       " 'University of Washington',\n",
       " 'Washington State University',\n",
       " 'Western Washington University'}"
      ]
     },
     "execution_count": 16,
     "metadata": {},
     "output_type": "execute_result"
    }
   ],
   "source": [
    "univ_set"
   ]
  },
  {
   "cell_type": "code",
   "execution_count": 32,
   "metadata": {
    "collapsed": false
   },
   "outputs": [],
   "source": [
    "school_list = {\n",
    " 'Bates Technical College',\n",
    " 'Bellevue Community College',\n",
    " 'Bellingham Technical College',\n",
    " 'Big Bend Community College',\n",
    " 'Cascadia Community College',\n",
    " 'Centralia College',\n",
    " 'Clark College',\n",
    " 'Clover Park Technical College',\n",
    " 'Columbia Basin Community College',\n",
    " 'Edmonds Community College',\n",
    " 'Everett Community College',\n",
    " 'Grays Harbor College',\n",
    " 'Green River Community College',\n",
    " 'Highline Community College',\n",
    " 'Lake Washington Technical College',\n",
    " 'Lower Columbia Community College',\n",
    " 'Olympic College',\n",
    " 'Peninsula Community College',\n",
    " 'Pierce Community College',\n",
    " 'Renton Technical College',\n",
    " 'Seattle Community College',\n",
    " 'Shoreline Community College',\n",
    " 'Skagit Valley College',\n",
    " 'South Puget Sound Community College',\n",
    " 'Spokane Community College',\n",
    " 'Tacoma Community College',\n",
    " 'The Evergreen State College',\n",
    " 'Walla Walla Community College',\n",
    " 'Wenatchee Valley College',\n",
    " 'Whatcom Community College',\n",
    " 'Yakima Valley College',\n",
    " 'Central Washington University',\n",
    " 'Eastern Washington University',\n",
    " 'University of Washington',\n",
    " 'Washington State University',\n",
    " 'Western Washington University'\n",
    "}"
   ]
  },
  {
   "cell_type": "code",
   "execution_count": 39,
   "metadata": {
    "collapsed": false
   },
   "outputs": [],
   "source": [
    "school_list2 = list()\n",
    "for item in school_list:\n",
    "    school_list2.append(item)"
   ]
  },
  {
   "cell_type": "code",
   "execution_count": 46,
   "metadata": {
    "collapsed": false
   },
   "outputs": [
    {
     "data": {
      "text/plain": [
       "['Central Washington University',\n",
       " 'Western Washington University',\n",
       " 'Olympic College',\n",
       " 'Lake Washington Technical College',\n",
       " 'Whatcom Community College',\n",
       " 'Walla Walla Community College',\n",
       " 'Spokane Community College',\n",
       " 'Clark College',\n",
       " 'Wenatchee Valley College',\n",
       " 'Washington State University',\n",
       " 'Edmonds Community College',\n",
       " 'Big Bend Community College',\n",
       " 'Grays Harbor College',\n",
       " 'Green River Community College',\n",
       " 'Pierce Community College',\n",
       " 'Lower Columbia Community College',\n",
       " 'Peninsula Community College',\n",
       " 'Eastern Washington University',\n",
       " 'Everett Community College',\n",
       " 'South Puget Sound Community College',\n",
       " 'The Evergreen State College',\n",
       " 'Bates Technical College',\n",
       " 'Bellingham Technical College',\n",
       " 'Shoreline Community College',\n",
       " 'Tacoma Community College',\n",
       " 'University of Washington',\n",
       " 'Highline Community College',\n",
       " 'Bellevue Community College',\n",
       " 'Skagit Valley College',\n",
       " 'Seattle Community College',\n",
       " 'Clover Park Technical College',\n",
       " 'Columbia Basin Community College',\n",
       " 'Cascadia Community College',\n",
       " 'Renton Technical College',\n",
       " 'Centralia College',\n",
       " 'Yakima Valley College']"
      ]
     },
     "execution_count": 46,
     "metadata": {},
     "output_type": "execute_result"
    }
   ],
   "source": [
    "school_list2"
   ]
  },
  {
   "cell_type": "code",
   "execution_count": 47,
   "metadata": {
    "collapsed": true
   },
   "outputs": [],
   "source": [
    "df2 = df[df.Agency_Title == 'University of Washington']"
   ]
  },
  {
   "cell_type": "code",
   "execution_count": 53,
   "metadata": {
    "collapsed": false
   },
   "outputs": [
    {
     "data": {
      "text/plain": [
       "array(['DIETARY UNIT AIDE', 'FOOD SERVICE WORKER', 'REGISTERED NURSE 2',\n",
       "       'STIPEND GRAD FELLOW - A', 'ACADEMIC COUNSELOR - SENIOR',\n",
       "       'RESEARCH SCIENTIST/ENGINEER 4', 'UWRP RETIREE - NON-EXEMPT WORK',\n",
       "       'REGISTERED NURSE 2', 'DIRECTOR', 'REGISTERED NURSE 2',\n",
       "       'CLINICAL LABORATORY TECHNICIAN 1', 'ADMINISTRATIVE COORDINATOR',\n",
       "       'HUMAN RESOURCES DEPT MGR/ADMIN', 'TEMPORARY STAFF A',\n",
       "       'REGISTERED NURSE 3', 'MANAGER OF PROGRAM OPERATIONS', 'LIBRARIAN',\n",
       "       'ASSOCIATE DEAN', 'SENIOR LECTURER-FULL TIME',\n",
       "       'ACTING ASSISTANT PROFESSOR-TEMP', 'CHIEF RESIDENT', 'FELLOW',\n",
       "       'RESIDENT', 'ORTHOPAEDIC TECHNICIAN II',\n",
       "       'LIMITED TERM APPOINTMENT - PROF STAFF',\n",
       "       'CONTACT CENTER REPRESENTATIVE 1', 'PATIENT SERVICES REP',\n",
       "       'STIPEND GRAD FELLOW - A', 'STIPEND GRAD FELLOW - B',\n",
       "       'AFFILIATE INSTRUCTOR', 'LECTURER PART-TIME',\n",
       "       'CONTINUING EDUCATION SPECIALIST 3', 'FDA SEIU - PROJECT',\n",
       "       'RESEARCH STUDY COORDINATOR 1', 'RESEARCH STUDY COORDINATOR 2',\n",
       "       'STIPEND OTH TRAINEE', 'STIPEND OTH TRAINEE',\n",
       "       'PHYS ASST-ADV RN PRACTITIONER',\n",
       "       'FEE BASED ASSIGNMENT - PROF STAFF',\n",
       "       'LIMITED TERM APPOINTMENT - PROF STAFF', 'OFFICE ASSISTANT 1',\n",
       "       'DIRECTOR', 'COMPUTER OPERATOR 1', 'PROGRAM ASSISTANT',\n",
       "       'PROGRAM COORDINATOR', 'HOSPITAL ASSISTANT',\n",
       "       'ADMINISTRATIVE COORDINATOR', 'COMPUTER OPERATOR 1',\n",
       "       'PHARMACY TECHNICIAN 1', 'REGISTERED NURSE 2',\n",
       "       'STIPEND UGRD G & AID', 'STIPEND OTH TRAINEE', 'REGISTERED NURSE 2',\n",
       "       'CUSTODIAN', 'REGISTERED NURSE 2', 'FDA SEIU - PROJECT',\n",
       "       'FISCAL SPECIALIST 1', 'FISCAL SPECIALIST 2', 'RESIDENT', 'FELLOW',\n",
       "       'PHARMACIST 2', 'PHARMACIST 3', 'STIPEND OTH TRAINEE', 'RESIDENT',\n",
       "       'CUSTODIAN', 'EXTENSION LECTURER', 'LECTURER PART-TIME',\n",
       "       'PROJECT APPOINTMENT - OVERTIME EXEMPT',\n",
       "       'TECHNOLOGY PROJECT MANAGER', 'STIPEND OTH TRAINEE', 'RESIDENT',\n",
       "       'ASST PROFESSOR WITHOUT TENURE', 'SENIOR FELLOW',\n",
       "       'REGISTERED NURSE 2', 'TECHNOLOGY MANAGER', 'EDUCATOR 1',\n",
       "       'MASON/PLASTERER', 'SECRETARY SENIOR',\n",
       "       'PROJECT APPOINTMENT - OVERTIME COVERED',\n",
       "       'PROJECT APPOINTMENT - OVERTIME EXEMPT', 'TEMPORARY STAFF A',\n",
       "       'PATIENT FINANCIAL SERVICES SPECIALIST 2', 'PROFESSOR',\n",
       "       'CLINICAL ASSOCIATE PROFESSOR',\n",
       "       'CLINICAL ASSOCIATE PROFESSOR-SALARIED', 'LECTURER PART-TIME',\n",
       "       'HOSPITAL ASSISTANT', 'HOSPITAL ASSISTANT', 'RESEARCH COORDINATOR',\n",
       "       'ASSOCIATE PROFESSOR', 'STIPEND UGRD G & AID', 'IT SPECIALIST 2',\n",
       "       'HOSPITAL ASSISTANT', 'STIPEND UNDERGRADUATE FELLOW',\n",
       "       'STIPEND UNDERGRADUATE TRAINEE', 'HRP PROJECT APPOINTMENT',\n",
       "       'DENTAL ASSISTANT 2', 'HOSPITAL CENTRAL SERVICES TECHNICIAN 1',\n",
       "       'PATIENT SERVICES SPECIALIST 1-TRAINEE', 'FDA SEIU - PROJECT'], dtype=object)"
      ]
     },
     "execution_count": 53,
     "metadata": {},
     "output_type": "execute_result"
    }
   ],
   "source": [
    "df2.job_title.values[0:100]"
   ]
  }
 ],
 "metadata": {
  "kernelspec": {
   "display_name": "Python 2",
   "language": "python",
   "name": "python2"
  },
  "language_info": {
   "codemirror_mode": {
    "name": "ipython",
    "version": 2
   },
   "file_extension": ".py",
   "mimetype": "text/x-python",
   "name": "python",
   "nbconvert_exporter": "python",
   "pygments_lexer": "ipython2",
   "version": "2.7.11"
  }
 },
 "nbformat": 4,
 "nbformat_minor": 0
}
