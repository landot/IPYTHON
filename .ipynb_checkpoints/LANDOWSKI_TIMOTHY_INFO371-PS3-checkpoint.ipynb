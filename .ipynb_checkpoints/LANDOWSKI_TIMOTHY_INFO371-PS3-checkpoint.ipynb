{
 "cells": [
  {
   "cell_type": "markdown",
   "metadata": {},
   "source": [
    "# Problem Set 3, due May 2 at 11:59am (i.e., noon).\n",
    "\n",
    "### Before You Start\n",
    "\n",
    "Make sure the following libraries load correctly (hit Ctrl-Enter). Note that while you are loading several powerful libraries, including machine learning libraries, the goal of this problem set is to implement several algorithms from scratch. In particular, you should *not* be using any built-in libraries for nearest neighbors, distance metrics, or cross-validation -- your mission is to write those algorithms in Python! Part 1 will be relatively easy; Part 2 will take more time.\n",
    "\n",
    "*Also note:* For this assignment we are requiring you to use base **matplotlib** - not Seaborn or other packages. This will help you become familiar with techniques for maintaining fine-grained control over your data visualizations. It will also help our graders, who spent countless hours trying to make various versions import for grading."
   ]
  },
  {
   "cell_type": "code",
   "execution_count": 268,
   "metadata": {
    "collapsed": false
   },
   "outputs": [],
   "source": [
    "import IPython\n",
    "import numpy as np\n",
    "import scipy as sp\n",
    "import pandas as pd\n",
    "import matplotlib\n",
    "import sklearn"
   ]
  },
  {
   "cell_type": "markdown",
   "metadata": {},
   "source": [
    "---\n",
    "\n",
    "## Introduction to the assignment\n",
    "\n",
    "For this assignment, you will be using the [Boston Housing Prices Data Set](http://archive.ics.uci.edu/ml/datasets/Housing).  Please read about the dataset carefully before continuing.  Use the following commands to load the dataset:\n"
   ]
  },
  {
   "cell_type": "code",
   "execution_count": 269,
   "metadata": {
    "collapsed": false
   },
   "outputs": [],
   "source": [
    "from sklearn.datasets import load_boston\n",
    "bdata = load_boston()\n",
    "df = pd.DataFrame(bdata.data, columns = bdata.feature_names)\n",
    "newdf = pd.DataFrame(bdata.target)\n",
    "df = pd.concat([df, newdf], axis=1)\n",
    "df.columns.values[13] = 'MEDV'"
   ]
  },
  {
   "cell_type": "code",
   "execution_count": 270,
   "metadata": {
    "collapsed": false
   },
   "outputs": [
    {
     "data": {
      "text/html": [
       "<div>\n",
       "<table border=\"1\" class=\"dataframe\">\n",
       "  <thead>\n",
       "    <tr style=\"text-align: right;\">\n",
       "      <th></th>\n",
       "      <th>CRIM</th>\n",
       "      <th>ZN</th>\n",
       "      <th>INDUS</th>\n",
       "      <th>CHAS</th>\n",
       "      <th>NOX</th>\n",
       "      <th>RM</th>\n",
       "      <th>AGE</th>\n",
       "      <th>DIS</th>\n",
       "      <th>RAD</th>\n",
       "      <th>TAX</th>\n",
       "      <th>PTRATIO</th>\n",
       "      <th>B</th>\n",
       "      <th>LSTAT</th>\n",
       "      <th>MEDV</th>\n",
       "    </tr>\n",
       "  </thead>\n",
       "  <tbody>\n",
       "    <tr>\n",
       "      <th>0</th>\n",
       "      <td>0.00632</td>\n",
       "      <td>18.0</td>\n",
       "      <td>2.31</td>\n",
       "      <td>0.0</td>\n",
       "      <td>0.538</td>\n",
       "      <td>6.575</td>\n",
       "      <td>65.2</td>\n",
       "      <td>4.0900</td>\n",
       "      <td>1.0</td>\n",
       "      <td>296.0</td>\n",
       "      <td>15.3</td>\n",
       "      <td>396.90</td>\n",
       "      <td>4.98</td>\n",
       "      <td>24.0</td>\n",
       "    </tr>\n",
       "    <tr>\n",
       "      <th>1</th>\n",
       "      <td>0.02731</td>\n",
       "      <td>0.0</td>\n",
       "      <td>7.07</td>\n",
       "      <td>0.0</td>\n",
       "      <td>0.469</td>\n",
       "      <td>6.421</td>\n",
       "      <td>78.9</td>\n",
       "      <td>4.9671</td>\n",
       "      <td>2.0</td>\n",
       "      <td>242.0</td>\n",
       "      <td>17.8</td>\n",
       "      <td>396.90</td>\n",
       "      <td>9.14</td>\n",
       "      <td>21.6</td>\n",
       "    </tr>\n",
       "    <tr>\n",
       "      <th>2</th>\n",
       "      <td>0.02729</td>\n",
       "      <td>0.0</td>\n",
       "      <td>7.07</td>\n",
       "      <td>0.0</td>\n",
       "      <td>0.469</td>\n",
       "      <td>7.185</td>\n",
       "      <td>61.1</td>\n",
       "      <td>4.9671</td>\n",
       "      <td>2.0</td>\n",
       "      <td>242.0</td>\n",
       "      <td>17.8</td>\n",
       "      <td>392.83</td>\n",
       "      <td>4.03</td>\n",
       "      <td>34.7</td>\n",
       "    </tr>\n",
       "    <tr>\n",
       "      <th>3</th>\n",
       "      <td>0.03237</td>\n",
       "      <td>0.0</td>\n",
       "      <td>2.18</td>\n",
       "      <td>0.0</td>\n",
       "      <td>0.458</td>\n",
       "      <td>6.998</td>\n",
       "      <td>45.8</td>\n",
       "      <td>6.0622</td>\n",
       "      <td>3.0</td>\n",
       "      <td>222.0</td>\n",
       "      <td>18.7</td>\n",
       "      <td>394.63</td>\n",
       "      <td>2.94</td>\n",
       "      <td>33.4</td>\n",
       "    </tr>\n",
       "    <tr>\n",
       "      <th>4</th>\n",
       "      <td>0.06905</td>\n",
       "      <td>0.0</td>\n",
       "      <td>2.18</td>\n",
       "      <td>0.0</td>\n",
       "      <td>0.458</td>\n",
       "      <td>7.147</td>\n",
       "      <td>54.2</td>\n",
       "      <td>6.0622</td>\n",
       "      <td>3.0</td>\n",
       "      <td>222.0</td>\n",
       "      <td>18.7</td>\n",
       "      <td>396.90</td>\n",
       "      <td>5.33</td>\n",
       "      <td>36.2</td>\n",
       "    </tr>\n",
       "  </tbody>\n",
       "</table>\n",
       "</div>"
      ],
      "text/plain": [
       "      CRIM    ZN  INDUS  CHAS    NOX     RM   AGE     DIS  RAD    TAX  \\\n",
       "0  0.00632  18.0   2.31   0.0  0.538  6.575  65.2  4.0900  1.0  296.0   \n",
       "1  0.02731   0.0   7.07   0.0  0.469  6.421  78.9  4.9671  2.0  242.0   \n",
       "2  0.02729   0.0   7.07   0.0  0.469  7.185  61.1  4.9671  2.0  242.0   \n",
       "3  0.03237   0.0   2.18   0.0  0.458  6.998  45.8  6.0622  3.0  222.0   \n",
       "4  0.06905   0.0   2.18   0.0  0.458  7.147  54.2  6.0622  3.0  222.0   \n",
       "\n",
       "   PTRATIO       B  LSTAT  MEDV  \n",
       "0     15.3  396.90   4.98  24.0  \n",
       "1     17.8  396.90   9.14  21.6  \n",
       "2     17.8  392.83   4.03  34.7  \n",
       "3     18.7  394.63   2.94  33.4  \n",
       "4     18.7  396.90   5.33  36.2  "
      ]
     },
     "execution_count": 270,
     "metadata": {},
     "output_type": "execute_result"
    }
   ],
   "source": [
    "df.head()"
   ]
  },
  {
   "cell_type": "markdown",
   "metadata": {},
   "source": [
    "---\n",
    "\n",
    "## Part 1: Experimental Setup\n",
    "\n",
    "The goal of the next few sections is to design an experiment to predict the median home value for an instance in the data.\n",
    "Before beginning the \"real\" work, refamiliarize yourself with the dataset."
   ]
  },
  {
   "cell_type": "code",
   "execution_count": 271,
   "metadata": {
    "collapsed": false
   },
   "outputs": [
    {
     "data": {
      "text/plain": [
       "(array([  21.,   55.,   82.,  154.,   84.,   41.,   30.,    8.,   10.,   21.]),\n",
       " array([  5. ,   9.5,  14. ,  18.5,  23. ,  27.5,  32. ,  36.5,  41. ,\n",
       "         45.5,  50. ]),\n",
       " <a list of 10 Patch objects>)"
      ]
     },
     "execution_count": 271,
     "metadata": {},
     "output_type": "execute_result"
    },
    {
     "data": {
      "image/png": "[encoded data removed]",
      "text/plain": [
       "<matplotlib.figure.Figure at 0xbc05f60>"
      ]
     },
     "metadata": {},
     "output_type": "display_data"
    }
   ],
   "source": [
    "# prepare IPython to work with matplotlib and import the library to something convenient\n",
    "%matplotlib inline  \n",
    "import matplotlib.pyplot as plt  \n",
    "\n",
    "# edit the code below to make the graph look good\n",
    "plt.hist(bdata.target)"
   ]
  },
  {
   "cell_type": "markdown",
   "metadata": {},
   "source": [
    "### 1.1: Scatter plot of housing prices and crime\n",
    "\n",
    "Use matplotlib to create a scatter plot that shows the relationship between the median value of the home (y-axis) and the per-capita crime rate (x-axis).  Properly label your axes, and make sure that your graphic looks polished and professional. No excuses if you don't get it right this time around!\n"
   ]
  },
  {
   "cell_type": "code",
   "execution_count": 272,
   "metadata": {
    "collapsed": false,
    "scrolled": true
   },
   "outputs": [
    {
     "data": {
      "image/png": "[encoded data removed]",
      "text/plain": [
       "<matplotlib.figure.Figure at 0xc661c18>"
      ]
     },
     "metadata": {},
     "output_type": "display_data"
    }
   ],
   "source": [
    "#creates scatterplot with labels\n",
    "plt.scatter(df.CRIM, df.MEDV)\n",
    "plt.title('Housing Prices vs. Crime')\n",
    "plt.ylabel('Housing Prices in 1000\\'s')\n",
    "plt.xlabel('Per-Capita Crime Rate by Town')\n",
    "\n",
    "#getting rid of spines and ticks\n",
    "#help from divenex http://stackoverflow.com/questions/925024/how-can-i-remove-the-top-and-right-axis-in-matplotlib\n",
    "ax = plt.axes()\n",
    "ax.spines['right'].set_visible(False)\n",
    "ax.spines['top'].set_visible(False)\n",
    "ax.yaxis.set_ticks_position('left')\n",
    "ax.xaxis.set_ticks_position('bottom')"
   ]
  },
  {
   "cell_type": "markdown",
   "metadata": {},
   "source": [
    "### 1.2 Begin by writing a function to compute the Root Mean Squared Error for a list of numbers\n",
    "\n",
    "You can find the sqrt function in the Numpy package. Furthermore the details of RMSE can be found on [Wikipedia](http://en.wikipedia.org/wiki/Root-mean-square_deviation)\n",
    "\n"
   ]
  },
  {
   "cell_type": "code",
   "execution_count": 273,
   "metadata": {
    "collapsed": false
   },
   "outputs": [
    {
     "name": "stdout",
     "output_type": "stream",
     "text": [
      "2.08166599947\n"
     ]
    }
   ],
   "source": [
    "\"\"\"\n",
    "Function\n",
    "--------\n",
    "compute_rmse\n",
    "\n",
    "Given two arrays, one of actual values and one of predicted values,\n",
    "compute the Roote Mean Squared Error\n",
    "\n",
    "Parameters\n",
    "----------\n",
    "predictions : array\n",
    "    Array of numerical values corresponding to predictions for each of the N observations\n",
    "\n",
    "yvalues : array\n",
    "    Array of numerical values corresponding to the actual values for each of the N observations\n",
    "\n",
    "Returns\n",
    "-------\n",
    "rmse : int\n",
    "    Root Mean Squared Error of the prediction\n",
    "\n",
    "Example\n",
    "-------\n",
    ">>> print compute_rmse((2,2,3),(0,2,6)\n",
    "2.08\n",
    "\"\"\"\n",
    "def compute_rmse(predictions, yvalues):\n",
    "    pred = np.array(predictions)\n",
    "    yval = np.array(yvalues)\n",
    "    rmse = ((pred - yval) ** 2).mean()\n",
    "    rmse = np.sqrt(rmse)\n",
    "    \n",
    "    return rmse\n",
    "    \n",
    "print compute_rmse((2,2,3),(0,2,6))"
   ]
  },
  {
   "cell_type": "markdown",
   "metadata": {},
   "source": [
    "### 1.3 Divide your data into training and testing datasets\n",
    "\n",
    "Randomly select 66% of the data and put this in a training dataset (call this \"bdata_train\"), and place the remaining 34% in a testing dataset (call this \"bdata_test\")\n"
   ]
  },
  {
   "cell_type": "code",
   "execution_count": 274,
   "metadata": {
    "collapsed": false
   },
   "outputs": [],
   "source": [
    "# leave the following line untouched, it will help ensure that your \"random\" split \n",
    "#is the same \"random\" split used by the rest of the class\n",
    "np.random.seed(seed=13579)\n",
    "\n",
    "# enter your code here\n",
    "bdata_train = df.sample(frac=0.66)\n",
    "bdata_test = df.drop(bdata_train.index)\n",
    "\n",
    "#bdata_train, bdata_test = sklearn.cross_validation.train_test_split(df, test_size = 0.34) \n",
    "#bdata_train, bdata_test = train_test_split(df, test_size=0.34)"
   ]
  },
  {
   "cell_type": "code",
   "execution_count": 275,
   "metadata": {
    "collapsed": false
   },
   "outputs": [
    {
     "data": {
      "text/plain": [
       "334"
      ]
     },
     "execution_count": 275,
     "metadata": {},
     "output_type": "execute_result"
    }
   ],
   "source": [
    "len(bdata_train)"
   ]
  },
  {
   "cell_type": "code",
   "execution_count": 276,
   "metadata": {
    "collapsed": false
   },
   "outputs": [
    {
     "data": {
      "text/plain": [
       "172"
      ]
     },
     "execution_count": 276,
     "metadata": {},
     "output_type": "execute_result"
    }
   ],
   "source": [
    "len(bdata_test)"
   ]
  },
  {
   "cell_type": "code",
   "execution_count": 277,
   "metadata": {
    "collapsed": false
   },
   "outputs": [
    {
     "data": {
      "text/plain": [
       "'0.34'"
      ]
     },
     "execution_count": 277,
     "metadata": {},
     "output_type": "execute_result"
    }
   ],
   "source": [
    "#proof\n",
    "\"%.2f\" % (172.0 / (172.0 + 334.0))"
   ]
  },
  {
   "cell_type": "code",
   "execution_count": 278,
   "metadata": {
    "collapsed": false
   },
   "outputs": [
    {
     "data": {
      "text/html": [
       "<div>\n",
       "<table border=\"1\" class=\"dataframe\">\n",
       "  <thead>\n",
       "    <tr style=\"text-align: right;\">\n",
       "      <th></th>\n",
       "      <th>CRIM</th>\n",
       "      <th>ZN</th>\n",
       "      <th>INDUS</th>\n",
       "      <th>CHAS</th>\n",
       "      <th>NOX</th>\n",
       "      <th>RM</th>\n",
       "      <th>AGE</th>\n",
       "      <th>DIS</th>\n",
       "      <th>RAD</th>\n",
       "      <th>TAX</th>\n",
       "      <th>PTRATIO</th>\n",
       "      <th>B</th>\n",
       "      <th>LSTAT</th>\n",
       "      <th>MEDV</th>\n",
       "    </tr>\n",
       "  </thead>\n",
       "  <tbody>\n",
       "    <tr>\n",
       "      <th>152</th>\n",
       "      <td>1.12658</td>\n",
       "      <td>0.0</td>\n",
       "      <td>19.58</td>\n",
       "      <td>1.0</td>\n",
       "      <td>0.871</td>\n",
       "      <td>5.012</td>\n",
       "      <td>88.0</td>\n",
       "      <td>1.6102</td>\n",
       "      <td>5.0</td>\n",
       "      <td>403.0</td>\n",
       "      <td>14.7</td>\n",
       "      <td>343.28</td>\n",
       "      <td>12.12</td>\n",
       "      <td>15.3</td>\n",
       "    </tr>\n",
       "    <tr>\n",
       "      <th>205</th>\n",
       "      <td>0.13642</td>\n",
       "      <td>0.0</td>\n",
       "      <td>10.59</td>\n",
       "      <td>0.0</td>\n",
       "      <td>0.489</td>\n",
       "      <td>5.891</td>\n",
       "      <td>22.3</td>\n",
       "      <td>3.9454</td>\n",
       "      <td>4.0</td>\n",
       "      <td>277.0</td>\n",
       "      <td>18.6</td>\n",
       "      <td>396.90</td>\n",
       "      <td>10.87</td>\n",
       "      <td>22.6</td>\n",
       "    </tr>\n",
       "    <tr>\n",
       "      <th>192</th>\n",
       "      <td>0.08664</td>\n",
       "      <td>45.0</td>\n",
       "      <td>3.44</td>\n",
       "      <td>0.0</td>\n",
       "      <td>0.437</td>\n",
       "      <td>7.178</td>\n",
       "      <td>26.3</td>\n",
       "      <td>6.4798</td>\n",
       "      <td>5.0</td>\n",
       "      <td>398.0</td>\n",
       "      <td>15.2</td>\n",
       "      <td>390.49</td>\n",
       "      <td>2.87</td>\n",
       "      <td>36.4</td>\n",
       "    </tr>\n",
       "    <tr>\n",
       "      <th>502</th>\n",
       "      <td>0.04527</td>\n",
       "      <td>0.0</td>\n",
       "      <td>11.93</td>\n",
       "      <td>0.0</td>\n",
       "      <td>0.573</td>\n",
       "      <td>6.120</td>\n",
       "      <td>76.7</td>\n",
       "      <td>2.2875</td>\n",
       "      <td>1.0</td>\n",
       "      <td>273.0</td>\n",
       "      <td>21.0</td>\n",
       "      <td>396.90</td>\n",
       "      <td>9.08</td>\n",
       "      <td>20.6</td>\n",
       "    </tr>\n",
       "    <tr>\n",
       "      <th>108</th>\n",
       "      <td>0.12802</td>\n",
       "      <td>0.0</td>\n",
       "      <td>8.56</td>\n",
       "      <td>0.0</td>\n",
       "      <td>0.520</td>\n",
       "      <td>6.474</td>\n",
       "      <td>97.1</td>\n",
       "      <td>2.4329</td>\n",
       "      <td>5.0</td>\n",
       "      <td>384.0</td>\n",
       "      <td>20.9</td>\n",
       "      <td>395.24</td>\n",
       "      <td>12.27</td>\n",
       "      <td>19.8</td>\n",
       "    </tr>\n",
       "  </tbody>\n",
       "</table>\n",
       "</div>"
      ],
      "text/plain": [
       "        CRIM    ZN  INDUS  CHAS    NOX     RM   AGE     DIS  RAD    TAX  \\\n",
       "152  1.12658   0.0  19.58   1.0  0.871  5.012  88.0  1.6102  5.0  403.0   \n",
       "205  0.13642   0.0  10.59   0.0  0.489  5.891  22.3  3.9454  4.0  277.0   \n",
       "192  0.08664  45.0   3.44   0.0  0.437  7.178  26.3  6.4798  5.0  398.0   \n",
       "502  0.04527   0.0  11.93   0.0  0.573  6.120  76.7  2.2875  1.0  273.0   \n",
       "108  0.12802   0.0   8.56   0.0  0.520  6.474  97.1  2.4329  5.0  384.0   \n",
       "\n",
       "     PTRATIO       B  LSTAT  MEDV  \n",
       "152     14.7  343.28  12.12  15.3  \n",
       "205     18.6  396.90  10.87  22.6  \n",
       "192     15.2  390.49   2.87  36.4  \n",
       "502     21.0  396.90   9.08  20.6  \n",
       "108     20.9  395.24  12.27  19.8  "
      ]
     },
     "execution_count": 278,
     "metadata": {},
     "output_type": "execute_result"
    }
   ],
   "source": [
    "bdata_train.head()"
   ]
  },
  {
   "cell_type": "code",
   "execution_count": 279,
   "metadata": {
    "collapsed": false
   },
   "outputs": [
    {
     "data": {
      "text/html": [
       "<div>\n",
       "<table border=\"1\" class=\"dataframe\">\n",
       "  <thead>\n",
       "    <tr style=\"text-align: right;\">\n",
       "      <th></th>\n",
       "      <th>CRIM</th>\n",
       "      <th>ZN</th>\n",
       "      <th>INDUS</th>\n",
       "      <th>CHAS</th>\n",
       "      <th>NOX</th>\n",
       "      <th>RM</th>\n",
       "      <th>AGE</th>\n",
       "      <th>DIS</th>\n",
       "      <th>RAD</th>\n",
       "      <th>TAX</th>\n",
       "      <th>PTRATIO</th>\n",
       "      <th>B</th>\n",
       "      <th>LSTAT</th>\n",
       "      <th>MEDV</th>\n",
       "    </tr>\n",
       "  </thead>\n",
       "  <tbody>\n",
       "    <tr>\n",
       "      <th>3</th>\n",
       "      <td>0.03237</td>\n",
       "      <td>0.0</td>\n",
       "      <td>2.18</td>\n",
       "      <td>0.0</td>\n",
       "      <td>0.458</td>\n",
       "      <td>6.998</td>\n",
       "      <td>45.8</td>\n",
       "      <td>6.0622</td>\n",
       "      <td>3.0</td>\n",
       "      <td>222.0</td>\n",
       "      <td>18.7</td>\n",
       "      <td>394.63</td>\n",
       "      <td>2.94</td>\n",
       "      <td>33.4</td>\n",
       "    </tr>\n",
       "    <tr>\n",
       "      <th>5</th>\n",
       "      <td>0.02985</td>\n",
       "      <td>0.0</td>\n",
       "      <td>2.18</td>\n",
       "      <td>0.0</td>\n",
       "      <td>0.458</td>\n",
       "      <td>6.430</td>\n",
       "      <td>58.7</td>\n",
       "      <td>6.0622</td>\n",
       "      <td>3.0</td>\n",
       "      <td>222.0</td>\n",
       "      <td>18.7</td>\n",
       "      <td>394.12</td>\n",
       "      <td>5.21</td>\n",
       "      <td>28.7</td>\n",
       "    </tr>\n",
       "    <tr>\n",
       "      <th>8</th>\n",
       "      <td>0.21124</td>\n",
       "      <td>12.5</td>\n",
       "      <td>7.87</td>\n",
       "      <td>0.0</td>\n",
       "      <td>0.524</td>\n",
       "      <td>5.631</td>\n",
       "      <td>100.0</td>\n",
       "      <td>6.0821</td>\n",
       "      <td>5.0</td>\n",
       "      <td>311.0</td>\n",
       "      <td>15.2</td>\n",
       "      <td>386.63</td>\n",
       "      <td>29.93</td>\n",
       "      <td>16.5</td>\n",
       "    </tr>\n",
       "    <tr>\n",
       "      <th>10</th>\n",
       "      <td>0.22489</td>\n",
       "      <td>12.5</td>\n",
       "      <td>7.87</td>\n",
       "      <td>0.0</td>\n",
       "      <td>0.524</td>\n",
       "      <td>6.377</td>\n",
       "      <td>94.3</td>\n",
       "      <td>6.3467</td>\n",
       "      <td>5.0</td>\n",
       "      <td>311.0</td>\n",
       "      <td>15.2</td>\n",
       "      <td>392.52</td>\n",
       "      <td>20.45</td>\n",
       "      <td>15.0</td>\n",
       "    </tr>\n",
       "    <tr>\n",
       "      <th>11</th>\n",
       "      <td>0.11747</td>\n",
       "      <td>12.5</td>\n",
       "      <td>7.87</td>\n",
       "      <td>0.0</td>\n",
       "      <td>0.524</td>\n",
       "      <td>6.009</td>\n",
       "      <td>82.9</td>\n",
       "      <td>6.2267</td>\n",
       "      <td>5.0</td>\n",
       "      <td>311.0</td>\n",
       "      <td>15.2</td>\n",
       "      <td>396.90</td>\n",
       "      <td>13.27</td>\n",
       "      <td>18.9</td>\n",
       "    </tr>\n",
       "  </tbody>\n",
       "</table>\n",
       "</div>"
      ],
      "text/plain": [
       "       CRIM    ZN  INDUS  CHAS    NOX     RM    AGE     DIS  RAD    TAX  \\\n",
       "3   0.03237   0.0   2.18   0.0  0.458  6.998   45.8  6.0622  3.0  222.0   \n",
       "5   0.02985   0.0   2.18   0.0  0.458  6.430   58.7  6.0622  3.0  222.0   \n",
       "8   0.21124  12.5   7.87   0.0  0.524  5.631  100.0  6.0821  5.0  311.0   \n",
       "10  0.22489  12.5   7.87   0.0  0.524  6.377   94.3  6.3467  5.0  311.0   \n",
       "11  0.11747  12.5   7.87   0.0  0.524  6.009   82.9  6.2267  5.0  311.0   \n",
       "\n",
       "    PTRATIO       B  LSTAT  MEDV  \n",
       "3      18.7  394.63   2.94  33.4  \n",
       "5      18.7  394.12   5.21  28.7  \n",
       "8      15.2  386.63  29.93  16.5  \n",
       "10     15.2  392.52  20.45  15.0  \n",
       "11     15.2  396.90  13.27  18.9  "
      ]
     },
     "execution_count": 279,
     "metadata": {},
     "output_type": "execute_result"
    }
   ],
   "source": [
    "bdata_test.head()"
   ]
  },
  {
   "cell_type": "code",
   "execution_count": 280,
   "metadata": {
    "collapsed": false
   },
   "outputs": [
    {
     "data": {
      "text/plain": [
       "pandas.core.frame.DataFrame"
      ]
     },
     "execution_count": 280,
     "metadata": {},
     "output_type": "execute_result"
    }
   ],
   "source": [
    "type(bdata_test)"
   ]
  },
  {
   "cell_type": "markdown",
   "metadata": {
    "collapsed": false
   },
   "source": [
    "print(set(bdata_test.index))\n",
    "for item in set(bdata_test.index):\n",
    "    print(bdata_test.loc[item].MEDV)"
   ]
  },
  {
   "cell_type": "markdown",
   "metadata": {},
   "source": [
    "### 1.4 Use a very bad baseline for prediction, and compute RMSE\n",
    "\n",
    "Create a model that predicts, for every observation x_i, that the median home value is the average (mean) of the median values for all instances in the training set.  Compute the RMSE on the training set.  Now compute the RMSE on the test data set (but use the model you trained on the training set!).  How does RMSE compare for training vs. testing datasets? Is this what you expected, and why?"
   ]
  },
  {
   "cell_type": "code",
   "execution_count": 281,
   "metadata": {
    "collapsed": false
   },
   "outputs": [
    {
     "name": "stdout",
     "output_type": "stream",
     "text": [
      "22.651497006\n",
      "RMSE Training Set: 9.27413734573\n",
      "RMSE Testing Set: 9.02071563814\n"
     ]
    }
   ],
   "source": [
    "train_mean = np.mean(bdata_train.MEDV)\n",
    "print train_mean\n",
    "\n",
    "#creates an array of mean values\n",
    "pred_train = []\n",
    "for i in xrange(len(bdata_train)):\n",
    "    pred_train.append(train_mean)\n",
    "\n",
    "print 'RMSE Training Set:' , compute_rmse(bdata_train.MEDV.values, pred_train)\n",
    "print 'RMSE Testing Set:' ,  compute_rmse(bdata_test.MEDV.values, pred_train[0:172])"
   ]
  },
  {
   "cell_type": "markdown",
   "metadata": {},
   "source": [
    "Above you can see that the training set had an RMSE of 9.62 and the testing set had an RMSE of 8.30. The testing set had an RMSE lower than that of the training set which is not what I thought would have happened. I would have thought that it would fit the training set more because the mean better reflects that of the training set and not the testing set."
   ]
  },
  {
   "cell_type": "markdown",
   "metadata": {},
   "source": [
    "---\n",
    "\n",
    "## Part 2: Nearest Neighbors\n"
   ]
  },
  {
   "cell_type": "markdown",
   "metadata": {},
   "source": [
    "### 2.1 Nearest Neighbors: Distance function\n",
    "Let's try and build a machine learning algorithm to beat the \"Average Value\" baseline that you computed above.  Soon you will implement the Nearest Neighbor algorithm, but first you need to create a distance metric to measure the distance (and similarity) between two instances.  Write a generic function to compute the L-Norm distance (called the [*p*-norm](http://en.wikipedia.org/wiki/Norm_(mathematics) distance on Wikipedia). Verify that your function works by computing the Euclidean distance between the points (3,4) and (6,8)."
   ]
  },
  {
   "cell_type": "code",
   "execution_count": 282,
   "metadata": {
    "collapsed": false
   },
   "outputs": [
    {
     "name": "stdout",
     "output_type": "stream",
     "text": [
      "5.0\n",
      "7.0\n"
     ]
    }
   ],
   "source": [
    "\"\"\"\n",
    "Function\n",
    "--------\n",
    "distance\n",
    "\n",
    "Given two instances and a value for L, return the L-Norm distance between them\n",
    "\n",
    "Parameters\n",
    "----------\n",
    "x1, x2 : array\n",
    "    Array of numerical values corresponding to predictions for each of the N observations\n",
    "\n",
    "L: int\n",
    "    Value of L to use in computing distances\n",
    "\n",
    "Returns\n",
    "-------\n",
    "dist : int\n",
    "    The L-norm distance between instances\n",
    "\n",
    "Example\n",
    "-------\n",
    ">>> print distance((3,4),(6,8),2)\n",
    "5\n",
    ">>> print distance((3,4),(6,8),1)\n",
    "7\n",
    "\n",
    "\"\"\"\n",
    "import math\n",
    "\n",
    "def distance(x1, x2, L):\n",
    "    count = 0.0\n",
    "    #goes through each index and finds the distance between them (adds to count)\n",
    "    #print 'x1 ' , x1\n",
    "    #print 'x2 ' , x2\n",
    "    for i in xrange(len(x1)):\n",
    "        difference = np.power(math.fabs(x1[i]-x2[i]), L)\n",
    "        count = count + difference\n",
    "    return np.power(count, 1.0/L)\n",
    "\n",
    "print distance((3,4),(6,8),2)\n",
    "print distance((3,4),(6,8),1)"
   ]
  },
  {
   "cell_type": "markdown",
   "metadata": {},
   "source": [
    "### 2.2 Basic Nearest Neighbor algorithm\n",
    "\n",
    "Now things get fun.  Your task is to implement a basic nearest neighbor algorithm from scratch.  Your simple model will use two input features (CRIM and RM) and a single output (MEDV).  In other words, you are modelling the relationship between median home value and crime rates and house size.\n",
    "\n",
    "Use your training data (bdata_train) to \"fit\" your model, although as you know, with Nearest Neighbors there is no real training, you just need to keep your training data in memory.  Write a function that predicts, for each instance in the testing data (bdata_test), the median home value using the nearest neighbor algorithm we discussed in class.  Since this is a small dataset, you can simply compare your test instance to every instance in the training set, and return the MEDV value of the closest training instance.  Have your function take L as an input, where L is passed to the distance function.\n",
    "\n",
    "Compute the RMSE for the Nearest Neighbor predictions on the test set, using the Euclidean distance.  Report an estimate of the total time taken by your code to predict the nearest neighbors for all the values in the test data set."
   ]
  },
  {
   "cell_type": "code",
   "execution_count": null,
   "metadata": {
    "collapsed": false
   },
   "outputs": [
    {
     "name": "stderr",
     "output_type": "stream",
     "text": [
      "\r",
      "  0%|                                                  | 0/172 [00:00<?, ?it/s]"
     ]
    },
    {
     "name": "stdout",
     "output_type": "stream",
     "text": [
      "[0.67051807878685021, 0.88091042335586422, 0.18466031596820587, 0.13518695642657746, 1.4412806227861452, 1.2214284796421859, 1.4518689842370229, 1.6100588789801493, 1.3245885599341916, 1.6844452331620174, 1.5467220924666338, 1.4703507604003867, 2.2037754574744182, 1.8314759023126237, 1.7139519787762336, 1.5609373914386411, 1.7133098276036023, 1.3925713833930764, 0.77684391656644136, 1.8517835798064375, 1.3303579977878321, 0.64292779286156321, 0.084763134265786411, 0.40288579050598305, 1.2255615966847277, 1.1678344510822116, 1.3628825728751386, 1.8939214609921908, 1.4159349967881438, 2.003621089361157, 1.5085217325499563, 1.300224085488366, 1.4606983260145692, 0.34303587197232277, 1.2584249663788702, 1.504023589804814, 1.0603117708855303, 1.6253271514765357, 1.6153959292346463, 0.88583857700267266, 1.5109419070285872, 1.0832963907666795, 1.0749118293802746, 1.2656615875553296, 1.139674923565648, 0.60993391691394017, 1.043858241569064, 1.2289551083298815, 1.4373614504486683, 1.2918201058605991, 0.070894092757451579, 0.8862049501192667, 0.85201495689910889, 1.1164628375669143, 0.6007645578769939, 1.2339431155964724, 1.0452460257691574, 0.49267072171404031, 0.46111540179350435, 0.90127055159315672, 1.269127395695874, 1.2283162887890546, 1.6620488525242667, 1.6824889197681032, 1.2832481180510724, 0.80740110457028558, 1.1426170853094795, 1.1900847570943536, 0.47818562075976834, 1.5769834080911018, 1.3308513136130227, 1.5561890827015306, 1.4286204525085497, 1.6332304520915679, 1.8267397577653592, 1.4523464313729608, 1.6551129050216362, 1.6237627498373453, 1.9881509154350026, 0.82795066745075785, 1.0112876437068912, 0.94548737257496129, 1.7012316335813851, 1.7908011877179324, 1.6533871397340447, 1.2490506523853124, 1.2180104364722939, 2.228344234542976, 2.5831420100806071, 1.2953269010708017, 2.8142168481737335, 1.2831267083165938, 2.4666821346194383, 0.59814200196654599, 1.8091711552502734, 1.2054564221172013, 1.6319866100394818, 1.0392337866115444, 0.93204217220473529, 1.6347082992306916, 2.0450596896701727, 1.6512778722517565, 0.70942872736934159, 1.4303994675621767, 1.0259006473928867, 0.12837323748892643, 0.96997624055015486, 1.2602850133162171, 0.14378754606689434, 2.0013251076455272, 1.2479926347928716, 0.38749626849857982, 0.69512103886842058, 0.1821951394108294, 0.44604302582645289, 0.1730641731607083, 0.36438935088109797, 1.1211567674540623, 0.31855760763762808, 0.092609328231134977, 0.30120013330427942, 0.13591594030929485, 1.2358193061359153, 0.7581616096094882, 1.0908360413461899, 1.6071246176542469, 1.0096543767621533, 1.369677460705643, 2.3575462864760648, 1.5122484691544502, 1.7221434995276999, 1.2074284743094084, 1.5248843112915276, 0.15298440779447889, 1.2313924458089855, 0.60760555179775977, 2.2864207372615675, 0.14272695609076752, 0.86008245126920491, 0.6985055607192896, 1.4825507260470581, 0.4832446867749754, 1.6301808173249701, 0.58981665176512754, 0.79822642699580848, 0.6270870542060436, 1.3272930168468666, 0.96658281295700788, 0.91841579988284738, 1.9995839592977118, 0.47283065405675889, 0.78948434430052883, 0.85609833353716658, 0.15514930387382458, 1.6465769549079143, 1.3097959071503431, 1.6281840953556137, 0.37455630153283709, 0.3000242162266577, 0.63135853017699339, 1.8372874404613879, 0.36728909899131446, 2.0608842516645716, 0.067756355899970283, 1.698540133654316, 1.5675262331844793, 1.1280293856814068, 0.71987297518489435, 0.86738237167575594, 0.42047260959191063, 0.28991348982509274, 0.29004904383037877, 0.32842750464052733, 0.7968826245620646, 0.34435362324886803, 1.0455972523236348, 0.14397164095700662, 0.80563884967826094, 1.1869524039177513, 0.080920664407296658, 0.83726800160591519, 1.1426839964181883, 1.0259665433548828, 0.68372181278776489, 0.28222655187338763, 0.13583950779118298, 1.2835223354180303, 1.4454304232196555, 0.52825478111459889, 1.7457547974017371, 0.98469976140842375, 0.64965617421889055, 0.1234241296297721, 0.25006142293825762, 0.6138954020376014, 0.49801808624333599, 1.4951963809227631, 2.8777847411508661, 1.0918044736999619, 0.67821267008830111, 1.7563831003686623, 0.9320508816575781, 0.87287675543304122, 0.94134611393833945, 1.0285149153050568, 1.3431297495888814, 1.6390112744571663, 1.0011267157813208, 1.2604336341938092, 1.4155085776629814, 1.0328874084393884, 1.407247973267082, 1.6377964820580921, 1.4785076560491683, 1.5017999365355956, 0.26507968944796445, 1.4388521101673772, 1.5978609014393532, 0.75099727343597211, 0.58851873652069475, 0.18043267383548076, 0.78610422692647763, 0.66415264722215184, 1.6170219292347203, 0.46192413454268777, 1.9204934810395773, 1.5454910165398854, 1.5496408038615335, 1.3993750915490988, 1.0289328138603551, 1.1796916146048801, 2.3878276972612058, 4.8305926385478557, 2.9054338303708129, 4.6653439379373287, 2.9185926375745503, 0.80661303862708611, 0.72641287789798215, 3.2242058559798132, 4.567964043476934, 1.8765949735297263, 1.1819821809681859, 2.9592180064279545, 2.39749039499551, 10.765517192842932, 1.9910211170935623, 2.3406761983327455, 2.2995535356627723, 4.3943352931739001, 3.1465981751298218, 4.3982248974387907, 3.8974088067904167, 3.4305341301484873, 2.0065229980637325, 1.4997983093238063, 3.0855252973866953, 1.2781576567082327, 5.1011922737975608, 2.0108447795094047, 3.3230026470805565, 1.9316098471378167, 1.4192945571179991, 3.7706371334409341, 5.4101602070401666, 4.7029168320599224, 2.427417471560446, 2.148929938784081, 1.7101378515992314, 1.7299281230805963, 4.0104752391697227, 4.3046255945293996, 6.5136002589362887, 2.2973169433823073, 1.558362803792543, 1.6462135300400058, 1.5320566546259864, 2.2836824817969883, 2.1994186420298023, 4.6660694347161433, 1.448969758090078, 1.4167992188619616, 1.3719970120423488, 1.1264916847098598, 1.0507828610115526, 1.4166242915905791, 1.8743558546867685, 2.2199652000473553, 1.3103117795506909, 1.3882499714004644, 2.2262050687497354, 0.8260427096267019, 1.2070479416791291, 1.6053352267630288, 1.2220443126943186, 0.85959001192859164, 0.81135423727829969, 1.0380040110515796, 1.5698485523947148, 1.8008203721195422, 1.3592804106290255, 1.5429736144785402, 1.259820800895312, 0.98503767435731482, 1.4648592474461823, 1.8146104876144449, 1.5708398903177356, 2.3992929960735836, 2.3948276880972252, 1.309436975699912, 0.9296265495501187, 2.4204816744892272, 1.4216785466784949, 0.94758312204078032, 2.9845863754137825, 0.75463106436363481, 0.6254867204494603, 1.8037638677366041, 1.4404425561072598, 1.668832681658567, 2.2070439676336737, 2.2618771891005336, 2.7026331249382682, 1.4809898421976102, 1.4809626041542743, 1.8595901061042899, 1.5585530981887927, 1.9103728864169249, 2.2945868657773638, 1.4309993550784941, 1.4200723642898261, 0.64521591971091596, 1.2933537180194334, 0.37062409159818394, 1.4168064316868147]\n",
      "[0.067756355899970283, 0.070894092757451579, 0.080920664407296658, 0.084763134265786411, 0.092609328231134977, 0.1234241296297721, 0.12837323748892643, 0.13518695642657746, 0.13583950779118298, 0.13591594030929485, 0.14272695609076752, 0.14378754606689434, 0.14397164095700662, 0.15298440779447889, 0.15514930387382458, 0.1730641731607083, 0.18043267383548076, 0.1821951394108294, 0.18466031596820587, 0.25006142293825762, 0.26507968944796445, 0.28222655187338763, 0.28991348982509274, 0.29004904383037877, 0.3000242162266577, 0.30120013330427942, 0.31855760763762808, 0.32842750464052733, 0.34303587197232277, 0.34435362324886803, 0.36438935088109797, 0.36728909899131446, 0.37062409159818394, 0.37455630153283709, 0.38749626849857982, 0.40288579050598305, 0.42047260959191063, 0.44604302582645289, 0.46111540179350435, 0.46192413454268777, 0.47283065405675889, 0.47818562075976834, 0.4832446867749754, 0.49267072171404031, 0.49801808624333599, 0.52825478111459889, 0.58851873652069475, 0.58981665176512754, 0.59814200196654599, 0.6007645578769939, 0.60760555179775977, 0.60993391691394017, 0.6138954020376014, 0.6254867204494603, 0.6270870542060436, 0.63135853017699339, 0.64292779286156321, 0.64521591971091596, 0.64965617421889055, 0.66415264722215184, 0.67051807878685021, 0.67821267008830111, 0.68372181278776489, 0.69512103886842058, 0.6985055607192896, 0.70942872736934159, 0.71987297518489435, 0.72641287789798215, 0.75099727343597211, 0.75463106436363481, 0.7581616096094882, 0.77684391656644136, 0.78610422692647763, 0.78948434430052883, 0.7968826245620646, 0.79822642699580848, 0.80563884967826094, 0.80661303862708611, 0.80740110457028558, 0.81135423727829969, 0.8260427096267019, 0.82795066745075785, 0.83726800160591519, 0.85201495689910889, 0.85609833353716658, 0.85959001192859164, 0.86008245126920491, 0.86738237167575594, 0.87287675543304122, 0.88091042335586422, 0.88583857700267266, 0.8862049501192667, 0.90127055159315672, 0.91841579988284738, 0.9296265495501187, 0.93204217220473529, 0.9320508816575781, 0.94134611393833945, 0.94548737257496129, 0.94758312204078032, 0.96658281295700788, 0.96997624055015486, 0.98469976140842375, 0.98503767435731482, 1.0011267157813208, 1.0096543767621533, 1.0112876437068912, 1.0259006473928867, 1.0259665433548828, 1.0285149153050568, 1.0289328138603551, 1.0328874084393884, 1.0380040110515796, 1.0392337866115444, 1.043858241569064, 1.0452460257691574, 1.0455972523236348, 1.0507828610115526, 1.0603117708855303, 1.0749118293802746, 1.0832963907666795, 1.0908360413461899, 1.0918044736999619, 1.1164628375669143, 1.1211567674540623, 1.1264916847098598, 1.1280293856814068, 1.139674923565648, 1.1426170853094795, 1.1426839964181883, 1.1678344510822116, 1.1796916146048801, 1.1819821809681859, 1.1869524039177513, 1.1900847570943536, 1.2054564221172013, 1.2070479416791291, 1.2074284743094084, 1.2180104364722939, 1.2214284796421859, 1.2220443126943186, 1.2255615966847277, 1.2283162887890546, 1.2289551083298815, 1.2313924458089855, 1.2339431155964724, 1.2358193061359153, 1.2479926347928716, 1.2490506523853124, 1.2584249663788702, 1.259820800895312, 1.2602850133162171, 1.2604336341938092, 1.2656615875553296, 1.269127395695874, 1.2781576567082327, 1.2831267083165938, 1.2832481180510724, 1.2835223354180303, 1.2918201058605991, 1.2933537180194334, 1.2953269010708017, 1.300224085488366, 1.309436975699912, 1.3097959071503431, 1.3103117795506909, 1.3245885599341916, 1.3272930168468666, 1.3303579977878321, 1.3308513136130227, 1.3431297495888814, 1.3592804106290255, 1.3628825728751386, 1.369677460705643, 1.3719970120423488, 1.3882499714004644, 1.3925713833930764, 1.3993750915490988, 1.407247973267082, 1.4155085776629814, 1.4159349967881438, 1.4166242915905791, 1.4167992188619616, 1.4168064316868147, 1.4192945571179991, 1.4200723642898261, 1.4216785466784949, 1.4286204525085497, 1.4303994675621767, 1.4309993550784941, 1.4373614504486683, 1.4388521101673772, 1.4404425561072598, 1.4412806227861452, 1.4454304232196555, 1.448969758090078, 1.4518689842370229, 1.4523464313729608, 1.4606983260145692, 1.4648592474461823, 1.4703507604003867, 1.4785076560491683, 1.4809626041542743, 1.4809898421976102, 1.4825507260470581, 1.4951963809227631, 1.4997983093238063, 1.5017999365355956, 1.504023589804814, 1.5085217325499563, 1.5109419070285872, 1.5122484691544502, 1.5248843112915276, 1.5320566546259864, 1.5429736144785402, 1.5454910165398854, 1.5467220924666338, 1.5496408038615335, 1.5561890827015306, 1.558362803792543, 1.5585530981887927, 1.5609373914386411, 1.5675262331844793, 1.5698485523947148, 1.5708398903177356, 1.5769834080911018, 1.5978609014393532, 1.6053352267630288, 1.6071246176542469, 1.6100588789801493, 1.6153959292346463, 1.6170219292347203, 1.6237627498373453, 1.6253271514765357, 1.6281840953556137, 1.6301808173249701, 1.6319866100394818, 1.6332304520915679, 1.6347082992306916, 1.6377964820580921, 1.6390112744571663, 1.6462135300400058, 1.6465769549079143, 1.6512778722517565, 1.6533871397340447, 1.6551129050216362, 1.6620488525242667, 1.668832681658567, 1.6824889197681032, 1.6844452331620174, 1.698540133654316, 1.7012316335813851, 1.7101378515992314, 1.7133098276036023, 1.7139519787762336, 1.7221434995276999, 1.7299281230805963, 1.7457547974017371, 1.7563831003686623, 1.7908011877179324, 1.8008203721195422, 1.8037638677366041, 1.8091711552502734, 1.8146104876144449, 1.8267397577653592, 1.8314759023126237, 1.8372874404613879, 1.8517835798064375, 1.8595901061042899, 1.8743558546867685, 1.8765949735297263, 1.8939214609921908, 1.9103728864169249, 1.9204934810395773, 1.9316098471378167, 1.9881509154350026, 1.9910211170935623, 1.9995839592977118, 2.0013251076455272, 2.003621089361157, 2.0065229980637325, 2.0108447795094047, 2.0450596896701727, 2.0608842516645716, 2.148929938784081, 2.1994186420298023, 2.2037754574744182, 2.2070439676336737, 2.2199652000473553, 2.2262050687497354, 2.228344234542976, 2.2618771891005336, 2.2836824817969883, 2.2864207372615675, 2.2945868657773638, 2.2973169433823073, 2.2995535356627723, 2.3406761983327455, 2.3575462864760648, 2.3878276972612058, 2.3948276880972252, 2.39749039499551, 2.3992929960735836, 2.4204816744892272, 2.427417471560446, 2.4666821346194383, 2.5831420100806071, 2.7026331249382682, 2.8142168481737335, 2.8777847411508661, 2.9054338303708129, 2.9185926375745503, 2.9592180064279545, 2.9845863754137825, 3.0855252973866953, 3.1465981751298218, 3.2242058559798132, 3.3230026470805565, 3.4305341301484873, 3.7706371334409341, 3.8974088067904167, 4.0104752391697227, 4.3046255945293996, 4.3943352931739001, 4.3982248974387907, 4.567964043476934, 4.6653439379373287, 4.6660694347161433, 4.7029168320599224, 4.8305926385478557, 5.1011922737975608, 5.4101602070401666, 6.5136002589362887, 10.765517192842932]\n",
      "[0.067756355899970283]\n"
     ]
    },
    {
     "name": "stderr",
     "output_type": "stream",
     "text": [
      "\r",
      "  1%|▏                                         | 1/172 [00:00<00:51,  3.30it/s]"
     ]
    },
    {
     "name": "stdout",
     "output_type": "stream",
     "text": [
      "[0.21632640412932447, 0.069367219795691978, 1.0442853153735927, 0.99187090769253239, 0.57245245335518713, 0.35362641517219245, 0.58241178274908745, 0.74058360606286644, 0.45379063174370082, 0.81363110714847775, 0.67722011841192864, 0.59980099556466582, 1.333054566387561, 0.96072227051371006, 0.84383603499628423, 0.69026766864704325, 0.84251860478775487, 0.52292480805021269, 0.096774685102335875, 0.9819989298385563, 0.47043347566390381, 0.24166862100737238, 0.8236971432890029, 0.47539688736138991, 0.35775494975987804, 0.30049512531324518, 0.49418344526267383, 1.0236880940047208, 0.54621641402989762, 1.1331925038775581, 0.6394005924940438, 0.43288104029445368, 0.59207985684522479, 0.53980698160972107, 0.39014018092635988, 0.63440070449250074, 0.19923597404783625, 0.75600695511232308, 0.74572920301774415, 0.062880226565025274, 0.64137430627408143, 0.21977445203443211, 0.21109176251817144, 0.39813301217866903, 0.27485979115890741, 0.27291086701670125, 0.183793721224213, 0.36266610418981626, 0.56885327932914365, 0.42421389280135768, 0.89882657891663831, 0.067826437367819764, 0.07053243436801844, 0.25267443832622288, 0.27881387067276503, 0.36639893769295695, 1.9152044446796326, 1.360791164048504, 0.41647378114841221, 0.053250929459547548, 0.40015828398654296, 0.36050492601173056, 0.79226300966740326, 0.8125042323758741, 0.41501923635691229, 0.086586530429116348, 0.27404357421211867, 0.32323910038245263, 0.4009678348985134, 0.70743576392158858, 0.46147613225060785, 0.68643934902293768, 0.55937652854292086, 0.76351266856906452, 0.95665663001105228, 0.58359542293732802, 0.78526115027204901, 0.75422707768802943, 1.1174510409175129, 0.053311401259911781, 0.15598455335255368, 0.07466822388159515, 0.83072449516191849, 0.92056178769208563, 0.78315011423266634, 0.37826212968976886, 0.34857929166425672, 1.3837807763012553, 1.7167537608599173, 0.43763744692067469, 1.9437384351655826, 0.42047374367905993, 1.6015231751280763, 1.463394268552471, 2.6788658594222348, 2.0711031582362125, 0.76873986119250304, 0.25487839955456548, 0.22851544849728356, 0.77914199192214151, 1.1747877585063309, 0.78174621955951951, 0.17641586078308752, 0.56177472940194961, 0.16646835777414909, 0.7632284444730425, 1.8397695215843783, 0.3930603889747416, 1.0026694924154433, 1.1312406134871171, 0.38104175189240147, 0.49248505126182718, 0.18695551795362156, 1.0438539981830133, 0.43414084522461388, 1.034235107918509, 0.51790271380580855, 1.9909863386067019, 1.1840246216906476, 0.93724078593125248, 1.1662154199917432, 0.75666934231673755, 0.36943801111455055, 1.6272420123912072, 1.9606965253973012, 0.73743554466034444, 0.14479999618520881, 0.50082401660878695, 1.4867698695458904, 0.64258839277719115, 0.85194029707537222, 0.33907658076129171, 0.65556294600941389, 0.72117183288346765, 0.36106975332926683, 0.26323147932821339, 3.1572359270353112, 1.0120280679796043, 1.7305123699446647, 0.17355464298062098, 0.61175212325774009, 1.3538873020700986, 2.5008867645070314, 0.28121540225586406, 0.097510799003625664, 0.25417311995182379, 0.45898872734317891, 0.1113047748194595, 0.072950962425933658, 1.1292202851689845, 0.40356535287460993, 0.099926631617333866, 0.048911235924726466, 0.73149900671121038, 2.517313921378697, 0.44229369701525362, 0.75898338898266504, 1.2453148140590906, 0.57093904954155672, 1.5021514128243314, 2.708099241158207, 1.2373663265675563, 1.1901411191015583, 0.80747188689327587, 2.5693596150389544, 0.69819071730561055, 0.26131139289478122, 0.16406179481160821, 1.7375958343941222, 0.4601865383359518, 0.59048787509793266, 1.1561680242787107, 0.5527272935119838, 0.09877675380657662, 0.53173450173231351, 1.9153953614881181, 0.74703300174219178, 1.6750791972445194, 2.0568701272487977, 0.91155806512211535, 0.079843305575193521, 0.27861965246385739, 0.16687232927836743, 0.20188801844164911, 0.60084869385291517, 0.99316543416839409, 0.41586250833696747, 0.57663171813549519, 0.35022582824973664, 0.87579210759100223, 0.12899306850038367, 0.23481980600131233, 0.76554465528402715, 1.1139865343207893, 0.26861247056326004, 1.366242767713284, 0.624783382406909, 2.0116540565107872, 0.22377229176992686, 0.19509359150898459, 0.88606040141886155, 0.065247360695556103, 0.051890173864210708, 0.085459363363951726, 0.16100428013986701, 0.47356538246500313, 0.76960697294794866, 0.1433678145619075, 0.39353469720330991, 0.54728818468676987, 0.17359140378126631, 0.53903624540691308, 0.76857291754258705, 0.60975886708785454, 0.63289607851900809, 0.61865384490253672, 0.57051552615506684, 0.72860237882571088, 0.14163987891248844, 0.29510702382869369, 0.70746924927169719, 0.10877060146709359, 0.21880330353751806, 0.74764437423002728, 0.4202147308388357, 1.0506351392063185, 0.67612880459672087, 1.0634000241683566, 0.69577269563570354, 0.482481556041221, 0.46266779838809752, 3.2517539574327063, 3.9651108156697719, 2.0451896884709262, 3.8569340743242431, 2.0679125751573308, 0.71172691633997054, 1.0863970883984087, 2.4496718593268847, 3.8255690160616886, 1.8157197888194956, 1.2324031831606219, 2.80878182920187, 2.1223317118613387, 10.7907156926903, 1.8683272906463977, 1.6096892160700054, 1.5368563039092198, 3.691770682519627, 2.5287036697559655, 3.7872196186865414, 3.3197598059175579, 2.7040652607183109, 1.2496951031899191, 0.7703534708415376, 2.3317095016977767, 0.9913004002638246, 4.7893492138464611, 1.3826811645432691, 3.0388479611244703, 1.6656141971646317, 1.0968903678357091, 3.2990497540764352, 5.1354002521557511, 3.9857565805335353, 1.7824445635287818, 1.3870411709497568, 1.7847569214030841, 1.6694121559120336, 3.3203587296460242, 3.8382284474799588, 6.0917061952550267, 2.1304367331470591, 1.2783229243921654, 0.97289996190281725, 0.90319212226443391, 1.5481883425016254, 1.6340206803928816, 4.5254395281046227, 0.88509243236979207, 1.0670812043089999, 0.96804578853087908, 0.71258910599260938, 0.60761952708617806, 1.3167910976457691, 1.6848302704087439, 1.7307091928021334, 0.68035056058969356, 1.1444650383560844, 1.6820445262471611, 0.045829791303423739, 0.70342821885895124, 1.1144362550491664, 0.84446777145411334, 0.86762796796879749, 0.66875277160969959, 1.6223436110932341, 0.79310753638904141, 1.1454669192525198, 0.88876263904398967, 0.89257026401399009, 0.75339687995761917, 0.64774190324517655, 0.93166184538434227, 0.96860965914243125, 0.7580646062982922, 1.9499515400534173, 1.8086473782192536, 0.57974576499326658, 0.36265976628319258, 1.6462818757853244, 0.79424399568572268, 0.5270184614362905, 2.337838549884006, 0.76529541488022124, 1.0730384145036373, 0.95189881297846546, 0.75475671360064767, 0.88304245224331801, 1.3366465586868337, 1.3913965641924102, 1.8320028212100539, 0.61185855077888407, 0.61179291894035259, 0.98938301110568116, 0.68832045394176844, 1.0401046796417708, 1.4239450806884391, 0.56118295045309474, 0.55037180225191618, 0.23784260979668931, 0.42606123499869492, 0.50838818544718833, 0.54846052737602857]\n",
      "[0.045829791303423739, 0.048911235924726466, 0.051890173864210708, 0.053250929459547548, 0.053311401259911781, 0.062880226565025274, 0.065247360695556103, 0.067826437367819764, 0.069367219795691978, 0.07053243436801844, 0.072950962425933658, 0.07466822388159515, 0.079843305575193521, 0.085459363363951726, 0.086586530429116348, 0.096774685102335875, 0.097510799003625664, 0.09877675380657662, 0.099926631617333866, 0.10877060146709359, 0.1113047748194595, 0.12899306850038367, 0.14163987891248844, 0.1433678145619075, 0.14479999618520881, 0.15598455335255368, 0.16100428013986701, 0.16406179481160821, 0.16646835777414909, 0.16687232927836743, 0.17355464298062098, 0.17359140378126631, 0.17641586078308752, 0.183793721224213, 0.18695551795362156, 0.19509359150898459, 0.19923597404783625, 0.20188801844164911, 0.21109176251817144, 0.21632640412932447, 0.21880330353751806, 0.21977445203443211, 0.22377229176992686, 0.22851544849728356, 0.23481980600131233, 0.23784260979668931, 0.24166862100737238, 0.25267443832622288, 0.25417311995182379, 0.25487839955456548, 0.26131139289478122, 0.26323147932821339, 0.26861247056326004, 0.27291086701670125, 0.27404357421211867, 0.27485979115890741, 0.27861965246385739, 0.27881387067276503, 0.28121540225586406, 0.29510702382869369, 0.30049512531324518, 0.32323910038245263, 0.33907658076129171, 0.34857929166425672, 0.35022582824973664, 0.35362641517219245, 0.35775494975987804, 0.36050492601173056, 0.36106975332926683, 0.36265976628319258, 0.36266610418981626, 0.36639893769295695, 0.36943801111455055, 0.37826212968976886, 0.38104175189240147, 0.39014018092635988, 0.3930603889747416, 0.39353469720330991, 0.39813301217866903, 0.40015828398654296, 0.4009678348985134, 0.40356535287460993, 0.41501923635691229, 0.41586250833696747, 0.41647378114841221, 0.4202147308388357, 0.42047374367905993, 0.42421389280135768, 0.42606123499869492, 0.43288104029445368, 0.43414084522461388, 0.43763744692067469, 0.44229369701525362, 0.45379063174370082, 0.45898872734317891, 0.4601865383359518, 0.46147613225060785, 0.46266779838809752, 0.47043347566390381, 0.47356538246500313, 0.47539688736138991, 0.482481556041221, 0.49248505126182718, 0.49418344526267383, 0.50082401660878695, 0.50838818544718833, 0.51790271380580855, 0.52292480805021269, 0.5270184614362905, 0.53173450173231351, 0.53903624540691308, 0.53980698160972107, 0.54621641402989762, 0.54728818468676987, 0.54846052737602857, 0.55037180225191618, 0.5527272935119838, 0.55937652854292086, 0.56118295045309474, 0.56177472940194961, 0.56885327932914365, 0.57051552615506684, 0.57093904954155672, 0.57245245335518713, 0.57663171813549519, 0.57974576499326658, 0.58241178274908745, 0.58359542293732802, 0.59048787509793266, 0.59207985684522479, 0.59980099556466582, 0.60084869385291517, 0.60761952708617806, 0.60975886708785454, 0.61175212325774009, 0.61179291894035259, 0.61185855077888407, 0.61865384490253672, 0.624783382406909, 0.63289607851900809, 0.63440070449250074, 0.6394005924940438, 0.64137430627408143, 0.64258839277719115, 0.64774190324517655, 0.65556294600941389, 0.66875277160969959, 0.67612880459672087, 0.67722011841192864, 0.68035056058969356, 0.68643934902293768, 0.68832045394176844, 0.69026766864704325, 0.69577269563570354, 0.69819071730561055, 0.70342821885895124, 0.70743576392158858, 0.70746924927169719, 0.71172691633997054, 0.71258910599260938, 0.72117183288346765, 0.72860237882571088, 0.73149900671121038, 0.73743554466034444, 0.74058360606286644, 0.74572920301774415, 0.74703300174219178, 0.74764437423002728, 0.75339687995761917, 0.75422707768802943, 0.75475671360064767, 0.75600695511232308, 0.75666934231673755, 0.7580646062982922, 0.75898338898266504, 0.7632284444730425, 0.76351266856906452, 0.76529541488022124, 0.76554465528402715, 0.76857291754258705, 0.76873986119250304, 0.76960697294794866, 0.7703534708415376, 0.77914199192214151, 0.78174621955951951, 0.78315011423266634, 0.78526115027204901, 0.79226300966740326, 0.79310753638904141, 0.79424399568572268, 0.80747188689327587, 0.8125042323758741, 0.81363110714847775, 0.8236971432890029, 0.83072449516191849, 0.84251860478775487, 0.84383603499628423, 0.84446777145411334, 0.85194029707537222, 0.86762796796879749, 0.87579210759100223, 0.88304245224331801, 0.88509243236979207, 0.88606040141886155, 0.88876263904398967, 0.89257026401399009, 0.89882657891663831, 0.90319212226443391, 0.91155806512211535, 0.92056178769208563, 0.93166184538434227, 0.93724078593125248, 0.95189881297846546, 0.95665663001105228, 0.96072227051371006, 0.96804578853087908, 0.96860965914243125, 0.97289996190281725, 0.9819989298385563, 0.98938301110568116, 0.9913004002638246, 0.99187090769253239, 0.99316543416839409, 1.0026694924154433, 1.0120280679796043, 1.0236880940047208, 1.034235107918509, 1.0401046796417708, 1.0438539981830133, 1.0442853153735927, 1.0506351392063185, 1.0634000241683566, 1.0670812043089999, 1.0730384145036373, 1.0863970883984087, 1.0968903678357091, 1.1139865343207893, 1.1144362550491664, 1.1174510409175129, 1.1292202851689845, 1.1312406134871171, 1.1331925038775581, 1.1444650383560844, 1.1454669192525198, 1.1561680242787107, 1.1662154199917432, 1.1747877585063309, 1.1840246216906476, 1.1901411191015583, 1.2324031831606219, 1.2373663265675563, 1.2453148140590906, 1.2496951031899191, 1.2783229243921654, 1.3167910976457691, 1.333054566387561, 1.3366465586868337, 1.3538873020700986, 1.360791164048504, 1.366242767713284, 1.3826811645432691, 1.3837807763012553, 1.3870411709497568, 1.3913965641924102, 1.4239450806884391, 1.463394268552471, 1.4867698695458904, 1.5021514128243314, 1.5368563039092198, 1.5481883425016254, 1.6015231751280763, 1.6096892160700054, 1.6223436110932341, 1.6272420123912072, 1.6340206803928816, 1.6462818757853244, 1.6656141971646317, 1.6694121559120336, 1.6750791972445194, 1.6820445262471611, 1.6848302704087439, 1.7167537608599173, 1.7305123699446647, 1.7307091928021334, 1.7375958343941222, 1.7824445635287818, 1.7847569214030841, 1.8086473782192536, 1.8157197888194956, 1.8320028212100539, 1.8397695215843783, 1.8683272906463977, 1.9152044446796326, 1.9153953614881181, 1.9437384351655826, 1.9499515400534173, 1.9606965253973012, 1.9909863386067019, 2.0116540565107872, 2.0451896884709262, 2.0568701272487977, 2.0679125751573308, 2.0711031582362125, 2.1223317118613387, 2.1304367331470591, 2.3317095016977767, 2.337838549884006, 2.4496718593268847, 2.5008867645070314, 2.517313921378697, 2.5287036697559655, 2.5693596150389544, 2.6788658594222348, 2.7040652607183109, 2.708099241158207, 2.80878182920187, 3.0388479611244703, 3.1572359270353112, 3.2517539574327063, 3.2990497540764352, 3.3197598059175579, 3.3203587296460242, 3.691770682519627, 3.7872196186865414, 3.8255690160616886, 3.8382284474799588, 3.8569340743242431, 3.9651108156697719, 3.9857565805335353, 4.5254395281046227, 4.7893492138464611, 5.1354002521557511, 6.0917061952550267, 10.7907156926903]\n",
      "[0.045829791303423739]\n"
     ]
    },
    {
     "name": "stderr",
     "output_type": "stream",
     "text": [
      "\r",
      "  1%|▍                                         | 2/172 [00:00<00:51,  3.30it/s]"
     ]
    },
    {
     "name": "stdout",
     "output_type": "stream",
     "text": [
      "[1.4320247992521637, 1.220816181088682, 2.2687028373527935, 2.2163525846267222, 0.66082270399682408, 0.87873679841139019, 0.64875308768725015, 0.49347888584581356, 0.77134356024376882, 0.41163914384876232, 0.55129637511495266, 0.62563384802406374, 0.10800499097512321, 0.26440797714288744, 0.38358018412157013, 0.534970331768445, 0.38263790118085478, 0.70434504864891501, 1.3192522792335533, 0.24943242385641068, 0.77828899135797014, 1.4592812354809344, 2.0477193127422586, 1.69867935176846, 0.87466257262222691, 0.9319822575112422, 0.73813761183504734, 0.21461796074652573, 0.68354970364652312, 0.11320558437278905, 0.59407767357568941, 0.80198758966566164, 0.64235112655061977, 1.7624498014642624, 0.84168447154603943, 0.59687638626157802, 1.0413515175429393, 0.47933111153786684, 0.48738719226287547, 1.2148190275762549, 0.59024932034661903, 1.0176485746512274, 1.0256465885839532, 0.83559994281453187, 0.96176668549385014, 1.4920653844740193, 1.0577689830047399, 0.87312358017247038, 0.66546717103716413, 0.80982252133826504, 2.1230997297203635, 1.2151658400961745, 1.2494604941206295, 0.98517083726393195, 1.4997797998776445, 0.86673481719731771, 3.1402290867316225, 2.5856072400827679, 1.639561508908173, 1.1973390043147136, 0.83015588715360589, 0.87194535961135133, 0.44122781201467171, 0.42012599432988473, 0.81731493650656195, 1.2926516159826618, 0.95575646000037595, 0.91059318755934526, 1.6233707746473109, 0.5254941886807607, 0.768449864941953, 0.5450925558716514, 0.67221677112751599, 0.46971126683517639, 0.27987383341401373, 0.65017449198981903, 0.44763545137034738, 0.47983640385161791, 0.11665622476014342, 1.269428058795518, 1.0884432884693038, 1.1504789668704043, 0.39822560917920158, 0.30679576468514247, 0.44716946342536978, 0.84714096032689989, 0.88015393339737724, 0.41743304741652371, 0.51581866437525037, 0.81439338027339647, 0.71911876160186916, 0.82049602198214078, 0.41538933826787833, 2.6859217267960664, 3.9025822304018551, 3.2924388202796608, 0.48739341287982035, 1.0938638558335358, 1.2092920464956998, 0.51119003669690111, 0.090812829981186158, 0.4530750627491732, 1.3918146946744812, 0.67199830244520975, 1.0753924014486747, 1.9872136348637139, 3.0647643307003847, 0.84128487033213606, 2.2272344453498762, 0.12559186637417019, 0.85368723869927121, 1.7154189546496785, 1.4051150241747792, 2.2684454247987178, 1.6564864451027035, 2.2588241266746945, 1.7404552078067859, 3.2159691572939502, 2.4086447829528606, 2.1615584991076147, 2.3908114979658119, 1.9804919112078654, 0.86630380675384222, 2.852116913808088, 3.185691424599189, 0.49537520576596011, 1.0889942579700549, 0.73114078114677217, 0.26451496953568054, 0.58865411164405723, 0.37992178683506228, 0.8919062931286782, 0.57738484728116568, 1.9461705709736852, 0.86563896715523736, 1.4882887860656742, 4.382286324014836, 2.2371468104159309, 2.9556322044315038, 1.3980556924936414, 0.61382643116447622, 2.5790103450823829, 3.7260112984462221, 1.5063155129624652, 1.302586140998865, 1.4739098041259229, 0.77386716445505688, 1.1338485890189143, 1.1816114733957963, 0.11856901751136852, 1.6269885445580818, 1.3103907083426516, 1.2426960955722759, 1.9555253262626897, 3.7424321059584438, 0.7923658290257356, 0.47712016861631573, 2.4702840226055791, 1.7959000972116801, 2.7272387034390353, 3.9331610878724064, 2.4620343031943634, 0.035023635090946081, 2.0321107869410797, 3.7943928889599725, 0.53559226701917551, 0.97167420096951918, 1.380505054689896, 2.9626870855512495, 1.6826279303297089, 1.8141109322758329, 2.3809184893711373, 1.7758866142102463, 1.3039773010454243, 1.7559015261021396, 3.1403802979572721, 1.9708567571979909, 2.9000231451898228, 3.2818687645449538, 2.1356720500206237, 1.2647981832967266, 0.95943757597208468, 1.0754734023816503, 1.4180382613004001, 1.8240576133391708, 2.2176805529249983, 0.81788400811863249, 0.65682848902993485, 1.5724419571485586, 0.3587548694649898, 1.1163774341285408, 1.452369239370906, 1.9897460025908242, 2.3385748725058462, 1.4878804004904516, 2.5910733787561275, 0.60290950344604288, 0.80459838462437505, 1.0064413931546694, 1.4189149684026738, 0.3455173006285559, 1.1648283713171004, 1.2265535054979344, 1.1578969263759618, 1.0693004851458128, 0.75593920124390668, 0.46563605221890586, 1.0999185591814107, 0.84157256338598285, 0.68753130212756253, 1.0687121895269589, 0.69563055700632304, 0.46769922354822291, 0.62457357857051388, 0.60133754411852947, 1.8419193121888335, 0.66443489364495367, 0.50631670665914541, 1.3510599537771886, 1.5142153285043631, 1.9311091238352267, 1.3150798988032744, 1.4369712192860007, 0.48713990582372368, 1.6417309090684413, 0.19654554280879186, 0.5570496210090492, 1.3677252554595003, 0.97766971081453058, 1.2726281924501024, 1.0533439338609767, 4.4700460837377651, 2.7499412820939315, 0.86298762746796209, 2.7730448095799001, 0.92524212904848757, 1.6873187601568391, 2.1534145795111064, 1.5283707774582187, 2.8897454492248973, 2.34037307313758, 2.0525955952330226, 3.0207538156647162, 2.2889013521213064, 10.924485010089267, 2.3061679915696316, 1.027233973873199, 0.88196168096502914, 2.8480283786828888, 1.9876563878209821, 3.1241617894421996, 2.7600200501808203, 1.8826098377460079, 0.79498667206115881, 0.89944782949558155, 1.485639653281158, 1.6110056505677273, 4.5808836597760951, 1.1982560889140821, 3.0234427802091832, 1.982436800486469, 1.6081692030614638, 2.9401688537077626, 4.9665264190851008, 3.0969980917233135, 1.3676280835150925, 0.81793102038543253, 2.460283844943735, 2.2361188298128218, 2.5274149596240019, 3.4382816057705314, 5.6548669633068993, 2.445921484774185, 1.7417339066948727, 1.0012364313187263, 1.0945201350156208, 0.98002804078245698, 1.4603135652621593, 4.5880197664415334, 1.2111817424256963, 1.5627403945373752, 1.4618269810721003, 1.4058525882135549, 1.3707458203313219, 1.9663931267749954, 2.0953853231323034, 1.6675856960091582, 1.1144500442635654, 1.7215261326818925, 1.5317773227526603, 1.2698421718330211, 1.296735948528112, 1.3745270290179361, 1.4661914518079997, 1.8194496459140681, 1.641518328464594, 2.7109888710270247, 0.77146617982265409, 1.0615552510516235, 1.3546485307751357, 1.0516890077799701, 1.2929889138912103, 1.4789468415234588, 1.2661634664739969, 0.425746931105556, 0.68137817125577105, 1.8837522440527019, 1.5206933814915125, 0.97287567062197744, 1.2861432284756735, 0.90162256776149108, 1.102131669857598, 1.3972744716439998, 1.76670726243051, 1.7752306926229362, 2.1825675042498025, 0.40112083701034323, 0.99766172759422234, 0.71147399570944903, 0.13271382804917453, 0.17949148819489935, 0.6100582408142321, 0.62103664405781256, 0.62095069444255646, 0.24722391129189372, 0.54080409256712525, 0.19880845130503622, 0.2063681371675111, 0.66839500365892968, 0.67950346390635041, 1.4562867762281677, 0.80879078666572857, 1.7317083258264561, 0.68597261067246162]\n",
      "[0.035023635090946081, 0.090812829981186158, 0.10800499097512321, 0.11320558437278905, 0.11665622476014342, 0.11856901751136852, 0.12559186637417019, 0.13271382804917453, 0.17949148819489935, 0.19654554280879186, 0.19880845130503622, 0.2063681371675111, 0.21461796074652573, 0.24722391129189372, 0.24943242385641068, 0.26440797714288744, 0.26451496953568054, 0.27987383341401373, 0.30679576468514247, 0.3455173006285559, 0.3587548694649898, 0.37992178683506228, 0.38263790118085478, 0.38358018412157013, 0.39822560917920158, 0.40112083701034323, 0.41163914384876232, 0.41538933826787833, 0.41743304741652371, 0.42012599432988473, 0.425746931105556, 0.44122781201467171, 0.44716946342536978, 0.44763545137034738, 0.4530750627491732, 0.46563605221890586, 0.46769922354822291, 0.46971126683517639, 0.47712016861631573, 0.47933111153786684, 0.47983640385161791, 0.48713990582372368, 0.48738719226287547, 0.48739341287982035, 0.49347888584581356, 0.49537520576596011, 0.50631670665914541, 0.51119003669690111, 0.51581866437525037, 0.5254941886807607, 0.534970331768445, 0.53559226701917551, 0.54080409256712525, 0.5450925558716514, 0.55129637511495266, 0.5570496210090492, 0.57738484728116568, 0.58865411164405723, 0.59024932034661903, 0.59407767357568941, 0.59687638626157802, 0.60133754411852947, 0.60290950344604288, 0.6100582408142321, 0.61382643116447622, 0.62095069444255646, 0.62103664405781256, 0.62457357857051388, 0.62563384802406374, 0.64235112655061977, 0.64875308768725015, 0.65017449198981903, 0.65682848902993485, 0.66082270399682408, 0.66443489364495367, 0.66546717103716413, 0.66839500365892968, 0.67199830244520975, 0.67221677112751599, 0.67950346390635041, 0.68137817125577105, 0.68354970364652312, 0.68597261067246162, 0.68753130212756253, 0.69563055700632304, 0.70434504864891501, 0.71147399570944903, 0.71911876160186916, 0.73114078114677217, 0.73813761183504734, 0.75593920124390668, 0.768449864941953, 0.77134356024376882, 0.77146617982265409, 0.77386716445505688, 0.77828899135797014, 0.7923658290257356, 0.79498667206115881, 0.80198758966566164, 0.80459838462437505, 0.80879078666572857, 0.80982252133826504, 0.81439338027339647, 0.81731493650656195, 0.81788400811863249, 0.81793102038543253, 0.82049602198214078, 0.83015588715360589, 0.83559994281453187, 0.84128487033213606, 0.84157256338598285, 0.84168447154603943, 0.84714096032689989, 0.85368723869927121, 0.86298762746796209, 0.86563896715523736, 0.86630380675384222, 0.86673481719731771, 0.87194535961135133, 0.87312358017247038, 0.87466257262222691, 0.87873679841139019, 0.88015393339737724, 0.88196168096502914, 0.8919062931286782, 0.89944782949558155, 0.90162256776149108, 0.91059318755934526, 0.92524212904848757, 0.9319822575112422, 0.95575646000037595, 0.95943757597208468, 0.96176668549385014, 0.97167420096951918, 0.97287567062197744, 0.97766971081453058, 0.98002804078245698, 0.98517083726393195, 0.99766172759422234, 1.0012364313187263, 1.0064413931546694, 1.0176485746512274, 1.0256465885839532, 1.027233973873199, 1.0413515175429393, 1.0516890077799701, 1.0533439338609767, 1.0577689830047399, 1.0615552510516235, 1.0687121895269589, 1.0693004851458128, 1.0753924014486747, 1.0754734023816503, 1.0884432884693038, 1.0889942579700549, 1.0938638558335358, 1.0945201350156208, 1.0999185591814107, 1.102131669857598, 1.1144500442635654, 1.1163774341285408, 1.1338485890189143, 1.1504789668704043, 1.1578969263759618, 1.1648283713171004, 1.1816114733957963, 1.1973390043147136, 1.1982560889140821, 1.2092920464956998, 1.2111817424256963, 1.2148190275762549, 1.2151658400961745, 1.220816181088682, 1.2265535054979344, 1.2426960955722759, 1.2494604941206295, 1.2647981832967266, 1.2661634664739969, 1.269428058795518, 1.2698421718330211, 1.2726281924501024, 1.2861432284756735, 1.2926516159826618, 1.2929889138912103, 1.296735948528112, 1.302586140998865, 1.3039773010454243, 1.3103907083426516, 1.3150798988032744, 1.3192522792335533, 1.3510599537771886, 1.3546485307751357, 1.3676280835150925, 1.3677252554595003, 1.3707458203313219, 1.3745270290179361, 1.380505054689896, 1.3918146946744812, 1.3972744716439998, 1.3980556924936414, 1.4051150241747792, 1.4058525882135549, 1.4180382613004001, 1.4189149684026738, 1.4320247992521637, 1.4369712192860007, 1.452369239370906, 1.4562867762281677, 1.4592812354809344, 1.4603135652621593, 1.4618269810721003, 1.4661914518079997, 1.4739098041259229, 1.4789468415234588, 1.485639653281158, 1.4878804004904516, 1.4882887860656742, 1.4920653844740193, 1.4997797998776445, 1.5063155129624652, 1.5142153285043631, 1.5206933814915125, 1.5283707774582187, 1.5317773227526603, 1.5627403945373752, 1.5724419571485586, 1.6081692030614638, 1.6110056505677273, 1.6233707746473109, 1.6269885445580818, 1.639561508908173, 1.641518328464594, 1.6417309090684413, 1.6564864451027035, 1.6675856960091582, 1.6826279303297089, 1.6873187601568391, 1.69867935176846, 1.7154189546496785, 1.7215261326818925, 1.7317083258264561, 1.7404552078067859, 1.7417339066948727, 1.7559015261021396, 1.7624498014642624, 1.76670726243051, 1.7752306926229362, 1.7758866142102463, 1.7959000972116801, 1.8141109322758329, 1.8194496459140681, 1.8240576133391708, 1.8419193121888335, 1.8826098377460079, 1.8837522440527019, 1.9311091238352267, 1.9461705709736852, 1.9555253262626897, 1.9663931267749954, 1.9708567571979909, 1.9804919112078654, 1.982436800486469, 1.9872136348637139, 1.9876563878209821, 1.9897460025908242, 2.0321107869410797, 2.0477193127422586, 2.0525955952330226, 2.0953853231323034, 2.1230997297203635, 2.1356720500206237, 2.1534145795111064, 2.1615584991076147, 2.1825675042498025, 2.2163525846267222, 2.2176805529249983, 2.2272344453498762, 2.2361188298128218, 2.2371468104159309, 2.2588241266746945, 2.2684454247987178, 2.2687028373527935, 2.2889013521213064, 2.3061679915696316, 2.3385748725058462, 2.34037307313758, 2.3809184893711373, 2.3908114979658119, 2.4086447829528606, 2.445921484774185, 2.460283844943735, 2.4620343031943634, 2.4702840226055791, 2.5274149596240019, 2.5790103450823829, 2.5856072400827679, 2.5910733787561275, 2.6859217267960664, 2.7109888710270247, 2.7272387034390353, 2.7499412820939315, 2.7600200501808203, 2.7730448095799001, 2.8480283786828888, 2.852116913808088, 2.8897454492248973, 2.9000231451898228, 2.9401688537077626, 2.9556322044315038, 2.9626870855512495, 3.0207538156647162, 3.0234427802091832, 3.0647643307003847, 3.0969980917233135, 3.1241617894421996, 3.1402290867316225, 3.1403802979572721, 3.185691424599189, 3.2159691572939502, 3.2818687645449538, 3.2924388202796608, 3.4382816057705314, 3.7260112984462221, 3.7424321059584438, 3.7943928889599725, 3.9025822304018551, 3.9331610878724064, 4.382286324014836, 4.4700460837377651, 4.5808836597760951, 4.5880197664415334, 4.9665264190851008, 5.6548669633068993, 10.924485010089267]\n",
      "[0.035023635090946081]\n"
     ]
    },
    {
     "name": "stderr",
     "output_type": "stream",
     "text": [
      "\r",
      "  2%|▋                                         | 3/172 [00:00<00:51,  3.29it/s]"
     ]
    },
    {
     "name": "stdout",
     "output_type": "stream",
     "text": [
      "[0.3000117834752975, 0.11636114089862171, 1.1268519603681504, 1.0744191680349549, 0.49479775996698239, 0.278571783520563, 0.50410743956175375, 0.66189412129792413, 0.3728251711912442, 0.73255722806009094, 0.59467905802545362, 0.51810059414273379, 1.2515634301289931, 0.87934439893878746, 0.76169348054663111, 0.60875056052235332, 0.76129351556606506, 0.44041624210961944, 0.17553458556488954, 0.89966264259411521, 0.38654093650507909, 0.32552940084210669, 0.90651585387478384, 0.55867861494589544, 0.28263951970479928, 0.22688720660477951, 0.4169990682993221, 0.94391539751655096, 0.46773390632891271, 1.0531195536604925, 0.56126323025166414, 0.35739175949824703, 0.51454116717035325, 0.62318159095628323, 0.31413810757427235, 0.55578273541140988, 0.1383423948239946, 0.67743173593427064, 0.66684615189768681, 0.10713851605107301, 0.5627975665452184, 0.15404592024491628, 0.14564809492120287, 0.32281648695828857, 0.20479282868721241, 0.35681449580902586, 0.12608933772363776, 0.28899262331147385, 0.49149994666981189, 0.34856308572690031, 0.98150955122029082, 0.11106835183208309, 0.1353344971459346, 0.18466207342488894, 0.36265449600961758, 0.29144500959625774, 1.9971815808541291, 1.4430412461244893, 0.49986368886317595, 0.083462907634639358, 0.32330037121299965, 0.28534811675534649, 0.71319032040425367, 0.73319719841912057, 0.33884378225629047, 0.16595961226303022, 0.19941667013806808, 0.24970901153888309, 0.48451373129284891, 0.62873834124289329, 0.3837427990596205, 0.60757628079494641, 0.48136749150471797, 0.68455038785329148, 0.87709986063265877, 0.5059700505643796, 0.70613059779569909, 0.67545695806953177, 1.0369348997695298, 0.1350400380205567, 0.076913380867419015, 0.022340340738099238, 0.7507230566326224, 0.83851905001029692, 0.70358095938049414, 0.29817393780414991, 0.27158601988514725, 1.3000459708341272, 1.6335747519724721, 0.35385490794032043, 1.8619180375564246, 0.33657706064619936, 1.5181589098389481, 1.5431549573577719, 2.7592771813807748, 2.1505117893500745, 0.68500247047675722, 0.19835076942543525, 0.21063318351144622, 0.69525725814215167, 1.0948863768155084, 0.70293521678752013, 0.25990770150618009, 0.48434659732431801, 0.11243626285899999, 0.84608919408963401, 1.9217915596459199, 0.31809209730006072, 1.0851674962849154, 1.0515624872680154, 0.30648115493735234, 0.57583655377174447, 0.27076303412975183, 1.1263246908029929, 0.51766340769825125, 1.116709865566087, 0.60131277647478898, 2.0730114065166321, 1.2664439654790451, 1.0198894339109046, 1.2486532823355021, 0.83959256559431605, 0.29557369405693679, 1.7094075167967413, 2.0427093260949065, 0.65854394732058663, 0.086364397742081392, 0.4234529803858228, 1.4059626346255725, 0.56391200127633101, 0.77234045502002924, 0.26359677363984657, 0.57719635447724449, 0.80338972490114702, 0.28248112060626579, 0.34496313567560855, 3.2386117389211488, 1.0938883786334725, 1.8122876638983367, 0.25686338978949286, 0.53118555113100197, 1.4355223258735514, 2.5824797189717117, 0.36355485083624345, 0.17705486579829616, 0.33807456607711983, 0.38239975290409123, 0.081665758093979898, 0.085376731618464, 1.049232350310447, 0.48688298528658153, 0.18130062255724816, 0.11816723337327803, 0.81435974193256311, 2.5988697433289989, 0.36657814619854573, 0.6805077264667132, 1.3265997576569959, 0.65227779351774939, 1.5836404104981259, 2.7895004010938633, 1.3183209161959764, 1.1087091551192012, 0.88839241945883629, 2.6507128718184134, 0.61971412798622016, 0.18953447568442738, 0.24762004617137026, 1.8194663031965603, 0.54366753547638824, 0.67357660922821572, 1.2385060495730653, 0.63597494405954103, 0.17841995914781292, 0.61466544910311305, 1.9974234399796487, 0.82996067222596337, 1.7571735700980275, 2.1388717957395764, 0.99430516674435099, 0.14942955853009285, 0.20919419176861181, 0.11322151946805005, 0.28556939228852818, 0.68404826867034974, 1.0756948765327361, 0.3402395531169804, 0.49898858140819591, 0.43385767389680907, 0.79643749787151197, 0.09062444408232978, 0.31866990669267969, 0.84831558072662572, 1.1964411762791167, 0.35251588618056529, 1.448480184044677, 0.54517750305357782, 1.928465524778842, 0.15156114984817212, 0.27863428012443697, 0.80627997653587768, 0.048693150043951298, 0.10872927214961982, 0.072116620684490082, 0.094410185798214807, 0.39554674273119589, 0.69093256786967316, 0.097140101995187814, 0.31886531029633358, 0.47027826748930041, 0.11846539594459908, 0.46207297087092164, 0.69006012681596973, 0.53204498423911317, 0.5549734078556815, 0.70182641572500792, 0.49330376746605281, 0.65013378611904515, 0.22369427887498852, 0.37900747635069038, 0.79047897695635927, 0.18916555843980593, 0.30266298391516744, 0.66903251677610487, 0.50387222091350303, 0.97122926419762967, 0.59767524365510616, 1.0233628022624821, 0.63312051256776236, 0.46193390325897465, 0.40673773117391931, 3.3304102690975852, 3.8819286116403489, 1.9614760503153128, 3.7742466734778377, 1.9840091914070062, 0.73825381566637982, 1.1351767723997239, 2.3695991895077126, 3.7470000423699346, 1.8107218214350982, 1.2493589333302249, 2.7872019903104115, 2.0923529320660239, 10.775770066556792, 1.8564267769958722, 1.5348026248800686, 1.4590960198077632, 3.6162767462919563, 2.4621545689490674, 3.7192418803869924, 3.2553593630047595, 2.6275160585524211, 1.1734994784118491, 0.70196662098629559, 2.2533534323410365, 0.97892638655139763, 4.7471337377780749, 1.3202825007591401, 3.0031636456615978, 1.6410974398265565, 1.0767338002267743, 3.2445275385220755, 5.0961722863094074, 3.9089623847688668, 1.7156975594445554, 1.3097967080537523, 1.7935645032549361, 1.6664036881728224, 3.2461660919787767, 3.783158611176499, 6.0382236825287192, 2.1114917906975128, 1.2586738135899391, 0.9093905823945706, 0.84718525724565985, 1.4730552903607821, 1.5767499947115606, 4.4997463887321709, 0.83894655594223766, 1.0444140629291832, 0.94149990469735656, 0.69621409903265996, 0.59412468026624832, 1.3161982245072326, 1.6682271942052445, 1.6810878893930101, 0.63070403786233464, 1.1323332286065595, 1.6267628664822935, 0.12659872998719776, 0.67363698071111655, 1.0726741570559974, 0.82629225627553526, 0.89478275251790051, 0.69326012712424334, 1.6780375025077361, 0.71747563834401196, 1.0820929340398751, 0.85585444360740048, 0.83367117585108963, 0.72066381311996697, 0.64754659286941774, 0.8885956602981131, 0.88497876586729451, 0.67794562367290834, 1.9029810644541951, 1.7479777036291499, 0.51586931855370688, 0.35465490133451111, 1.567225732802731, 0.74115356434941948, 0.52522445919805727, 2.2690283699516889, 0.79931300309733588, 1.1286886428053018, 0.86805671536882112, 0.69354282574005122, 0.80549211990849434, 1.2565329250816564, 1.3111602476054331, 1.7514613294131991, 0.53379003345969922, 0.53368816923463736, 0.90966390605676972, 0.60888192491472626, 0.96028098903821912, 1.3434575055337887, 0.48253850393092357, 0.47189726396144882, 0.32172976273191073, 0.35068139376412294, 0.59163012823170613, 0.47133647551247004]\n",
      "[0.022340340738099238, 0.048693150043951298, 0.072116620684490082, 0.076913380867419015, 0.081665758093979898, 0.083462907634639358, 0.085376731618464, 0.086364397742081392, 0.09062444408232978, 0.094410185798214807, 0.097140101995187814, 0.10713851605107301, 0.10872927214961982, 0.11106835183208309, 0.11243626285899999, 0.11322151946805005, 0.11636114089862171, 0.11816723337327803, 0.11846539594459908, 0.12608933772363776, 0.12659872998719776, 0.1350400380205567, 0.1353344971459346, 0.1383423948239946, 0.14564809492120287, 0.14942955853009285, 0.15156114984817212, 0.15404592024491628, 0.16595961226303022, 0.17553458556488954, 0.17705486579829616, 0.17841995914781292, 0.18130062255724816, 0.18466207342488894, 0.18916555843980593, 0.18953447568442738, 0.19835076942543525, 0.19941667013806808, 0.20479282868721241, 0.20919419176861181, 0.21063318351144622, 0.22369427887498852, 0.22688720660477951, 0.24762004617137026, 0.24970901153888309, 0.25686338978949286, 0.25990770150618009, 0.26359677363984657, 0.27076303412975183, 0.27158601988514725, 0.278571783520563, 0.27863428012443697, 0.28248112060626579, 0.28263951970479928, 0.28534811675534649, 0.28556939228852818, 0.28899262331147385, 0.29144500959625774, 0.29557369405693679, 0.29817393780414991, 0.3000117834752975, 0.30266298391516744, 0.30648115493735234, 0.31413810757427235, 0.31809209730006072, 0.31866990669267969, 0.31886531029633358, 0.32172976273191073, 0.32281648695828857, 0.32330037121299965, 0.32552940084210669, 0.33657706064619936, 0.33807456607711983, 0.33884378225629047, 0.3402395531169804, 0.34496313567560855, 0.34856308572690031, 0.35068139376412294, 0.35251588618056529, 0.35385490794032043, 0.35465490133451111, 0.35681449580902586, 0.35739175949824703, 0.36265449600961758, 0.36355485083624345, 0.36657814619854573, 0.3728251711912442, 0.37900747635069038, 0.38239975290409123, 0.3837427990596205, 0.38654093650507909, 0.39554674273119589, 0.40673773117391931, 0.4169990682993221, 0.4234529803858228, 0.43385767389680907, 0.44041624210961944, 0.46193390325897465, 0.46207297087092164, 0.46773390632891271, 0.47027826748930041, 0.47133647551247004, 0.47189726396144882, 0.48136749150471797, 0.48253850393092357, 0.48434659732431801, 0.48451373129284891, 0.48688298528658153, 0.49149994666981189, 0.49330376746605281, 0.49479775996698239, 0.49898858140819591, 0.49986368886317595, 0.50387222091350303, 0.50410743956175375, 0.5059700505643796, 0.51454116717035325, 0.51586931855370688, 0.51766340769825125, 0.51810059414273379, 0.52522445919805727, 0.53118555113100197, 0.53204498423911317, 0.53368816923463736, 0.53379003345969922, 0.54366753547638824, 0.54517750305357782, 0.5549734078556815, 0.55578273541140988, 0.55867861494589544, 0.56126323025166414, 0.5627975665452184, 0.56391200127633101, 0.57583655377174447, 0.57719635447724449, 0.59163012823170613, 0.59412468026624832, 0.59467905802545362, 0.59767524365510616, 0.60131277647478898, 0.60757628079494641, 0.60875056052235332, 0.60888192491472626, 0.61466544910311305, 0.61971412798622016, 0.62318159095628323, 0.62873834124289329, 0.63070403786233464, 0.63312051256776236, 0.63597494405954103, 0.64754659286941774, 0.65013378611904515, 0.65227779351774939, 0.65854394732058663, 0.66189412129792413, 0.66684615189768681, 0.66903251677610487, 0.67357660922821572, 0.67363698071111655, 0.67545695806953177, 0.67743173593427064, 0.67794562367290834, 0.6805077264667132, 0.68404826867034974, 0.68455038785329148, 0.68500247047675722, 0.69006012681596973, 0.69093256786967316, 0.69326012712424334, 0.69354282574005122, 0.69525725814215167, 0.69621409903265996, 0.70182641572500792, 0.70196662098629559, 0.70293521678752013, 0.70358095938049414, 0.70613059779569909, 0.71319032040425367, 0.71747563834401196, 0.72066381311996697, 0.73255722806009094, 0.73319719841912057, 0.73825381566637982, 0.74115356434941948, 0.7507230566326224, 0.76129351556606506, 0.76169348054663111, 0.77234045502002924, 0.79047897695635927, 0.79643749787151197, 0.79931300309733588, 0.80338972490114702, 0.80549211990849434, 0.80627997653587768, 0.81435974193256311, 0.82629225627553526, 0.82996067222596337, 0.83367117585108963, 0.83851905001029692, 0.83894655594223766, 0.83959256559431605, 0.84608919408963401, 0.84718525724565985, 0.84831558072662572, 0.85585444360740048, 0.86805671536882112, 0.87709986063265877, 0.87934439893878746, 0.88497876586729451, 0.88839241945883629, 0.8885956602981131, 0.89478275251790051, 0.89966264259411521, 0.90651585387478384, 0.9093905823945706, 0.90966390605676972, 0.94149990469735656, 0.94391539751655096, 0.96028098903821912, 0.97122926419762967, 0.97892638655139763, 0.98150955122029082, 0.99430516674435099, 1.0198894339109046, 1.0233628022624821, 1.0369348997695298, 1.0444140629291832, 1.049232350310447, 1.0515624872680154, 1.0531195536604925, 1.0726741570559974, 1.0744191680349549, 1.0756948765327361, 1.0767338002267743, 1.0820929340398751, 1.0851674962849154, 1.0938883786334725, 1.0948863768155084, 1.1087091551192012, 1.116709865566087, 1.1263246908029929, 1.1268519603681504, 1.1286886428053018, 1.1323332286065595, 1.1351767723997239, 1.1734994784118491, 1.1964411762791167, 1.2385060495730653, 1.2486532823355021, 1.2493589333302249, 1.2515634301289931, 1.2565329250816564, 1.2586738135899391, 1.2664439654790451, 1.3000459708341272, 1.3097967080537523, 1.3111602476054331, 1.3161982245072326, 1.3183209161959764, 1.3202825007591401, 1.3265997576569959, 1.3434575055337887, 1.4059626346255725, 1.4355223258735514, 1.4430412461244893, 1.448480184044677, 1.4590960198077632, 1.4730552903607821, 1.5181589098389481, 1.5348026248800686, 1.5431549573577719, 1.567225732802731, 1.5767499947115606, 1.5836404104981259, 1.6267628664822935, 1.6335747519724721, 1.6410974398265565, 1.6664036881728224, 1.6682271942052445, 1.6780375025077361, 1.6810878893930101, 1.7094075167967413, 1.7156975594445554, 1.7479777036291499, 1.7514613294131991, 1.7571735700980275, 1.7935645032549361, 1.8107218214350982, 1.8122876638983367, 1.8194663031965603, 1.8564267769958722, 1.8619180375564246, 1.9029810644541951, 1.9217915596459199, 1.928465524778842, 1.9614760503153128, 1.9840091914070062, 1.9971815808541291, 1.9974234399796487, 2.0427093260949065, 2.0730114065166321, 2.0923529320660239, 2.1114917906975128, 2.1388717957395764, 2.1505117893500745, 2.2533534323410365, 2.2690283699516889, 2.3695991895077126, 2.4621545689490674, 2.5824797189717117, 2.5988697433289989, 2.6275160585524211, 2.6507128718184134, 2.7592771813807748, 2.7872019903104115, 2.7895004010938633, 3.0031636456615978, 3.2386117389211488, 3.2445275385220755, 3.2461660919787767, 3.2553593630047595, 3.3304102690975852, 3.6162767462919563, 3.7192418803869924, 3.7470000423699346, 3.7742466734778377, 3.783158611176499, 3.8819286116403489, 3.9089623847688668, 4.4997463887321709, 4.7471337377780749, 5.0961722863094074, 6.0382236825287192, 10.775770066556792]\n",
      "[0.022340340738099238]\n"
     ]
    },
    {
     "name": "stderr",
     "output_type": "stream",
     "text": [
      "\r",
      "  2%|▉                                         | 4/172 [00:01<00:50,  3.32it/s]"
     ]
    },
    {
     "name": "stdout",
     "output_type": "stream",
     "text": [
      "[0.85345254865487019, 0.64287969800517542, 1.6892731979002602, 1.6369018224952518, 0.10419654806200798, 0.30293571690394866, 0.089369418428933672, 0.11626845044542417, 0.19173254372633336, 0.16825414023787036, 0.055184886143986707, 0.048124659517206549, 0.6875497211970707, 0.31520924367095488, 0.2007791075617551, 0.045595024396314986, 0.19701523486690894, 0.1291422988353399, 0.73983025211365583, 0.33903023227124984, 0.22340984960362112, 0.88056833801509393, 1.4683696909345105, 1.1194011046279682, 0.29898957419837663, 0.35515035046963617, 0.16840116540030153, 0.38182102766384368, 0.11445602292884352, 0.48991687911418835, 0.071459969282637939, 0.23080440485251619, 0.094755890592327641, 1.1833294427227028, 0.26651843335021785, 0.062185016730899434, 0.4646343439480275, 0.1310690744377212, 0.11830187482709061, 0.63655684932617296, 0.062673635256448118, 0.44073795131742433, 0.44843690887236326, 0.26195694906067857, 0.38581399898622126, 0.91323170181036217, 0.48087983949192348, 0.29938151092917914, 0.11023483545032547, 0.23752085029119127, 1.543695715018331, 0.63713885575694285, 0.67131081677583648, 0.40905028133994153, 0.92071181066532415, 0.29167867383068991, 2.560644083397388, 2.006078406588415, 1.0602906379584656, 0.61845606122960806, 0.25423206715981206, 0.29635816306310397, 0.1589628764909376, 0.17625895788908144, 0.24331379867027891, 0.71394833511656253, 0.37763878164489578, 0.3347633002742505, 1.0442095434597856, 0.089475724909965804, 0.19404913615049024, 0.072288902208719918, 0.10895600947305725, 0.13333928960405866, 0.31620183359251786, 0.097939815132724539, 0.15181674451507138, 0.12716613739625671, 0.47298036053940945, 0.69008159647716594, 0.51156992033508264, 0.5708670810437575, 0.18926488539371533, 0.27644681180908615, 0.14588655798903422, 0.267676422390413, 0.30238573824331222, 0.79011129071074149, 1.0773604566528978, 0.25715871094083159, 1.298392296970617, 0.25371112906539661, 0.96465447929955284, 2.1072169166317463, 3.3235493113629593, 2.7142605421756953, 0.17559254887707376, 0.53608718690824697, 0.64920700126827524, 0.22600384099674242, 0.53198857984668602, 0.15169203466015443, 0.81311097522532327, 0.11389431455297831, 0.49818326361272097, 1.4078634519771727, 2.4851880009900262, 0.267846876712169, 1.6477621454834188, 0.48934406211333775, 0.28002718184743752, 1.1362158674916536, 0.82618075931028434, 1.688968378431398, 1.0773593028570039, 1.6793471993813078, 1.1613413487851332, 2.6363974603000346, 1.829166686850352, 1.5821467057251759, 1.8113394080301279, 1.4011799133451435, 0.2927867469441553, 2.2725752674838242, 2.606115778181548, 0.11096855278269874, 0.51043529955103017, 0.16146463753496915, 0.84168300775135563, 0.060645024404794128, 0.21256039454271294, 0.31511857062763704, 0.068622316695345006, 1.3665812107995032, 0.28688479684843993, 0.90869401659595106, 3.8027152623578693, 1.6575354985107804, 2.3760210305450098, 0.81849129483654492, 0.037463153371547257, 1.9994033984564366, 3.1464037559314439, 0.92670464287299881, 0.72405054977661487, 0.89496154562564079, 0.20236158060321738, 0.5558727372896719, 0.60326508805132506, 0.48622635229452033, 1.0476530238266442, 0.73159565649825464, 0.66376924363719181, 1.3761598883183552, 3.1628282459533379, 0.22155323014565537, 0.13488331638044157, 1.8907353501793436, 1.2163380591309956, 2.147647845437024, 3.3535840624950555, 1.8825881018383994, 0.54462822575742997, 1.4526497631415187, 3.2148280800018316, 0.086585521101609456, 0.39437417110518075, 0.80165379528191583, 2.3830824961314017, 1.1035007355004691, 1.2348047447096313, 1.8014026909188805, 1.1966652642046132, 0.7254494145044269, 1.1764682556032389, 2.560807476589563, 1.3915425728464876, 2.3204610072737575, 2.702292463725271, 1.5563109058042497, 0.68675561852525235, 0.38402023733057922, 0.49833757093950742, 0.83936182817189808, 1.2448442318260449, 1.6382209503533327, 0.24497614127772113, 0.10175676940609528, 0.99327112477783086, 0.23753629324137238, 0.53877870931669092, 0.87364416427526181, 1.4103439401024938, 1.7591023839519684, 0.90902252855459675, 2.011540421395551, 0.04459570838722815, 1.3718061796160135, 0.42799046249387279, 0.83942274009280282, 0.2451359852534869, 0.58543333468982095, 0.64785753487417819, 0.57934817826348506, 0.49041576423432054, 0.18154355184858204, 0.14204849582184803, 0.52241248745857982, 0.26864229771677672, 0.12841588371860671, 0.49171339049070012, 0.13473484794587165, 0.14294507901046549, 0.084641648797349256, 0.075884978230488703, 1.2626998597302119, 0.1109957003706771, 0.10930225549571074, 0.77266177269839942, 0.9354340855669685, 1.3518300285670874, 0.73659764675715367, 0.85812810377419513, 0.12332821475213022, 1.0627419447764754, 0.41023119615442599, 0.074227081702170003, 1.0715562982239371, 0.59954598887356736, 0.76821728526748578, 0.55892973502001431, 3.8932225886005325, 3.3240376648403576, 1.4134146290321619, 3.2738373404020393, 1.4494359926600977, 1.1690463117707091, 1.6213631490526146, 1.9229678513831816, 3.3095703825488529, 2.0185775854289614, 1.6019478975170436, 2.8584928785845798, 2.1262354374068484, 10.845013874502794, 2.020574688757264, 1.1872012012073372, 1.0745414422620201, 3.2173940551379601, 2.176238154849913, 3.3998791097922818, 2.9762548538249769, 2.2260727314925433, 0.83606906720574836, 0.57778679653268827, 1.8339048293336166, 1.2082737917676107, 4.6413682933607143, 1.135243008974568, 2.9692263581443932, 1.7354924155875888, 1.2488434088383034, 3.0552863667729326, 5.0107681423141175, 3.4927721207444584, 1.4549196964788034, 0.94336133895328111, 2.0796762632490009, 1.8925565850250166, 2.8655105911222756, 3.5819332442006826, 5.8344102247444622, 2.2201274999400087, 1.4140539003732899, 0.77664710415939431, 0.80269982863934808, 1.1258585354190414, 1.4195291015636586, 4.5181466398255106, 0.8779587719469244, 1.205461589107292, 1.0939778474574746, 0.95324303388853648, 0.88970188032128794, 1.5766233175870834, 1.81248909419249, 1.5845756956893662, 0.7073134065141633, 1.344995168978278, 1.4843129452431103, 0.69027871813422703, 0.86436043514903582, 1.1003255182424763, 1.0475466677531946, 1.3143505687750947, 1.1217049400014623, 2.1783241156462911, 0.48770959894537524, 0.91756719394272179, 0.98383573301738658, 0.76603881912568783, 0.88120437877345448, 0.98889577827002439, 0.93952395513697018, 0.40710363483317674, 0.37814672780202802, 1.8159119446432765, 1.54741348606636, 0.53323174901764725, 0.74851106071945095, 1.1566828100051356, 0.7520041979384352, 0.88704464039911013, 1.9644656831615555, 1.2507996522319789, 1.6375615961260095, 0.37383066464003939, 0.64872341349651996, 0.51218636259730943, 0.6930078488519551, 0.74741075433047621, 1.1872912232080779, 0.077890132808090512, 0.077290307021575258, 0.34792425109759895, 0.063386908767449984, 0.3979616796343734, 0.77939790634365891, 0.10073600054800554, 0.11112558847575107, 0.877462095293981, 0.2372211680555566, 1.1524364802168925, 0.12638424103197235]\n",
      "[0.037463153371547257, 0.04459570838722815, 0.045595024396314986, 0.048124659517206549, 0.055184886143986707, 0.060645024404794128, 0.062185016730899434, 0.062673635256448118, 0.063386908767449984, 0.068622316695345006, 0.071459969282637939, 0.072288902208719918, 0.074227081702170003, 0.075884978230488703, 0.077290307021575258, 0.077890132808090512, 0.084641648797349256, 0.086585521101609456, 0.089369418428933672, 0.089475724909965804, 0.094755890592327641, 0.097939815132724539, 0.10073600054800554, 0.10175676940609528, 0.10419654806200798, 0.10895600947305725, 0.10930225549571074, 0.11023483545032547, 0.11096855278269874, 0.1109957003706771, 0.11112558847575107, 0.11389431455297831, 0.11445602292884352, 0.11626845044542417, 0.11830187482709061, 0.12332821475213022, 0.12638424103197235, 0.12716613739625671, 0.12841588371860671, 0.1291422988353399, 0.1310690744377212, 0.13333928960405866, 0.13473484794587165, 0.13488331638044157, 0.14204849582184803, 0.14294507901046549, 0.14588655798903422, 0.15169203466015443, 0.15181674451507138, 0.1589628764909376, 0.16146463753496915, 0.16825414023787036, 0.16840116540030153, 0.17559254887707376, 0.17625895788908144, 0.18154355184858204, 0.18926488539371533, 0.19173254372633336, 0.19404913615049024, 0.19701523486690894, 0.2007791075617551, 0.20236158060321738, 0.21256039454271294, 0.22155323014565537, 0.22340984960362112, 0.22600384099674242, 0.23080440485251619, 0.2372211680555566, 0.23752085029119127, 0.23753629324137238, 0.24331379867027891, 0.24497614127772113, 0.2451359852534869, 0.25371112906539661, 0.25423206715981206, 0.25715871094083159, 0.26195694906067857, 0.26651843335021785, 0.267676422390413, 0.267846876712169, 0.26864229771677672, 0.27644681180908615, 0.28002718184743752, 0.28688479684843993, 0.29167867383068991, 0.2927867469441553, 0.29635816306310397, 0.29898957419837663, 0.29938151092917914, 0.30238573824331222, 0.30293571690394866, 0.31511857062763704, 0.31520924367095488, 0.31620183359251786, 0.3347633002742505, 0.33903023227124984, 0.34792425109759895, 0.35515035046963617, 0.37383066464003939, 0.37763878164489578, 0.37814672780202802, 0.38182102766384368, 0.38402023733057922, 0.38581399898622126, 0.39437417110518075, 0.3979616796343734, 0.40710363483317674, 0.40905028133994153, 0.41023119615442599, 0.42799046249387279, 0.44073795131742433, 0.44843690887236326, 0.4646343439480275, 0.47298036053940945, 0.48087983949192348, 0.48622635229452033, 0.48770959894537524, 0.48934406211333775, 0.48991687911418835, 0.49041576423432054, 0.49171339049070012, 0.49818326361272097, 0.49833757093950742, 0.51043529955103017, 0.51156992033508264, 0.51218636259730943, 0.52241248745857982, 0.53198857984668602, 0.53323174901764725, 0.53608718690824697, 0.53877870931669092, 0.54462822575742997, 0.5558727372896719, 0.55892973502001431, 0.5708670810437575, 0.57778679653268827, 0.57934817826348506, 0.58543333468982095, 0.59954598887356736, 0.60326508805132506, 0.61845606122960806, 0.63655684932617296, 0.63713885575694285, 0.64287969800517542, 0.64785753487417819, 0.64872341349651996, 0.64920700126827524, 0.66376924363719181, 0.67131081677583648, 0.68675561852525235, 0.6875497211970707, 0.69008159647716594, 0.69027871813422703, 0.6930078488519551, 0.7073134065141633, 0.71394833511656253, 0.72405054977661487, 0.7254494145044269, 0.73159565649825464, 0.73659764675715367, 0.73983025211365583, 0.74741075433047621, 0.74851106071945095, 0.7520041979384352, 0.76603881912568783, 0.76821728526748578, 0.77266177269839942, 0.77664710415939431, 0.77939790634365891, 0.79011129071074149, 0.80165379528191583, 0.80269982863934808, 0.81311097522532327, 0.81849129483654492, 0.82618075931028434, 0.83606906720574836, 0.83936182817189808, 0.83942274009280282, 0.84168300775135563, 0.85345254865487019, 0.85812810377419513, 0.86436043514903582, 0.87364416427526181, 0.877462095293981, 0.8779587719469244, 0.88056833801509393, 0.88120437877345448, 0.88704464039911013, 0.88970188032128794, 0.89496154562564079, 0.90869401659595106, 0.90902252855459675, 0.91323170181036217, 0.91756719394272179, 0.92071181066532415, 0.92670464287299881, 0.9354340855669685, 0.93952395513697018, 0.94336133895328111, 0.95324303388853648, 0.96465447929955284, 0.98383573301738658, 0.98889577827002439, 0.99327112477783086, 1.0442095434597856, 1.0475466677531946, 1.0476530238266442, 1.0602906379584656, 1.0627419447764754, 1.0715562982239371, 1.0745414422620201, 1.0773593028570039, 1.0773604566528978, 1.0939778474574746, 1.1003255182424763, 1.1035007355004691, 1.1194011046279682, 1.1217049400014623, 1.1258585354190414, 1.135243008974568, 1.1362158674916536, 1.1524364802168925, 1.1566828100051356, 1.1613413487851332, 1.1690463117707091, 1.1764682556032389, 1.1833294427227028, 1.1872012012073372, 1.1872912232080779, 1.1966652642046132, 1.205461589107292, 1.2082737917676107, 1.2163380591309956, 1.2348047447096313, 1.2448442318260449, 1.2488434088383034, 1.2507996522319789, 1.2626998597302119, 1.298392296970617, 1.3143505687750947, 1.344995168978278, 1.3518300285670874, 1.3665812107995032, 1.3718061796160135, 1.3761598883183552, 1.3915425728464876, 1.4011799133451435, 1.4078634519771727, 1.4103439401024938, 1.4134146290321619, 1.4140539003732899, 1.4195291015636586, 1.4494359926600977, 1.4526497631415187, 1.4549196964788034, 1.4683696909345105, 1.4843129452431103, 1.543695715018331, 1.54741348606636, 1.5563109058042497, 1.5766233175870834, 1.5821467057251759, 1.5845756956893662, 1.6019478975170436, 1.6213631490526146, 1.6369018224952518, 1.6375615961260095, 1.6382209503533327, 1.6477621454834188, 1.6575354985107804, 1.6793471993813078, 1.688968378431398, 1.6892731979002602, 1.7354924155875888, 1.7591023839519684, 1.8014026909188805, 1.8113394080301279, 1.81248909419249, 1.8159119446432765, 1.829166686850352, 1.8339048293336166, 1.8825881018383994, 1.8907353501793436, 1.8925565850250166, 1.9229678513831816, 1.9644656831615555, 1.9994033984564366, 2.006078406588415, 2.011540421395551, 2.0185775854289614, 2.020574688757264, 2.0796762632490009, 2.1072169166317463, 2.1262354374068484, 2.147647845437024, 2.176238154849913, 2.1783241156462911, 2.2201274999400087, 2.2260727314925433, 2.2725752674838242, 2.3204610072737575, 2.3760210305450098, 2.3830824961314017, 2.4851880009900262, 2.560644083397388, 2.560807476589563, 2.606115778181548, 2.6363974603000346, 2.702292463725271, 2.7142605421756953, 2.8584928785845798, 2.8655105911222756, 2.9692263581443932, 2.9762548538249769, 3.0552863667729326, 3.1464037559314439, 3.1628282459533379, 3.2148280800018316, 3.2173940551379601, 3.2738373404020393, 3.3095703825488529, 3.3235493113629593, 3.3240376648403576, 3.3535840624950555, 3.3998791097922818, 3.4927721207444584, 3.5819332442006826, 3.8027152623578693, 3.8932225886005325, 4.5181466398255106, 4.6413682933607143, 5.0107681423141175, 5.8344102247444622, 10.845013874502794]\n",
      "[0.037463153371547257]\n"
     ]
    },
    {
     "name": "stderr",
     "output_type": "stream",
     "text": [
      "\r",
      "  3%|█▏                                        | 5/172 [00:01<00:50,  3.29it/s]"
     ]
    },
    {
     "name": "stdout",
     "output_type": "stream",
     "text": [
      "[0.95134565792191994, 0.74214266827408248, 1.7844283358393538, 1.7320008440528762, 0.2101670447080714, 0.40590844019695665, 0.19540903066932208, 0.12520659877516602, 0.28973396211678365, 0.097104329573735187, 0.063085160129463372, 0.14407591270808282, 0.59664041287288982, 0.22830128014575365, 0.10627471035051703, 0.065552197650742688, 0.1184587548018923, 0.21731869649942756, 0.83279744103207443, 0.2423816577303757, 0.2899165194529803, 0.97818538611886141, 1.5639315616336893, 1.2154797012360463, 0.40208097049600461, 0.45692483811036561, 0.27498274707522335, 0.30756933122444541, 0.2215298533556464, 0.40983847898363412, 0.16134391551912716, 0.33647078453369061, 0.19816438867874525, 1.2797414901840918, 0.37022757139489515, 0.15633305048332666, 0.56581741216948289, 0.13052987933519128, 0.12117280744718524, 0.7354316381660323, 0.15300602282907122, 0.54188689200273854, 0.54927341010435371, 0.36646414827169799, 0.48804148635225181, 1.0105817742950414, 0.58183502163174672, 0.40350528078657721, 0.2161256072102693, 0.34277936421916233, 1.6390262535919358, 0.73631191883070013, 0.77022676344144514, 0.51100969539761198, 1.0175823396475909, 0.39520714452267625, 2.6546505495691486, 2.100645341412275, 1.156459459708556, 0.71640112963296043, 0.35760858023334746, 0.39952789233311953, 0.1315500195860953, 0.13710128968077887, 0.34785196684336073, 0.81194141828830269, 0.47792555623490995, 0.43744723123490814, 1.1406854805683291, 0.12583339174442867, 0.29898681676507233, 0.12728424647127234, 0.21591680242728342, 0.12308316963077121, 0.24806044531687887, 0.20274757113431813, 0.12692659261100417, 0.12545753349390404, 0.39012392582384764, 0.78667578427335461, 0.59965132272085098, 0.66592678936501848, 0.13375533842175669, 0.1828060358695906, 0.11518360177344986, 0.36603773041225524, 0.40370261641498995, 0.6829908684463758, 0.97738576325977489, 0.32596697310979061, 1.2052167671575527, 0.33092347481875756, 0.86331878694243891, 2.1973863119998538, 3.4142739074381963, 2.8034304443370437, 0.084402419759273234, 0.60718976982781003, 0.72231420511024869, 0.14578753822751359, 0.45217138226114589, 0.13308849370529488, 0.91087401082230623, 0.22033732638066594, 0.59876694772020467, 1.5034657791325341, 2.5792918734278003, 0.37238509780194107, 1.7427641480593745, 0.411996485573008, 0.38435754629843077, 1.2324781685610726, 0.92349992112592216, 1.7839282215973418, 1.1738748327282713, 1.7743124099496856, 1.2577914354094433, 2.7305076314530994, 1.9240568189259903, 1.6774264088893669, 1.906263835038509, 1.4969046228693619, 0.39706675967566801, 2.3669829023662028, 2.7001991842508075, 0.12002989555298701, 0.60935337707539627, 0.26811853689600973, 0.75385311549366774, 0.15065821638185195, 0.15801238715015151, 0.41725625649701908, 0.14935918344734284, 1.4610022833861789, 0.38697745548683055, 1.0025603032066146, 3.8953367218235542, 1.7513572548830623, 2.4696136607652392, 0.91376493690390592, 0.1444954908508011, 2.0927700415831989, 3.2395507038786286, 1.0211406905528466, 0.82228621411691794, 0.99212577752633202, 0.30821836341115771, 0.6553965798723177, 0.70213470830492541, 0.40682151024790197, 1.1436441333898617, 0.82938504810529423, 0.7614903274320266, 1.4717361422231781, 3.2558939826585083, 0.32740554100998898, 0.13359243490152278, 1.9835085519183682, 1.3095506559654186, 2.2407147524671065, 3.4463009915186702, 1.9748122437698141, 0.45464839366375143, 1.545112504031954, 3.3074587045092385, 0.13240398391577221, 0.49545017387901036, 0.89918156856464759, 2.4768694900773101, 1.1999848623635356, 1.3306845467402522, 1.8961216933954004, 1.2928171441814045, 0.82369324451128811, 1.2719720812492483, 2.6549243094754162, 1.4872679325334297, 2.4147183054818595, 2.7963508739940459, 1.6517798657352727, 0.78576060616285548, 0.48661151311827883, 0.59898861505617951, 0.93711697150236328, 1.3409702271194615, 1.7332826240918198, 0.34994563958270303, 0.20734976031710314, 1.0897919607867557, 0.18147391571936305, 0.63879522375193665, 0.97125338251303195, 1.5057691001686295, 1.8540486461768, 1.0063355144925841, 2.1060816418808952, 0.14731018765120019, 1.2722150521533935, 0.5274944461168154, 0.93510989991113458, 0.18216805269421255, 0.68216161186524438, 0.74604761806672149, 0.67800444735977727, 0.58885479892307113, 0.28665104065200292, 0.13190518524624276, 0.62259520234498544, 0.37337789247076819, 0.23520786423977866, 0.59251971970037354, 0.24173438231858424, 0.13540329641383952, 0.18466341068247527, 0.16826042768163327, 1.3587937936776335, 0.21657231868318855, 0.12965305593907872, 0.87098155511081332, 1.0328405702815, 1.4476875697329674, 0.83488191095647679, 0.95555883930848684, 0.12802448408661279, 1.1595757596345853, 0.3376659677035832, 0.13918779911182297, 1.0550184774439724, 0.59447808077259323, 0.81327514401182899, 0.59661526234058693, 3.9805333990400618, 3.2254306954552425, 1.3106064218611249, 3.1667840949345871, 1.3440637763514032, 1.2226410747495351, 1.6821184437344765, 1.8177403912930028, 3.2041649513510735, 2.0163197528118424, 1.6330613162910439, 2.8252481659579263, 2.0903619252062864, 10.802767733297932, 2.0098470007914666, 1.0957762155431006, 0.97870289984922576, 3.1147920191625689, 2.0880169651623373, 3.3050854693298839, 2.8869507635976324, 2.124156819105838, 0.75152423017030512, 0.55440070119545237, 1.730937765107706, 1.2221975315421461, 4.5740950728515779, 1.0724481840980362, 2.9170766558081147, 1.71451844720632, 1.2509032889620808, 2.9782304970220093, 4.9462143428131311, 3.3886862583820565, 1.3745099244517838, 0.85178524012757528, 2.0925129084243776, 1.8950563031849301, 2.7648151292889036, 3.5021040375871269, 5.751993339283981, 2.1972948844210123, 1.4094346062219769, 0.73633466136097259, 0.77940619962285451, 1.0351080332452356, 1.3570018527467911, 4.4712632731374802, 0.86744651944242668, 1.2065068168560318, 1.0966097743051506, 0.98045956996958517, 0.92656648589841151, 1.589594038686589, 1.8000289226026978, 1.530649620880536, 0.71503292263127904, 1.3526519591370938, 1.423532226151764, 0.78418397842010235, 0.88352050286109041, 1.0789313911780116, 1.0646517046128929, 1.3632157575100974, 1.1757510723738527, 2.2401323743128518, 0.44808915832804996, 0.86457274726891964, 0.98575975326549348, 0.74009354370949465, 0.89388875935246204, 1.0301047646294599, 0.92848344803678284, 0.30653479502291142, 0.3343864185371529, 1.7612149058044593, 1.4759631503181043, 0.54754594542671553, 0.80895343768218697, 1.0567816221617041, 0.74321044427040062, 0.93564397498765628, 1.8744816392172998, 1.3073259276256093, 1.704256401944424, 0.27084517885532877, 0.63635628516064513, 0.45286230016592133, 0.60969842674680164, 0.66298741589146637, 1.0996147211622687, 0.17837737348330263, 0.17790654619760851, 0.27596188336670963, 0.11419220595929534, 0.32257008755974775, 0.6934727220426633, 0.20787397355539841, 0.21824651344173077, 0.97489078853557865, 0.34271540381854787, 1.2484972734536866, 0.23319899607781813]\n",
      "[0.063085160129463372, 0.065552197650742688, 0.084402419759273234, 0.097104329573735187, 0.10627471035051703, 0.11419220595929534, 0.11518360177344986, 0.1184587548018923, 0.12002989555298701, 0.12117280744718524, 0.12308316963077121, 0.12520659877516602, 0.12545753349390404, 0.12583339174442867, 0.12692659261100417, 0.12728424647127234, 0.12802448408661279, 0.12965305593907872, 0.13052987933519128, 0.1315500195860953, 0.13190518524624276, 0.13240398391577221, 0.13308849370529488, 0.13359243490152278, 0.13375533842175669, 0.13540329641383952, 0.13710128968077887, 0.13918779911182297, 0.14407591270808282, 0.1444954908508011, 0.14578753822751359, 0.14731018765120019, 0.14935918344734284, 0.15065821638185195, 0.15300602282907122, 0.15633305048332666, 0.15801238715015151, 0.16134391551912716, 0.16826042768163327, 0.17790654619760851, 0.17837737348330263, 0.18147391571936305, 0.18216805269421255, 0.1828060358695906, 0.18466341068247527, 0.19540903066932208, 0.19816438867874525, 0.20274757113431813, 0.20734976031710314, 0.20787397355539841, 0.2101670447080714, 0.21591680242728342, 0.2161256072102693, 0.21657231868318855, 0.21731869649942756, 0.21824651344173077, 0.22033732638066594, 0.2215298533556464, 0.22830128014575365, 0.23319899607781813, 0.23520786423977866, 0.24173438231858424, 0.2423816577303757, 0.24806044531687887, 0.26811853689600973, 0.27084517885532877, 0.27498274707522335, 0.27596188336670963, 0.28665104065200292, 0.28973396211678365, 0.2899165194529803, 0.29898681676507233, 0.30653479502291142, 0.30756933122444541, 0.30821836341115771, 0.32257008755974775, 0.32596697310979061, 0.32740554100998898, 0.33092347481875756, 0.3343864185371529, 0.33647078453369061, 0.3376659677035832, 0.34271540381854787, 0.34277936421916233, 0.34785196684336073, 0.34994563958270303, 0.35760858023334746, 0.36603773041225524, 0.36646414827169799, 0.37022757139489515, 0.37238509780194107, 0.37337789247076819, 0.38435754629843077, 0.38697745548683055, 0.39012392582384764, 0.39520714452267625, 0.39706675967566801, 0.39952789233311953, 0.40208097049600461, 0.40350528078657721, 0.40370261641498995, 0.40590844019695665, 0.40682151024790197, 0.40983847898363412, 0.411996485573008, 0.41725625649701908, 0.43744723123490814, 0.44808915832804996, 0.45217138226114589, 0.45286230016592133, 0.45464839366375143, 0.45692483811036561, 0.47792555623490995, 0.48661151311827883, 0.48804148635225181, 0.49545017387901036, 0.51100969539761198, 0.5274944461168154, 0.54188689200273854, 0.54754594542671553, 0.54927341010435371, 0.55440070119545237, 0.56581741216948289, 0.58183502163174672, 0.58885479892307113, 0.59251971970037354, 0.59447808077259323, 0.59661526234058693, 0.59664041287288982, 0.59876694772020467, 0.59898861505617951, 0.59965132272085098, 0.60718976982781003, 0.60935337707539627, 0.60969842674680164, 0.62259520234498544, 0.63635628516064513, 0.63879522375193665, 0.6553965798723177, 0.66298741589146637, 0.66592678936501848, 0.67800444735977727, 0.68216161186524438, 0.6829908684463758, 0.6934727220426633, 0.70213470830492541, 0.71503292263127904, 0.71640112963296043, 0.72231420511024869, 0.7354316381660323, 0.73631191883070013, 0.73633466136097259, 0.74009354370949465, 0.74214266827408248, 0.74321044427040062, 0.74604761806672149, 0.75152423017030512, 0.75385311549366774, 0.7614903274320266, 0.77022676344144514, 0.77940619962285451, 0.78418397842010235, 0.78576060616285548, 0.78667578427335461, 0.80895343768218697, 0.81194141828830269, 0.81327514401182899, 0.82228621411691794, 0.82369324451128811, 0.82938504810529423, 0.83279744103207443, 0.83488191095647679, 0.85178524012757528, 0.86331878694243891, 0.86457274726891964, 0.86744651944242668, 0.87098155511081332, 0.88352050286109041, 0.89388875935246204, 0.89918156856464759, 0.91087401082230623, 0.91376493690390592, 0.92349992112592216, 0.92656648589841151, 0.92848344803678284, 0.93510989991113458, 0.93564397498765628, 0.93711697150236328, 0.95134565792191994, 0.95555883930848684, 0.97125338251303195, 0.97489078853557865, 0.97738576325977489, 0.97818538611886141, 0.97870289984922576, 0.98045956996958517, 0.98575975326549348, 0.99212577752633202, 1.0025603032066146, 1.0063355144925841, 1.0105817742950414, 1.0175823396475909, 1.0211406905528466, 1.0301047646294599, 1.0328405702815, 1.0351080332452356, 1.0550184774439724, 1.0567816221617041, 1.0646517046128929, 1.0724481840980362, 1.0789313911780116, 1.0897919607867557, 1.0957762155431006, 1.0966097743051506, 1.0996147211622687, 1.1406854805683291, 1.1436441333898617, 1.156459459708556, 1.1595757596345853, 1.1738748327282713, 1.1757510723738527, 1.1999848623635356, 1.2052167671575527, 1.2065068168560318, 1.2154797012360463, 1.2221975315421461, 1.2226410747495351, 1.2324781685610726, 1.2484972734536866, 1.2509032889620808, 1.2577914354094433, 1.2719720812492483, 1.2722150521533935, 1.2797414901840918, 1.2928171441814045, 1.3073259276256093, 1.3095506559654186, 1.3106064218611249, 1.3306845467402522, 1.3409702271194615, 1.3440637763514032, 1.3526519591370938, 1.3570018527467911, 1.3587937936776335, 1.3632157575100974, 1.3745099244517838, 1.4094346062219769, 1.423532226151764, 1.4476875697329674, 1.4610022833861789, 1.4717361422231781, 1.4759631503181043, 1.4872679325334297, 1.4969046228693619, 1.5034657791325341, 1.5057691001686295, 1.530649620880536, 1.545112504031954, 1.5639315616336893, 1.589594038686589, 1.6330613162910439, 1.6390262535919358, 1.6517798657352727, 1.6774264088893669, 1.6821184437344765, 1.704256401944424, 1.71451844720632, 1.730937765107706, 1.7320008440528762, 1.7332826240918198, 1.7427641480593745, 1.7513572548830623, 1.7612149058044593, 1.7743124099496856, 1.7839282215973418, 1.7844283358393538, 1.8000289226026978, 1.8177403912930028, 1.8540486461768, 1.8744816392172998, 1.8950563031849301, 1.8961216933954004, 1.906263835038509, 1.9240568189259903, 1.9748122437698141, 1.9835085519183682, 2.0098470007914666, 2.0163197528118424, 2.0880169651623373, 2.0903619252062864, 2.0925129084243776, 2.0927700415831989, 2.100645341412275, 2.1060816418808952, 2.124156819105838, 2.1972948844210123, 2.1973863119998538, 2.2401323743128518, 2.2407147524671065, 2.3669829023662028, 2.4147183054818595, 2.4696136607652392, 2.4768694900773101, 2.5792918734278003, 2.6546505495691486, 2.6549243094754162, 2.7001991842508075, 2.7305076314530994, 2.7648151292889036, 2.7963508739940459, 2.8034304443370437, 2.8252481659579263, 2.8869507635976324, 2.9170766558081147, 2.9782304970220093, 3.1147920191625689, 3.1667840949345871, 3.2041649513510735, 3.2254306954552425, 3.2395507038786286, 3.2558939826585083, 3.3050854693298839, 3.3074587045092385, 3.3886862583820565, 3.4142739074381963, 3.4463009915186702, 3.5021040375871269, 3.8953367218235542, 3.9805333990400618, 4.4712632731374802, 4.5740950728515779, 4.9462143428131311, 5.751993339283981, 10.802767733297932]\n",
      "[0.063085160129463372]\n"
     ]
    },
    {
     "name": "stderr",
     "output_type": "stream",
     "text": [
      "\r",
      "  3%|█▍                                        | 6/172 [00:01<00:49,  3.32it/s]"
     ]
    },
    {
     "name": "stdout",
     "output_type": "stream",
     "text": [
      "[1.5360665439111503, 1.3262968994592841, 2.3689577707871914, 2.3165210285822888, 0.77370914297693782, 0.98675906857836782, 0.76061986943017423, 0.61131980107259132, 0.87381374779997434, 0.52058060993342159, 0.64795021870315128, 0.72717981376512764, 0.1065210514936783, 0.37590590000661334, 0.48320101984730129, 0.63838285911018289, 0.4912881888862865, 0.80215659121175786, 1.4169833320651117, 0.3449718033737757, 0.86476420557321076, 1.5629670690721149, 2.1486203892512106, 1.8003115593693977, 0.982782729152609, 1.039097131364064, 0.8488197785223055, 0.34779522065857632, 0.79370771668582252, 0.25661159320182281, 0.70870805072372522, 0.91258180371759001, 0.75630902334864847, 1.8645996117986863, 0.9501275168241976, 0.71001098883706137, 1.1485633288092805, 0.59841315530069983, 0.60479311089656485, 1.3197622405314307, 0.70378681883613547, 1.1246572678069791, 1.1323092645085551, 0.94503102342545486, 1.0697284149742292, 1.5954082300420742, 1.1647842937041337, 0.98261844308941959, 0.77881067795917258, 0.91989704753568002, 2.2236387769744117, 1.3205078172113556, 1.3545544641206801, 1.092986815441555, 1.6024496744471852, 0.97531238640167095, 3.2384624722264097, 2.6848716450763646, 1.7413065174886184, 1.301040428792775, 0.93800826994126896, 0.98012948896900365, 0.56040554560532696, 0.5394219717608878, 0.92645651668530793, 1.396602416791165, 1.0613164657556744, 1.0186261395410507, 1.7255538139457278, 0.6416372165432993, 0.87713708602004137, 0.65971788760802086, 0.7838512961155214, 0.58775126400686051, 0.40809683687634768, 0.76358567126329235, 0.56617286671655442, 0.59811067821300734, 0.25478208572599076, 1.3715407629747152, 1.1820713888997127, 1.2507556791004661, 0.51492324419473956, 0.4079455490499565, 0.56363948397432895, 0.95020886586749631, 0.98626676867712593, 0.29574799716892752, 0.39350723660945441, 0.90044966730956144, 0.62764988865924487, 0.9105948135327081, 0.28333179925952129, 2.778163380862948, 3.9950307356501189, 3.3826536757566923, 0.56416145322114786, 1.1735516882328731, 1.2885428349418842, 0.57345605578871273, 0.23614670412163577, 0.57272449727920982, 1.4956148545488621, 0.78489954452194899, 1.1820219287218425, 2.0881741609612328, 3.1631765074594007, 0.95086204281245834, 2.3272477343475289, 0.27025228966703091, 0.96317237819864199, 1.8173273252351518, 1.5083186921330092, 2.3683875961588519, 1.7587435272730083, 2.3587758144940332, 1.8426532588484013, 3.3143683826917716, 2.5084604956731642, 2.2620164310068431, 2.4906846949379364, 2.0816416105845565, 0.97592047948254901, 2.9510768372067773, 3.284049240790309, 0.61232504612996652, 1.1935967145397737, 0.84176716882329716, 0.22550206636859277, 0.70196272330064435, 0.50011049373284722, 0.99906341681798305, 0.69212162388001552, 2.0453413337249273, 0.97038039619261351, 1.5869216829378108, 4.4778831700957875, 2.3353063428461205, 3.0532044262239717, 1.4985395195014406, 0.72011267896940101, 2.6763256864671616, 3.8226529658114599, 1.6056778191230168, 1.4068823515672386, 1.5769707475510648, 0.88410870451244794, 1.2393725585292619, 1.2864519408828541, 0.26198534568133702, 1.7284740586835596, 1.414100398805304, 1.3462004778731329, 2.0564436045749521, 3.8389292816946892, 0.9030701586834553, 0.59672349114074885, 2.566706356184481, 1.8934045873770038, 2.8240162118318306, 4.0290118585591959, 2.5576069977968721, 0.16953873595271907, 2.1283511014479659, 3.8901244730085072, 0.65199596264823412, 1.0782663006425268, 1.4839646475286563, 3.0605830990991341, 1.7848511954057023, 1.9154744110790132, 2.4804604091051035, 1.8776497711307452, 1.4082873648261709, 1.8567003371420876, 3.2388024925122192, 2.0720064553274038, 2.9987223016405329, 3.3801688767471996, 2.2364299724210737, 1.3700551637418128, 1.067862749138053, 1.1821916134385144, 1.5218648821995644, 1.9257950979260865, 2.3177895087522877, 0.92766964573511623, 0.76991127241900947, 1.6746633669018107, 0.48184808756357117, 1.222468752968316, 1.5560352955311545, 2.0904327994326097, 2.4384884243974092, 1.5911660065621831, 2.6902946058284214, 0.71278746301359575, 0.68786674788460267, 1.1113936127477002, 1.5199364932335124, 0.46687005205926185, 1.2670014500333366, 1.3306300538794118, 1.2623955676096876, 1.1732715618746976, 0.86456476151064476, 0.58511777686842859, 1.2061505351386903, 0.95145144814458871, 0.800610605197701, 1.1755963392881743, 0.80844716681894346, 0.58771793883509194, 0.73891846275380113, 0.71621925324778368, 1.943612677828763, 0.77812615451839173, 0.62428626927767672, 1.4555667075915695, 1.6176624052358763, 2.0324580248102841, 1.4194672075886665, 1.5403669423287325, 0.60563293718791433, 1.7444482613344419, 0.33487265316400178, 0.67247394036154862, 1.3572915032162154, 1.0041611907882673, 1.3265142949001429, 1.1094996965698456, 4.5565709281409967, 2.6406461490573019, 0.73424142266357528, 2.6333434973326058, 0.78713674415824464, 1.7405919922386612, 2.2094675986614192, 1.38354800739713, 2.7442218066144917, 2.3215973551654137, 2.0763889031042955, 2.9565330964688452, 2.2297999169329756, 10.832173655659366, 2.2777670298580071, 0.92063158172780957, 0.77367032267874281, 2.7032116047334855, 1.8626202975417103, 2.9853512225435783, 2.6282850944262783, 1.7401603135125323, 0.72821696898489008, 0.91624352690875366, 1.3438905988609433, 1.625017313315865, 4.4679794991828814, 1.1355724087660406, 2.9357081172372812, 1.9474336590931234, 1.6094868224123697, 2.8221454912184298, 4.8557603884645255, 2.9514805821482182, 1.2673320065012994, 0.72844904758893203, 2.4577858270404231, 2.2244954522940716, 2.3843937037240979, 3.3146795257288435, 5.5240331428481433, 2.4007821683080426, 1.7318001080390759, 0.98711771590750663, 1.0927327375597553, 0.87806110297937168, 1.3852881533791619, 4.4988270814403366, 1.2155516549436596, 1.564356631415599, 1.4685999301326607, 1.4393459284375061, 1.4143976228035284, 1.9713492930187231, 2.0684243913061153, 1.5980097945692255, 1.142588434933641, 1.7258685693881337, 1.4567530325127105, 1.3687278731511956, 1.326453407151172, 1.3581414848343771, 1.4878004569033467, 1.8658755799081213, 1.6959435968213923, 2.7648523232173874, 0.78952762586072722, 1.024122026445625, 1.3649013810703001, 1.0503631879526427, 1.3166769921850403, 1.5238493469010854, 1.266905920146099, 0.44115411491256346, 0.71456186149062317, 1.8076027779965205, 1.4299152501825734, 1.0160947418894999, 1.3530312569640606, 0.77975610718569077, 1.1152610843836759, 1.4510589881861724, 1.6417598138912124, 1.8303645455714035, 2.2453651319746131, 0.4294275881970181, 1.0154670674056805, 0.71527202549805824, 0.18573571633462596, 0.19478739415750662, 0.54293119392706513, 0.73464354426486933, 0.7344676488614621, 0.37734811470232094, 0.65354067504528934, 0.33337189609853451, 0.19814063518270733, 0.7787104305257071, 0.78982206105854214, 1.559702027413999, 0.91923711962084265, 1.8333234313992861, 0.79889487881567223]\n",
      "[0.1065210514936783, 0.16953873595271907, 0.18573571633462596, 0.19478739415750662, 0.19814063518270733, 0.22550206636859277, 0.23614670412163577, 0.25478208572599076, 0.25661159320182281, 0.26198534568133702, 0.27025228966703091, 0.28333179925952129, 0.29574799716892752, 0.33337189609853451, 0.33487265316400178, 0.3449718033737757, 0.34779522065857632, 0.37590590000661334, 0.37734811470232094, 0.39350723660945441, 0.4079455490499565, 0.40809683687634768, 0.4294275881970181, 0.44115411491256346, 0.46687005205926185, 0.48184808756357117, 0.48320101984730129, 0.4912881888862865, 0.50011049373284722, 0.51492324419473956, 0.52058060993342159, 0.5394219717608878, 0.54293119392706513, 0.56040554560532696, 0.56363948397432895, 0.56416145322114786, 0.56617286671655442, 0.57272449727920982, 0.57345605578871273, 0.58511777686842859, 0.58771793883509194, 0.58775126400686051, 0.59672349114074885, 0.59811067821300734, 0.59841315530069983, 0.60479311089656485, 0.60563293718791433, 0.61131980107259132, 0.61232504612996652, 0.62428626927767672, 0.62764988865924487, 0.63838285911018289, 0.6416372165432993, 0.64795021870315128, 0.65199596264823412, 0.65354067504528934, 0.65971788760802086, 0.67247394036154862, 0.68786674788460267, 0.69212162388001552, 0.70196272330064435, 0.70378681883613547, 0.70870805072372522, 0.71001098883706137, 0.71278746301359575, 0.71456186149062317, 0.71527202549805824, 0.71621925324778368, 0.72011267896940101, 0.72717981376512764, 0.72821696898489008, 0.72844904758893203, 0.73424142266357528, 0.7344676488614621, 0.73464354426486933, 0.73891846275380113, 0.75630902334864847, 0.76061986943017423, 0.76358567126329235, 0.76991127241900947, 0.77367032267874281, 0.77370914297693782, 0.77812615451839173, 0.7787104305257071, 0.77881067795917258, 0.77975610718569077, 0.7838512961155214, 0.78489954452194899, 0.78713674415824464, 0.78952762586072722, 0.78982206105854214, 0.79370771668582252, 0.79889487881567223, 0.800610605197701, 0.80215659121175786, 0.80844716681894346, 0.84176716882329716, 0.8488197785223055, 0.86456476151064476, 0.86476420557321076, 0.87381374779997434, 0.87713708602004137, 0.87806110297937168, 0.88410870451244794, 0.90044966730956144, 0.9030701586834553, 0.9105948135327081, 0.91258180371759001, 0.91624352690875366, 0.91923711962084265, 0.91989704753568002, 0.92063158172780957, 0.92645651668530793, 0.92766964573511623, 0.93800826994126896, 0.94503102342545486, 0.9501275168241976, 0.95020886586749631, 0.95086204281245834, 0.95145144814458871, 0.96317237819864199, 0.97038039619261351, 0.97531238640167095, 0.97592047948254901, 0.98012948896900365, 0.98261844308941959, 0.982782729152609, 0.98626676867712593, 0.98675906857836782, 0.98711771590750663, 0.99906341681798305, 1.0041611907882673, 1.0154670674056805, 1.0160947418894999, 1.0186261395410507, 1.024122026445625, 1.039097131364064, 1.0503631879526427, 1.0613164657556744, 1.067862749138053, 1.0697284149742292, 1.0782663006425268, 1.0927327375597553, 1.092986815441555, 1.1094996965698456, 1.1113936127477002, 1.1152610843836759, 1.1246572678069791, 1.1323092645085551, 1.1355724087660406, 1.142588434933641, 1.1485633288092805, 1.1647842937041337, 1.1732715618746976, 1.1735516882328731, 1.1755963392881743, 1.1820219287218425, 1.1820713888997127, 1.1821916134385144, 1.1935967145397737, 1.2061505351386903, 1.2155516549436596, 1.222468752968316, 1.2393725585292619, 1.2507556791004661, 1.2623955676096876, 1.266905920146099, 1.2670014500333366, 1.2673320065012994, 1.2864519408828541, 1.2885428349418842, 1.301040428792775, 1.3166769921850403, 1.3197622405314307, 1.3205078172113556, 1.3262968994592841, 1.326453407151172, 1.3265142949001429, 1.3306300538794118, 1.3438905988609433, 1.3462004778731329, 1.3530312569640606, 1.3545544641206801, 1.3572915032162154, 1.3581414848343771, 1.3649013810703001, 1.3687278731511956, 1.3700551637418128, 1.3715407629747152, 1.38354800739713, 1.3852881533791619, 1.396602416791165, 1.4068823515672386, 1.4082873648261709, 1.414100398805304, 1.4143976228035284, 1.4169833320651117, 1.4194672075886665, 1.4299152501825734, 1.4393459284375061, 1.4510589881861724, 1.4555667075915695, 1.4567530325127105, 1.4685999301326607, 1.4839646475286563, 1.4878004569033467, 1.4956148545488621, 1.4985395195014406, 1.5083186921330092, 1.5199364932335124, 1.5218648821995644, 1.5238493469010854, 1.5360665439111503, 1.5403669423287325, 1.5560352955311545, 1.559702027413999, 1.5629670690721149, 1.564356631415599, 1.5769707475510648, 1.5869216829378108, 1.5911660065621831, 1.5954082300420742, 1.5980097945692255, 1.6024496744471852, 1.6056778191230168, 1.6094868224123697, 1.6176624052358763, 1.625017313315865, 1.6417598138912124, 1.6746633669018107, 1.6959435968213923, 1.7255538139457278, 1.7258685693881337, 1.7284740586835596, 1.7318001080390759, 1.7401603135125323, 1.7405919922386612, 1.7413065174886184, 1.7444482613344419, 1.7587435272730083, 1.7848511954057023, 1.8003115593693977, 1.8076027779965205, 1.8173273252351518, 1.8303645455714035, 1.8333234313992861, 1.8426532588484013, 1.8567003371420876, 1.8626202975417103, 1.8645996117986863, 1.8658755799081213, 1.8776497711307452, 1.8934045873770038, 1.9154744110790132, 1.9257950979260865, 1.943612677828763, 1.9474336590931234, 1.9713492930187231, 2.0324580248102841, 2.0453413337249273, 2.0564436045749521, 2.0684243913061153, 2.0720064553274038, 2.0763889031042955, 2.0816416105845565, 2.0881741609612328, 2.0904327994326097, 2.1283511014479659, 2.1486203892512106, 2.2094675986614192, 2.2236387769744117, 2.2244954522940716, 2.2297999169329756, 2.2364299724210737, 2.2453651319746131, 2.2620164310068431, 2.2777670298580071, 2.3165210285822888, 2.3177895087522877, 2.3215973551654137, 2.3272477343475289, 2.3353063428461205, 2.3587758144940332, 2.3683875961588519, 2.3689577707871914, 2.3843937037240979, 2.4007821683080426, 2.4384884243974092, 2.4577858270404231, 2.4804604091051035, 2.4906846949379364, 2.5084604956731642, 2.5576069977968721, 2.566706356184481, 2.6282850944262783, 2.6333434973326058, 2.6406461490573019, 2.6763256864671616, 2.6848716450763646, 2.6902946058284214, 2.7032116047334855, 2.7442218066144917, 2.7648523232173874, 2.778163380862948, 2.8221454912184298, 2.8240162118318306, 2.9357081172372812, 2.9510768372067773, 2.9514805821482182, 2.9565330964688452, 2.9853512225435783, 2.9987223016405329, 3.0532044262239717, 3.0605830990991341, 3.1631765074594007, 3.2384624722264097, 3.2388024925122192, 3.284049240790309, 3.3143683826917716, 3.3146795257288435, 3.3801688767471996, 3.3826536757566923, 3.8226529658114599, 3.8389292816946892, 3.8901244730085072, 3.9950307356501189, 4.0290118585591959, 4.4679794991828814, 4.4778831700957875, 4.4988270814403366, 4.5565709281409967, 4.8557603884645255, 5.5240331428481433, 10.832173655659366]\n",
      "[0.1065210514936783]\n"
     ]
    },
    {
     "name": "stderr",
     "output_type": "stream",
     "text": [
      "\r",
      "  4%|█▋                                        | 7/172 [00:02<00:49,  3.33it/s]"
     ]
    },
    {
     "name": "stdout",
     "output_type": "stream",
     "text": [
      "[0.93086493929197212, 0.7228292884083598, 1.7619332231305984, 1.7094938731058491, 0.20756482800545692, 0.39059741445426543, 0.19277473974886886, 0.1511495244520161, 0.27204223736662486, 0.1311746003223756, 0.049747835488519764, 0.13081607801481004, 0.62306583411034122, 0.25794932523978359, 0.13561240101854169, 0.072777425313329244, 0.15154738003726836, 0.19683823990091978, 0.80990250713597378, 0.2678752402149463, 0.26163474213829457, 0.95751041345441656, 1.5417258445470572, 1.1937330195477709, 0.3869026355850394, 0.44030781578315253, 0.26549537429151693, 0.33950899045878785, 0.21437578854528008, 0.44016490280951714, 0.16805997330469799, 0.32472400898528964, 0.19836558644326982, 1.2581347120718616, 0.35585819660406826, 0.16114707113408386, 0.54830076712297426, 0.15861006305980158, 0.14806169555195742, 0.7158783405992275, 0.15922095754797735, 0.52442443228959768, 0.53155009814103349, 0.35297409215917003, 0.47165401106212934, 0.98971671379707582, 0.56409520628177512, 0.38934715257015667, 0.21361762729318054, 0.33039838449753067, 1.6166708720135579, 0.71695036887422692, 0.75063649760610152, 0.4943044305896368, 0.99643547454617709, 0.38048806653114747, 2.6314040334769913, 2.0777702469989201, 1.1348041519618939, 0.69630852343245175, 0.34301269381486343, 0.38443839735159052, 0.16373768341015627, 0.17055253696384773, 0.33453802728180687, 0.79170648728373849, 0.46009257006125032, 0.42169599648525474, 1.1192102637246149, 0.14565351421708525, 0.28659770526852268, 0.14245148083791234, 0.21109853035683682, 0.15248226527857603, 0.28116606329863009, 0.20163145407097771, 0.1586661268683148, 0.15347829023704754, 0.41983333447493143, 0.76567365124166797, 0.57525826898700338, 0.64435978016832374, 0.16794147003893994, 0.210616271725653, 0.14726582046812178, 0.34767967189359178, 0.3870348805250492, 0.69193215472900871, 0.9984162355770213, 0.29774051190916778, 1.2299664132654036, 0.30470150353253861, 0.8834050846557604, 2.172534882989174, 3.3894897847874983, 2.7780926974823936, 0.07206871147150469, 0.57798057234470324, 0.69329727046227119, 0.12704287215548629, 0.48241706025762882, 0.16418783818597768, 0.89036306747917748, 0.21685788223959659, 0.58070192347725935, 1.4813069864441957, 2.5561031365142419, 0.35888921584771011, 1.7202042191135065, 0.44291931738417956, 0.37054539891724031, 1.2108196090510217, 0.90271244230931269, 1.7613337500459723, 1.1523963510873814, 1.7517236753096488, 1.2362193559899253, 2.7073009695402557, 1.9013866274364009, 1.6550308589173617, 1.8836157757571184, 1.4748132471218112, 0.38311850131604536, 2.3439764417394446, 2.6769835851104182, 0.14558270081289568, 0.5901224936256575, 0.25888266734818494, 0.78115538394076012, 0.15689040500269807, 0.19221465351403599, 0.40115229152485204, 0.15875006897384086, 1.4382626302766441, 0.36955026527166285, 0.97987157322268958, 3.8713302765306015, 1.728213836879134, 2.4461976514487671, 0.89187381667955479, 0.13883674265562623, 2.0693198577278249, 3.2158332837841788, 0.99870911808617957, 0.80218318029264246, 0.97117202887471554, 0.2970101521405244, 0.63644128776808018, 0.68264505039757606, 0.43731484248486485, 1.1219028894567258, 0.80900095586922649, 0.74117741461428233, 1.4495780241012428, 3.2321377441659429, 0.3160240393165713, 0.16195963981150721, 1.9598120934992784, 1.2863149661062354, 2.2170949598389829, 3.4223697739225831, 1.9508730998855035, 0.48183701901136361, 1.5214192009185594, 3.2835004843552658, 0.15043114797526239, 0.47811232976061574, 0.87854598456440613, 2.45354435839449, 1.1784702536995237, 1.3087593078224726, 1.87337307908594, 1.271060342642554, 0.80359309143794988, 1.2498835384467175, 2.6317310530784965, 1.4651812313289374, 2.3916299996182824, 2.7731107737948584, 1.6294916810197435, 0.76620152023357757, 0.47054465117358113, 0.58097220889740664, 0.91656983080501653, 1.319171444295546, 1.7107561752008302, 0.33713255521202817, 0.20529400394542249, 1.0683832021841537, 0.21563644693368664, 0.62021786883662444, 0.95058122383774479, 1.4835167128559961, 1.8314262676852986, 0.98545315838086034, 2.0831925876658275, 0.14762338300882294, 1.2933168127667736, 0.50891658074406154, 0.9134077357659014, 0.21606861708568978, 0.66144036461044076, 0.72604547726718205, 0.65843227089337164, 0.56938389435228332, 0.27460994674387662, 0.16169062927092248, 0.60417654441505497, 0.36010825034076427, 0.23079594262585079, 0.57463671874740685, 0.23653009911946721, 0.16491440580352199, 0.18715342860366574, 0.17419810733968302, 1.3369678439354358, 0.21450790683010931, 0.15349154834376161, 0.85086056264028342, 1.0119866829244628, 1.4256894496788539, 0.81478991828290359, 0.93479903925369146, 0.15498574730230885, 1.1382857448449193, 0.36974537017551989, 0.15264745704007854, 1.0231604167957924, 0.56114068346541346, 0.7800389925114577, 0.56302174864905496, 3.9544124089853061, 3.2467735686535453, 1.3290362543556917, 3.1771446079065822, 1.3593047150710871, 1.1900173183611564, 1.6502511994998148, 1.8203406145077714, 3.2070200598479195, 1.9832508705562628, 1.5989321873055415, 2.7963106039528078, 2.0618161382071514, 10.775815423551343, 1.9775811119229623, 1.0857653715696398, 0.97161411353524685, 3.1137634653208917, 2.0763330445362764, 3.2974275668734676, 2.8759180991828535, 2.1223868928432386, 0.73752291340324894, 0.52290163854000393, 1.7303518752632421, 1.1881299967011443, 4.5537641840467877, 1.0501317137095161, 2.8922358458299011, 1.6834603794277991, 1.2173975000387567, 2.9614117698539131, 4.9250131697322708, 3.3894868972210426, 1.3588739477534133, 0.84178008368315238, 2.0585439288065932, 1.8616180523406043, 2.7618241097519096, 3.4864783403638513, 5.7375827891221434, 2.1665858373171072, 1.3764705081414221, 0.70798679906970496, 0.74821964935520413, 1.0246697972501768, 1.3347526016321685, 4.4452392243658396, 0.83481656569575524, 1.1730578347740597, 1.0630294536574538, 0.94629917261731888, 0.89273504050311114, 1.5555900893654924, 1.767921437650785, 1.5060169799736358, 0.68106521982482038, 1.318845594218151, 1.400780498357223, 0.76180600360779749, 0.84932656992056599, 1.0477098651119212, 1.0304958054256166, 1.3300814222686794, 1.1431955401301868, 2.2083185806928998, 0.41896063349486118, 0.83929740969534228, 0.95218900364874393, 0.70924375272520468, 0.85980902801738157, 0.99648564899390901, 0.89594470845011309, 0.30342990487898475, 0.30555745204041729, 1.736855141884561, 1.4567520959406854, 0.51335976753089163, 0.77747839997416979, 1.0530248186637965, 0.71032453953057828, 0.90264381488216716, 1.8637568431703235, 1.275011567420486, 1.6733060248895804, 0.27067588938603093, 0.60370122835857687, 0.42853711616351225, 0.63865706754864793, 0.69152704186858571, 1.126632451598881, 0.18051126481456334, 0.17995602497000418, 0.30842635523978557, 0.1289860052325123, 0.35423663605832195, 0.72149998283596961, 0.2019335051272573, 0.21152680854149672, 0.95410856383334497, 0.33066445727058597, 1.2267189777192224, 0.22873381470905871]\n",
      "[0.049747835488519764, 0.07206871147150469, 0.072777425313329244, 0.12704287215548629, 0.1289860052325123, 0.13081607801481004, 0.1311746003223756, 0.13561240101854169, 0.13883674265562623, 0.14245148083791234, 0.14558270081289568, 0.14565351421708525, 0.14726582046812178, 0.14762338300882294, 0.14806169555195742, 0.15043114797526239, 0.1511495244520161, 0.15154738003726836, 0.15248226527857603, 0.15264745704007854, 0.15347829023704754, 0.15349154834376161, 0.15498574730230885, 0.15689040500269807, 0.15861006305980158, 0.1586661268683148, 0.15875006897384086, 0.15922095754797735, 0.16114707113408386, 0.16169062927092248, 0.16195963981150721, 0.16373768341015627, 0.16418783818597768, 0.16491440580352199, 0.16794147003893994, 0.16805997330469799, 0.17055253696384773, 0.17419810733968302, 0.17995602497000418, 0.18051126481456334, 0.18715342860366574, 0.19221465351403599, 0.19277473974886886, 0.19683823990091978, 0.19836558644326982, 0.20163145407097771, 0.2019335051272573, 0.20529400394542249, 0.20756482800545692, 0.210616271725653, 0.21109853035683682, 0.21152680854149672, 0.21361762729318054, 0.21437578854528008, 0.21450790683010931, 0.21563644693368664, 0.21606861708568978, 0.21685788223959659, 0.22873381470905871, 0.23079594262585079, 0.23653009911946721, 0.25794932523978359, 0.25888266734818494, 0.26163474213829457, 0.26549537429151693, 0.2678752402149463, 0.27067588938603093, 0.27204223736662486, 0.27460994674387662, 0.28116606329863009, 0.28659770526852268, 0.2970101521405244, 0.29774051190916778, 0.30342990487898475, 0.30470150353253861, 0.30555745204041729, 0.30842635523978557, 0.3160240393165713, 0.32472400898528964, 0.33039838449753067, 0.33066445727058597, 0.33453802728180687, 0.33713255521202817, 0.33950899045878785, 0.34301269381486343, 0.34767967189359178, 0.35297409215917003, 0.35423663605832195, 0.35585819660406826, 0.35888921584771011, 0.36010825034076427, 0.36955026527166285, 0.36974537017551989, 0.37054539891724031, 0.38048806653114747, 0.38311850131604536, 0.38443839735159052, 0.3869026355850394, 0.3870348805250492, 0.38934715257015667, 0.39059741445426543, 0.40115229152485204, 0.41896063349486118, 0.41983333447493143, 0.42169599648525474, 0.42853711616351225, 0.43731484248486485, 0.44016490280951714, 0.44030781578315253, 0.44291931738417956, 0.46009257006125032, 0.47054465117358113, 0.47165401106212934, 0.47811232976061574, 0.48183701901136361, 0.48241706025762882, 0.4943044305896368, 0.50891658074406154, 0.51335976753089163, 0.52290163854000393, 0.52442443228959768, 0.53155009814103349, 0.54830076712297426, 0.56114068346541346, 0.56302174864905496, 0.56409520628177512, 0.56938389435228332, 0.57463671874740685, 0.57525826898700338, 0.57798057234470324, 0.58070192347725935, 0.58097220889740664, 0.5901224936256575, 0.60370122835857687, 0.60417654441505497, 0.62021786883662444, 0.62306583411034122, 0.63644128776808018, 0.63865706754864793, 0.64435978016832374, 0.65843227089337164, 0.66144036461044076, 0.68106521982482038, 0.68264505039757606, 0.69152704186858571, 0.69193215472900871, 0.69329727046227119, 0.69630852343245175, 0.70798679906970496, 0.70924375272520468, 0.71032453953057828, 0.7158783405992275, 0.71695036887422692, 0.72149998283596961, 0.7228292884083598, 0.72604547726718205, 0.73752291340324894, 0.74117741461428233, 0.74821964935520413, 0.75063649760610152, 0.76180600360779749, 0.76567365124166797, 0.76620152023357757, 0.77747839997416979, 0.7800389925114577, 0.78115538394076012, 0.79170648728373849, 0.80218318029264246, 0.80359309143794988, 0.80900095586922649, 0.80990250713597378, 0.81478991828290359, 0.83481656569575524, 0.83929740969534228, 0.84178008368315238, 0.84932656992056599, 0.85086056264028342, 0.85980902801738157, 0.87854598456440613, 0.8834050846557604, 0.89036306747917748, 0.89187381667955479, 0.89273504050311114, 0.89594470845011309, 0.90264381488216716, 0.90271244230931269, 0.9134077357659014, 0.91656983080501653, 0.93086493929197212, 0.93479903925369146, 0.94629917261731888, 0.95058122383774479, 0.95218900364874393, 0.95410856383334497, 0.95751041345441656, 0.97117202887471554, 0.97161411353524685, 0.97987157322268958, 0.98545315838086034, 0.98971671379707582, 0.99643547454617709, 0.99648564899390901, 0.9984162355770213, 0.99870911808617957, 1.0119866829244628, 1.0231604167957924, 1.0246697972501768, 1.0304958054256166, 1.0477098651119212, 1.0501317137095161, 1.0530248186637965, 1.0630294536574538, 1.0683832021841537, 1.0857653715696398, 1.1192102637246149, 1.1219028894567258, 1.126632451598881, 1.1348041519618939, 1.1382857448449193, 1.1431955401301868, 1.1523963510873814, 1.1730578347740597, 1.1784702536995237, 1.1881299967011443, 1.1900173183611564, 1.1937330195477709, 1.2108196090510217, 1.2173975000387567, 1.2267189777192224, 1.2299664132654036, 1.2362193559899253, 1.2498835384467175, 1.2581347120718616, 1.271060342642554, 1.275011567420486, 1.2863149661062354, 1.2933168127667736, 1.3087593078224726, 1.318845594218151, 1.319171444295546, 1.3290362543556917, 1.3300814222686794, 1.3347526016321685, 1.3369678439354358, 1.3588739477534133, 1.3593047150710871, 1.3764705081414221, 1.400780498357223, 1.4256894496788539, 1.4382626302766441, 1.4495780241012428, 1.4567520959406854, 1.4651812313289374, 1.4748132471218112, 1.4813069864441957, 1.4835167128559961, 1.5060169799736358, 1.5214192009185594, 1.5417258445470572, 1.5555900893654924, 1.5989321873055415, 1.6166708720135579, 1.6294916810197435, 1.6502511994998148, 1.6550308589173617, 1.6733060248895804, 1.6834603794277991, 1.7094938731058491, 1.7107561752008302, 1.7202042191135065, 1.728213836879134, 1.7303518752632421, 1.736855141884561, 1.7517236753096488, 1.7613337500459723, 1.7619332231305984, 1.767921437650785, 1.8203406145077714, 1.8314262676852986, 1.8616180523406043, 1.8637568431703235, 1.87337307908594, 1.8836157757571184, 1.9013866274364009, 1.9508730998855035, 1.9598120934992784, 1.9775811119229623, 1.9832508705562628, 2.0585439288065932, 2.0618161382071514, 2.0693198577278249, 2.0763330445362764, 2.0777702469989201, 2.0831925876658275, 2.1223868928432386, 2.1665858373171072, 2.172534882989174, 2.2083185806928998, 2.2170949598389829, 2.3439764417394446, 2.3916299996182824, 2.4461976514487671, 2.45354435839449, 2.5561031365142419, 2.6314040334769913, 2.6317310530784965, 2.6769835851104182, 2.7073009695402557, 2.7618241097519096, 2.7731107737948584, 2.7780926974823936, 2.7963106039528078, 2.8759180991828535, 2.8922358458299011, 2.9614117698539131, 3.1137634653208917, 3.1771446079065822, 3.2070200598479195, 3.2158332837841788, 3.2321377441659429, 3.2467735686535453, 3.2835004843552658, 3.2974275668734676, 3.3894868972210426, 3.3894897847874983, 3.4223697739225831, 3.4864783403638513, 3.8713302765306015, 3.9544124089853061, 4.4452392243658396, 4.5537641840467877, 4.9250131697322708, 5.7375827891221434, 10.775815423551343]\n",
      "[0.049747835488519764]\n"
     ]
    },
    {
     "name": "stderr",
     "output_type": "stream",
     "text": [
      "\r",
      "  5%|█▉                                        | 8/172 [00:02<00:49,  3.33it/s]"
     ]
    },
    {
     "name": "stdout",
     "output_type": "stream",
     "text": [
      "[0.6761083206589813, 0.47716432081349336, 1.4966926510471756, 1.4442858560609002, 0.2292809491547525, 0.20547974421398352, 0.22759601981330463, 0.352091661772992, 0.12415213604609079, 0.39246199087470862, 0.24446994720084606, 0.18995818635286826, 0.89725610962326419, 0.53117108292796211, 0.40899531710926706, 0.27167031980758966, 0.4183279793484011, 0.11628001238373782, 0.54641798437615052, 0.54200898605295711, 0.013129203872509709, 0.70165402213214045, 1.2777142064858735, 0.93222593069987802, 0.20399973391474543, 0.23303830537560907, 0.19272240006729138, 0.60821485078318616, 0.20155537178103952, 0.71243218561811661, 0.27249479862494469, 0.19646201368494981, 0.24424203548855772, 0.99688665237046115, 0.19057651550656057, 0.26251994545799817, 0.32156880040207703, 0.36720034849232869, 0.35452050970367949, 0.46910718304489618, 0.26861792336248053, 0.30006317923116255, 0.30473834312994613, 0.19665162690422705, 0.26126892868892976, 0.73278354648042832, 0.33469884129320243, 0.2146102610842375, 0.23074778806175142, 0.19381023982676773, 1.3520602470520946, 0.47117849122589633, 0.50284992197096279, 0.27857228704206305, 0.7382913992281307, 0.20354125118934116, 2.3634856578470917, 1.8111322490789687, 0.87388248854475004, 0.44718515811751386, 0.18093551904023716, 0.20303916630353092, 0.39480821586941395, 0.41103533264609932, 0.18774842569655512, 0.53990108769193157, 0.24013919088044702, 0.22517025951472988, 0.8590357016721879, 0.32272786158776851, 0.17509711414713264, 0.30260788866147698, 0.21614159765824834, 0.36970280833108626, 0.54539085736082527, 0.23721464510350349, 0.38773020159455907, 0.36343588079169642, 0.69297137371434014, 0.51065676078503996, 0.30880511884333744, 0.38902217459984906, 0.42062609439381538, 0.48488418440810577, 0.38093780314358067, 0.14905268007104178, 0.19106651083300577, 0.92409037907209912, 1.2648230932108955, 0.023501430992774009, 1.5024767129626844, 0.044044952452170091, 1.1480804579927202, 1.9012367420411045, 3.1180783786515387, 2.50582534510822, 0.31353508303045358, 0.30448881677967643, 0.41947440577493789, 0.31923357339841907, 0.75478831862940288, 0.38798970458916782, 0.63590719720159239, 0.22523298987149751, 0.34809237769580803, 1.2175650358879422, 2.2883616714378099, 0.20020383631957214, 1.454824001454146, 0.71404438345352716, 0.20483779342522862, 0.9495626482177334, 0.64689957257043629, 1.4957995335470442, 0.89204965002334302, 1.4862181648963271, 0.97517716948289501, 2.4394532954160768, 1.6354779274215805, 1.3902373731122151, 1.6177887155423996, 1.2113038152809468, 0.21209414619367326, 2.0768111330387686, 2.409125005537244, 0.34699001606770091, 0.34964961195168071, 0.19305606656140803, 1.0555559947576478, 0.26834364947438577, 0.44493751450723656, 0.20638052222147285, 0.28273313643570497, 1.1727862965832461, 0.17196387258218268, 0.71600380237417205, 3.6013776289614965, 1.4611558946816503, 2.1779350129894679, 0.63156158060653689, 0.21774381593577774, 1.8011714412534034, 2.9466207214419584, 0.73564765127590304, 0.55084176975750765, 0.71401857728112628, 0.18881769600540932, 0.39556708774722638, 0.43713177372604062, 0.70929895430645751, 0.86072483055677185, 0.55620472556918765, 0.48991723743925836, 1.1859061764936589, 2.9628342224631141, 0.19543051523812052, 0.37097635410753815, 1.6911224091240147, 1.0196674658694531, 1.9484425224142423, 3.1526444648256859, 1.6816072101505652, 0.75624463121401053, 1.2531289700637795, 3.0137418230040529, 0.31729174375470304, 0.25958025739117813, 0.62366789257367528, 2.1855042735092032, 0.91787238935505777, 1.0462274284900213, 1.6072681493618277, 1.0092340666900443, 0.55224237407656973, 0.98697642521128126, 2.3639466147249628, 1.2017078920199329, 2.1242244535049322, 2.5051554229001942, 1.3650689076018985, 0.51824362617322506, 0.26281722611539704, 0.34866210079904963, 0.66166720404276502, 1.0570441856261314, 1.4454881845213634, 0.19358274796902822, 0.23223086762648196, 0.80873482978652933, 0.47005471996621112, 0.3823046541001292, 0.6948000969296475, 1.219469485898155, 1.5657290962590307, 0.72848182558077446, 1.8165121767010914, 0.2418731302907888, 1.5592837931041024, 0.27809884287284276, 0.65366986686640793, 0.47546427494541549, 0.40994637398315381, 0.47668054330599113, 0.41321765395207088, 0.32849879885976324, 0.17450649686752595, 0.37841118222371917, 0.36801589646041399, 0.20295561319049304, 0.22163649666436622, 0.34359252474730523, 0.21744095976373418, 0.37923536687271447, 0.25489457381224812, 0.2699953265911762, 1.0746935816562326, 0.2336179243382519, 0.34393682513491447, 0.59869452821559044, 0.75492823247073104, 1.1625981069206481, 0.56329777390873548, 0.67878802642217217, 0.35928017567984866, 0.87871868782264606, 0.63781669606374425, 0.2987644150964896, 0.90491324725100353, 0.43338936466427275, 0.53474136110550619, 0.33326932011113608, 3.6810070372159389, 3.5119408283077882, 1.5880622331603358, 3.4017956773830242, 1.6081537519333513, 0.93271971102474394, 1.3857438710104444, 2.0095000977163906, 3.3924178234021802, 1.8212304500806358, 1.3734594402074818, 2.7056238485776056, 1.9815699069506174, 10.701951217598664, 1.8346997398403364, 1.2053188276389997, 1.1143331195313682, 3.2759462056526498, 2.1684949529050992, 3.4139133159517314, 2.9683526905051041, 2.2839233516212443, 0.84143383772625346, 0.44957839518614107, 1.9018389670766049, 0.99661299893462252, 4.5588089025317027, 1.0648343671841505, 2.8539703023055969, 1.5672250924841726, 1.051119500047704, 3.0046802645101613, 4.920569716979581, 3.5623169837736577, 1.4280429023210282, 0.9694525210813324, 1.865024550646027, 1.6898371227428632, 2.9125272167392051, 3.5383603949135503, 5.7955672615684604, 2.0518704985328604, 1.2236934220352009, 0.6680559864303145, 0.6574959826768646, 1.1428741344692477, 1.3418950449394229, 4.3880104577981784, 0.70650521055814797, 1.0096053761221881, 0.8975179973137356, 0.73071273535676851, 0.66015927860364398, 1.3635914408223853, 1.6303080754907229, 1.4832168049043064, 0.51341915149410589, 1.1393344036710338, 1.4011121159638078, 0.50081996797868789, 0.65113926575500158, 0.94148519582782331, 0.8340220600553524, 1.0785779560659816, 0.88536289105029842, 1.9430923624274976, 0.40784089567031151, 0.83063198087326695, 0.79029065707283874, 0.62799020982100484, 0.67538411945625154, 0.7563284843730157, 0.76702562620992754, 0.50950552583229936, 0.33308328956912864, 1.7135820433388356, 1.4917953742060381, 0.33932839091451433, 0.51240477608360191, 1.214604174823289, 0.58273432934908143, 0.65182094672140511, 1.9653104386060691, 1.0144725794757063, 1.4040619470636664, 0.49192041619214533, 0.49216317121278813, 0.47509924651754643, 0.91252870841447919, 0.96567612715755557, 1.400953745911905, 0.25202292575280311, 0.25151532978172431, 0.57543960801023686, 0.29720686848528516, 0.62370884117032843, 0.99585046543447797, 0.20867869513755449, 0.20419628011337687, 0.69782406999240398, 0.19683621420326303, 0.96497289864038926, 0.22089337047729468]\n",
      "[0.013129203872509709, 0.023501430992774009, 0.044044952452170091, 0.11628001238373782, 0.12415213604609079, 0.14905268007104178, 0.17196387258218268, 0.17450649686752595, 0.17509711414713264, 0.18093551904023716, 0.18774842569655512, 0.18881769600540932, 0.18995818635286826, 0.19057651550656057, 0.19106651083300577, 0.19272240006729138, 0.19305606656140803, 0.19358274796902822, 0.19381023982676773, 0.19543051523812052, 0.19646201368494981, 0.19665162690422705, 0.19683621420326303, 0.20020383631957214, 0.20155537178103952, 0.20295561319049304, 0.20303916630353092, 0.20354125118934116, 0.20399973391474543, 0.20419628011337687, 0.20483779342522862, 0.20547974421398352, 0.20638052222147285, 0.20867869513755449, 0.21209414619367326, 0.2146102610842375, 0.21614159765824834, 0.21744095976373418, 0.21774381593577774, 0.22089337047729468, 0.22163649666436622, 0.22517025951472988, 0.22523298987149751, 0.22759601981330463, 0.2292809491547525, 0.23074778806175142, 0.23223086762648196, 0.23303830537560907, 0.2336179243382519, 0.23721464510350349, 0.24013919088044702, 0.2418731302907888, 0.24424203548855772, 0.24446994720084606, 0.25151532978172431, 0.25202292575280311, 0.25489457381224812, 0.25958025739117813, 0.26126892868892976, 0.26251994545799817, 0.26281722611539704, 0.26834364947438577, 0.26861792336248053, 0.2699953265911762, 0.27167031980758966, 0.27249479862494469, 0.27809884287284276, 0.27857228704206305, 0.28273313643570497, 0.29720686848528516, 0.2987644150964896, 0.30006317923116255, 0.30260788866147698, 0.30448881677967643, 0.30473834312994613, 0.30880511884333744, 0.31353508303045358, 0.31729174375470304, 0.31923357339841907, 0.32156880040207703, 0.32272786158776851, 0.32849879885976324, 0.33308328956912864, 0.33326932011113608, 0.33469884129320243, 0.33932839091451433, 0.34359252474730523, 0.34393682513491447, 0.34699001606770091, 0.34809237769580803, 0.34866210079904963, 0.34964961195168071, 0.352091661772992, 0.35452050970367949, 0.35928017567984866, 0.36343588079169642, 0.36720034849232869, 0.36801589646041399, 0.36970280833108626, 0.37097635410753815, 0.37841118222371917, 0.37923536687271447, 0.38093780314358067, 0.3823046541001292, 0.38773020159455907, 0.38798970458916782, 0.38902217459984906, 0.39246199087470862, 0.39480821586941395, 0.39556708774722638, 0.40784089567031151, 0.40899531710926706, 0.40994637398315381, 0.41103533264609932, 0.41321765395207088, 0.4183279793484011, 0.41947440577493789, 0.42062609439381538, 0.43338936466427275, 0.43713177372604062, 0.44493751450723656, 0.44718515811751386, 0.44957839518614107, 0.46910718304489618, 0.47005471996621112, 0.47117849122589633, 0.47509924651754643, 0.47546427494541549, 0.47668054330599113, 0.47716432081349336, 0.48488418440810577, 0.48991723743925836, 0.49192041619214533, 0.49216317121278813, 0.50081996797868789, 0.50284992197096279, 0.50950552583229936, 0.51065676078503996, 0.51240477608360191, 0.51341915149410589, 0.51824362617322506, 0.53117108292796211, 0.53474136110550619, 0.53990108769193157, 0.54200898605295711, 0.54539085736082527, 0.54641798437615052, 0.55084176975750765, 0.55224237407656973, 0.55620472556918765, 0.56329777390873548, 0.57543960801023686, 0.58273432934908143, 0.59869452821559044, 0.60821485078318616, 0.62366789257367528, 0.62370884117032843, 0.62799020982100484, 0.63156158060653689, 0.63590719720159239, 0.63781669606374425, 0.64689957257043629, 0.65113926575500158, 0.65182094672140511, 0.65366986686640793, 0.6574959826768646, 0.66015927860364398, 0.66166720404276502, 0.6680559864303145, 0.67538411945625154, 0.6761083206589813, 0.67878802642217217, 0.69297137371434014, 0.6948000969296475, 0.69782406999240398, 0.70165402213214045, 0.70650521055814797, 0.70929895430645751, 0.71243218561811661, 0.71401857728112628, 0.71404438345352716, 0.71600380237417205, 0.72848182558077446, 0.73071273535676851, 0.73278354648042832, 0.73564765127590304, 0.7382913992281307, 0.75478831862940288, 0.75492823247073104, 0.75624463121401053, 0.7563284843730157, 0.76702562620992754, 0.79029065707283874, 0.80873482978652933, 0.83063198087326695, 0.8340220600553524, 0.84143383772625346, 0.8590357016721879, 0.86072483055677185, 0.87388248854475004, 0.87871868782264606, 0.88536289105029842, 0.89204965002334302, 0.89725610962326419, 0.8975179973137356, 0.90491324725100353, 0.91252870841447919, 0.91787238935505777, 0.92409037907209912, 0.93222593069987802, 0.93271971102474394, 0.94148519582782331, 0.9495626482177334, 0.96497289864038926, 0.96567612715755557, 0.9694525210813324, 0.97517716948289501, 0.98697642521128126, 0.99585046543447797, 0.99661299893462252, 0.99688665237046115, 1.0092340666900443, 1.0096053761221881, 1.0144725794757063, 1.0196674658694531, 1.0462274284900213, 1.051119500047704, 1.0555559947576478, 1.0570441856261314, 1.0648343671841505, 1.0746935816562326, 1.0785779560659816, 1.1143331195313682, 1.1393344036710338, 1.1428741344692477, 1.1480804579927202, 1.1625981069206481, 1.1727862965832461, 1.1859061764936589, 1.2017078920199329, 1.2053188276389997, 1.2113038152809468, 1.214604174823289, 1.2175650358879422, 1.219469485898155, 1.2236934220352009, 1.2531289700637795, 1.2648230932108955, 1.2777142064858735, 1.3418950449394229, 1.3520602470520946, 1.3635914408223853, 1.3650689076018985, 1.3734594402074818, 1.3857438710104444, 1.3902373731122151, 1.400953745911905, 1.4011121159638078, 1.4040619470636664, 1.4280429023210282, 1.4442858560609002, 1.4454881845213634, 1.454824001454146, 1.4611558946816503, 1.4832168049043064, 1.4862181648963271, 1.4917953742060381, 1.4957995335470442, 1.4966926510471756, 1.5024767129626844, 1.5592837931041024, 1.5657290962590307, 1.5672250924841726, 1.5880622331603358, 1.6072681493618277, 1.6081537519333513, 1.6177887155423996, 1.6303080754907229, 1.6354779274215805, 1.6816072101505652, 1.6898371227428632, 1.6911224091240147, 1.7135820433388356, 1.8011714412534034, 1.8111322490789687, 1.8165121767010914, 1.8212304500806358, 1.8346997398403364, 1.865024550646027, 1.9012367420411045, 1.9018389670766049, 1.9430923624274976, 1.9484425224142423, 1.9653104386060691, 1.9815699069506174, 2.0095000977163906, 2.0518704985328604, 2.0768111330387686, 2.1242244535049322, 2.1684949529050992, 2.1779350129894679, 2.1855042735092032, 2.2839233516212443, 2.2883616714378099, 2.3634856578470917, 2.3639466147249628, 2.409125005537244, 2.4394532954160768, 2.5051554229001942, 2.50582534510822, 2.7056238485776056, 2.8539703023055969, 2.9125272167392051, 2.9466207214419584, 2.9628342224631141, 2.9683526905051041, 3.0046802645101613, 3.0137418230040529, 3.1180783786515387, 3.1526444648256859, 3.2759462056526498, 3.3924178234021802, 3.4017956773830242, 3.4139133159517314, 3.5119408283077882, 3.5383603949135503, 3.5623169837736577, 3.6013776289614965, 3.6810070372159389, 4.3880104577981784, 4.5588089025317027, 4.920569716979581, 5.7955672615684604, 10.701951217598664]\n",
      "[0.013129203872509709]\n"
     ]
    },
    {
     "name": "stderr",
     "output_type": "stream",
     "text": [
      "\r",
      "  5%|██▏                                       | 9/172 [00:02<00:48,  3.35it/s]"
     ]
    },
    {
     "name": "stdout",
     "output_type": "stream",
     "text": [
      "[1.4866609226481047, 1.2762280867765208, 2.3212805933017044, 2.2688636132704563, 0.72036733913568785, 0.93544606222908633, 0.70760235627704315, 0.55596478793080117, 0.82431721142435088, 0.46780189829397867, 0.5999334090535392, 0.6776844295524137, 0.085040034878573742, 0.32134925320349678, 0.43331375109321713, 0.5879581290238286, 0.43845366294561283, 0.75418973758060226, 1.3698570928540772, 0.29500195371674642, 0.8211196358660704, 1.5137082035644205, 2.1006389013059477, 1.7519322371586288, 0.93142976820562762, 0.988172310668611, 0.79637055659539546, 0.28716299614909463, 0.7413441603955504, 0.19401242721210507, 0.65464475006909695, 0.86025943376505098, 0.70256896775849231, 1.8160515367465042, 0.89861681890472545, 0.65645503566352292, 1.0977175444498419, 0.54262437762470783, 0.54956119386520053, 1.2698859407301359, 0.65008081534268214, 1.0738619838880006, 1.0816466578225628, 0.89316314793251372, 1.0185334294029547, 1.5462939996223619, 1.1140246695928455, 0.93077615695480931, 0.72532186959030598, 0.86776770352034927, 2.1758159097007375, 1.2704856919558229, 1.3046477416082667, 1.0418685632188325, 1.5535898754052251, 0.92378696335784682, 3.1917161372303671, 2.6376407635330756, 1.6928594230605836, 1.2516065701207408, 0.88669075875879011, 0.92875034181955662, 0.50447765252162691, 0.4833899595740862, 0.87466561496820106, 1.3471457234322013, 1.0109777093710339, 0.96734822718793589, 1.6769354643988967, 0.58691481470294404, 0.82543289583613966, 0.60554313464241649, 0.7309584885477044, 0.53226695235488608, 0.34895997213155272, 0.71004554984195167, 0.51046561073649699, 0.54258020851839384, 0.19277414269107526, 1.3227468603973913, 1.1362708787346851, 1.2025448141336077, 0.45961889781162868, 0.35693845723059753, 0.50858502178559706, 0.90062427606772077, 0.93563659180431835, 0.34245848332198064, 0.44735494332944475, 0.85704415331458361, 0.66898189089226456, 0.8656993851784146, 0.34101974505630339, 2.7336553156868084, 3.9506120720652151, 3.3390357552084575, 0.52293394346967714, 1.1330461462812171, 1.2483498385484351, 0.53775877470537303, 0.17422550673849138, 0.51668400707571005, 1.4462758934895317, 0.73157321310415313, 1.1314178234024443, 2.040151852934184, 3.1163510778667236, 0.89895019779501895, 2.2796520477541224, 0.2076415647200151, 0.91130911398941683, 1.7688512664663212, 1.4592085093402105, 2.3208292556236296, 1.7101120661161981, 2.3112114795942742, 1.7940785321185251, 3.2675681971342292, 2.4609828501383961, 2.2142347830092692, 2.4431812136502957, 2.0335457252169942, 0.92402669041220442, 2.9040093229209001, 3.2372610719135717, 0.55726176496026192, 1.1437415122252235, 0.78932583383560762, 0.23764082538879244, 0.64832987739313963, 0.44366232442329206, 0.94807520906891662, 0.63798629588021283, 1.9979832522023828, 0.92022167719022929, 1.5395661934332252, 4.4322791313879035, 2.2884191060937145, 3.0066858651141586, 1.4504371029367318, 0.66893331515792598, 2.6298397246323217, 3.7765880912816923, 1.5580584373160025, 1.3573049290712282, 1.5279518179727336, 0.83186881306663352, 1.1892205625802277, 1.2365880697793425, 0.19938837506112572, 1.6801185516211077, 1.3647444351083262, 1.2968733432111781, 2.0084272182942811, 3.7929219364509841, 0.8506957056303569, 0.54076370028268073, 2.5205400910936815, 1.8466230712382183, 2.7777651252821651, 3.983272856473608, 2.5117652591876807, 0.10716781977591262, 2.0821366756288686, 3.8444187350613599, 0.59721340268054479, 1.0275735903399146, 1.4347451042066484, 3.0139411291613598, 1.7362435290006299, 1.8672413781328814, 2.4330809286037631, 1.8292520636671439, 1.3587057487775671, 1.8086575766402828, 3.1919835845935265, 2.0239075426912749, 2.9517623311766461, 3.3334150885360985, 2.188527597285967, 1.3200991772039721, 1.0164994714268762, 1.131555463285151, 1.4725311688196663, 1.8774249592203436, 2.2701550320683985, 0.87565291724565852, 0.71649519593161337, 1.6260070531070134, 0.42445439291855608, 1.172095581488984, 1.5067800534768401, 2.0425147699173309, 2.3909577187961322, 1.54207088898288, 2.643081277725424, 0.66034801757693595, 0.74008440094018524, 1.0613301990401853, 1.4716461365368918, 0.40993644772626425, 1.218103346554646, 1.2810805272756784, 1.2126378759199992, 1.1236281113520419, 0.81286196738706962, 0.52916540464887862, 1.1557121864350535, 0.89943365504935524, 0.74725091726499282, 1.1248940688139275, 0.75519121521528487, 0.53160209115987156, 0.68501350694224661, 0.6620872982587056, 1.8952655573124313, 0.7245172837897077, 0.56892320017421572, 1.405942286041008, 1.5685206810136421, 1.9842711437326594, 1.3698643238718609, 1.491203588830611, 0.55005240310937042, 1.6956382033965915, 0.27309699364035322, 0.61806420971193932, 1.3541280163795968, 0.98464523464767462, 1.2963949282273759, 1.0781322853216166, 4.5145256825765143, 2.690847622479192, 0.79139015127605961, 2.69473151312111, 0.84783325333074333, 1.7111309136713644, 2.1791550597350979, 1.4449792925961285, 2.8067237149213971, 2.3228413613534005, 2.0593103793059089, 2.9781748262090209, 2.248892079843861, 10.867122876211017, 2.2831998546046983, 0.96111435345058449, 0.81478003698783596, 2.7646429652073468, 1.9128698527708146, 3.0429951043816756, 2.6820843456105328, 1.7999285663929072, 0.7489730937541893, 0.90052850747548163, 1.4032002468001523, 1.6117105589022058, 4.5124764635317529, 1.1553980525238119, 2.9681366359446844, 1.9555947223238042, 1.6015624744420056, 2.8690164577848423, 4.8992465695388434, 3.0136370094835665, 1.3050695828528145, 0.76011114848464978, 2.4520538020754841, 2.2225862390714113, 2.4445432202257384, 3.3643640756795445, 5.5774590520552207, 2.4136762321249003, 1.728830499073599, 0.98484799467026551, 1.0853758781228802, 0.91617991951540145, 1.4111382156625747, 4.532125054255534, 1.2057990874994811, 1.5562579166475139, 1.458192461883381, 1.4176922482367795, 1.38853938976305, 1.9621671356961556, 2.0731143878486327, 1.6215191907491242, 1.1226972431030404, 1.716760697528575, 1.482667783797855, 1.3211330710103804, 1.3062148086524061, 1.3575664041398177, 1.4711506677312332, 1.8392917214072715, 1.6659816363452962, 2.7356341956989136, 0.77282474939747925, 1.0322565403488342, 1.3528812493294351, 1.0427120108893686, 1.2989336941672507, 1.4976021864539537, 1.2587908963814303, 0.42291311225754119, 0.69125423466937452, 1.8342846529085854, 1.4632100144637692, 0.98974084421351349, 1.3177539209809466, 0.82786414000714759, 1.1015972632008284, 1.4211289581606101, 1.6919170677200384, 1.8002139130646118, 2.2123433155277916, 0.40567455838640476, 0.99960543559134096, 0.7042599858599502, 0.15370407245669704, 0.17973305077006108, 0.57323686071362956, 0.68098002113128786, 0.68083428197954232, 0.31758396848916154, 0.5999809052860654, 0.27236893862288952, 0.19414925282068005, 0.72626335573926248, 0.73739541087496796, 1.5105419960381399, 0.8669759844379612, 1.7849640479859996, 0.74558615576276022]\n",
      "[0.085040034878573742, 0.10716781977591262, 0.15370407245669704, 0.17422550673849138, 0.17973305077006108, 0.19277414269107526, 0.19401242721210507, 0.19414925282068005, 0.19938837506112572, 0.2076415647200151, 0.23764082538879244, 0.27236893862288952, 0.27309699364035322, 0.28716299614909463, 0.29500195371674642, 0.31758396848916154, 0.32134925320349678, 0.34101974505630339, 0.34245848332198064, 0.34895997213155272, 0.35693845723059753, 0.40567455838640476, 0.40993644772626425, 0.42291311225754119, 0.42445439291855608, 0.43331375109321713, 0.43845366294561283, 0.44366232442329206, 0.44735494332944475, 0.45961889781162868, 0.46780189829397867, 0.4833899595740862, 0.50447765252162691, 0.50858502178559706, 0.51046561073649699, 0.51668400707571005, 0.52293394346967714, 0.52916540464887862, 0.53160209115987156, 0.53226695235488608, 0.53775877470537303, 0.54076370028268073, 0.54258020851839384, 0.54262437762470783, 0.54956119386520053, 0.55005240310937042, 0.55596478793080117, 0.55726176496026192, 0.56892320017421572, 0.57323686071362956, 0.58691481470294404, 0.5879581290238286, 0.59721340268054479, 0.5999334090535392, 0.5999809052860654, 0.60554313464241649, 0.61806420971193932, 0.63798629588021283, 0.64832987739313963, 0.65008081534268214, 0.65464475006909695, 0.65645503566352292, 0.66034801757693595, 0.6620872982587056, 0.66893331515792598, 0.66898189089226456, 0.6776844295524137, 0.68083428197954232, 0.68098002113128786, 0.68501350694224661, 0.69125423466937452, 0.70256896775849231, 0.7042599858599502, 0.70760235627704315, 0.71004554984195167, 0.71649519593161337, 0.72036733913568785, 0.7245172837897077, 0.72532186959030598, 0.72626335573926248, 0.7309584885477044, 0.73157321310415313, 0.73739541087496796, 0.74008440094018524, 0.7413441603955504, 0.74558615576276022, 0.74725091726499282, 0.7489730937541893, 0.75418973758060226, 0.75519121521528487, 0.76011114848464978, 0.77282474939747925, 0.78932583383560762, 0.79139015127605961, 0.79637055659539546, 0.81286196738706962, 0.81478003698783596, 0.8211196358660704, 0.82431721142435088, 0.82543289583613966, 0.82786414000714759, 0.83186881306663352, 0.84783325333074333, 0.8506957056303569, 0.85704415331458361, 0.86025943376505098, 0.8656993851784146, 0.8669759844379612, 0.86776770352034927, 0.87466561496820106, 0.87565291724565852, 0.88669075875879011, 0.89316314793251372, 0.89861681890472545, 0.89895019779501895, 0.89943365504935524, 0.90052850747548163, 0.90062427606772077, 0.91130911398941683, 0.91617991951540145, 0.92022167719022929, 0.92378696335784682, 0.92402669041220442, 0.92875034181955662, 0.93077615695480931, 0.93142976820562762, 0.93544606222908633, 0.93563659180431835, 0.94807520906891662, 0.96111435345058449, 0.96734822718793589, 0.98464523464767462, 0.98484799467026551, 0.988172310668611, 0.98974084421351349, 0.99960543559134096, 1.0109777093710339, 1.0164994714268762, 1.0185334294029547, 1.0275735903399146, 1.0322565403488342, 1.0418685632188325, 1.0427120108893686, 1.0613301990401853, 1.0738619838880006, 1.0781322853216166, 1.0816466578225628, 1.0853758781228802, 1.0977175444498419, 1.1015972632008284, 1.1140246695928455, 1.1226972431030404, 1.1236281113520419, 1.1248940688139275, 1.1314178234024443, 1.131555463285151, 1.1330461462812171, 1.1362708787346851, 1.1437415122252235, 1.1553980525238119, 1.1557121864350535, 1.172095581488984, 1.1892205625802277, 1.2025448141336077, 1.2057990874994811, 1.2126378759199992, 1.218103346554646, 1.2365880697793425, 1.2483498385484351, 1.2516065701207408, 1.2587908963814303, 1.2698859407301359, 1.2704856919558229, 1.2762280867765208, 1.2810805272756784, 1.2963949282273759, 1.2968733432111781, 1.2989336941672507, 1.3046477416082667, 1.3050695828528145, 1.3062148086524061, 1.3177539209809466, 1.3200991772039721, 1.3211330710103804, 1.3227468603973913, 1.3471457234322013, 1.3528812493294351, 1.3541280163795968, 1.3573049290712282, 1.3575664041398177, 1.3587057487775671, 1.3647444351083262, 1.3698570928540772, 1.3698643238718609, 1.38853938976305, 1.4032002468001523, 1.405942286041008, 1.4111382156625747, 1.4176922482367795, 1.4211289581606101, 1.4347451042066484, 1.4449792925961285, 1.4462758934895317, 1.4504371029367318, 1.458192461883381, 1.4592085093402105, 1.4632100144637692, 1.4711506677312332, 1.4716461365368918, 1.4725311688196663, 1.482667783797855, 1.4866609226481047, 1.491203588830611, 1.4976021864539537, 1.5067800534768401, 1.5105419960381399, 1.5137082035644205, 1.5279518179727336, 1.5395661934332252, 1.54207088898288, 1.5462939996223619, 1.5535898754052251, 1.5562579166475139, 1.5580584373160025, 1.5685206810136421, 1.6015624744420056, 1.6117105589022058, 1.6215191907491242, 1.6260070531070134, 1.6659816363452962, 1.6769354643988967, 1.6801185516211077, 1.6919170677200384, 1.6928594230605836, 1.6956382033965915, 1.7101120661161981, 1.7111309136713644, 1.716760697528575, 1.728830499073599, 1.7362435290006299, 1.7519322371586288, 1.7688512664663212, 1.7849640479859996, 1.7940785321185251, 1.7999285663929072, 1.8002139130646118, 1.8086575766402828, 1.8160515367465042, 1.8292520636671439, 1.8342846529085854, 1.8392917214072715, 1.8466230712382183, 1.8672413781328814, 1.8774249592203436, 1.8952655573124313, 1.9128698527708146, 1.9555947223238042, 1.9621671356961556, 1.9842711437326594, 1.9979832522023828, 2.0084272182942811, 2.0239075426912749, 2.0335457252169942, 2.040151852934184, 2.0425147699173309, 2.0593103793059089, 2.0731143878486327, 2.0821366756288686, 2.1006389013059477, 2.1758159097007375, 2.1791550597350979, 2.188527597285967, 2.2123433155277916, 2.2142347830092692, 2.2225862390714113, 2.248892079843861, 2.2688636132704563, 2.2701550320683985, 2.2796520477541224, 2.2831998546046983, 2.2884191060937145, 2.3112114795942742, 2.3208292556236296, 2.3212805933017044, 2.3228413613534005, 2.3909577187961322, 2.4136762321249003, 2.4330809286037631, 2.4431812136502957, 2.4445432202257384, 2.4520538020754841, 2.4609828501383961, 2.5117652591876807, 2.5205400910936815, 2.6298397246323217, 2.6376407635330756, 2.643081277725424, 2.6820843456105328, 2.690847622479192, 2.69473151312111, 2.7336553156868084, 2.7356341956989136, 2.7646429652073468, 2.7777651252821651, 2.8067237149213971, 2.8690164577848423, 2.9040093229209001, 2.9517623311766461, 2.9681366359446844, 2.9781748262090209, 3.0066858651141586, 3.0136370094835665, 3.0139411291613598, 3.0429951043816756, 3.1163510778667236, 3.1917161372303671, 3.1919835845935265, 3.2372610719135717, 3.2675681971342292, 3.3334150885360985, 3.3390357552084575, 3.3643640756795445, 3.7765880912816923, 3.7929219364509841, 3.8444187350613599, 3.9506120720652151, 3.983272856473608, 4.4322791313879035, 4.5124764635317529, 4.5145256825765143, 4.532125054255534, 4.8992465695388434, 5.5774590520552207, 10.867122876211017]\n",
      "[0.085040034878573742]\n"
     ]
    },
    {
     "name": "stderr",
     "output_type": "stream",
     "text": [
      "\r",
      "  6%|██▍                                      | 10/172 [00:03<00:48,  3.34it/s]"
     ]
    },
    {
     "name": "stdout",
     "output_type": "stream",
     "text": [
      "[0.244515382845261, 0.41895533640158239, 0.69002761746305108, 0.6382813387608669, 0.95768642116707026, 0.74071839964299313, 0.96685527982012676, 1.1243593856433842, 0.83372819226023187, 1.1919223046458625, 1.0500876233493381, 0.97680660336540071, 1.7087147882502289, 1.3375822802119139, 1.2178466696026946, 1.0674946765614848, 1.2202335537735489, 0.89716605488557122, 0.29170034398732869, 1.3544587878436862, 0.82808119794714186, 0.22427772245308847, 0.47892687690945451, 0.18849099596562394, 0.74482284544757127, 0.68808123402402044, 0.87990349925560463, 1.4051346391944624, 0.93044883610566287, 1.5137942489209115, 1.0240298165741697, 0.81984340028595071, 0.97743764776482889, 0.23774192739206024, 0.77673409414438033, 1.0183698980956897, 0.5872043865787413, 1.1399482972081143, 1.1291895706609421, 0.42098429502160817, 1.0253980271892846, 0.60810280096489955, 0.599423725756696, 0.78515366578558499, 0.66312922278803232, 0.2031808954524191, 0.57143992619964301, 0.75036461593442516, 0.95440957067599297, 0.81106965982771806, 0.54933611514794589, 0.42299709057949314, 0.39208735366730302, 0.64102314147251938, 0.19080547726676456, 0.7535639379018475, 1.54909183125721, 0.99946380668079826, 0.16317438933747908, 0.42996706147096042, 0.78613104602497863, 0.7475558766583652, 1.175356833226985, 1.1951486981880819, 0.80152114104421868, 0.34811827409270013, 0.66114457124441639, 0.71090825694860504, 0.16582229013381986, 1.091225277065746, 0.84664735311142425, 1.06998651806928, 0.94420459885498542, 1.1468244378618979, 1.33864916227707, 0.9688595488786228, 1.1682588621160275, 1.1378642431053576, 1.4968578484052755, 0.35719242132418821, 0.51288887035438957, 0.46080860167954629, 1.211890072692003, 1.2947523922756377, 1.1653173145019582, 0.76033768679366054, 0.73440207758978437, 1.7208977714083529, 2.0805164684698978, 0.79253193619233475, 2.3170733348526, 0.78252929380456404, 1.9633815005222601, 1.0854713623648011, 2.3024242139258666, 1.6911967073536802, 1.1294509515119928, 0.5317382742654263, 0.42534737143905071, 1.1294377028294138, 1.5557799323355372, 1.1652949789932103, 0.26903894114207422, 0.94725412269920495, 0.55377557977185987, 0.42191481336763126, 1.4742302935897047, 0.78025922640339984, 0.64819895279187889, 1.5128021710671276, 0.768417744393456, 0.20241942619332293, 0.25383621138196483, 0.68833450297612553, 0.17704003583143413, 0.6789213258675364, 0.22271747294643571, 1.6250888179281733, 0.82606119430024838, 0.58625019838664916, 0.80866684372362574, 0.41695229279225948, 0.75707982062440882, 1.2636938721529951, 1.5947679548411309, 1.120889213476681, 0.53306833471309312, 0.88636385379085181, 1.8648254503853767, 1.0264641879152632, 1.2339579967312422, 0.72591348831155134, 1.0398751587712896, 0.37115448842693982, 0.74533146894893909, 0.15045899022768416, 2.7854099097714795, 0.65010137887359076, 1.3632889664925971, 0.23597577826480109, 0.99204799206805261, 0.98705525318059117, 2.1309563371758333, 0.14649623884792581, 0.3422893871135213, 0.20868244244252943, 0.84521371883932905, 0.49590381623528001, 0.44973331671649652, 1.5100416749592405, 0.15562879987085024, 0.33166750726276523, 0.38844479860690434, 0.39191901047289451, 2.1471204582637093, 0.82912716122782337, 1.1430730324951657, 0.87644951967834583, 0.21923647164837354, 1.1335496253009272, 2.33674501033668, 0.86630638770044421, 1.5662944948806532, 0.44053831481649602, 2.197838987318784, 1.0823185068691772, 0.64928507028744387, 0.27418655686253968, 1.3711030324495876, 0.18823798895196345, 0.26959179910770553, 0.79755825781760004, 0.24324494768976757, 0.34124839392848311, 0.21679690981903868, 1.5497056902500612, 0.40793554675202504, 1.3106964046946123, 1.6906345762587456, 0.56274968760444788, 0.38028681498204014, 0.66694210190394998, 0.55408860433088603, 0.25118640155409144, 0.28174415844039058, 0.63929328526430396, 0.8027262490365128, 0.96187760877569939, 0.16333579730534611, 1.2582791164769338, 0.51429724819142086, 0.22798818409053023, 0.4224047163523092, 0.75726852044266257, 0.20439986838581573, 1.0047491004458362, 1.0071183496107872, 2.3747012758161374, 0.61148841149145339, 0.22372828622231627, 1.2676480789545979, 0.45335087497312399, 0.40583520164893283, 0.46940259288793196, 0.54920815257468014, 0.85841943167004087, 1.1533847592882955, 0.52979499961768772, 0.78087965343682408, 0.9331791841891286, 0.56094238394738638, 0.92496897242960263, 1.1526008074835887, 0.99491694109680107, 1.0177989876818001, 0.29639356860602323, 0.95621457436286073, 1.1127217796134843, 0.30556164248188117, 0.19544951056674847, 0.37265499813516939, 0.33279506847784235, 0.2342988103434297, 1.1315353832315673, 0.17908308381495369, 1.4328598431291886, 1.0603048021062211, 1.135248987722167, 0.90855828750367229, 0.55896660213095462, 0.68021317021155914, 2.8692991751284782, 4.3262892293436952, 2.3997010198513036, 4.1632302414295603, 2.4112891482972953, 0.51446980219340854, 0.75770195357083758, 2.7289106926405009, 4.0844232715000963, 1.686878618713068, 1.0282785620344637, 2.7389815797187511, 2.1036327261116532, 10.667166125487496, 1.769560336604594, 1.8543356981818748, 1.8044881962155741, 3.9242887935849597, 2.7044877839757469, 3.9639112714449252, 3.4753986902100165, 2.9500514258612549, 1.5112351228490943, 1.005287820405742, 2.5956510030372586, 0.93875186423542845, 4.8093346980801002, 1.5543505343091446, 3.0357380348687868, 1.6322272497992749, 1.0715728309856238, 3.3950952568424224, 5.1384136330516732, 4.2281725651903415, 1.9698631145777024, 1.6533017811843465, 1.5959500910312479, 1.5358613862296451, 3.544126710026299, 3.9340040127009908, 6.1703056394166103, 2.0584884629113844, 1.2385960432382777, 1.1687593071732634, 1.0652855465883404, 1.7957115006376301, 1.7693012961336876, 4.4631011999383317, 1.0009666353949984, 1.0559117286065378, 0.98376601126719798, 0.71510115840131028, 0.61919925523478681, 1.1866223201530943, 1.6132571602257559, 1.8217296790805499, 0.83541059372349213, 1.0780730990897416, 1.8050223106193464, 0.34262127279541338, 0.7672554051183611, 1.1911722842675299, 0.83513260892085661, 0.64533831372131656, 0.4898380892908476, 1.2629381113167335, 1.0672903487572289, 1.3317529250405735, 0.94216624113029801, 1.0699059897986685, 0.82269057809384172, 0.59038079863436066, 1.0286403943484452, 1.3074893306205215, 1.0640122199761071, 2.0215579511789667, 1.959081908889877, 0.81120174785909693, 0.44252085524567303, 1.9231368081256897, 0.95182422438869496, 0.51054607799132068, 2.5304325195921549, 0.52343067607427662, 0.72079031068884958, 1.2973520468034012, 0.95495947191951414, 1.1655796882690095, 1.7169481718603052, 1.7713132195476267, 2.2106687423376852, 0.99658927781399465, 0.99647785745124295, 1.370987282128258, 1.070870172215199, 1.4214158362767639, 1.8030945616281437, 0.94517861588608998, 0.93461162619899174, 0.22278234012311499, 0.81307993765277431, 0.20922633573902052, 0.93424391865497391]\n",
      "[0.14649623884792581, 0.15045899022768416, 0.15562879987085024, 0.16317438933747908, 0.16333579730534611, 0.16582229013381986, 0.17704003583143413, 0.17908308381495369, 0.18823798895196345, 0.18849099596562394, 0.19080547726676456, 0.19544951056674847, 0.20241942619332293, 0.2031808954524191, 0.20439986838581573, 0.20868244244252943, 0.20922633573902052, 0.21679690981903868, 0.21923647164837354, 0.22271747294643571, 0.22278234012311499, 0.22372828622231627, 0.22427772245308847, 0.22798818409053023, 0.2342988103434297, 0.23597577826480109, 0.23774192739206024, 0.24324494768976757, 0.244515382845261, 0.25118640155409144, 0.25383621138196483, 0.26903894114207422, 0.26959179910770553, 0.27418655686253968, 0.28174415844039058, 0.29170034398732869, 0.29639356860602323, 0.30556164248188117, 0.33166750726276523, 0.33279506847784235, 0.34124839392848311, 0.3422893871135213, 0.34262127279541338, 0.34811827409270013, 0.35719242132418821, 0.37115448842693982, 0.37265499813516939, 0.38028681498204014, 0.38844479860690434, 0.39191901047289451, 0.39208735366730302, 0.40583520164893283, 0.40793554675202504, 0.41695229279225948, 0.41895533640158239, 0.42098429502160817, 0.42191481336763126, 0.4224047163523092, 0.42299709057949314, 0.42534737143905071, 0.42996706147096042, 0.44053831481649602, 0.44252085524567303, 0.44973331671649652, 0.45335087497312399, 0.46080860167954629, 0.46940259288793196, 0.47892687690945451, 0.4898380892908476, 0.49590381623528001, 0.51054607799132068, 0.51288887035438957, 0.51429724819142086, 0.51446980219340854, 0.52343067607427662, 0.52979499961768772, 0.5317382742654263, 0.53306833471309312, 0.54920815257468014, 0.54933611514794589, 0.55377557977185987, 0.55408860433088603, 0.55896660213095462, 0.56094238394738638, 0.56274968760444788, 0.57143992619964301, 0.58625019838664916, 0.5872043865787413, 0.59038079863436066, 0.599423725756696, 0.60810280096489955, 0.61148841149145339, 0.61919925523478681, 0.6382813387608669, 0.63929328526430396, 0.64102314147251938, 0.64533831372131656, 0.64819895279187889, 0.64928507028744387, 0.65010137887359076, 0.66114457124441639, 0.66312922278803232, 0.66694210190394998, 0.6789213258675364, 0.68021317021155914, 0.68808123402402044, 0.68833450297612553, 0.69002761746305108, 0.71090825694860504, 0.71510115840131028, 0.72079031068884958, 0.72591348831155134, 0.73440207758978437, 0.74071839964299313, 0.74482284544757127, 0.74533146894893909, 0.7475558766583652, 0.75036461593442516, 0.7535639379018475, 0.75707982062440882, 0.75726852044266257, 0.75770195357083758, 0.76033768679366054, 0.7672554051183611, 0.768417744393456, 0.77673409414438033, 0.78025922640339984, 0.78087965343682408, 0.78252929380456404, 0.78515366578558499, 0.78613104602497863, 0.79253193619233475, 0.79755825781760004, 0.80152114104421868, 0.8027262490365128, 0.80866684372362574, 0.81106965982771806, 0.81120174785909693, 0.81307993765277431, 0.81984340028595071, 0.82269057809384172, 0.82606119430024838, 0.82808119794714186, 0.82912716122782337, 0.83372819226023187, 0.83513260892085661, 0.83541059372349213, 0.84521371883932905, 0.84664735311142425, 0.85841943167004087, 0.86630638770044421, 0.87644951967834583, 0.87990349925560463, 0.88636385379085181, 0.89716605488557122, 0.90855828750367229, 0.92496897242960263, 0.93044883610566287, 0.9331791841891286, 0.93424391865497391, 0.93461162619899174, 0.93875186423542845, 0.94216624113029801, 0.94420459885498542, 0.94517861588608998, 0.94725412269920495, 0.95182422438869496, 0.95440957067599297, 0.95495947191951414, 0.95621457436286073, 0.95768642116707026, 0.96187760877569939, 0.96685527982012676, 0.9688595488786228, 0.97680660336540071, 0.97743764776482889, 0.98376601126719798, 0.98705525318059117, 0.99204799206805261, 0.99491694109680107, 0.99647785745124295, 0.99658927781399465, 0.99946380668079826, 1.0009666353949984, 1.0047491004458362, 1.005287820405742, 1.0071183496107872, 1.0177989876818001, 1.0183698980956897, 1.0240298165741697, 1.0253980271892846, 1.0264641879152632, 1.0282785620344637, 1.0286403943484452, 1.0398751587712896, 1.0500876233493381, 1.0559117286065378, 1.0603048021062211, 1.0640122199761071, 1.0652855465883404, 1.0672903487572289, 1.0674946765614848, 1.0699059897986685, 1.06998651806928, 1.070870172215199, 1.0715728309856238, 1.0780730990897416, 1.0823185068691772, 1.0854713623648011, 1.091225277065746, 1.1127217796134843, 1.120889213476681, 1.1243593856433842, 1.1291895706609421, 1.1294377028294138, 1.1294509515119928, 1.1315353832315673, 1.1335496253009272, 1.135248987722167, 1.1378642431053576, 1.1399482972081143, 1.1430730324951657, 1.1468244378618979, 1.1526008074835887, 1.1533847592882955, 1.1652949789932103, 1.1653173145019582, 1.1655796882690095, 1.1682588621160275, 1.1687593071732634, 1.175356833226985, 1.1866223201530943, 1.1911722842675299, 1.1919223046458625, 1.1951486981880819, 1.211890072692003, 1.2178466696026946, 1.2202335537735489, 1.2339579967312422, 1.2385960432382777, 1.2582791164769338, 1.2629381113167335, 1.2636938721529951, 1.2676480789545979, 1.2947523922756377, 1.2973520468034012, 1.3074893306205215, 1.3106964046946123, 1.3317529250405735, 1.3375822802119139, 1.33864916227707, 1.3544587878436862, 1.3632889664925971, 1.370987282128258, 1.3711030324495876, 1.4051346391944624, 1.4214158362767639, 1.4328598431291886, 1.4742302935897047, 1.4968578484052755, 1.5100416749592405, 1.5112351228490943, 1.5128021710671276, 1.5137942489209115, 1.5358613862296451, 1.54909183125721, 1.5497056902500612, 1.5543505343091446, 1.5557799323355372, 1.5662944948806532, 1.5947679548411309, 1.5959500910312479, 1.6132571602257559, 1.6250888179281733, 1.6322272497992749, 1.6533017811843465, 1.686878618713068, 1.6906345762587456, 1.6911967073536802, 1.7087147882502289, 1.7169481718603052, 1.7208977714083529, 1.7693012961336876, 1.769560336604594, 1.7713132195476267, 1.7957115006376301, 1.8030945616281437, 1.8044881962155741, 1.8050223106193464, 1.8217296790805499, 1.8543356981818748, 1.8648254503853767, 1.9231368081256897, 1.959081908889877, 1.9633815005222601, 1.9698631145777024, 2.0215579511789667, 2.0584884629113844, 2.0805164684698978, 2.1036327261116532, 2.1309563371758333, 2.1471204582637093, 2.197838987318784, 2.2106687423376852, 2.3024242139258666, 2.3170733348526, 2.33674501033668, 2.3747012758161374, 2.3997010198513036, 2.4112891482972953, 2.5304325195921549, 2.5956510030372586, 2.7044877839757469, 2.7289106926405009, 2.7389815797187511, 2.7854099097714795, 2.8692991751284782, 2.9500514258612549, 3.0357380348687868, 3.3950952568424224, 3.4753986902100165, 3.544126710026299, 3.9242887935849597, 3.9340040127009908, 3.9639112714449252, 4.0844232715000963, 4.1632302414295603, 4.2281725651903415, 4.3262892293436952, 4.4631011999383317, 4.8093346980801002, 5.1384136330516732, 6.1703056394166103, 10.667166125487496]\n",
      "[0.14649623884792581]\n"
     ]
    },
    {
     "name": "stderr",
     "output_type": "stream",
     "text": [
      "\r",
      "  6%|██▌                                      | 11/172 [00:03<00:48,  3.34it/s]"
     ]
    },
    {
     "name": "stdout",
     "output_type": "stream",
     "text": [
      "[0.78272604391465073, 0.58116738132043533, 1.6048034188433697, 1.5523951182337841, 0.20461480902789703, 0.28019536513725474, 0.19615780593932111, 0.2774648923423047, 0.16649354753369833, 0.29853999707443168, 0.1525749428423257, 0.12912613770433917, 0.79257175718518047, 0.43056178863277572, 0.30827420550223439, 0.18720332646077692, 0.32212548642166194, 0.10181765715314016, 0.65427610736696828, 0.43771434209929183, 0.09677702877462456, 0.80850734731689278, 1.3857756262123639, 1.04004042994519, 0.27754047667758874, 0.31944434929644788, 0.20768666175294168, 0.51153671592505956, 0.18648980438754492, 0.61283348805544413, 0.22159367276986702, 0.24166862247480453, 0.21200746252212888, 1.1046919989102733, 0.2541956448177457, 0.21068109016126227, 0.41812533864143642, 0.29107732897549549, 0.27823370566085387, 0.57337371465931986, 0.21492484183519006, 0.39536153719090045, 0.40104249700029071, 0.25633763902183415, 0.3500269961122513, 0.83985635224026756, 0.43241294203773645, 0.28498985213863481, 0.20866888779532128, 0.24299756423762309, 1.4601506583332557, 0.57518457973547488, 0.6075127976320791, 0.37002015743662303, 0.84556655690968818, 0.27414867172155444, 2.4715177606436662, 1.9192379970276907, 0.9816134151754311, 0.55198193790139394, 0.24185258070874308, 0.27577921177256548, 0.31235384957587825, 0.3257239494953667, 0.24148133567865362, 0.64565183801005177, 0.33223230881748561, 0.30640943673636095, 0.96667036857413369, 0.25328388101592658, 0.2076390356979107, 0.23630427801003204, 0.19613202212175895, 0.2908076750970594, 0.45136077159909099, 0.207997365911748, 0.30568521558098161, 0.28660202603083862, 0.59238702621452866, 0.61704892899043451, 0.41677479296040681, 0.49514171848358185, 0.3308149064503817, 0.38262023220293762, 0.29698433209022579, 0.2259115047595944, 0.27003004301212408, 0.81857289740583217, 1.1568923607599535, 0.13141922341838541, 1.3959253679101491, 0.14662018490881934, 1.0400459159129871, 2.0087416537401359, 3.2254889771974442, 2.612943374340619, 0.20575601744451288, 0.40676042228152975, 0.52219963407426173, 0.21256928512699405, 0.65507543108102062, 0.30779806517029823, 0.74241055986573201, 0.20601833043022305, 0.44710411273089451, 1.3256078356956249, 2.3964079786991115, 0.26144985346115279, 1.5629363847022264, 0.61554102011281409, 0.27002429884807333, 1.057355823658094, 0.75368014499680713, 1.6039143484313954, 0.99971926982957326, 1.5943325762737686, 1.0829546841187956, 2.5474889364382181, 1.7435948267501149, 1.4983350738146866, 1.7259056805706663, 1.3193325504154552, 0.28049048140471855, 2.1848939901321667, 2.5171604986155036, 0.27179728161937478, 0.4512996075698778, 0.20431918945612654, 0.95155296174706883, 0.21377668043253123, 0.35555460125501087, 0.28575829430086941, 0.22623111313945535, 1.2808945382247239, 0.25032035686309628, 0.82397403874241915, 3.7091291247063114, 1.5692565639471654, 2.2859442530012162, 0.73907812145423613, 0.16167214264900673, 1.9092025848939684, 3.0545042767446451, 0.84355338971924154, 0.65651274747484434, 0.82111144324676333, 0.22217546254636994, 0.49772342985846751, 0.54090579117699678, 0.60998812963587801, 0.96848019755323489, 0.66221607785826164, 0.59540237557065079, 1.2939421881107005, 3.0707047087698878, 0.23647498996190847, 0.29494967258535726, 1.7991110344492938, 1.1277841719686155, 2.056423237537885, 3.2604453322741227, 1.7895314905357755, 0.6525326970756129, 1.3611770487552113, 3.1215404371061366, 0.25068187634470024, 0.35165391723476891, 0.73023659512225858, 2.2935315265847787, 1.0255816025202371, 1.1541642438850228, 1.7153843134217179, 1.117100264665591, 0.65791889817653182, 1.0949331375644535, 2.4719883411081995, 1.309733525071388, 2.2322945529502913, 2.6131816377831729, 1.4731530215796673, 0.62300268157433902, 0.35051142633917537, 0.44757760001485081, 0.76829418198487076, 1.1649481551102405, 1.5535985794100182, 0.24635945062944314, 0.20582596441941819, 0.9162763522790498, 0.38030584594615419, 0.4834270476145941, 0.80163219121990137, 1.3275286107432174, 1.6738456032922238, 0.83555719719644217, 1.9246167576624438, 0.18754699069424591, 1.4512826948666748, 0.37541986468966421, 0.76112065855931754, 0.38347905812194932, 0.51520056665366065, 0.58165295009906237, 0.51677793976836128, 0.43007557680560216, 0.20048393443852297, 0.30018393073934391, 0.46843846535640254, 0.26370490994516127, 0.2102209714216228, 0.44200613519307663, 0.21000892494014933, 0.30187995446666666, 0.21544191995878256, 0.22205582451294634, 1.1826136696357792, 0.21129823959363145, 0.27215208456325762, 0.70465550275839328, 0.86204125398574771, 1.2705945994498169, 0.66903283026906835, 0.78564390591370392, 0.2840678840451179, 0.98628381638394769, 0.54163020846791077, 0.23684087177316643, 0.91581932836118585, 0.44124666889333669, 0.61222653002934468, 0.39856711515457316, 3.7873914409732041, 3.4038476874028398, 1.4800201242231261, 3.29925233618994, 1.5009677446499783, 1.0194400222852653, 1.4781663370510847, 1.9147164285529361, 3.299474860314032, 1.8561886617257257, 1.4405359038780698, 2.7097890111330631, 1.9802402977046021, 10.701357795543563, 1.8606843708731677, 1.1281431386324057, 1.029926799046728, 3.1894512049507644, 2.1027554210272084, 3.34148867698257, 2.9034792029107197, 2.1969044461680869, 0.76629649840896519, 0.43162012332321281, 1.8115918492714214, 1.0441745754664022, 4.5260417111178359, 1.0220647300073806, 2.836790122222113, 1.5804736789681211, 1.0859817047568192, 2.9568609099975771, 4.8915407009744989, 3.4729030251169091, 1.3680716639272856, 0.88843976860140994, 1.9155762572357593, 1.729281625087425, 2.8291887223687882, 3.4878957877928483, 5.7438619564280655, 2.0655299867430816, 1.2526891266909241, 0.64162663469895775, 0.65283586660797643, 1.0657791790573554, 1.3036724986411254, 4.3794939085797955, 0.7201145836469246, 1.0428574686152812, 0.93115905239963581, 0.79037971371433058, 0.72977246818364394, 1.4125231635838598, 1.6534222595879968, 1.4570978149172507, 0.54416038064875372, 1.1812207527125025, 1.3657357227110882, 0.60830517786779337, 0.70033943010358513, 0.94719917591693836, 0.88348083060696669, 1.161350143754488, 0.97243785648465997, 2.0361686898419782, 0.36109813198749047, 0.79431549982932792, 0.82133093410897651, 0.61852686155337244, 0.71720973161314394, 0.83109815997470526, 0.78163470843083438, 0.40556892382744136, 0.2660468695048438, 1.6884468138286755, 1.4439989387676979, 0.36950264739616545, 0.60500994050660406, 1.1254575340580817, 0.59410918456901762, 0.73351559719757531, 1.8961344205969028, 1.1036651873986216, 1.500641499039393, 0.38582736851673471, 0.49365952035591359, 0.41025924625862437, 0.81074162306748998, 0.86326559171489714, 1.2964016972983763, 0.21025649043134911, 0.2096052949608149, 0.47983276262213159, 0.22729909368575224, 0.52649342391833109, 0.89274888917547024, 0.18554327531620321, 0.18703257191560466, 0.80475015563588637, 0.2449875130385932, 1.0728206089829604, 0.20863479396958254]\n",
      "[0.09677702877462456, 0.10181765715314016, 0.12912613770433917, 0.13141922341838541, 0.14662018490881934, 0.1525749428423257, 0.16167214264900673, 0.16649354753369833, 0.18554327531620321, 0.18648980438754492, 0.18703257191560466, 0.18720332646077692, 0.18754699069424591, 0.19613202212175895, 0.19615780593932111, 0.20048393443852297, 0.20431918945612654, 0.20461480902789703, 0.20575601744451288, 0.20582596441941819, 0.20601833043022305, 0.2076390356979107, 0.20768666175294168, 0.207997365911748, 0.20863479396958254, 0.20866888779532128, 0.2096052949608149, 0.21000892494014933, 0.2102209714216228, 0.21025649043134911, 0.21068109016126227, 0.21129823959363145, 0.21200746252212888, 0.21256928512699405, 0.21377668043253123, 0.21492484183519006, 0.21544191995878256, 0.22159367276986702, 0.22205582451294634, 0.22217546254636994, 0.2259115047595944, 0.22623111313945535, 0.22729909368575224, 0.23630427801003204, 0.23647498996190847, 0.23684087177316643, 0.24148133567865362, 0.24166862247480453, 0.24185258070874308, 0.24299756423762309, 0.2449875130385932, 0.24635945062944314, 0.25032035686309628, 0.25068187634470024, 0.25328388101592658, 0.2541956448177457, 0.25633763902183415, 0.26144985346115279, 0.26370490994516127, 0.2660468695048438, 0.27002429884807333, 0.27003004301212408, 0.27179728161937478, 0.27215208456325762, 0.27414867172155444, 0.27577921177256548, 0.2774648923423047, 0.27754047667758874, 0.27823370566085387, 0.28019536513725474, 0.28049048140471855, 0.2840678840451179, 0.28498985213863481, 0.28575829430086941, 0.28660202603083862, 0.2908076750970594, 0.29107732897549549, 0.29494967258535726, 0.29698433209022579, 0.29853999707443168, 0.30018393073934391, 0.30187995446666666, 0.30568521558098161, 0.30640943673636095, 0.30779806517029823, 0.30827420550223439, 0.31235384957587825, 0.31944434929644788, 0.32212548642166194, 0.3257239494953667, 0.3308149064503817, 0.33223230881748561, 0.3500269961122513, 0.35051142633917537, 0.35165391723476891, 0.35555460125501087, 0.36109813198749047, 0.36950264739616545, 0.37002015743662303, 0.37541986468966421, 0.38030584594615419, 0.38262023220293762, 0.38347905812194932, 0.38582736851673471, 0.39536153719090045, 0.39856711515457316, 0.40104249700029071, 0.40556892382744136, 0.40676042228152975, 0.41025924625862437, 0.41677479296040681, 0.41812533864143642, 0.43007557680560216, 0.43056178863277572, 0.43162012332321281, 0.43241294203773645, 0.43771434209929183, 0.44124666889333669, 0.44200613519307663, 0.44710411273089451, 0.44757760001485081, 0.4512996075698778, 0.45136077159909099, 0.46843846535640254, 0.47983276262213159, 0.4834270476145941, 0.49365952035591359, 0.49514171848358185, 0.49772342985846751, 0.51153671592505956, 0.51520056665366065, 0.51677793976836128, 0.52219963407426173, 0.52649342391833109, 0.54090579117699678, 0.54163020846791077, 0.54416038064875372, 0.55198193790139394, 0.57337371465931986, 0.57518457973547488, 0.58116738132043533, 0.58165295009906237, 0.59238702621452866, 0.59410918456901762, 0.59540237557065079, 0.60500994050660406, 0.6075127976320791, 0.60830517786779337, 0.60998812963587801, 0.61222653002934468, 0.61283348805544413, 0.61554102011281409, 0.61704892899043451, 0.61852686155337244, 0.62300268157433902, 0.64162663469895775, 0.64565183801005177, 0.6525326970756129, 0.65283586660797643, 0.65427610736696828, 0.65507543108102062, 0.65651274747484434, 0.65791889817653182, 0.66221607785826164, 0.66903283026906835, 0.70033943010358513, 0.70465550275839328, 0.71720973161314394, 0.7201145836469246, 0.72977246818364394, 0.73023659512225858, 0.73351559719757531, 0.73907812145423613, 0.74241055986573201, 0.75368014499680713, 0.76112065855931754, 0.76629649840896519, 0.76829418198487076, 0.78163470843083438, 0.78272604391465073, 0.78564390591370392, 0.79037971371433058, 0.79257175718518047, 0.79431549982932792, 0.80163219121990137, 0.80475015563588637, 0.80850734731689278, 0.81074162306748998, 0.81857289740583217, 0.82111144324676333, 0.82133093410897651, 0.82397403874241915, 0.83109815997470526, 0.83555719719644217, 0.83985635224026756, 0.84355338971924154, 0.84556655690968818, 0.86204125398574771, 0.86326559171489714, 0.88348083060696669, 0.88843976860140994, 0.89274888917547024, 0.91581932836118585, 0.9162763522790498, 0.93115905239963581, 0.94719917591693836, 0.95155296174706883, 0.96667036857413369, 0.96848019755323489, 0.97243785648465997, 0.9816134151754311, 0.98628381638394769, 0.99971926982957326, 1.0194400222852653, 1.0220647300073806, 1.0255816025202371, 1.029926799046728, 1.04004042994519, 1.0400459159129871, 1.0428574686152812, 1.0441745754664022, 1.057355823658094, 1.0657791790573554, 1.0728206089829604, 1.0829546841187956, 1.0859817047568192, 1.0949331375644535, 1.1036651873986216, 1.1046919989102733, 1.117100264665591, 1.1254575340580817, 1.1277841719686155, 1.1281431386324057, 1.1541642438850228, 1.1568923607599535, 1.161350143754488, 1.1649481551102405, 1.1812207527125025, 1.1826136696357792, 1.2526891266909241, 1.2705945994498169, 1.2808945382247239, 1.2939421881107005, 1.2964016972983763, 1.3036724986411254, 1.309733525071388, 1.3193325504154552, 1.3256078356956249, 1.3275286107432174, 1.3611770487552113, 1.3657357227110882, 1.3680716639272856, 1.3857756262123639, 1.3959253679101491, 1.4125231635838598, 1.4405359038780698, 1.4439989387676979, 1.4512826948666748, 1.4570978149172507, 1.4601506583332557, 1.4731530215796673, 1.4781663370510847, 1.4800201242231261, 1.4983350738146866, 1.500641499039393, 1.5009677446499783, 1.5523951182337841, 1.5535985794100182, 1.5629363847022264, 1.5692565639471654, 1.5804736789681211, 1.5943325762737686, 1.6039143484313954, 1.6048034188433697, 1.6534222595879968, 1.6738456032922238, 1.6884468138286755, 1.7153843134217179, 1.7259056805706663, 1.729281625087425, 1.7435948267501149, 1.7895314905357755, 1.7991110344492938, 1.8115918492714214, 1.8561886617257257, 1.8606843708731677, 1.8961344205969028, 1.9092025848939684, 1.9147164285529361, 1.9155762572357593, 1.9192379970276907, 1.9246167576624438, 1.9802402977046021, 2.0087416537401359, 2.0361686898419782, 2.056423237537885, 2.0655299867430816, 2.1027554210272084, 2.1848939901321667, 2.1969044461680869, 2.2322945529502913, 2.2859442530012162, 2.2935315265847787, 2.3964079786991115, 2.4715177606436662, 2.4719883411081995, 2.5171604986155036, 2.5474889364382181, 2.612943374340619, 2.6131816377831729, 2.7097890111330631, 2.8291887223687882, 2.836790122222113, 2.9034792029107197, 2.9568609099975771, 3.0545042767446451, 3.0707047087698878, 3.1215404371061366, 3.1894512049507644, 3.2254889771974442, 3.2604453322741227, 3.29925233618994, 3.299474860314032, 3.34148867698257, 3.4038476874028398, 3.4729030251169091, 3.4878957877928483, 3.7091291247063114, 3.7873914409732041, 4.3794939085797955, 4.5260417111178359, 4.8915407009744989, 5.7438619564280655, 10.701357795543563]\n",
      "[0.09677702877462456]\n"
     ]
    },
    {
     "name": "stderr",
     "output_type": "stream",
     "text": [
      "\r",
      "  7%|██▊                                      | 12/172 [00:03<00:47,  3.34it/s]"
     ]
    },
    {
     "name": "stdout",
     "output_type": "stream",
     "text": [
      "[0.96481846807460403, 0.75948978115309751, 1.7908144018862799, 1.7383876537497469, 0.26595862313078811, 0.4353588986103667, 0.25132271853979321, 0.20651825276528063, 0.31507058096148627, 0.16144884052362576, 0.10836573494840224, 0.18338943536287869, 0.60888093108623476, 0.25934448245884895, 0.14446024695357226, 0.1346144865827951, 0.17284579627650562, 0.23761984964579499, 0.83935723170227283, 0.25675788148199791, 0.28296287263252867, 0.99103808431279594, 1.5713901353204816, 1.2247395457278314, 0.431877130942113, 0.48280270268525105, 0.31821055066322851, 0.34771556020951894, 0.26976162082606731, 0.44006151942744542, 0.22976795851874263, 0.37447596511818998, 0.25817434793306626, 1.2893335350704096, 0.40219622639835523, 0.22258797726492535, 0.5887113980095785, 0.21158516483127257, 0.20246453751597185, 0.75214254036918105, 0.22089310376659674, 0.56505819730369666, 0.57173277733638317, 0.40043083617627268, 0.51424910981930116, 1.0228136629408235, 0.60406817972786042, 0.43562924369930484, 0.2719973408664661, 0.37938735371754601, 1.6459573614754677, 0.75354779547364359, 0.78671359394808049, 0.53627859630747565, 1.0289740016106463, 0.42612997044516682, 2.6582411393373091, 2.105647539003908, 1.1660854875131841, 0.73168107306073249, 0.38920286950589145, 0.42955481512868793, 0.20897203127654193, 0.21085481899369427, 0.38240190165450483, 0.82648657476888843, 0.5005897342737915, 0.46557941233041472, 1.1508770011327094, 0.2052354970907237, 0.33610930064271349, 0.20365174276662182, 0.26814991239425023, 0.2036303717040171, 0.29692228138733123, 0.26083257351968309, 0.20518641220459416, 0.20654665899668131, 0.4177534628399181, 0.79909816074396411, 0.60244937902241991, 0.67717697996827042, 0.2011739097477831, 0.20849737641093144, 0.19309355451565904, 0.38849232141214651, 0.42993557216587769, 0.64492649126894608, 0.97000431063012826, 0.31826764457608986, 1.2094458613105341, 0.33064846122677222, 0.85339984772880562, 2.1958179245446665, 3.4125565563914457, 2.7999372910159233, 0.018703467349923248, 0.59172541742291618, 0.70703200238337849, 0.065536805472988208, 0.48152752998763793, 0.21212349560148855, 0.9243565680447553, 0.27465710870523202, 0.62006751290536299, 1.5111254754097194, 2.5830933597213166, 0.40627940389980216, 1.7489775800732486, 0.44511393665055371, 0.41743463431243799, 1.2419791718256132, 0.93615282506371256, 1.7900040291564765, 1.1840033658425499, 1.7804129595247657, 1.2675171927549247, 2.7342027440114101, 1.9298038487802762, 1.6842018792084783, 1.912091247373815, 1.5047778035969201, 0.42972129270407061, 2.3714466469656053, 2.7038748781143416, 0.20131407061855897, 0.62749697075097843, 0.31191347915463724, 0.76862925609612121, 0.21857284433078711, 0.22325366729575818, 0.4447217019569239, 0.22064731588608449, 1.4668992317075424, 0.41152036943114312, 1.0093131763014938, 3.8961646019694012, 1.7557191798432019, 2.4727207965288214, 0.92317656314470198, 0.196688877188958, 2.0959326373568072, 3.2414539104033744, 1.0286513265623058, 0.83717324951026473, 1.0041373940703027, 0.3476487797775642, 0.6740637347870293, 0.71914837864334613, 0.43788232271199107, 1.1530323001906173, 0.84345289796537459, 0.7759804721296798, 1.4794294667223755, 3.2576659860313639, 0.36626229380118419, 0.21454470179486737, 1.9859290344088811, 1.3140527479594979, 2.2432533486357564, 3.4474559631045523, 1.9764395082384629, 0.47099592289000414, 1.5478708280487454, 3.3085522335410427, 0.21079692266873931, 0.51924215611372893, 0.91233487793944379, 2.4802679799556708, 1.2099654661383663, 1.3392481190574723, 1.9016390140822395, 1.3019396610521798, 0.83858420155043023, 1.2801130794052205, 2.6586862029067664, 1.4951649586390616, 2.4189017191862869, 2.799918750306015, 1.6589086874548367, 0.80228284435423536, 0.51361062298494353, 0.62041485903845972, 0.95043179069944561, 1.3499053093069846, 1.7396076756661973, 0.38555560274949974, 0.26399835828868817, 1.1002694216239148, 0.24369454017877543, 0.65855043934315205, 0.98412942928884817, 1.513138207031044, 1.8599896652952128, 1.0185257238215308, 2.1110368060712181, 0.20799331670487453, 1.2645248715596362, 0.54786670553274142, 0.9450362003031324, 0.24002007098658551, 0.69579917734381969, 0.76146996380057141, 0.69489063324839473, 0.60645578436405867, 0.32466683271321689, 0.21214933224190757, 0.64284801530953184, 0.40775921520351477, 0.28786919791376847, 0.61432617788932475, 0.29301560035227164, 0.21580080733718868, 0.24786689960067446, 0.23577757954544409, 1.3676252172466332, 0.27311355545214411, 0.21067045940196874, 0.88567955809597487, 1.0450602647905276, 1.4558960868662074, 0.84976289200329602, 0.96821620497324057, 0.20930137570686105, 1.1702881627821531, 0.37808561144430419, 0.21423046188733494, 0.98113439564217042, 0.5274562867141781, 0.77340127530411074, 0.55431597579435632, 3.9739768569054799, 3.2174226043561016, 1.2950678316808206, 3.1301876361533147, 1.3199235014290034, 1.1866096701552935, 1.650486275985837, 1.7655459023236193, 3.1522241797272788, 1.9463794551140874, 1.5803012268859788, 2.7459847539042976, 2.010766785220814, 10.722028019942359, 1.9367903438040439, 1.0242518279917026, 0.91101655026746742, 3.0560399183466482, 2.0145127450395726, 3.2364341300844397, 2.8141639991148129, 2.0642771673785303, 0.67562824106358921, 0.48028985442961519, 1.6731006420721981, 1.1608225812913702, 4.4937119525670211, 0.99132842630513396, 2.8357910252507281, 1.6384568968491335, 1.1837970643081017, 2.8999584129936187, 4.8654784078554174, 3.333033281347749, 1.2971497281912157, 0.78030667490432071, 2.029145495612982, 1.8271719455827948, 2.7029221594560755, 3.424780342714326, 5.6757393116253452, 2.1204883157974566, 1.3392347260671056, 0.65684287724867485, 0.70410805541169807, 0.9630752167460519, 1.275909534357728, 4.390194275058966, 0.7963080062654867, 1.1390621586157843, 1.03017567725152, 0.92749568835064478, 0.88006698930595251, 1.5269214274289733, 1.7265336983981792, 1.4493541214013479, 0.65306130049352173, 1.2878657814850136, 1.3423373807157359, 0.79250817177204669, 0.82643738500402764, 1.0034501473132766, 1.0055027536662822, 1.3230721228620403, 1.1402771783337506, 2.208468732916669, 0.36983884981340731, 0.78339284090053063, 0.91939275409166299, 0.66412475145648897, 0.83322441428026528, 0.98591538857660244, 0.85691591676395751, 0.246344808755244, 0.25615448319177825, 1.6799025558101703, 1.3960959274018738, 0.49126112165273322, 0.78118480796068279, 0.99399044010158766, 0.67336867526882516, 0.89737110910397044, 1.80206384089734, 1.2732845942382058, 1.6777596774573651, 0.21657288295905422, 0.56577898797635939, 0.37158561001334944, 0.63198641144722334, 0.68319218546191829, 1.112306879214604, 0.24116140838549868, 0.24058379757167914, 0.31987412684222094, 0.19020388678103056, 0.36091452207667946, 0.71140764387041044, 0.25837703289967279, 0.2672767834496097, 0.98743968193674325, 0.38001949927257922, 1.2576143834940949, 0.28579608584194677]\n",
      "[0.018703467349923248, 0.065536805472988208, 0.10836573494840224, 0.1346144865827951, 0.14446024695357226, 0.16144884052362576, 0.17284579627650562, 0.18338943536287869, 0.19020388678103056, 0.19309355451565904, 0.196688877188958, 0.2011739097477831, 0.20131407061855897, 0.20246453751597185, 0.2036303717040171, 0.20365174276662182, 0.20518641220459416, 0.2052354970907237, 0.20651825276528063, 0.20654665899668131, 0.20799331670487453, 0.20849737641093144, 0.20897203127654193, 0.20930137570686105, 0.21067045940196874, 0.21079692266873931, 0.21085481899369427, 0.21158516483127257, 0.21212349560148855, 0.21214933224190757, 0.21423046188733494, 0.21454470179486737, 0.21580080733718868, 0.21657288295905422, 0.21857284433078711, 0.22064731588608449, 0.22089310376659674, 0.22258797726492535, 0.22325366729575818, 0.22976795851874263, 0.23577757954544409, 0.23761984964579499, 0.24002007098658551, 0.24058379757167914, 0.24116140838549868, 0.24369454017877543, 0.246344808755244, 0.24786689960067446, 0.25132271853979321, 0.25615448319177825, 0.25675788148199791, 0.25817434793306626, 0.25837703289967279, 0.25934448245884895, 0.26083257351968309, 0.26399835828868817, 0.26595862313078811, 0.2672767834496097, 0.26814991239425023, 0.26976162082606731, 0.2719973408664661, 0.27311355545214411, 0.27465710870523202, 0.28296287263252867, 0.28579608584194677, 0.28786919791376847, 0.29301560035227164, 0.29692228138733123, 0.31191347915463724, 0.31507058096148627, 0.31821055066322851, 0.31826764457608986, 0.31987412684222094, 0.32466683271321689, 0.33064846122677222, 0.33610930064271349, 0.3476487797775642, 0.34771556020951894, 0.36091452207667946, 0.36626229380118419, 0.36983884981340731, 0.37158561001334944, 0.37447596511818998, 0.37808561144430419, 0.37938735371754601, 0.38001949927257922, 0.38240190165450483, 0.38555560274949974, 0.38849232141214651, 0.38920286950589145, 0.40043083617627268, 0.40219622639835523, 0.40627940389980216, 0.40775921520351477, 0.41152036943114312, 0.41743463431243799, 0.4177534628399181, 0.42612997044516682, 0.42955481512868793, 0.42972129270407061, 0.42993557216587769, 0.431877130942113, 0.4353588986103667, 0.43562924369930484, 0.43788232271199107, 0.44006151942744542, 0.4447217019569239, 0.44511393665055371, 0.46557941233041472, 0.47099592289000414, 0.48028985442961519, 0.48152752998763793, 0.48280270268525105, 0.49126112165273322, 0.5005897342737915, 0.51361062298494353, 0.51424910981930116, 0.51924215611372893, 0.5274562867141781, 0.53627859630747565, 0.54786670553274142, 0.55431597579435632, 0.56505819730369666, 0.56577898797635939, 0.57173277733638317, 0.5887113980095785, 0.59172541742291618, 0.60244937902241991, 0.60406817972786042, 0.60645578436405867, 0.60888093108623476, 0.61432617788932475, 0.62006751290536299, 0.62041485903845972, 0.62749697075097843, 0.63198641144722334, 0.64284801530953184, 0.64492649126894608, 0.65306130049352173, 0.65684287724867485, 0.65855043934315205, 0.66412475145648897, 0.67336867526882516, 0.6740637347870293, 0.67562824106358921, 0.67717697996827042, 0.68319218546191829, 0.69489063324839473, 0.69579917734381969, 0.70410805541169807, 0.70703200238337849, 0.71140764387041044, 0.71914837864334613, 0.73168107306073249, 0.75214254036918105, 0.75354779547364359, 0.75948978115309751, 0.76146996380057141, 0.76862925609612121, 0.77340127530411074, 0.7759804721296798, 0.78030667490432071, 0.78118480796068279, 0.78339284090053063, 0.78671359394808049, 0.79250817177204669, 0.7963080062654867, 0.79909816074396411, 0.80228284435423536, 0.82643738500402764, 0.82648657476888843, 0.83322441428026528, 0.83717324951026473, 0.83858420155043023, 0.83935723170227283, 0.84345289796537459, 0.84976289200329602, 0.85339984772880562, 0.85691591676395751, 0.88006698930595251, 0.88567955809597487, 0.89737110910397044, 0.91101655026746742, 0.91233487793944379, 0.91939275409166299, 0.92317656314470198, 0.9243565680447553, 0.92749568835064478, 0.93615282506371256, 0.9450362003031324, 0.95043179069944561, 0.9630752167460519, 0.96481846807460403, 0.96821620497324057, 0.97000431063012826, 0.98113439564217042, 0.98412942928884817, 0.98591538857660244, 0.98743968193674325, 0.99103808431279594, 0.99132842630513396, 0.99399044010158766, 1.0034501473132766, 1.0041373940703027, 1.0055027536662822, 1.0093131763014938, 1.0185257238215308, 1.0228136629408235, 1.0242518279917026, 1.0286513265623058, 1.0289740016106463, 1.03017567725152, 1.0450602647905276, 1.1002694216239148, 1.112306879214604, 1.1390621586157843, 1.1402771783337506, 1.1508770011327094, 1.1530323001906173, 1.1608225812913702, 1.1660854875131841, 1.1702881627821531, 1.1837970643081017, 1.1840033658425499, 1.1866096701552935, 1.2094458613105341, 1.2099654661383663, 1.2247395457278314, 1.2419791718256132, 1.2576143834940949, 1.2645248715596362, 1.2675171927549247, 1.2732845942382058, 1.275909534357728, 1.2801130794052205, 1.2878657814850136, 1.2893335350704096, 1.2950678316808206, 1.2971497281912157, 1.3019396610521798, 1.3140527479594979, 1.3199235014290034, 1.3230721228620403, 1.3392347260671056, 1.3392481190574723, 1.3423373807157359, 1.3499053093069846, 1.3676252172466332, 1.3960959274018738, 1.4493541214013479, 1.4558960868662074, 1.4668992317075424, 1.4794294667223755, 1.4951649586390616, 1.5047778035969201, 1.5111254754097194, 1.513138207031044, 1.5269214274289733, 1.5478708280487454, 1.5713901353204816, 1.5803012268859788, 1.6384568968491335, 1.6459573614754677, 1.650486275985837, 1.6589086874548367, 1.6731006420721981, 1.6777596774573651, 1.6799025558101703, 1.6842018792084783, 1.7265336983981792, 1.7383876537497469, 1.7396076756661973, 1.7489775800732486, 1.7557191798432019, 1.7655459023236193, 1.7804129595247657, 1.7900040291564765, 1.7908144018862799, 1.80206384089734, 1.8271719455827948, 1.8599896652952128, 1.9016390140822395, 1.912091247373815, 1.9298038487802762, 1.9367903438040439, 1.9463794551140874, 1.9764395082384629, 1.9859290344088811, 2.010766785220814, 2.0145127450395726, 2.029145495612982, 2.0642771673785303, 2.0959326373568072, 2.105647539003908, 2.1110368060712181, 2.1204883157974566, 2.1958179245446665, 2.208468732916669, 2.2432533486357564, 2.3714466469656053, 2.4189017191862869, 2.4727207965288214, 2.4802679799556708, 2.5830933597213166, 2.6582411393373091, 2.6586862029067664, 2.7029221594560755, 2.7038748781143416, 2.7342027440114101, 2.7459847539042976, 2.799918750306015, 2.7999372910159233, 2.8141639991148129, 2.8357910252507281, 2.8999584129936187, 3.0560399183466482, 3.1301876361533147, 3.1522241797272788, 3.2174226043561016, 3.2364341300844397, 3.2414539104033744, 3.2576659860313639, 3.3085522335410427, 3.333033281347749, 3.4125565563914457, 3.424780342714326, 3.4474559631045523, 3.8961646019694012, 3.9739768569054799, 4.390194275058966, 4.4937119525670211, 4.8654784078554174, 5.6757393116253452, 10.722028019942359]\n",
      "[0.018703467349923248]\n"
     ]
    },
    {
     "name": "stderr",
     "output_type": "stream",
     "text": [
      "\r",
      "  8%|███                                      | 13/172 [00:03<00:47,  3.36it/s]"
     ]
    },
    {
     "name": "stdout",
     "output_type": "stream",
     "text": [
      "[1.3356589027145434, 1.1263068103989249, 2.1679374108016143, 2.1154989424303134, 0.57787634033105151, 0.78796003458725206, 0.56434495824573583, 0.42059799282303406, 0.67376421833572719, 0.32547528723365249, 0.44739353165603385, 0.5273163133846489, 0.23512555651623124, 0.18848392421877339, 0.28450480220571306, 0.43946478542980755, 0.29664204440817959, 0.60143810861016711, 1.2159224363839229, 0.14835486864123446, 0.66390739921772968, 1.3624873198318959, 1.9476663432680981, 1.599480464539218, 0.78402591044111125, 0.83990008449252007, 0.65150002984727462, 0.19636866999822844, 0.59642666072184958, 0.16647039335492714, 0.51440996572936404, 0.71496608724300748, 0.56119695541930059, 1.663812818333422, 0.75156642561589837, 0.51480856921030016, 0.94920941522044489, 0.40897940387318987, 0.41383838877029328, 1.1196616096274874, 0.50887413053552544, 0.92528193700556294, 0.93282670202299056, 0.74684395453693109, 0.87073139450431403, 1.3948606592721193, 0.96535206037640575, 0.78434694573751151, 0.58319034383630119, 0.72204209523609009, 2.0226493438904907, 1.1204920248630406, 1.1544582193189838, 0.89390152102637432, 1.4018009346002545, 0.77673040759231615, 3.0373398274833039, 2.4837851740855035, 1.5405011302082627, 1.1007105875956418, 0.73927833248900654, 0.7814006772511124, 0.37190310248419145, 0.35158242841978421, 0.72821804921100675, 1.196254201710041, 0.86165166077412114, 0.8197570112239273, 1.5248038951969682, 0.44913808139874362, 0.67889405977397033, 0.46594444964652643, 0.58731294107636278, 0.39764016445859557, 0.23882702320702379, 0.5681096248187425, 0.37695768206304042, 0.40799097713299826, 0.14541642458387063, 1.1709105791884482, 0.98094660713358028, 1.0499516144726884, 0.32545158892222248, 0.2115264428271445, 0.37275058667494482, 0.75014396535490491, 0.78688550628425402, 0.36523338329259436, 0.5930797145621417, 0.69966799175475014, 0.82685584638709597, 0.70951538110304724, 0.47961155462663457, 2.5772495367648611, 3.7941557922376008, 3.1819872933396649, 0.36407426987722147, 0.97413746825107139, 1.0893393275095256, 0.37790363348593625, 0.18430654774916708, 0.38435829408290095, 1.2951855204231844, 0.5890004694720532, 0.98246212592731574, 1.887232038001196, 2.9620571065284067, 0.75271273896209168, 2.1262153778327462, 0.18286185930904256, 0.76495191820668751, 1.6165230525462637, 1.3077860894081363, 2.1673483685956896, 1.557994095642669, 2.1577377487224063, 1.6418768594822679, 3.1132474176441041, 2.3074063637949029, 2.0610178531121885, 2.2896345316934394, 1.8807166385018412, 0.77771313692992294, 2.7499730957607982, 3.0829279179212814, 0.42088092783219683, 0.99353852166623047, 0.64445502158435086, 0.39448890527180858, 0.50693334266054269, 0.31442749843827872, 0.79996116170099474, 0.49805708380215302, 1.8442828742460222, 0.77066676952858726, 1.385882784490418, 4.2768085221289995, 2.1341958107023351, 2.8520776330571387, 1.2976643217123212, 0.52168341970683041, 2.4751989597685875, 3.6215382070896909, 1.4046827347930289, 1.2065913130319967, 1.3763877005751459, 0.68645285290752767, 1.0394727795596792, 1.0863573557778365, 0.16961637351816145, 1.5276430650779682, 1.2136991056874114, 1.1458046602213525, 1.8555018279998703, 3.6378178424882592, 0.70553616987124934, 0.4077862561543153, 2.3655828213704089, 1.6922933053366918, 2.6228913125399749, 3.8279215939208155, 2.3564989317030745, 0.12326678625521799, 1.9272249736704181, 3.6890366134856039, 0.45954118224191898, 0.87884862898878469, 1.2834842855655477, 2.8594580630484607, 1.5840911765973473, 1.714593817458244, 2.2793940103169641, 1.6768171025823555, 1.2079980453453094, 1.6557768163573154, 3.0376825305320505, 1.8710827230557288, 2.7976107974710112, 3.1790460930104931, 2.0354556297817825, 1.1699816389801172, 0.86901803690163049, 0.98265516538447184, 1.3214272454736602, 1.7249507185940851, 2.116763621987745, 0.72967389772800095, 0.57421013399178078, 1.4739322642211525, 0.30018634775116965, 1.0227226114977701, 1.3555553456410507, 1.8894680729000979, 2.2374433504713775, 1.3906113162213316, 2.4892063083629394, 0.51588019988404055, 0.8879008325244534, 0.91150875246831109, 1.3191108650534304, 0.28388022782479166, 1.0664392359067114, 1.1303486272564192, 1.0622507555678704, 0.97310262771824663, 0.66634434415719801, 0.39631739084840878, 1.0064582205427928, 0.75341650647930591, 0.6047063443878038, 0.97611332908490644, 0.61235764036388574, 0.39935189738327931, 0.54417367408276129, 0.5220065094950338, 1.7427605405039248, 0.5827029233070955, 0.43344504072495565, 1.2552857770532644, 1.4171223047556583, 1.8315578490908786, 1.2191854681925125, 1.3398503678453182, 0.4155536456388419, 1.543761464157599, 0.199714323049903, 0.47907698303345758, 1.2208445704148458, 0.83281053356425216, 1.137380231034073, 0.91882676067331837, 4.356529765303236, 2.8411728909276648, 0.9287676762822209, 2.8090153918478182, 0.97075286038307662, 1.5522123998160906, 2.0199007441487717, 1.5127866991634538, 2.8893091219564297, 2.1939497865568507, 1.9080644196839722, 2.8870319726406941, 2.1534578876810988, 10.806303733782491, 2.1611884156557526, 0.93235071227692123, 0.79119291075105014, 2.8287734711914099, 1.9115162916243915, 3.075955707690555, 2.6945074281856609, 1.8507437246839089, 0.66973568028119479, 0.75293092395272787, 1.4525375130112763, 1.4646883493988634, 4.4840362742223956, 1.0671477604230952, 2.9039157219601015, 1.8390691662872183, 1.4609384119564819, 2.8513516419851248, 4.8669724473321496, 3.0877806020352878, 1.2630704838828564, 0.70922734326215853, 2.3130268054779344, 2.0890987383539943, 2.49663042521385, 3.3570684463309766, 5.5850974962777347, 2.3050565046144875, 1.5946980515394957, 0.85507438421642401, 0.9472971257147168, 0.8807239264664336, 1.3351669045353842, 4.4685731782945437, 1.0639765431973787, 1.4155122039928321, 1.3147967589612921, 1.2632441800232526, 1.2313672059358671, 1.8193583468498147, 1.9502402191986048, 1.5384910143085535, 0.97015382867848443, 1.5744191781418768, 1.4063600381120824, 1.1677495088977166, 1.1530326618140621, 1.2282388320441482, 1.3209319378111817, 1.6815230749279515, 1.5069099029571564, 2.5766511099020208, 0.62490303390181778, 0.92047598332822977, 1.2078316308337704, 0.90446454076007965, 1.1479739034436576, 1.3401517511722294, 1.1189002132992603, 0.2784870186303649, 0.53726473354951632, 1.7580308911970712, 1.4067273882681104, 0.83269679990465795, 1.1578541878359077, 0.82880347996144155, 0.95542917044744269, 1.2621328686421271, 1.6912552911562679, 1.6410582038354447, 2.0525540925122656, 0.25453607236079173, 0.85138717000523412, 0.56424463331326813, 0.27898859968991679, 0.32160949831494234, 0.73309546340314158, 0.53950140855704498, 0.53927538907976247, 0.21494825654782607, 0.45867012655254558, 0.1880860215723158, 0.34390279296177323, 0.58158180045909846, 0.59263317453806963, 1.3591802570618641, 0.72153601481186835, 1.6324836855183713, 0.60291831365091741]\n",
      "[0.12326678625521799, 0.14541642458387063, 0.14835486864123446, 0.16647039335492714, 0.16961637351816145, 0.18286185930904256, 0.18430654774916708, 0.1880860215723158, 0.18848392421877339, 0.19636866999822844, 0.199714323049903, 0.2115264428271445, 0.21494825654782607, 0.23512555651623124, 0.23882702320702379, 0.25453607236079173, 0.2784870186303649, 0.27898859968991679, 0.28388022782479166, 0.28450480220571306, 0.29664204440817959, 0.30018634775116965, 0.31442749843827872, 0.32160949831494234, 0.32545158892222248, 0.32547528723365249, 0.34390279296177323, 0.35158242841978421, 0.36407426987722147, 0.36523338329259436, 0.37190310248419145, 0.37275058667494482, 0.37695768206304042, 0.37790363348593625, 0.38435829408290095, 0.39448890527180858, 0.39631739084840878, 0.39764016445859557, 0.39935189738327931, 0.4077862561543153, 0.40799097713299826, 0.40897940387318987, 0.41383838877029328, 0.4155536456388419, 0.42059799282303406, 0.42088092783219683, 0.43344504072495565, 0.43946478542980755, 0.44739353165603385, 0.44913808139874362, 0.45867012655254558, 0.45954118224191898, 0.46594444964652643, 0.47907698303345758, 0.47961155462663457, 0.49805708380215302, 0.50693334266054269, 0.50887413053552544, 0.51440996572936404, 0.51480856921030016, 0.51588019988404055, 0.52168341970683041, 0.5220065094950338, 0.5273163133846489, 0.53726473354951632, 0.53927538907976247, 0.53950140855704498, 0.54417367408276129, 0.56119695541930059, 0.56424463331326813, 0.56434495824573583, 0.5681096248187425, 0.57421013399178078, 0.57787634033105151, 0.58158180045909846, 0.5827029233070955, 0.58319034383630119, 0.58731294107636278, 0.5890004694720532, 0.59263317453806963, 0.5930797145621417, 0.59642666072184958, 0.60143810861016711, 0.60291831365091741, 0.6047063443878038, 0.61235764036388574, 0.62490303390181778, 0.64445502158435086, 0.65150002984727462, 0.66390739921772968, 0.66634434415719801, 0.66973568028119479, 0.67376421833572719, 0.67889405977397033, 0.68645285290752767, 0.69966799175475014, 0.70553616987124934, 0.70922734326215853, 0.70951538110304724, 0.71496608724300748, 0.72153601481186835, 0.72204209523609009, 0.72821804921100675, 0.72967389772800095, 0.73309546340314158, 0.73927833248900654, 0.74684395453693109, 0.75014396535490491, 0.75156642561589837, 0.75271273896209168, 0.75293092395272787, 0.75341650647930591, 0.76495191820668751, 0.77066676952858726, 0.77673040759231615, 0.77771313692992294, 0.7814006772511124, 0.78402591044111125, 0.78434694573751151, 0.78688550628425402, 0.78796003458725206, 0.79119291075105014, 0.79996116170099474, 0.8197570112239273, 0.82685584638709597, 0.82880347996144155, 0.83269679990465795, 0.83281053356425216, 0.83990008449252007, 0.85138717000523412, 0.85507438421642401, 0.86165166077412114, 0.86901803690163049, 0.87073139450431403, 0.87884862898878469, 0.8807239264664336, 0.8879008325244534, 0.89390152102637432, 0.90446454076007965, 0.91150875246831109, 0.91882676067331837, 0.92047598332822977, 0.92528193700556294, 0.9287676762822209, 0.93235071227692123, 0.93282670202299056, 0.9472971257147168, 0.94920941522044489, 0.95542917044744269, 0.96535206037640575, 0.97015382867848443, 0.97075286038307662, 0.97310262771824663, 0.97413746825107139, 0.97611332908490644, 0.98094660713358028, 0.98246212592731574, 0.98265516538447184, 0.99353852166623047, 1.0064582205427928, 1.0227226114977701, 1.0394727795596792, 1.0499516144726884, 1.0622507555678704, 1.0639765431973787, 1.0664392359067114, 1.0671477604230952, 1.0863573557778365, 1.0893393275095256, 1.1007105875956418, 1.1189002132992603, 1.1196616096274874, 1.1204920248630406, 1.1263068103989249, 1.1303486272564192, 1.137380231034073, 1.1458046602213525, 1.1479739034436576, 1.1530326618140621, 1.1544582193189838, 1.1578541878359077, 1.1677495088977166, 1.1699816389801172, 1.1709105791884482, 1.196254201710041, 1.2065913130319967, 1.2078316308337704, 1.2079980453453094, 1.2136991056874114, 1.2159224363839229, 1.2191854681925125, 1.2208445704148458, 1.2282388320441482, 1.2313672059358671, 1.2552857770532644, 1.2621328686421271, 1.2630704838828564, 1.2632441800232526, 1.2834842855655477, 1.2951855204231844, 1.2976643217123212, 1.3077860894081363, 1.3147967589612921, 1.3191108650534304, 1.3209319378111817, 1.3214272454736602, 1.3351669045353842, 1.3356589027145434, 1.3398503678453182, 1.3401517511722294, 1.3555553456410507, 1.3591802570618641, 1.3624873198318959, 1.3763877005751459, 1.385882784490418, 1.3906113162213316, 1.3948606592721193, 1.4018009346002545, 1.4046827347930289, 1.4063600381120824, 1.4067273882681104, 1.4155122039928321, 1.4171223047556583, 1.4525375130112763, 1.4609384119564819, 1.4646883493988634, 1.4739322642211525, 1.5069099029571564, 1.5127866991634538, 1.5248038951969682, 1.5276430650779682, 1.5384910143085535, 1.5405011302082627, 1.543761464157599, 1.5522123998160906, 1.557994095642669, 1.5744191781418768, 1.5840911765973473, 1.5946980515394957, 1.599480464539218, 1.6165230525462637, 1.6324836855183713, 1.6410582038354447, 1.6418768594822679, 1.6557768163573154, 1.663812818333422, 1.6768171025823555, 1.6815230749279515, 1.6912552911562679, 1.6922933053366918, 1.714593817458244, 1.7249507185940851, 1.7427605405039248, 1.7580308911970712, 1.8193583468498147, 1.8315578490908786, 1.8390691662872183, 1.8442828742460222, 1.8507437246839089, 1.8555018279998703, 1.8710827230557288, 1.8807166385018412, 1.887232038001196, 1.8894680729000979, 1.9080644196839722, 1.9115162916243915, 1.9272249736704181, 1.9476663432680981, 1.9502402191986048, 2.0199007441487717, 2.0226493438904907, 2.0354556297817825, 2.0525540925122656, 2.0610178531121885, 2.0890987383539943, 2.1154989424303134, 2.116763621987745, 2.1262153778327462, 2.1341958107023351, 2.1534578876810988, 2.1577377487224063, 2.1611884156557526, 2.1673483685956896, 2.1679374108016143, 2.1939497865568507, 2.2374433504713775, 2.2793940103169641, 2.2896345316934394, 2.3050565046144875, 2.3074063637949029, 2.3130268054779344, 2.3564989317030745, 2.3655828213704089, 2.4751989597685875, 2.4837851740855035, 2.4892063083629394, 2.49663042521385, 2.5766511099020208, 2.5772495367648611, 2.6228913125399749, 2.6945074281856609, 2.7499730957607982, 2.7976107974710112, 2.8090153918478182, 2.8287734711914099, 2.8411728909276648, 2.8513516419851248, 2.8520776330571387, 2.8594580630484607, 2.8870319726406941, 2.8893091219564297, 2.9039157219601015, 2.9620571065284067, 3.0373398274833039, 3.0376825305320505, 3.075955707690555, 3.0829279179212814, 3.0877806020352878, 3.1132474176441041, 3.1790460930104931, 3.1819872933396649, 3.3570684463309766, 3.6215382070896909, 3.6378178424882592, 3.6890366134856039, 3.7941557922376008, 3.8279215939208155, 4.2768085221289995, 4.356529765303236, 4.4685731782945437, 4.4840362742223956, 4.8669724473321496, 5.5850974962777347, 10.806303733782491]\n",
      "[0.12326678625521799]\n"
     ]
    },
    {
     "name": "stderr",
     "output_type": "stream",
     "text": [
      "\r",
      "  8%|███▎                                     | 14/172 [00:04<00:46,  3.36it/s]"
     ]
    },
    {
     "name": "stdout",
     "output_type": "stream",
     "text": [
      "[0.96904836232049574, 0.75809278257011614, 1.8054349825994889, 1.7530813473010141, 0.20356672735176159, 0.41670575275422411, 0.19005935203865737, 0.068837735242447309, 0.30821396342095847, 0.051654906599754552, 0.10161727784115082, 0.16378512450655153, 0.57125930440660966, 0.19900772986791901, 0.091934682395032316, 0.073593146804452489, 0.080709822082388083, 0.24427596255077624, 0.85643635862923129, 0.22643199013304199, 0.3309133607989439, 0.99624562429960073, 1.5844674061894428, 1.2354418462913903, 0.41267894869282684, 0.4695840183749232, 0.27790988272491784, 0.26619370095782313, 0.22280123255398032, 0.37356557946817803, 0.14144152894596032, 0.3416999832926842, 0.18715361800327851, 1.2992661354101351, 0.37983855909744152, 0.14086135509751807, 0.5791172724460496, 0.069487666106935089, 0.063112270084636282, 0.75194382650440184, 0.13522019039646543, 0.55530203826081159, 0.56316780458689486, 0.37439616846719476, 0.49980820758063632, 1.0289812746673539, 0.59546550463722991, 0.41200815215839187, 0.2089108917107341, 0.34909027077550109, 1.6598359345092386, 0.75239826678213106, 0.78664524999492025, 0.5231639077931729, 1.0366044696566832, 0.40500404856716182, 2.676971520154686, 2.1223331809608355, 1.1763248094681207, 0.73420531188781835, 0.3679648592090054, 0.40999329823679526, 0.066185395533748595, 0.073695594111115204, 0.35588341846845239, 0.82960053147370527, 0.49284382549897482, 0.44861003419128259, 1.160168028395868, 0.083361822673315641, 0.30664358457176499, 0.095063510505639756, 0.21312414853915429, 0.060079271696592093, 0.20174785740626516, 0.1938837072107403, 0.061520408465042607, 0.064786294215877116, 0.35636681023083122, 0.80616459199739088, 0.6279564781960737, 0.68731296610511394, 0.076972257382056528, 0.16315949468302435, 0.049777690283013154, 0.38387428133957946, 0.41731844083201963, 0.69736381916098045, 0.96437761678730838, 0.36620394328406669, 1.1822734271002695, 0.36639686627764601, 0.85297412237004167, 2.2238746237756901, 3.4401894866623071, 2.8309118765343944, 0.14348475238384217, 0.64754635836941621, 0.76168944775506808, 0.20617510942703476, 0.41572813870290598, 0.067936659598534052, 0.92877585495290671, 0.21468556160667396, 0.61294856168466072, 1.5239609876700428, 2.601501706795005, 0.38019467811568208, 1.7639608736006138, 0.37341687630782144, 0.3925433466290898, 1.2522050129991746, 0.94198350743492343, 1.8051715312714292, 1.193296735397142, 1.7955502283024742, 1.2772732199525667, 2.75270405579022, 1.9453709998895055, 1.6982933951605172, 1.9275382189380563, 1.5172493949015886, 0.40526982522155003, 2.3888441239593865, 2.7224282133972357, 0.065067850039862971, 0.62596222026829684, 0.27085739491886374, 0.72503996066993104, 0.13317699481195383, 0.10162404378703811, 0.4294747863397082, 0.12568935073172194, 1.4829219610399493, 0.40247019302343678, 1.0251871686474612, 3.91921087526429, 1.7739418910444609, 2.4924214659274573, 0.93479724315318857, 0.15062601371127121, 2.115852126203273, 3.2628448779726105, 1.0431181220199977, 0.83960771731201334, 1.0107779855623198, 0.3132477832018285, 0.67107752994170944, 0.71869080099221161, 0.36995865335965472, 1.1637347327188172, 0.84730464359201063, 0.77955203103715431, 1.4922686661796247, 3.2792797598465397, 0.33217493696309081, 0.071913717684178979, 2.0072591546612966, 1.3328610346379246, 2.2641279248880202, 3.4700750614957987, 1.9991627798841607, 0.42832651535783839, 1.5692243441864273, 3.3313311735021811, 0.092927173427029414, 0.50911149816816825, 0.91740398289015423, 2.4994529742325993, 1.2194391281714219, 1.3508676819295076, 1.9176437418407173, 1.3126682142417569, 0.84100246739816042, 1.2926306950686546, 2.6771158291997987, 1.5076135031242039, 2.4367550169584233, 2.8186057059592251, 1.672418017060969, 0.80203705736468744, 0.49773078833166517, 0.6130645029365287, 0.95501412438339806, 1.3608429395055368, 1.7544082346087708, 0.35692739114506949, 0.19991978565839322, 1.1092341938566836, 0.12657654882354213, 0.65377271972813866, 0.98932767420919643, 1.5264817501415395, 1.875301471571472, 1.0247859280403984, 2.1277997313926558, 0.14188581755449034, 1.2583392545177552, 0.54342505676009811, 0.95564040180347087, 0.13143133993125586, 0.70155620009092023, 0.76349555366308552, 0.69488549995042581, 0.60614661911336887, 0.2940729291582726, 0.068102386341781548, 0.63734896960391008, 0.38071261413101665, 0.23039094778591579, 0.60636420270479596, 0.2380550377784823, 0.07189662022168071, 0.17046450947841091, 0.14906446040101845, 1.3787030191442322, 0.20847810125230706, 0.077480395804665605, 0.88815100047000539, 1.0511552260493509, 1.46787554798983, 0.85212700395919316, 0.9738785965297867, 0.069282172264800768, 1.1785928763975748, 0.29512900124686398, 0.10858885961137291, 1.1203636408604043, 0.65876107179608001, 0.86630919036764054, 0.65169230980538528, 4.0097955542764812, 3.209596914633551, 1.3029134236548006, 3.174814029463374, 1.3433615138929487, 1.272712232472289, 1.7290869882415354, 1.8411195410936037, 3.226397215012391, 2.0809349394807053, 1.6913532085662051, 2.8900093282956738, 2.1549356974655494, 10.866216264203091, 2.0750626228208646, 1.1403238216826206, 1.0191892374093496, 3.1438566805715116, 2.1341552894659563, 3.3448901238681459, 2.9319091774934734, 2.1548745326778382, 0.80215952207608821, 0.61979781525211508, 1.7599395462406462, 1.2843042753335314, 4.6311152318056399, 1.1321790460035566, 2.9788642527790139, 1.7799325365317806, 1.3148764608636292, 3.031097241062668, 5.0042098174741572, 3.4145172261019736, 1.4263859943655284, 0.89680897340627075, 2.1551058938257732, 1.9591434959010632, 2.7972859273367754, 3.55334935701597, 5.8014318008284098, 2.2626703489213917, 1.4741628103223798, 0.80093492652157805, 0.84482516726718981, 1.0803618404859614, 1.4165306674925739, 4.5340221913390542, 0.9324496037879878, 1.2705858568227537, 1.1604382248894585, 1.0393730948476951, 0.98260521775379772, 1.652037451109533, 1.8653066992858889, 1.5923995621162674, 0.7777513769866945, 1.415890184833529, 1.4835414926447952, 0.80681805946372442, 0.94426650033856918, 1.1443503646829305, 1.1260212464125012, 1.4153545597145445, 1.2255889534896136, 2.2867158236624001, 0.5131250792296087, 0.92708143781056551, 1.0496133712437026, 0.80549937879846412, 0.95596560059599189, 1.0848220358744847, 0.9935464856941193, 0.34585702049263017, 0.3993811333728709, 1.8226775805597033, 1.5321381914082823, 0.60865633158102384, 0.85541264381897408, 1.0919446890611291, 0.8080114400664079, 0.98750575688440501, 1.9193446910330758, 1.3561436014419144, 1.7480876942991601, 0.3067779255492844, 0.70133725061438534, 0.51505160210046563, 0.57647617315020394, 0.63081676551216337, 1.070633096280077, 0.16550327938014842, 0.16524534124571569, 0.23265362208336476, 0.085672660817504312, 0.28216106290055543, 0.66274733075917169, 0.20779986021084104, 0.218911069153716, 0.99320342423898822, 0.34837498995339361, 1.2684733482304082, 0.22860445448751457]\n",
      "[0.049777690283013154, 0.051654906599754552, 0.060079271696592093, 0.061520408465042607, 0.063112270084636282, 0.064786294215877116, 0.065067850039862971, 0.066185395533748595, 0.067936659598534052, 0.068102386341781548, 0.068837735242447309, 0.069282172264800768, 0.069487666106935089, 0.07189662022168071, 0.071913717684178979, 0.073593146804452489, 0.073695594111115204, 0.076972257382056528, 0.077480395804665605, 0.080709822082388083, 0.083361822673315641, 0.085672660817504312, 0.091934682395032316, 0.092927173427029414, 0.095063510505639756, 0.10161727784115082, 0.10162404378703811, 0.10858885961137291, 0.12568935073172194, 0.12657654882354213, 0.13143133993125586, 0.13317699481195383, 0.13522019039646543, 0.14086135509751807, 0.14144152894596032, 0.14188581755449034, 0.14348475238384217, 0.14906446040101845, 0.15062601371127121, 0.16315949468302435, 0.16378512450655153, 0.16524534124571569, 0.16550327938014842, 0.17046450947841091, 0.18715361800327851, 0.19005935203865737, 0.1938837072107403, 0.19900772986791901, 0.19991978565839322, 0.20174785740626516, 0.20356672735176159, 0.20617510942703476, 0.20779986021084104, 0.20847810125230706, 0.2089108917107341, 0.21312414853915429, 0.21468556160667396, 0.218911069153716, 0.22280123255398032, 0.22643199013304199, 0.22860445448751457, 0.23039094778591579, 0.23265362208336476, 0.2380550377784823, 0.24427596255077624, 0.26619370095782313, 0.27085739491886374, 0.27790988272491784, 0.28216106290055543, 0.2940729291582726, 0.29512900124686398, 0.30664358457176499, 0.3067779255492844, 0.30821396342095847, 0.3132477832018285, 0.3309133607989439, 0.33217493696309081, 0.3416999832926842, 0.34585702049263017, 0.34837498995339361, 0.34909027077550109, 0.35588341846845239, 0.35636681023083122, 0.35692739114506949, 0.36620394328406669, 0.36639686627764601, 0.3679648592090054, 0.36995865335965472, 0.37341687630782144, 0.37356557946817803, 0.37439616846719476, 0.37983855909744152, 0.38019467811568208, 0.38071261413101665, 0.38387428133957946, 0.3925433466290898, 0.3993811333728709, 0.40247019302343678, 0.40500404856716182, 0.40526982522155003, 0.40999329823679526, 0.41200815215839187, 0.41267894869282684, 0.41572813870290598, 0.41670575275422411, 0.41731844083201963, 0.42832651535783839, 0.4294747863397082, 0.44861003419128259, 0.4695840183749232, 0.49284382549897482, 0.49773078833166517, 0.49980820758063632, 0.50911149816816825, 0.5131250792296087, 0.51505160210046563, 0.5231639077931729, 0.54342505676009811, 0.55530203826081159, 0.56316780458689486, 0.57125930440660966, 0.57647617315020394, 0.5791172724460496, 0.59546550463722991, 0.60614661911336887, 0.60636420270479596, 0.60865633158102384, 0.61294856168466072, 0.6130645029365287, 0.61979781525211508, 0.62596222026829684, 0.6279564781960737, 0.63081676551216337, 0.63734896960391008, 0.64754635836941621, 0.65169230980538528, 0.65377271972813866, 0.65876107179608001, 0.66274733075917169, 0.67107752994170944, 0.68731296610511394, 0.69488549995042581, 0.69736381916098045, 0.70133725061438534, 0.70155620009092023, 0.71869080099221161, 0.72503996066993104, 0.73420531188781835, 0.75194382650440184, 0.75239826678213106, 0.75809278257011614, 0.76168944775506808, 0.76349555366308552, 0.7777513769866945, 0.77955203103715431, 0.78664524999492025, 0.80093492652157805, 0.80203705736468744, 0.80215952207608821, 0.80549937879846412, 0.80616459199739088, 0.80681805946372442, 0.8080114400664079, 0.82960053147370527, 0.83960771731201334, 0.84100246739816042, 0.84482516726718981, 0.84730464359201063, 0.85212700395919316, 0.85297412237004167, 0.85541264381897408, 0.85643635862923129, 0.86630919036764054, 0.88815100047000539, 0.89680897340627075, 0.91740398289015423, 0.92708143781056551, 0.92877585495290671, 0.9324496037879878, 0.93479724315318857, 0.94198350743492343, 0.94426650033856918, 0.95501412438339806, 0.95564040180347087, 0.95596560059599189, 0.96437761678730838, 0.96904836232049574, 0.9738785965297867, 0.98260521775379772, 0.98750575688440501, 0.98932767420919643, 0.99320342423898822, 0.9935464856941193, 0.99624562429960073, 1.0107779855623198, 1.0191892374093496, 1.0247859280403984, 1.0251871686474612, 1.0289812746673539, 1.0366044696566832, 1.0393730948476951, 1.0431181220199977, 1.0496133712437026, 1.0511552260493509, 1.070633096280077, 1.0803618404859614, 1.0848220358744847, 1.0919446890611291, 1.1092341938566836, 1.1203636408604043, 1.1260212464125012, 1.1321790460035566, 1.1403238216826206, 1.1443503646829305, 1.160168028395868, 1.1604382248894585, 1.1637347327188172, 1.1763248094681207, 1.1785928763975748, 1.1822734271002695, 1.193296735397142, 1.2194391281714219, 1.2255889534896136, 1.2354418462913903, 1.2522050129991746, 1.2583392545177552, 1.2684733482304082, 1.2705858568227537, 1.272712232472289, 1.2772732199525667, 1.2843042753335314, 1.2926306950686546, 1.2992661354101351, 1.3029134236548006, 1.3126682142417569, 1.3148764608636292, 1.3328610346379246, 1.3433615138929487, 1.3508676819295076, 1.3561436014419144, 1.3608429395055368, 1.3787030191442322, 1.4153545597145445, 1.415890184833529, 1.4165306674925739, 1.4263859943655284, 1.46787554798983, 1.4741628103223798, 1.4829219610399493, 1.4835414926447952, 1.4922686661796247, 1.5076135031242039, 1.5172493949015886, 1.5239609876700428, 1.5264817501415395, 1.5321381914082823, 1.5692243441864273, 1.5844674061894428, 1.5923995621162674, 1.652037451109533, 1.6598359345092386, 1.672418017060969, 1.6913532085662051, 1.6982933951605172, 1.7290869882415354, 1.7480876942991601, 1.7530813473010141, 1.7544082346087708, 1.7599395462406462, 1.7639608736006138, 1.7739418910444609, 1.7799325365317806, 1.7955502283024742, 1.8051715312714292, 1.8054349825994889, 1.8226775805597033, 1.8411195410936037, 1.8653066992858889, 1.875301471571472, 1.9176437418407173, 1.9193446910330758, 1.9275382189380563, 1.9453709998895055, 1.9591434959010632, 1.9991627798841607, 2.0072591546612966, 2.0750626228208646, 2.0809349394807053, 2.115852126203273, 2.1223331809608355, 2.1277997313926558, 2.1341552894659563, 2.1548745326778382, 2.1549356974655494, 2.1551058938257732, 2.2238746237756901, 2.2626703489213917, 2.2641279248880202, 2.2867158236624001, 2.3888441239593865, 2.4367550169584233, 2.4924214659274573, 2.4994529742325993, 2.601501706795005, 2.676971520154686, 2.6771158291997987, 2.7224282133972357, 2.75270405579022, 2.7972859273367754, 2.8186057059592251, 2.8309118765343944, 2.8900093282956738, 2.9319091774934734, 2.9788642527790139, 3.031097241062668, 3.1438566805715116, 3.174814029463374, 3.209596914633551, 3.226397215012391, 3.2628448779726105, 3.2792797598465397, 3.3313311735021811, 3.3448901238681459, 3.4145172261019736, 3.4401894866623071, 3.4700750614957987, 3.55334935701597, 3.91921087526429, 4.0097955542764812, 4.5340221913390542, 4.6311152318056399, 5.0042098174741572, 5.8014318008284098, 10.866216264203091]\n",
      "[0.049777690283013154]\n"
     ]
    },
    {
     "name": "stderr",
     "output_type": "stream",
     "text": [
      "\r",
      "  9%|███▌                                     | 15/172 [00:04<00:46,  3.38it/s]"
     ]
    },
    {
     "name": "stdout",
     "output_type": "stream",
     "text": [
      "[1.1099727065471623, 0.89888900059736954, 1.9465137625006375, 1.8941632944071536, 0.34089564294231883, 0.5570993484172182, 0.32821063110849952, 0.17845460369278068, 0.44926127356334938, 0.089450125127662428, 0.23328630270569037, 0.30408385916949932, 0.43018136893830922, 0.058248208059181364, 0.073038044384628492, 0.21334046945167354, 0.060594625151410599, 0.38372985525244407, 0.99739883266780893, 0.096352191488207117, 0.46421581339320434, 1.1371986694583314, 1.7255346731610468, 1.3764998122907548, 0.55304626266079859, 0.61018311210962484, 0.41720494149595627, 0.13301762864099759, 0.3623019161867968, 0.23525857269511, 0.27529973854766865, 0.48112085608216948, 0.32311890694772127, 1.4402948936059841, 0.52011841102356571, 0.27697733837982907, 0.71965839362940953, 0.16644824228549246, 0.17178717011473457, 0.89281210682071022, 0.27061587417252636, 0.69589320869708826, 0.70382537528135158, 0.5143340832892378, 0.64019428316968163, 1.1699582635263837, 0.73604312952353901, 0.55192766584709763, 0.34584422055228148, 0.48875633481356162, 1.8009114326821534, 0.89321502822738241, 0.92748665711595579, 0.66358090029828376, 1.1776273663338743, 0.54523640308676202, 2.8180649333385053, 2.2634237540126745, 1.3173821701328079, 0.87520266073783715, 0.50842361429841909, 0.55034305564062036, 0.12934635800363223, 0.10924974343111285, 0.49592811142918297, 0.97055754962113627, 0.63371372125358638, 0.58899107821537056, 1.30120619073291, 0.2081589056344835, 0.44685752259855432, 0.22624816461827665, 0.35160352549080431, 0.1552354303505647, 0.080905956552116215, 0.33056929100634386, 0.13437495137616426, 0.16560775527958424, 0.2165851930383744, 0.94723943683295209, 0.7679869366222718, 0.82838459864519109, 0.082866363814437724, 0.042616694371612938, 0.13057852999784308, 0.52496771999173819, 0.55813836097387015, 0.58891556054324368, 0.82631666864182385, 0.50013403373380139, 1.0412363736483472, 0.50318843422536208, 0.71663197645147003, 2.3646310911749087, 3.5810629055628254, 2.9715203980295692, 0.2038693543465403, 0.78173922550596786, 0.89666090361945161, 0.25337534193226596, 0.27761726620105281, 0.14179890730594946, 1.0697291028362812, 0.35210189391133634, 0.75359668512436073, 1.6650286851317135, 2.7425950991604138, 0.52007761022992016, 1.9050456585851363, 0.23691609254996165, 0.53246361702738798, 1.3932496078482057, 1.0829828919637556, 1.9462568142317638, 1.3343281227227877, 1.9366355204999834, 1.4183010120609267, 2.8937972994388876, 2.0864560882808751, 1.8393699119812104, 2.0686225678235139, 1.6583107926449947, 0.54514278522509207, 2.5299356101868797, 2.8635215781072088, 0.17910642802353549, 0.76690311238700826, 0.41017192487365645, 0.58422989353117771, 0.2688558244705756, 0.074534885586730146, 0.57008137934437508, 0.25867621514547806, 1.6240146296870079, 0.5434793838282409, 1.1662442829802866, 4.0602705270775399, 1.9150277525937085, 2.6335090396683607, 1.0758905323872068, 0.2916457718841361, 2.2569285787825826, 3.4039243475873535, 1.1842006822916538, 0.9805293989143874, 1.1517783356544888, 0.45281202951778615, 0.81189026966667877, 0.85957959283322982, 0.23206005745995131, 1.304802860419948, 0.98827954190801026, 0.92055566545975676, 1.6333389989191074, 3.4203562727054635, 0.47153169759084973, 0.16520474694422441, 2.1483020398961448, 1.4739034325623304, 2.4051935625916023, 3.611136734550775, 2.1401632657996061, 0.28725342607873999, 1.7102250537895298, 3.4723868431163654, 0.21853379322481004, 0.64980220401132582, 1.0583876562959174, 2.6405442451760934, 1.3604701690261711, 1.4919293055129197, 2.0587332931301239, 1.4537154411984516, 0.98192245637621034, 1.4337122310757551, 2.818209123718233, 1.6486753326840415, 2.5778479204554845, 2.9596990748221388, 1.8134867172135987, 0.94285381216415998, 0.63799174871110131, 0.75369580446015461, 1.0959608363668201, 1.5018882615368254, 1.8954913794510322, 0.49672025497638406, 0.33701843604584192, 1.2502748593602138, 0.068766987654232697, 0.79450343553995628, 1.1302834439210832, 1.6675575618014298, 2.0163859960085881, 1.1657679181232607, 2.2688906826725268, 0.28138316503558886, 1.1195525845864873, 0.68435375311102198, 1.0967306798428214, 0.052831868270962784, 0.84263935829552905, 0.90445433309530809, 0.83581852732209871, 0.74715244384582591, 0.43431166618849687, 0.1537288754185383, 0.77806093733272452, 0.52047592821314059, 0.36777556200166628, 0.74696512923817959, 0.37572538765843755, 0.15677673086385902, 0.30560753579090033, 0.28278160316684264, 1.5197492707706612, 0.34504803975740295, 0.19137857741398037, 1.0290411378124542, 1.1921209511587509, 1.6089316361846915, 0.9930367918031282, 1.1148589453596613, 0.17317231051359538, 1.3195979296158411, 0.16335690712909773, 0.2389533298022779, 1.183109683431381, 0.7408450354533348, 0.98536966577464236, 0.76734604217844227, 4.15003524537026, 3.0696453634481191, 1.1673759480300727, 3.0512091094455061, 1.2130423315833456, 1.3963185598570729, 1.8568580708450877, 1.7396489279527765, 3.1212658688584005, 2.1537565353147881, 1.7972156059502391, 2.92387371670356, 2.1874239739286172, 10.883133630695344, 2.1385639768560041, 1.0875515208569095, 0.95708684561301205, 3.0502843517294864, 2.080881795081543, 3.2733752275145886, 2.8738799899995322, 2.0657357669792118, 0.77227238053127256, 0.68520643155498884, 1.6685342877451264, 1.3764287805847728, 4.6121745081603338, 1.1340477822860822, 2.9861391663672863, 1.8327265075788655, 1.3954550532340904, 2.9973246126076485, 4.989439083575137, 3.3150659163431939, 1.3937368321224295, 0.84831038253682567, 2.2432682161391191, 2.0373500420340243, 2.7105454081919276, 3.5134282991126766, 5.7544085572713932, 2.3113456532208798, 1.5469216640433079, 0.84137763565796164, 0.90427268640724656, 1.0301413846267984, 1.415258542852196, 4.546767396548077, 1.0040111886165413, 1.3504470114293001, 1.2426876300627234, 1.1443630396618931, 1.0953517329856168, 1.7416780419173676, 1.9276037442717522, 1.6027670139359631, 0.86892202757402504, 1.5014000637419347, 1.4843845488192484, 0.94784796150737827, 1.0433110832912524, 1.201378055293292, 1.2219468942837239, 1.5355128882535345, 1.3495655644802111, 2.4149199467906053, 0.56580776369354224, 0.94749843449564841, 1.1321554740610498, 0.86284479631758981, 1.0493383876273583, 1.2003113993000547, 1.0637198445119944, 0.30608208813804672, 0.45587714869947488, 1.8303396001364574, 1.5149521032504505, 0.70822850968230666, 0.98394586971010478, 1.0166230532246285, 0.88334233608804136, 1.1084516565147209, 1.8631559287463777, 1.4815402616059616, 1.8793957633157214, 0.26390199304072937, 0.77543297706669856, 0.54264555668523595, 0.43684681213595578, 0.49082917882993099, 0.92996848866229875, 0.30151302017629822, 0.30136346743773307, 0.10318577183438359, 0.22050392429880733, 0.14762555746410502, 0.52232751188798587, 0.34717775256502498, 0.35831019908115419, 1.1341795118948581, 0.48787212367118271, 1.4095298842138437, 0.36611518181336206]\n",
      "[0.042616694371612938, 0.052831868270962784, 0.058248208059181364, 0.060594625151410599, 0.068766987654232697, 0.073038044384628492, 0.074534885586730146, 0.080905956552116215, 0.082866363814437724, 0.089450125127662428, 0.096352191488207117, 0.10318577183438359, 0.10924974343111285, 0.12934635800363223, 0.13057852999784308, 0.13301762864099759, 0.13437495137616426, 0.14179890730594946, 0.14762555746410502, 0.1537288754185383, 0.1552354303505647, 0.15677673086385902, 0.16335690712909773, 0.16520474694422441, 0.16560775527958424, 0.16644824228549246, 0.17178717011473457, 0.17317231051359538, 0.17845460369278068, 0.17910642802353549, 0.19137857741398037, 0.2038693543465403, 0.2081589056344835, 0.21334046945167354, 0.2165851930383744, 0.21853379322481004, 0.22050392429880733, 0.22624816461827665, 0.23206005745995131, 0.23328630270569037, 0.23525857269511, 0.23691609254996165, 0.2389533298022779, 0.25337534193226596, 0.25867621514547806, 0.26390199304072937, 0.2688558244705756, 0.27061587417252636, 0.27529973854766865, 0.27697733837982907, 0.27761726620105281, 0.28138316503558886, 0.28278160316684264, 0.28725342607873999, 0.2916457718841361, 0.30136346743773307, 0.30151302017629822, 0.30408385916949932, 0.30560753579090033, 0.30608208813804672, 0.32311890694772127, 0.32821063110849952, 0.33056929100634386, 0.33701843604584192, 0.34089564294231883, 0.34504803975740295, 0.34584422055228148, 0.34717775256502498, 0.35160352549080431, 0.35210189391133634, 0.35831019908115419, 0.3623019161867968, 0.36611518181336206, 0.36777556200166628, 0.37572538765843755, 0.38372985525244407, 0.41017192487365645, 0.41720494149595627, 0.43018136893830922, 0.43431166618849687, 0.43684681213595578, 0.44685752259855432, 0.44926127356334938, 0.45281202951778615, 0.45587714869947488, 0.46421581339320434, 0.47153169759084973, 0.48112085608216948, 0.48787212367118271, 0.48875633481356162, 0.49082917882993099, 0.49592811142918297, 0.49672025497638406, 0.50013403373380139, 0.50318843422536208, 0.50842361429841909, 0.5143340832892378, 0.52007761022992016, 0.52011841102356571, 0.52047592821314059, 0.52232751188798587, 0.52496771999173819, 0.53246361702738798, 0.54264555668523595, 0.5434793838282409, 0.54514278522509207, 0.54523640308676202, 0.55034305564062036, 0.55192766584709763, 0.55304626266079859, 0.5570993484172182, 0.55813836097387015, 0.56580776369354224, 0.57008137934437508, 0.58422989353117771, 0.58891556054324368, 0.58899107821537056, 0.61018311210962484, 0.63371372125358638, 0.63799174871110131, 0.64019428316968163, 0.64980220401132582, 0.66358090029828376, 0.68435375311102198, 0.68520643155498884, 0.69589320869708826, 0.70382537528135158, 0.70822850968230666, 0.71663197645147003, 0.71965839362940953, 0.73604312952353901, 0.7408450354533348, 0.74696512923817959, 0.74715244384582591, 0.75359668512436073, 0.75369580446015461, 0.76690311238700826, 0.76734604217844227, 0.7679869366222718, 0.77227238053127256, 0.77543297706669856, 0.77806093733272452, 0.78173922550596786, 0.79450343553995628, 0.81189026966667877, 0.82631666864182385, 0.82838459864519109, 0.83581852732209871, 0.84137763565796164, 0.84263935829552905, 0.84831038253682567, 0.85957959283322982, 0.86284479631758981, 0.86892202757402504, 0.87520266073783715, 0.88334233608804136, 0.89281210682071022, 0.89321502822738241, 0.89666090361945161, 0.89888900059736954, 0.90427268640724656, 0.90445433309530809, 0.92055566545975676, 0.92748665711595579, 0.92996848866229875, 0.94285381216415998, 0.94723943683295209, 0.94749843449564841, 0.94784796150737827, 0.95708684561301205, 0.97055754962113627, 0.9805293989143874, 0.98192245637621034, 0.98394586971010478, 0.98536966577464236, 0.98827954190801026, 0.9930367918031282, 0.99739883266780893, 1.0040111886165413, 1.0166230532246285, 1.0290411378124542, 1.0301413846267984, 1.0412363736483472, 1.0433110832912524, 1.0493383876273583, 1.0583876562959174, 1.0637198445119944, 1.0697291028362812, 1.0758905323872068, 1.0829828919637556, 1.0875515208569095, 1.0953517329856168, 1.0959608363668201, 1.0967306798428214, 1.1084516565147209, 1.1099727065471623, 1.1148589453596613, 1.1195525845864873, 1.1302834439210832, 1.1321554740610498, 1.1340477822860822, 1.1341795118948581, 1.1371986694583314, 1.1443630396618931, 1.1517783356544888, 1.1657679181232607, 1.1662442829802866, 1.1673759480300727, 1.1699582635263837, 1.1776273663338743, 1.183109683431381, 1.1842006822916538, 1.1921209511587509, 1.2003113993000547, 1.201378055293292, 1.2130423315833456, 1.2219468942837239, 1.2426876300627234, 1.2502748593602138, 1.30120619073291, 1.304802860419948, 1.3173821701328079, 1.3195979296158411, 1.3343281227227877, 1.3495655644802111, 1.3504470114293001, 1.3604701690261711, 1.3764287805847728, 1.3764998122907548, 1.3932496078482057, 1.3937368321224295, 1.3954550532340904, 1.3963185598570729, 1.4095298842138437, 1.415258542852196, 1.4183010120609267, 1.4337122310757551, 1.4402948936059841, 1.4537154411984516, 1.4739034325623304, 1.4815402616059616, 1.4843845488192484, 1.4919293055129197, 1.5014000637419347, 1.5018882615368254, 1.5149521032504505, 1.5197492707706612, 1.5355128882535345, 1.5469216640433079, 1.6027670139359631, 1.6089316361846915, 1.6240146296870079, 1.6333389989191074, 1.6486753326840415, 1.6583107926449947, 1.6650286851317135, 1.6675575618014298, 1.6685342877451264, 1.7102250537895298, 1.7255346731610468, 1.7396489279527765, 1.7416780419173676, 1.7972156059502391, 1.8009114326821534, 1.8134867172135987, 1.8303396001364574, 1.8327265075788655, 1.8393699119812104, 1.8568580708450877, 1.8631559287463777, 1.8793957633157214, 1.8941632944071536, 1.8954913794510322, 1.9050456585851363, 1.9150277525937085, 1.9276037442717522, 1.9366355204999834, 1.9462568142317638, 1.9465137625006375, 2.0163859960085881, 2.0373500420340243, 2.0587332931301239, 2.0657357669792118, 2.0686225678235139, 2.080881795081543, 2.0864560882808751, 2.1385639768560041, 2.1401632657996061, 2.1483020398961448, 2.1537565353147881, 2.1874239739286172, 2.2432682161391191, 2.2569285787825826, 2.2634237540126745, 2.2688906826725268, 2.3113456532208798, 2.3646310911749087, 2.4051935625916023, 2.4149199467906053, 2.5299356101868797, 2.5778479204554845, 2.6335090396683607, 2.6405442451760934, 2.7105454081919276, 2.7425950991604138, 2.8180649333385053, 2.818209123718233, 2.8635215781072088, 2.8738799899995322, 2.8937972994388876, 2.92387371670356, 2.9596990748221388, 2.9715203980295692, 2.9861391663672863, 2.9973246126076485, 3.0502843517294864, 3.0512091094455061, 3.0696453634481191, 3.1212658688584005, 3.2733752275145886, 3.3150659163431939, 3.4039243475873535, 3.4203562727054635, 3.4723868431163654, 3.5134282991126766, 3.5810629055628254, 3.611136734550775, 4.0602705270775399, 4.15003524537026, 4.546767396548077, 4.6121745081603338, 4.989439083575137, 5.7544085572713932, 10.883133630695344]\n",
      "[0.042616694371612938]\n"
     ]
    },
    {
     "name": "stderr",
     "output_type": "stream",
     "text": [
      "\r",
      "  9%|███▊                                     | 16/172 [00:04<00:46,  3.38it/s]"
     ]
    },
    {
     "name": "stdout",
     "output_type": "stream",
     "text": [
      "[1.0960779856617799, 0.88498345308721582, 1.9326539442844006, 1.8803056288034072, 0.32700840894616734, 0.54318053276857614, 0.31430407826804707, 0.16503153059693529, 0.43545927815649871, 0.075607844609697009, 0.22023201222300212, 0.2904135246340227, 0.44404757847248827, 0.072168529374054782, 0.063315978911247253, 0.19968354892044923, 0.046936513950315277, 0.37018726643677902, 0.98363141198045667, 0.10868699706480238, 0.45136009300084756, 1.1233075715520833, 1.7116690030300896, 1.3626307947608931, 0.53912698898146438, 0.59626945679622867, 0.40328603659548962, 0.14479056758477582, 0.34838020729149338, 0.2483372733554309, 0.26148061493599123, 0.46720178159627529, 0.30926325179074438, 1.4264170564790162, 0.50619804062128626, 0.26310149442579261, 0.70574201252495006, 0.15328113487920736, 0.1583267030778947, 0.87891233578679384, 0.25675391136664988, 0.68197859172121866, 0.68991330916719074, 0.50041174788783038, 0.62627475416590028, 1.1560706730016188, 0.72212780133762344, 0.53800539352921195, 0.33196794929474965, 0.47483499448783506, 1.7870497765201556, 0.87931098346066461, 0.91358439071848874, 0.64966181779438037, 1.163748613677777, 0.53131529755557594, 2.8042255420676625, 2.2495744758700909, 1.3035130234598624, 0.86131961158686776, 0.49450675400205474, 0.53642349908448439, 0.11652361315961901, 0.096792435030005175, 0.48200595720277456, 0.9566675593347318, 0.61981590569868428, 0.57507178016432625, 1.28733104237547, 0.19448168076942529, 0.43293699660491247, 0.21244852481939297, 0.33769348485642076, 0.14194506117250652, 0.089146164292473476, 0.31669611741358916, 0.12133591367455823, 0.15230384013952067, 0.22998419724725833, 0.93337864619417721, 0.7544042944589836, 0.8145716167704018, 0.070017425399494848, 0.05106502098801409, 0.11714755957836359, 0.51112937885278853, 0.54423722912295147, 0.59998144787192875, 0.84014654701331093, 0.48723499196647058, 1.0551167015184282, 0.48998720620961511, 0.73034299350720411, 2.3509235817911427, 3.5673260340236848, 2.9578479017340826, 0.19539206871759968, 0.76889784208121137, 0.88374758242294749, 0.24684568752341224, 0.29068340736995574, 0.12895429549136361, 1.0558382332577929, 0.33821443575290533, 0.73968389335714935, 1.6511632614206522, 2.728753617852107, 0.50615536373201053, 1.8911901891897132, 0.24963265831697068, 0.51854131628269307, 1.3793761512254028, 1.0690994585109841, 1.9324017486871792, 1.3204511204051941, 1.922780468162343, 1.4044229699655828, 2.8799545560906976, 2.0726007843676206, 1.8255088047616586, 2.0547666504944946, 1.6444427369763566, 0.53122062605587073, 2.5160878050868045, 2.8496797673905045, 0.16556549413507496, 0.75301196117159441, 0.39625263276809136, 0.59793498212455332, 0.25498641681894335, 0.064099319254855791, 0.55616841523835892, 0.24486797305483074, 1.6101795020933847, 0.5296011694936682, 1.1524401515741094, 4.04646579956637, 1.9012034719900663, 2.6196827482124343, 1.0620529894946453, 0.27777636880028933, 2.2431127173735992, 3.3901061299577209, 1.1703796586254687, 0.96663480061967189, 1.1378948972094545, 0.43889110344557042, 0.79798634740563412, 0.84568195981744221, 0.24505124239546694, 1.2909380594640918, 0.97439217418055479, 0.90667361308385097, 1.6194748242931518, 3.4065404330237175, 0.45761323848657764, 0.15214591400212632, 2.1345057428476601, 1.4601069529900974, 2.3913850853329417, 3.5973307941534731, 2.1263848271354839, 0.30112483369308746, 1.6964461409225942, 3.4585842972671865, 0.20486564856936679, 0.63589209723302098, 1.0445014879733632, 2.6267123454629235, 1.3465930333655962, 1.478061520491792, 2.0448826475523099, 1.4398426983668409, 0.96802765442986882, 1.4198546449456344, 2.804366730665881, 1.6348074566448114, 2.5640036588760746, 2.9458572925248432, 1.7996216230592734, 0.92894954896899551, 0.62407050372360873, 0.73978232657477105, 1.0820689903681224, 1.4880148697105329, 1.8816346005897715, 0.48279823683354706, 0.32313612023082472, 1.2364005061780776, 0.062386927045697836, 0.78059437912109686, 1.1163927484413088, 1.653696186251864, 2.0025302493724628, 1.1518811613235549, 2.2550420064552386, 0.26746084840269818, 1.1334267361879127, 0.67046169009385215, 1.0828817747147275, 0.048007829554377247, 0.82878402145434049, 0.89056487176728538, 0.82192596613182212, 0.73327171169390126, 0.42039160791675317, 0.1407318013264921, 0.7641509761653974, 0.50655417412217207, 0.35389138092718692, 0.73305054425935268, 0.36183507830195399, 0.14387319717613681, 0.29176871565005341, 0.26897170799222031, 1.5058761391336311, 0.33118147879068138, 0.17793102563324451, 1.0151429200781723, 1.1782315464206143, 1.5950616470672832, 0.97914078698805507, 1.1009720528739264, 0.15986834461567762, 1.3057150369537405, 0.17498071950140792, 0.22519401504932024, 1.1776721422720005, 0.73316282479323025, 0.97419685930996258, 0.75642540891590393, 4.1364390932623962, 3.0835643963960049, 1.1810518538664732, 3.0640052874371717, 1.2263221753461389, 1.3847449976910777, 1.8448592256033407, 1.750429882030522, 3.1324713720089785, 2.1475836071687988, 1.7875868223748757, 2.92172204411029, 2.1853110177119239, 10.882888065327489, 2.1333333171438853, 1.0934564136026954, 0.96382598279100895, 3.0604427665858021, 2.0871536487729174, 3.2815001133018198, 2.8807015196157368, 2.0754117029999986, 0.77560867876409245, 0.6790479980831543, 1.6783675978623085, 1.3681307869976673, 4.6153393575143973, 1.1345901977173818, 2.9866331140226405, 1.8285125079044307, 1.3883289367496685, 3.0018290299791102, 4.9922124692994139, 3.3257691704460934, 1.397820055470649, 0.85360009229337819, 2.2355361560036857, 2.0306109877197529, 2.7200553231568869, 3.518564497146544, 5.7603094905864829, 2.3076351541791671, 1.5406290284050979, 0.83785553214297903, 0.89896080252841892, 1.0357568342898071, 1.4162658748275356, 4.5468225644851064, 0.99759291604877465, 1.3433775384753808, 1.2353375757861063, 1.1346845518483186, 1.0848644032807606, 1.7337195380776385, 1.9224563594022133, 1.6026997127526332, 0.86047928889976133, 1.4938078562798836, 1.4852125239976346, 0.93405615866412239, 1.0341923189219329, 1.1965166974023265, 1.2132141729895005, 1.5243309330670478, 1.3379455559102964, 2.4028950327747736, 0.56062242077139013, 0.94605732269177401, 1.1247264330182496, 0.85769682120744839, 1.0407892494769377, 1.1895682713898224, 1.057478123766475, 0.3088532806670829, 0.44998759435151159, 1.8306080815836629, 1.5175659447399263, 0.69882928404830214, 0.97177032428231702, 1.024705532746403, 0.87645977942277242, 1.0971145539331444, 1.8696683568202037, 1.4697797160319548, 1.8669872716958476, 0.26660580460363881, 0.76856153351830081, 0.53980539567658525, 0.45026506478973327, 0.50432889438226092, 0.94363863979564877, 0.28764886459747613, 0.28749648514879822, 0.1138910483750889, 0.20662245742417079, 0.15975667616101541, 0.5359273134780449, 0.33325647740278758, 0.34438901274117883, 1.1202918708928837, 0.47395228987758886, 1.3956603013015192, 0.35222753662283562]\n",
      "[0.046936513950315277, 0.048007829554377247, 0.05106502098801409, 0.062386927045697836, 0.063315978911247253, 0.064099319254855791, 0.070017425399494848, 0.072168529374054782, 0.075607844609697009, 0.089146164292473476, 0.096792435030005175, 0.10868699706480238, 0.1138910483750889, 0.11652361315961901, 0.11714755957836359, 0.12133591367455823, 0.12895429549136361, 0.1407318013264921, 0.14194506117250652, 0.14387319717613681, 0.14479056758477582, 0.15214591400212632, 0.15230384013952067, 0.15328113487920736, 0.1583267030778947, 0.15975667616101541, 0.15986834461567762, 0.16503153059693529, 0.16556549413507496, 0.17498071950140792, 0.17793102563324451, 0.19448168076942529, 0.19539206871759968, 0.19968354892044923, 0.20486564856936679, 0.20662245742417079, 0.21244852481939297, 0.22023201222300212, 0.22519401504932024, 0.22998419724725833, 0.24486797305483074, 0.24505124239546694, 0.24684568752341224, 0.2483372733554309, 0.24963265831697068, 0.25498641681894335, 0.25675391136664988, 0.26148061493599123, 0.26310149442579261, 0.26660580460363881, 0.26746084840269818, 0.26897170799222031, 0.27777636880028933, 0.28749648514879822, 0.28764886459747613, 0.2904135246340227, 0.29068340736995574, 0.29176871565005341, 0.30112483369308746, 0.3088532806670829, 0.30926325179074438, 0.31430407826804707, 0.31669611741358916, 0.32313612023082472, 0.32700840894616734, 0.33118147879068138, 0.33196794929474965, 0.33325647740278758, 0.33769348485642076, 0.33821443575290533, 0.34438901274117883, 0.34838020729149338, 0.35222753662283562, 0.35389138092718692, 0.36183507830195399, 0.37018726643677902, 0.39625263276809136, 0.40328603659548962, 0.42039160791675317, 0.43293699660491247, 0.43545927815649871, 0.43889110344557042, 0.44404757847248827, 0.44998759435151159, 0.45026506478973327, 0.45136009300084756, 0.45761323848657764, 0.46720178159627529, 0.47395228987758886, 0.47483499448783506, 0.48200595720277456, 0.48279823683354706, 0.48723499196647058, 0.48998720620961511, 0.49450675400205474, 0.50041174788783038, 0.50432889438226092, 0.50615536373201053, 0.50619804062128626, 0.50655417412217207, 0.51112937885278853, 0.51854131628269307, 0.5296011694936682, 0.53122062605587073, 0.53131529755557594, 0.5359273134780449, 0.53642349908448439, 0.53800539352921195, 0.53912698898146438, 0.53980539567658525, 0.54318053276857614, 0.54423722912295147, 0.55616841523835892, 0.56062242077139013, 0.57507178016432625, 0.59626945679622867, 0.59793498212455332, 0.59998144787192875, 0.61981590569868428, 0.62407050372360873, 0.62627475416590028, 0.63589209723302098, 0.64966181779438037, 0.67046169009385215, 0.6790479980831543, 0.68197859172121866, 0.68991330916719074, 0.69882928404830214, 0.70574201252495006, 0.72212780133762344, 0.73034299350720411, 0.73305054425935268, 0.73316282479323025, 0.73327171169390126, 0.73968389335714935, 0.73978232657477105, 0.75301196117159441, 0.7544042944589836, 0.75642540891590393, 0.7641509761653974, 0.76856153351830081, 0.76889784208121137, 0.77560867876409245, 0.78059437912109686, 0.79798634740563412, 0.8145716167704018, 0.82192596613182212, 0.82878402145434049, 0.83785553214297903, 0.84014654701331093, 0.84568195981744221, 0.85360009229337819, 0.85769682120744839, 0.86047928889976133, 0.86131961158686776, 0.87645977942277242, 0.87891233578679384, 0.87931098346066461, 0.88374758242294749, 0.88498345308721582, 0.89056487176728538, 0.89896080252841892, 0.90667361308385097, 0.91358439071848874, 0.92894954896899551, 0.93337864619417721, 0.93405615866412239, 0.94363863979564877, 0.94605732269177401, 0.9566675593347318, 0.96382598279100895, 0.96663480061967189, 0.96802765442986882, 0.97177032428231702, 0.97419685930996258, 0.97439217418055479, 0.97914078698805507, 0.98363141198045667, 0.99759291604877465, 1.0151429200781723, 1.024705532746403, 1.0341923189219329, 1.0357568342898071, 1.0407892494769377, 1.0445014879733632, 1.0551167015184282, 1.0558382332577929, 1.057478123766475, 1.0620529894946453, 1.0690994585109841, 1.0820689903681224, 1.0828817747147275, 1.0848644032807606, 1.0934564136026954, 1.0960779856617799, 1.0971145539331444, 1.1009720528739264, 1.1163927484413088, 1.1202918708928837, 1.1233075715520833, 1.1247264330182496, 1.1334267361879127, 1.1345901977173818, 1.1346845518483186, 1.1378948972094545, 1.1518811613235549, 1.1524401515741094, 1.1560706730016188, 1.163748613677777, 1.1703796586254687, 1.1776721422720005, 1.1782315464206143, 1.1810518538664732, 1.1895682713898224, 1.1965166974023265, 1.2132141729895005, 1.2263221753461389, 1.2353375757861063, 1.2364005061780776, 1.28733104237547, 1.2909380594640918, 1.3035130234598624, 1.3057150369537405, 1.3204511204051941, 1.3379455559102964, 1.3433775384753808, 1.3465930333655962, 1.3626307947608931, 1.3681307869976673, 1.3793761512254028, 1.3847449976910777, 1.3883289367496685, 1.3956603013015192, 1.397820055470649, 1.4044229699655828, 1.4162658748275356, 1.4198546449456344, 1.4264170564790162, 1.4398426983668409, 1.4601069529900974, 1.4697797160319548, 1.478061520491792, 1.4852125239976346, 1.4880148697105329, 1.4938078562798836, 1.5058761391336311, 1.5175659447399263, 1.5243309330670478, 1.5406290284050979, 1.5950616470672832, 1.6026997127526332, 1.6101795020933847, 1.6194748242931518, 1.6348074566448114, 1.6444427369763566, 1.6511632614206522, 1.653696186251864, 1.6783675978623085, 1.6964461409225942, 1.7116690030300896, 1.7337195380776385, 1.750429882030522, 1.7870497765201556, 1.7875868223748757, 1.7996216230592734, 1.8255088047616586, 1.8285125079044307, 1.8306080815836629, 1.8448592256033407, 1.8669872716958476, 1.8696683568202037, 1.8803056288034072, 1.8816346005897715, 1.8911901891897132, 1.9012034719900663, 1.9224563594022133, 1.922780468162343, 1.9324017486871792, 1.9326539442844006, 2.0025302493724628, 2.0306109877197529, 2.0448826475523099, 2.0547666504944946, 2.0726007843676206, 2.0754117029999986, 2.0871536487729174, 2.1263848271354839, 2.1333333171438853, 2.1345057428476601, 2.1475836071687988, 2.1853110177119239, 2.2355361560036857, 2.2431127173735992, 2.2495744758700909, 2.2550420064552386, 2.3076351541791671, 2.3509235817911427, 2.3913850853329417, 2.4028950327747736, 2.5160878050868045, 2.5640036588760746, 2.6196827482124343, 2.6267123454629235, 2.7200553231568869, 2.728753617852107, 2.8042255420676625, 2.804366730665881, 2.8496797673905045, 2.8799545560906976, 2.8807015196157368, 2.92172204411029, 2.9458572925248432, 2.9578479017340826, 2.9866331140226405, 3.0018290299791102, 3.0604427665858021, 3.0640052874371717, 3.0835643963960049, 3.1324713720089785, 3.2815001133018198, 3.3257691704460934, 3.3901061299577209, 3.4065404330237175, 3.4585842972671865, 3.518564497146544, 3.5673260340236848, 3.5973307941534731, 4.04646579956637, 4.1364390932623962, 4.5468225644851064, 4.6153393575143973, 4.9922124692994139, 5.7603094905864829, 10.882888065327489]\n",
      "[0.046936513950315277]\n"
     ]
    },
    {
     "name": "stderr",
     "output_type": "stream",
     "text": [
      "\r",
      " 10%|████                                     | 17/172 [00:05<00:45,  3.38it/s]"
     ]
    },
    {
     "name": "stdout",
     "output_type": "stream",
     "text": [
      "[0.91966571513315121, 0.70906799825488576, 1.7554161693528927, 1.7030399399842726, 0.16180006557054316, 0.36875933488771756, 0.14743641762557314, 0.080977696011035952, 0.25781627085917663, 0.10288609777423567, 0.054505407409927417, 0.11228318820113077, 0.62151589002201479, 0.24921370294716708, 0.13506398250020393, 0.021656835031200035, 0.13122911500241785, 0.19244169476668971, 0.80567466290901935, 0.27303404779198881, 0.27955969871122077, 0.94678101030176653, 1.5345309684576958, 1.1855777259796147, 0.36478686560482992, 0.42117183661794577, 0.23227599719526559, 0.31815449590263162, 0.17739856263063267, 0.42531515265546732, 0.10749142322246513, 0.2954888553742398, 0.14772786530940327, 1.2495218768624046, 0.33217606663948429, 0.10360186522762149, 0.53068967566512038, 0.090994715496936107, 0.079109219757261914, 0.70276004536541536, 0.099540654186844574, 0.50680655274451336, 0.5145398368541384, 0.32730132498985265, 0.45173466311366922, 0.97944199555662503, 0.54695879717631435, 0.36483036439461319, 0.16754734952749767, 0.30249530516814294, 1.6098457594810227, 0.70333155513768153, 0.73751084798738176, 0.47500831170528462, 0.98691178290768233, 0.35735745255764617, 2.6267194801273757, 2.0721882302861938, 1.1264691833229843, 0.68466814591000591, 0.32001258593344667, 0.36213742467477417, 0.10662125819458519, 0.11996509007534324, 0.30868384894717982, 0.78016156560460281, 0.4438106964626844, 0.40062475648778051, 1.1104003335878261, 0.07312255308100031, 0.25935297022952158, 0.072186491894021099, 0.16949733913858542, 0.087660641423922089, 0.25363848777381232, 0.15326705777293356, 0.10012991125505294, 0.085977890881370714, 0.40782948400820573, 0.75625787658444876, 0.57639351216467638, 0.63690829716229025, 0.12795179686584623, 0.21030887415565661, 0.091061147187609437, 0.33385543353665942, 0.36850049874194074, 0.73147192050966992, 1.0114682112038316, 0.31466643977741743, 1.2322683728298003, 0.31446221760624365, 0.89906678224482373, 2.1728090213555125, 3.3892602456648109, 2.7797134502679359, 0.13831852099390909, 0.59580353754974713, 0.70983727133669472, 0.19785805925416944, 0.46751963499775034, 0.10310466340468358, 0.87932398481671314, 0.17254047805086017, 0.56429848715739617, 1.4740252783142356, 2.5512703045871881, 0.3331642436965796, 1.7138941841201225, 0.42532319533909352, 0.34541890049466778, 1.2024011869899023, 0.89238885964954973, 1.7550986675249618, 1.1435525658239574, 1.7454776016849367, 1.227534584663849, 2.7024824559293124, 1.8952956152435509, 1.6482946992329695, 1.8774702482964638, 1.4673480285426239, 0.35817885104993291, 2.3386781034126831, 2.6721981831075201, 0.075173927777821864, 0.57664428196639239, 0.22525253145010521, 0.77605197469990506, 0.097228932860406875, 0.15226724472260031, 0.38110847844011181, 0.094608126991819683, 1.4326589783104258, 0.3530888086825647, 0.97467984209898328, 3.8686722206542936, 1.7235726227485664, 2.4420566270333119, 0.88459684956816242, 0.10216128639157607, 2.0654079320565573, 3.2124083066719007, 0.99275037375268593, 0.79026279188892212, 0.9611682132625885, 0.26697727244096964, 0.62205687904763962, 0.66947020236193611, 0.42175415132267524, 1.1138223768337696, 0.7978081549376429, 0.7299797775125435, 1.4423193453729637, 3.2288248430612767, 0.28610118684092567, 0.094688721121982108, 1.9566726279546844, 1.2822858895298059, 2.2136257132569073, 3.4195465530196345, 1.9484598299053588, 0.47861599857600368, 1.5185272205113833, 3.2807794380223525, 0.078452733585148371, 0.46047001654191688, 0.86786468061195965, 2.4491359856149266, 1.1696936323631342, 1.3009757581205144, 1.8675190140233517, 1.2628477626860946, 0.79166156483446581, 1.2426160467337661, 2.6268919576782674, 1.4577104604129645, 2.3865529957339424, 2.7683741280106102, 1.6224692730786454, 0.75295160855044097, 0.44986272720753967, 0.56444584464635639, 0.90557492893170632, 1.3110269972165827, 1.704356678196475, 0.31011352474006376, 0.15856532434095152, 1.0594618439989931, 0.17737745917971987, 0.60493470566219509, 0.93985673297211492, 1.4764957764491164, 1.8252334869654558, 0.97523220273643496, 2.0776484486864701, 0.098358975195937531, 1.3058264672857907, 0.49419095226594628, 0.90556046368296916, 0.18309952881648198, 0.6516048820378989, 0.71407072344905109, 0.64555866135769691, 0.55662888677966293, 0.24679674781271135, 0.097238255691862202, 0.58855862215364829, 0.33385685851369035, 0.18797473481355476, 0.55780656115649818, 0.19513196535001714, 0.099698919866087199, 0.13284207901371992, 0.11468582153101821, 1.3288817284842809, 0.16760236003416665, 0.08163496955240726, 0.83887221351250285, 1.0016454017837597, 1.4180034421650676, 0.80280921327820232, 0.92433865321287023, 0.085880667019673743, 1.1289446423424592, 0.34709780871029894, 0.083910857790263443, 1.0892186099896932, 0.62282685015767492, 0.81773201976455634, 0.60445790034986824, 3.9583697476728741, 3.2579070530982559, 1.348207715134387, 3.2130902655913851, 1.3857304185076249, 1.2227483163321426, 1.6781720994964306, 1.8698287292392837, 3.2559963508482994, 2.0451104438722378, 1.6457631040776499, 2.8666205957667015, 2.1325272048662494, 10.847538422404297, 2.0422603150122316, 1.1510351186720409, 1.0339117435422771, 3.1684612585886796, 2.1431461825414146, 3.3603052545528804, 2.9421574970969449, 2.1781400439250937, 0.80613100529702786, 0.5902497302621541, 1.7845159551218059, 1.2431390063553018, 4.6258879798859311, 1.1226493565958264, 2.9647197707301207, 1.750977191107655, 1.2773501349316341, 3.0319729579851202, 4.9973677221666781, 3.441566114147816, 1.4286736264339983, 0.90703723407936132, 2.1144539389878263, 1.9216923216696471, 2.8191620410368792, 3.556318517907088, 5.8066010764423703, 2.2346465506164983, 1.438953130934741, 0.77909385609300186, 0.81587877319406821, 1.0903386480751014, 1.4072689770212805, 4.5173962647417243, 0.89886888641326212, 1.2333657440017931, 1.1226394547147311, 0.99459990303905876, 0.93563674972190303, 1.6112567541625282, 1.8330836955999747, 1.5785495729259038, 0.73804633848236567, 1.3766396461869268, 1.4733539335594039, 0.75622763322345044, 0.90149765053500419, 1.1151099941758873, 1.0838978949803033, 1.3661399049513416, 1.1755592595591029, 2.235674880684376, 0.48966753979295863, 0.91174969397522843, 1.0119613507266878, 0.77751999902919666, 0.91498749336019836, 1.0369884341226809, 0.96023241554217131, 0.3614037031135936, 0.37670492517732646, 1.8094172882071404, 1.528440474966547, 0.56685165387421388, 0.80456401089568264, 1.1114458944911108, 0.77363740550067006, 0.93832559475084631, 1.92970668385122, 1.3057641617776481, 1.6965892727142302, 0.32510173849289503, 0.66798858715106746, 0.50113833713740119, 0.62804096403670229, 0.68227970510095326, 1.1217729417128732, 0.12692961689852358, 0.12652926164975961, 0.28462409769497893, 0.058975670927213134, 0.33410166673160252, 0.71402922557273629, 0.16282173879672568, 0.17373262783580676, 0.94367291793512253, 0.30202566960936045, 1.2186134537969717, 0.18605527152269857]\n",
      "[0.021656835031200035, 0.054505407409927417, 0.058975670927213134, 0.072186491894021099, 0.07312255308100031, 0.075173927777821864, 0.078452733585148371, 0.079109219757261914, 0.080977696011035952, 0.08163496955240726, 0.083910857790263443, 0.085880667019673743, 0.085977890881370714, 0.087660641423922089, 0.090994715496936107, 0.091061147187609437, 0.094608126991819683, 0.094688721121982108, 0.097228932860406875, 0.097238255691862202, 0.098358975195937531, 0.099540654186844574, 0.099698919866087199, 0.10012991125505294, 0.10216128639157607, 0.10288609777423567, 0.10310466340468358, 0.10360186522762149, 0.10662125819458519, 0.10749142322246513, 0.11228318820113077, 0.11468582153101821, 0.11996509007534324, 0.12652926164975961, 0.12692961689852358, 0.12795179686584623, 0.13122911500241785, 0.13284207901371992, 0.13506398250020393, 0.13831852099390909, 0.14743641762557314, 0.14772786530940327, 0.15226724472260031, 0.15326705777293356, 0.15856532434095152, 0.16180006557054316, 0.16282173879672568, 0.16754734952749767, 0.16760236003416665, 0.16949733913858542, 0.17254047805086017, 0.17373262783580676, 0.17737745917971987, 0.17739856263063267, 0.18309952881648198, 0.18605527152269857, 0.18797473481355476, 0.19244169476668971, 0.19513196535001714, 0.19785805925416944, 0.21030887415565661, 0.22525253145010521, 0.23227599719526559, 0.24679674781271135, 0.24921370294716708, 0.25363848777381232, 0.25781627085917663, 0.25935297022952158, 0.26697727244096964, 0.27303404779198881, 0.27955969871122077, 0.28462409769497893, 0.28610118684092567, 0.2954888553742398, 0.30202566960936045, 0.30249530516814294, 0.30868384894717982, 0.31011352474006376, 0.31446221760624365, 0.31466643977741743, 0.31815449590263162, 0.32001258593344667, 0.32510173849289503, 0.32730132498985265, 0.33217606663948429, 0.3331642436965796, 0.33385543353665942, 0.33385685851369035, 0.33410166673160252, 0.34541890049466778, 0.34709780871029894, 0.3530888086825647, 0.35735745255764617, 0.35817885104993291, 0.3614037031135936, 0.36213742467477417, 0.36478686560482992, 0.36483036439461319, 0.36850049874194074, 0.36875933488771756, 0.37670492517732646, 0.38110847844011181, 0.40062475648778051, 0.40782948400820573, 0.42117183661794577, 0.42175415132267524, 0.42531515265546732, 0.42532319533909352, 0.4438106964626844, 0.44986272720753967, 0.45173466311366922, 0.46047001654191688, 0.46751963499775034, 0.47500831170528462, 0.47861599857600368, 0.48966753979295863, 0.49419095226594628, 0.50113833713740119, 0.50680655274451336, 0.5145398368541384, 0.53068967566512038, 0.54695879717631435, 0.55662888677966293, 0.55780656115649818, 0.56429848715739617, 0.56444584464635639, 0.56685165387421388, 0.57639351216467638, 0.57664428196639239, 0.58855862215364829, 0.5902497302621541, 0.59580353754974713, 0.60445790034986824, 0.60493470566219509, 0.62151589002201479, 0.62205687904763962, 0.62282685015767492, 0.62804096403670229, 0.63690829716229025, 0.64555866135769691, 0.6516048820378989, 0.66798858715106746, 0.66947020236193611, 0.68227970510095326, 0.68466814591000591, 0.70276004536541536, 0.70333155513768153, 0.70906799825488576, 0.70983727133669472, 0.71402922557273629, 0.71407072344905109, 0.7299797775125435, 0.73147192050966992, 0.73751084798738176, 0.73804633848236567, 0.75295160855044097, 0.75622763322345044, 0.75625787658444876, 0.77363740550067006, 0.77605197469990506, 0.77751999902919666, 0.77909385609300186, 0.78016156560460281, 0.79026279188892212, 0.79166156483446581, 0.7978081549376429, 0.80280921327820232, 0.80456401089568264, 0.80567466290901935, 0.80613100529702786, 0.81587877319406821, 0.81773201976455634, 0.83887221351250285, 0.86786468061195965, 0.87932398481671314, 0.88459684956816242, 0.89238885964954973, 0.89886888641326212, 0.89906678224482373, 0.90149765053500419, 0.90556046368296916, 0.90557492893170632, 0.90703723407936132, 0.91174969397522843, 0.91498749336019836, 0.91966571513315121, 0.92433865321287023, 0.93563674972190303, 0.93832559475084631, 0.93985673297211492, 0.94367291793512253, 0.94678101030176653, 0.96023241554217131, 0.9611682132625885, 0.97467984209898328, 0.97523220273643496, 0.97944199555662503, 0.98691178290768233, 0.99275037375268593, 0.99459990303905876, 1.0016454017837597, 1.0114682112038316, 1.0119613507266878, 1.0339117435422771, 1.0369884341226809, 1.0594618439989931, 1.0838978949803033, 1.0892186099896932, 1.0903386480751014, 1.1104003335878261, 1.1114458944911108, 1.1138223768337696, 1.1151099941758873, 1.1217729417128732, 1.1226394547147311, 1.1226493565958264, 1.1264691833229843, 1.1289446423424592, 1.1435525658239574, 1.1510351186720409, 1.1696936323631342, 1.1755592595591029, 1.1855777259796147, 1.2024011869899023, 1.2186134537969717, 1.2227483163321426, 1.227534584663849, 1.2322683728298003, 1.2333657440017931, 1.2426160467337661, 1.2431390063553018, 1.2495218768624046, 1.2628477626860946, 1.2773501349316341, 1.2822858895298059, 1.3009757581205144, 1.3057641617776481, 1.3058264672857907, 1.3110269972165827, 1.3288817284842809, 1.348207715134387, 1.3661399049513416, 1.3766396461869268, 1.3857304185076249, 1.4072689770212805, 1.4180034421650676, 1.4286736264339983, 1.4326589783104258, 1.438953130934741, 1.4423193453729637, 1.4577104604129645, 1.4673480285426239, 1.4733539335594039, 1.4740252783142356, 1.4764957764491164, 1.5185272205113833, 1.528440474966547, 1.5345309684576958, 1.5785495729259038, 1.6098457594810227, 1.6112567541625282, 1.6224692730786454, 1.6457631040776499, 1.6482946992329695, 1.6781720994964306, 1.6965892727142302, 1.7030399399842726, 1.704356678196475, 1.7138941841201225, 1.7235726227485664, 1.7454776016849367, 1.750977191107655, 1.7550986675249618, 1.7554161693528927, 1.7845159551218059, 1.8094172882071404, 1.8252334869654558, 1.8330836955999747, 1.8675190140233517, 1.8698287292392837, 1.8774702482964638, 1.8952956152435509, 1.9216923216696471, 1.92970668385122, 1.9484598299053588, 1.9566726279546844, 2.0422603150122316, 2.0451104438722378, 2.0654079320565573, 2.0721882302861938, 2.0776484486864701, 2.1144539389878263, 2.1325272048662494, 2.1431461825414146, 2.1728090213555125, 2.1781400439250937, 2.2136257132569073, 2.2346465506164983, 2.235674880684376, 2.3386781034126831, 2.3865529957339424, 2.4420566270333119, 2.4491359856149266, 2.5512703045871881, 2.6267194801273757, 2.6268919576782674, 2.6721981831075201, 2.7024824559293124, 2.7683741280106102, 2.7797134502679359, 2.8191620410368792, 2.8666205957667015, 2.9421574970969449, 2.9647197707301207, 3.0319729579851202, 3.1684612585886796, 3.2124083066719007, 3.2130902655913851, 3.2288248430612767, 3.2559963508482994, 3.2579070530982559, 3.2807794380223525, 3.3603052545528804, 3.3892602456648109, 3.4195465530196345, 3.441566114147816, 3.556318517907088, 3.8686722206542936, 3.9583697476728741, 4.5173962647417243, 4.6258879798859311, 4.9973677221666781, 5.8066010764423703, 10.847538422404297]\n",
      "[0.021656835031200035]\n"
     ]
    },
    {
     "name": "stderr",
     "output_type": "stream",
     "text": [
      "\r",
      " 10%|████▎                                    | 18/172 [00:05<00:45,  3.39it/s]"
     ]
    },
    {
     "name": "stdout",
     "output_type": "stream",
     "text": [
      "[1.1947802088551409, 0.98373768812429729, 2.0311634322487824, 1.9788032417511521, 0.42551606584741558, 0.64198291656465356, 0.4129516450835905, 0.2611431578589215, 0.53370580631734454, 0.17419457192941168, 0.31487661072527828, 0.38803656513526469, 0.3455767884595124, 0.026765967750325095, 0.14817282288908548, 0.29734172953956112, 0.14506560060921422, 0.46706512863275618, 1.0816252042902177, 0.049015808876091173, 0.54423098234344014, 1.2219915229822453, 1.8102128225273184, 1.4611959583312184, 0.63793015475493065, 0.69505717737696149, 0.50203152852346522, 0.076877601249359842, 0.4471592763181057, 0.15785212617254091, 0.35957304509491733, 0.56594756196029128, 0.40756395643557269, 1.525029579548191, 0.60500234263497021, 0.36154822591561087, 0.80453832264295033, 0.24817725158637421, 0.25466122552569659, 0.97764030521266454, 0.35511434052424662, 0.78076938680178087, 0.78869503442158539, 0.59920451910927919, 0.72507828412652031, 1.2547365237900072, 0.82092086070442738, 0.63679455045312183, 0.43039945073589353, 0.5736071064436018, 1.8855705847896278, 0.97805856757214793, 1.0123237230472337, 0.74846465844892518, 1.2623682424859444, 0.63011940628725516, 2.9026124192189418, 2.3480217577985893, 1.402079489672702, 0.9599653612917084, 0.59330464548522732, 0.63522707040786952, 0.21020404615439339, 0.18927385243140898, 0.58080563608080316, 1.0553473104522662, 0.71853738114695942, 0.67387497946892427, 1.3859302243079628, 0.29183734749696882, 0.53174134214227953, 0.31046349427006126, 0.43636564307772918, 0.23753424940111922, 0.078586085636693753, 0.41511030020592976, 0.2159349331891923, 0.24788722658209164, 0.1364912848722849, 1.0319054139616113, 0.85133343868364242, 0.91283777830507495, 0.16473099878438882, 0.074123277008853211, 0.21358265087190129, 0.6095565933019591, 0.64297474629952678, 0.52549411310703686, 0.74229045831138385, 0.58029620120118963, 0.95651688569143467, 0.58481294894526958, 0.63356397096536543, 2.4485090196542871, 3.6650819752614172, 3.0552039703105662, 0.26660847137240373, 0.86129517930252353, 0.97651710032475547, 0.30527293191842575, 0.19971084439957193, 0.22255254582811732, 1.1545215326547853, 0.43672169136107658, 0.8384681716383714, 1.7497061344381935, 2.8271531102539145, 0.60494377716493741, 1.9896752350494695, 0.1627508093456583, 0.61733172703503547, 1.4779653717681165, 1.167744602438088, 2.0308842118762507, 1.4190599759643243, 2.0212629205066452, 1.5030367519780681, 2.9783608514822375, 2.1710837362379878, 1.9240262609770098, 2.1532532132658777, 1.7430002850701565, 0.63000646042243702, 2.6145252063073889, 2.9480806987965775, 0.26228005211404648, 0.85169986245704765, 0.49500223748703975, 0.50061972875888694, 0.35339464573426876, 0.15039229830530998, 0.65495385009684959, 0.34290584423092424, 1.7085502435752846, 0.6282309754527674, 1.2506404906232766, 4.1446399242899394, 1.9995073911673766, 2.7179929492963546, 1.160447745712933, 0.37638407453133049, 2.3413634056903621, 3.4883643808290272, 1.2686772508717146, 1.0653373152325145, 1.2365394067587701, 0.53765819805013326, 0.8967338355565394, 0.94440009679615888, 0.15551533602817558, 1.3894808293407515, 1.0730585064416553, 1.0053135771455828, 1.7180109721461538, 3.5047842699220757, 0.55635294667839275, 0.24651467704857088, 2.2326401518054628, 1.5582536004487755, 2.48959029844554, 3.6955138635654832, 2.2244112124617987, 0.20265650831522886, 1.7944825897004701, 3.5567472558977391, 0.30215045928176198, 0.73466651875840039, 1.1431609918471115, 2.7250558033278311, 1.4452023900202078, 1.5766188569925221, 2.1433390414972067, 1.5384275386044068, 1.066731155200779, 1.5183558334386014, 2.9027712638014416, 1.733364076707145, 2.6624201775126406, 3.0442576907048284, 1.8981616491974314, 1.0276978764495335, 0.72287441097609717, 0.83856908287485399, 1.1807569966857956, 1.5866028772444034, 1.9801271658193482, 0.58158123685303342, 0.42161067348006104, 1.3349959017290172, 0.13429197432351886, 0.87936397784764897, 1.2150747162200894, 1.7522163996774205, 2.1010161506615628, 1.2505427547977552, 2.3534857747895432, 0.36625809492885508, 1.0351483428484027, 0.76915528844179459, 1.1813397640308088, 0.11830515683323885, 0.92728408179515476, 0.98924266989816279, 0.92061987782220689, 0.83190799505484969, 0.51919571640214424, 0.23491161085039544, 0.86292430052285907, 0.60533223225941835, 0.45237308956451516, 0.83184114743758486, 0.46035875258130943, 0.23756522481370834, 0.38996792459007246, 0.36700285024041968, 1.6044625966554444, 0.42954773127679124, 0.27411050871764292, 1.1138626586100293, 1.2769065268396311, 1.6936302283284843, 1.0778500712823076, 1.1996347618150136, 0.25540330326364852, 1.4043553347157283, 0.10395099442809012, 0.32296270777692976, 1.2205762588585136, 0.79259062684287551, 1.0557663427477144, 0.83673949260153402, 4.2332937976170024, 2.9848324521762066, 1.0844646122750583, 2.9740611495665661, 1.1329330081953433, 1.4685817146806259, 1.9313260970065009, 1.675968837093049, 3.0543978410812733, 2.1943055504723676, 1.858186848607968, 2.9399289988077131, 2.2037086692065664, 10.886588095149856, 2.1735415020525539, 1.0562930544989395, 0.9209411543564705, 2.9901151278196032, 2.0457160142552371, 3.2260023384625369, 2.8348136558156916, 2.0089983833196792, 0.75873237984448738, 0.72872162429309961, 1.6110545959395162, 1.43011896118844, 4.5952858774557264, 1.1360087217999639, 2.9861043185543479, 1.8619379863508394, 1.4423493962194749, 2.9726322967851804, 4.9748892222467473, 3.2513751152339072, 1.3731724662088081, 0.82195771467910483, 2.2929461699246496, 2.0813208156401792, 2.6545924723256848, 3.4846342482831374, 5.7204726325004058, 2.337131766679744, 1.5887487261755415, 0.86885706676432073, 0.94186413953568759, 1.0009162209644933, 1.4136472925211359, 4.5489258986331089, 1.0476319305339545, 1.3970807889924297, 1.2911230383824266, 1.2062308507104484, 1.1618171024686437, 1.7930202917454843, 1.9622633784484806, 1.6073600275913424, 0.92443564551947632, 1.5508581651617042, 1.4837314301410394, 1.0321946483138882, 1.1021964634710997, 1.2354314653254606, 1.278341782657594, 1.6054987898770126, 1.4221151759929216, 2.4894185364594366, 0.6047937189816921, 0.96215249064119979, 1.1812588177561674, 0.89966439841404844, 1.1049975457562073, 1.2680839494717426, 1.1061549896974003, 0.30435630153092746, 0.50002447270885886, 1.8325653997693352, 1.5032739854642942, 0.7695630846800271, 1.0598036679310323, 0.97156946527578392, 0.93001087198119103, 1.1796154247194728, 1.8266735820777358, 1.5548045642883019, 1.9561617086976459, 0.26477449863103503, 0.82247791685184146, 0.56855850551403619, 0.35536913456112229, 0.40868408789625349, 0.84648575175820706, 0.38601201040158495, 0.38587803595355158, 0.068192478796786887, 0.3051246058193125, 0.084924439906013796, 0.43945860230833445, 0.43202978286023908, 0.44316096508991842, 1.2189582600370432, 0.57270607310711108, 1.4942282514068579, 0.45073379963659416]\n",
      "[0.026765967750325095, 0.049015808876091173, 0.068192478796786887, 0.074123277008853211, 0.076877601249359842, 0.078586085636693753, 0.084924439906013796, 0.10395099442809012, 0.11830515683323885, 0.13429197432351886, 0.1364912848722849, 0.14506560060921422, 0.14817282288908548, 0.15039229830530998, 0.15551533602817558, 0.15785212617254091, 0.1627508093456583, 0.16473099878438882, 0.17419457192941168, 0.18927385243140898, 0.19971084439957193, 0.20265650831522886, 0.21020404615439339, 0.21358265087190129, 0.2159349331891923, 0.22255254582811732, 0.23491161085039544, 0.23753424940111922, 0.23756522481370834, 0.24651467704857088, 0.24788722658209164, 0.24817725158637421, 0.25466122552569659, 0.25540330326364852, 0.2611431578589215, 0.26228005211404648, 0.26477449863103503, 0.26660847137240373, 0.27411050871764292, 0.29183734749696882, 0.29734172953956112, 0.30215045928176198, 0.30435630153092746, 0.3051246058193125, 0.30527293191842575, 0.31046349427006126, 0.31487661072527828, 0.32296270777692976, 0.34290584423092424, 0.3455767884595124, 0.35339464573426876, 0.35511434052424662, 0.35536913456112229, 0.35957304509491733, 0.36154822591561087, 0.36625809492885508, 0.36700285024041968, 0.37638407453133049, 0.38587803595355158, 0.38601201040158495, 0.38803656513526469, 0.38996792459007246, 0.40756395643557269, 0.40868408789625349, 0.4129516450835905, 0.41511030020592976, 0.42161067348006104, 0.42551606584741558, 0.42954773127679124, 0.43039945073589353, 0.43202978286023908, 0.43636564307772918, 0.43672169136107658, 0.43945860230833445, 0.44316096508991842, 0.4471592763181057, 0.45073379963659416, 0.45237308956451516, 0.46035875258130943, 0.46706512863275618, 0.49500223748703975, 0.50002447270885886, 0.50061972875888694, 0.50203152852346522, 0.51919571640214424, 0.52549411310703686, 0.53174134214227953, 0.53370580631734454, 0.53765819805013326, 0.54423098234344014, 0.55635294667839275, 0.56594756196029128, 0.56855850551403619, 0.57270607310711108, 0.5736071064436018, 0.58029620120118963, 0.58080563608080316, 0.58158123685303342, 0.58481294894526958, 0.59330464548522732, 0.59920451910927919, 0.6047937189816921, 0.60494377716493741, 0.60500234263497021, 0.60533223225941835, 0.6095565933019591, 0.61733172703503547, 0.6282309754527674, 0.63000646042243702, 0.63011940628725516, 0.63356397096536543, 0.63522707040786952, 0.63679455045312183, 0.63793015475493065, 0.64198291656465356, 0.64297474629952678, 0.65495385009684959, 0.67387497946892427, 0.69505717737696149, 0.71853738114695942, 0.72287441097609717, 0.72507828412652031, 0.72872162429309961, 0.73466651875840039, 0.74229045831138385, 0.74846465844892518, 0.75873237984448738, 0.76915528844179459, 0.7695630846800271, 0.78076938680178087, 0.78869503442158539, 0.79259062684287551, 0.80453832264295033, 0.82092086070442738, 0.82195771467910483, 0.82247791685184146, 0.83184114743758486, 0.83190799505484969, 0.83673949260153402, 0.8384681716383714, 0.83856908287485399, 0.84648575175820706, 0.85133343868364242, 0.85169986245704765, 0.86129517930252353, 0.86292430052285907, 0.86885706676432073, 0.87936397784764897, 0.8967338355565394, 0.89966439841404844, 0.91283777830507495, 0.92061987782220689, 0.9209411543564705, 0.92443564551947632, 0.92728408179515476, 0.93001087198119103, 0.94186413953568759, 0.94440009679615888, 0.95651688569143467, 0.9599653612917084, 0.96215249064119979, 0.97156946527578392, 0.97651710032475547, 0.97764030521266454, 0.97805856757214793, 0.98373768812429729, 0.98924266989816279, 1.0009162209644933, 1.0053135771455828, 1.0123237230472337, 1.0276978764495335, 1.0319054139616113, 1.0321946483138882, 1.0351483428484027, 1.0476319305339545, 1.0553473104522662, 1.0557663427477144, 1.0562930544989395, 1.0598036679310323, 1.0653373152325145, 1.066731155200779, 1.0730585064416553, 1.0778500712823076, 1.0816252042902177, 1.0844646122750583, 1.1021964634710997, 1.1049975457562073, 1.1061549896974003, 1.1138626586100293, 1.1329330081953433, 1.1360087217999639, 1.1431609918471115, 1.1545215326547853, 1.160447745712933, 1.1618171024686437, 1.167744602438088, 1.1796154247194728, 1.1807569966857956, 1.1812588177561674, 1.1813397640308088, 1.1947802088551409, 1.1996347618150136, 1.2062308507104484, 1.2150747162200894, 1.2189582600370432, 1.2205762588585136, 1.2219915229822453, 1.2354314653254606, 1.2365394067587701, 1.2505427547977552, 1.2506404906232766, 1.2547365237900072, 1.2623682424859444, 1.2680839494717426, 1.2686772508717146, 1.2769065268396311, 1.278341782657594, 1.2911230383824266, 1.3349959017290172, 1.3731724662088081, 1.3859302243079628, 1.3894808293407515, 1.3970807889924297, 1.402079489672702, 1.4043553347157283, 1.4136472925211359, 1.4190599759643243, 1.4221151759929216, 1.43011896118844, 1.4423493962194749, 1.4452023900202078, 1.4611959583312184, 1.4685817146806259, 1.4779653717681165, 1.4837314301410394, 1.4942282514068579, 1.5030367519780681, 1.5032739854642942, 1.5183558334386014, 1.525029579548191, 1.5384275386044068, 1.5508581651617042, 1.5548045642883019, 1.5582536004487755, 1.5766188569925221, 1.5866028772444034, 1.5887487261755415, 1.6044625966554444, 1.6054987898770126, 1.6073600275913424, 1.6110545959395162, 1.675968837093049, 1.6936302283284843, 1.7085502435752846, 1.7180109721461538, 1.733364076707145, 1.7430002850701565, 1.7497061344381935, 1.7522163996774205, 1.7930202917454843, 1.7944825897004701, 1.8102128225273184, 1.8266735820777358, 1.8325653997693352, 1.858186848607968, 1.8619379863508394, 1.8855705847896278, 1.8981616491974314, 1.9240262609770098, 1.9313260970065009, 1.9561617086976459, 1.9622633784484806, 1.9788032417511521, 1.9801271658193482, 1.9896752350494695, 1.9995073911673766, 2.0089983833196792, 2.0212629205066452, 2.0308842118762507, 2.0311634322487824, 2.0457160142552371, 2.0813208156401792, 2.1010161506615628, 2.1433390414972067, 2.1532532132658777, 2.1710837362379878, 2.1735415020525539, 2.1943055504723676, 2.2037086692065664, 2.2244112124617987, 2.2326401518054628, 2.2929461699246496, 2.337131766679744, 2.3413634056903621, 2.3480217577985893, 2.3534857747895432, 2.4485090196542871, 2.4894185364594366, 2.48959029844554, 2.6145252063073889, 2.6545924723256848, 2.6624201775126406, 2.7179929492963546, 2.7250558033278311, 2.8271531102539145, 2.8348136558156916, 2.9026124192189418, 2.9027712638014416, 2.9399289988077131, 2.9480806987965775, 2.9726322967851804, 2.9740611495665661, 2.9783608514822375, 2.9848324521762066, 2.9861043185543479, 2.9901151278196032, 3.0442576907048284, 3.0543978410812733, 3.0552039703105662, 3.2260023384625369, 3.2513751152339072, 3.4846342482831374, 3.4883643808290272, 3.5047842699220757, 3.5567472558977391, 3.6650819752614172, 3.6955138635654832, 4.1446399242899394, 4.2332937976170024, 4.5489258986331089, 4.5952858774557264, 4.9748892222467473, 5.7204726325004058, 10.886588095149856]\n",
      "[0.026765967750325095]\n"
     ]
    },
    {
     "name": "stderr",
     "output_type": "stream",
     "text": [
      "\r",
      " 11%|████▌                                    | 19/172 [00:05<00:45,  3.39it/s]"
     ]
    },
    {
     "name": "stdout",
     "output_type": "stream",
     "text": [
      "[1.7873747260492225, 1.5760427708085567, 2.6243142842165241, 2.5719750940250803, 1.0151398759264725, 1.2338038345247684, 1.0033918315985619, 0.84685061254963845, 1.1270565320675663, 0.76729876064887559, 0.90633277173255133, 0.98130995347748329, 0.24785419794218586, 0.6201244461000841, 0.73858887064356449, 0.89067100648359609, 0.73833865771620499, 1.0597907130431488, 1.6749386063788578, 0.60226994680046864, 1.1313415829125071, 1.8146716270999823, 2.4032996722208586, 2.0542448627935741, 1.2297155335172012, 1.2871574721858379, 1.0928518154396738, 0.56334006315811047, 1.0385052220952036, 0.45374650525901988, 0.94808906096526824, 1.1565882415055557, 0.99639396121306067, 2.1179498731986071, 1.1967179815148101, 0.95133846067588757, 1.3963967200516834, 0.83227692162126243, 0.84097217272705715, 1.5701362113384683, 0.944619866980561, 1.3727566974663856, 1.3808115880475691, 1.190427669791903, 1.3167429464995462, 1.8474906394483148, 1.4128376562367471, 1.2278738987287945, 1.0196277164486287, 1.1645410977273793, 2.4787023871157055, 1.5704192411183175, 1.6047344399592567, 1.3401507140214566, 1.8552838897373758, 1.2217044913791772, 3.4959177434886461, 2.9412648159533745, 1.9951275655029188, 1.5528302082680649, 1.1853183678480677, 1.2269891319492974, 0.79444571212583104, 0.77347824756097594, 1.1722385617614524, 1.6480716972314116, 1.3111541843053884, 1.2656173451408221, 1.9788969000917382, 0.87931559279543392, 1.1235459173614146, 0.89932222237586035, 1.0268503703200345, 0.82317177614147863, 0.6304977817703985, 1.0043659826578171, 0.80106501741421987, 0.83312748870215569, 0.46609056298195634, 1.6250446825721943, 1.4436434072845494, 1.506192769272968, 0.75265566237306558, 0.66166472027873702, 0.80134547819054669, 1.2028205010751927, 1.2355386270603836, 0.48173991673611244, 0.22432201867714949, 1.1673868702079913, 0.36429563451439839, 1.1746825783684287, 0.20174341827928244, 3.0413193992825156, 4.2580785612900316, 3.6475897222211415, 0.83520155955211683, 1.444943894058389, 1.5603346150105988, 0.85069612627746127, 0.4148427885520089, 0.80598345432510288, 1.7472145975657916, 1.0262752332866192, 1.4305195911212671, 2.3427962331800001, 3.4204474259240798, 1.1960683956171541, 2.5828671274014479, 0.45929302462304716, 1.2084719359652618, 2.070954336251146, 1.7605862487654398, 2.6240797873497543, 2.0119972722421875, 2.6144585749245657, 2.0959544125588585, 3.571648824350933, 2.7642776909599571, 2.5171638236363867, 2.7464416360705202, 2.336058265959859, 1.2210354448338616, 3.2077798810621414, 3.5413737367656464, 0.84908058332782188, 1.4444301909829835, 1.0858842889599674, 0.10348790424266649, 0.94309677516600954, 0.7332916125411173, 1.2471173578314563, 0.93143349444270251, 2.3018658002088395, 1.2211939396964506, 1.8440049311643674, 4.7379957183351289, 2.5928582764539292, 3.3113431403603029, 1.7537432033061571, 0.96944101423463291, 2.9347267006633562, 4.081727626915117, 1.8620268607278929, 1.657954502993773, 1.8293761773722592, 1.1286146591008457, 1.4891241252787233, 1.5369626783269648, 0.45835785887462338, 1.9825799252472185, 1.6658344395876761, 1.5981910853753536, 2.3111155936750123, 4.098148558632623, 1.146957235333335, 0.82984395851988535, 2.8259894620278012, 2.1516106838351208, 3.0829536997965454, 4.2888723887852391, 2.8177089216621218, 0.39071223058746524, 2.3877941354440533, 4.1501008494985872, 0.88926193972446832, 1.3269011393905914, 1.7359535749798847, 3.3183906999333739, 2.0381366949571786, 2.1696818048824178, 2.7365709696087128, 2.1314253955010183, 1.659343041541125, 2.1115269050740908, 3.4960609104407316, 2.3264244200909858, 3.2556979505456725, 3.6375512525598399, 2.4912548839073145, 1.6200364473929882, 1.3143150714206986, 1.4305837341864214, 1.7734244329687152, 2.1795904178439445, 2.5733072694224508, 1.1726584406539515, 1.0110992734175979, 1.9279756374623174, 0.71102419993780541, 1.4715695930193522, 1.8077648479779347, 2.3453512525165277, 2.6942059553343638, 1.8433144205750032, 2.9467331671655814, 0.95809601615734918, 0.4724103333862899, 1.3618828752126915, 1.7745738389183865, 0.69878455319258559, 1.5204670924834902, 1.5819865323011721, 1.5133087152458955, 1.4248200736676249, 1.1110668175540626, 0.81851292380996266, 1.4550984213182609, 1.1962816783849723, 1.0417034016536226, 1.4237965371243375, 1.0498597837542447, 0.82030582383832462, 0.9785551792920727, 0.9552314747033297, 2.197453557227115, 1.018486068125922, 0.85954682655124315, 1.7063746617167761, 1.8696194719640564, 2.2866635377547264, 1.670429297244272, 1.7924080257449022, 0.84028457443107418, 1.9971920363267825, 0.53990707277095595, 0.91095973481212089, 1.6278844347536261, 1.2869854097568398, 1.607980451234762, 1.3902177643106504, 4.8245144685867567, 2.3992051353829322, 0.5564061328799591, 2.4837233792890938, 0.65300468495199337, 2.0224432765646831, 2.4909494220705595, 1.3552900246933919, 2.6632482199321386, 2.5839209801543452, 2.3580102914570666, 3.170506214387423, 2.4534181435313065, 10.989691188392923, 2.5328723499626848, 1.0834238277688015, 0.93922878185830327, 2.6601674933288937, 1.951363565136095, 2.9997178110544955, 2.6828450451250658, 1.7366973343128551, 0.96230094767775642, 1.197973101611318, 1.3544434784632824, 1.9047405169460732, 4.5814320053819735, 1.3646839394306682, 3.1117214936573458, 2.198076397413141, 1.8847975701110933, 2.9262754739683428, 4.9743425176593679, 2.8863800402615629, 1.4339722939743849, 0.93206129540985139, 2.7297605844730977, 2.4917309985694622, 2.3682298992506805, 3.3980037190482415, 5.5733035022239283, 2.6398192643913414, 2.0012669219087442, 1.258059135145408, 1.3685609738585396, 1.0525339671819864, 1.5943051179564911, 4.6677141741115085, 1.4931614744083477, 1.8399041080654845, 1.7463401187924714, 1.7224120924055106, 1.697331702849497, 2.247455856253032, 2.3253418040129272, 1.8122627641872344, 1.4254356944820179, 2.0021580899284519, 1.6648204801505964, 1.6255551225496319, 1.609318005291243, 1.6253901541761919, 1.7694569291586391, 2.1487089784832443, 1.9775517743267028, 3.0468924574837106, 1.0717774003404785, 1.2796211073853516, 1.6440009556338091, 1.326580648846009, 1.5988564922374835, 1.8067215909468854, 1.5429995060862909, 0.72419297186331866, 0.99768139789807586, 2.0102412828484879, 1.6123649837385721, 1.2988509226593739, 1.6307584464729796, 0.908998348192398, 1.3957288609691954, 1.7326445472583032, 1.7339749530347508, 2.1118945264310489, 2.5250948006470426, 0.71232619114690243, 1.2971409254445834, 0.99507941648859011, 0.25719885894359334, 0.20404857419762645, 0.26061089981579916, 0.97527118841931115, 0.97521327372358413, 0.59735741560083166, 0.8955718526894153, 0.54688434683013598, 0.16863589898786538, 1.023350310770097, 1.0344331981828003, 1.8117144969492953, 1.1634165722735816, 2.0872695316868595, 1.0401989349659084]\n",
      "[0.10348790424266649, 0.16863589898786538, 0.20174341827928244, 0.20404857419762645, 0.22432201867714949, 0.24785419794218586, 0.25719885894359334, 0.26061089981579916, 0.36429563451439839, 0.39071223058746524, 0.4148427885520089, 0.45374650525901988, 0.45835785887462338, 0.45929302462304716, 0.46609056298195634, 0.4724103333862899, 0.48173991673611244, 0.53990707277095595, 0.54688434683013598, 0.5564061328799591, 0.56334006315811047, 0.59735741560083166, 0.60226994680046864, 0.6201244461000841, 0.6304977817703985, 0.65300468495199337, 0.66166472027873702, 0.69878455319258559, 0.71102419993780541, 0.71232619114690243, 0.72419297186331866, 0.7332916125411173, 0.73833865771620499, 0.73858887064356449, 0.75265566237306558, 0.76729876064887559, 0.77347824756097594, 0.79444571212583104, 0.80106501741421987, 0.80134547819054669, 0.80598345432510288, 0.81851292380996266, 0.82030582383832462, 0.82317177614147863, 0.82984395851988535, 0.83227692162126243, 0.83312748870215569, 0.83520155955211683, 0.84028457443107418, 0.84097217272705715, 0.84685061254963845, 0.84908058332782188, 0.85069612627746127, 0.85954682655124315, 0.87931559279543392, 0.88926193972446832, 0.89067100648359609, 0.8955718526894153, 0.89932222237586035, 0.90633277173255133, 0.908998348192398, 0.91095973481212089, 0.93143349444270251, 0.93206129540985139, 0.93922878185830327, 0.94309677516600954, 0.944619866980561, 0.94808906096526824, 0.95133846067588757, 0.9552314747033297, 0.95809601615734918, 0.96230094767775642, 0.96944101423463291, 0.97521327372358413, 0.97527118841931115, 0.9785551792920727, 0.98130995347748329, 0.99507941648859011, 0.99639396121306067, 0.99768139789807586, 1.0033918315985619, 1.0043659826578171, 1.0110992734175979, 1.0151398759264725, 1.018486068125922, 1.0196277164486287, 1.023350310770097, 1.0262752332866192, 1.0268503703200345, 1.0344331981828003, 1.0385052220952036, 1.0401989349659084, 1.0417034016536226, 1.0498597837542447, 1.0525339671819864, 1.0597907130431488, 1.0717774003404785, 1.0834238277688015, 1.0858842889599674, 1.0928518154396738, 1.1110668175540626, 1.1235459173614146, 1.1270565320675663, 1.1286146591008457, 1.1313415829125071, 1.146957235333335, 1.1565882415055557, 1.1634165722735816, 1.1645410977273793, 1.1673868702079913, 1.1722385617614524, 1.1726584406539515, 1.1746825783684287, 1.1853183678480677, 1.190427669791903, 1.1960683956171541, 1.1962816783849723, 1.1967179815148101, 1.197973101611318, 1.2028205010751927, 1.2084719359652618, 1.2210354448338616, 1.2211939396964506, 1.2217044913791772, 1.2269891319492974, 1.2278738987287945, 1.2297155335172012, 1.2338038345247684, 1.2355386270603836, 1.2471173578314563, 1.258059135145408, 1.2656173451408221, 1.2796211073853516, 1.2869854097568398, 1.2871574721858379, 1.2971409254445834, 1.2988509226593739, 1.3111541843053884, 1.3143150714206986, 1.3167429464995462, 1.326580648846009, 1.3269011393905914, 1.3401507140214566, 1.3544434784632824, 1.3552900246933919, 1.3618828752126915, 1.3646839394306682, 1.3685609738585396, 1.3727566974663856, 1.3808115880475691, 1.3902177643106504, 1.3957288609691954, 1.3963967200516834, 1.4128376562367471, 1.4237965371243375, 1.4248200736676249, 1.4254356944820179, 1.4305195911212671, 1.4305837341864214, 1.4339722939743849, 1.4436434072845494, 1.4444301909829835, 1.444943894058389, 1.4550984213182609, 1.4715695930193522, 1.4891241252787233, 1.4931614744083477, 1.506192769272968, 1.5133087152458955, 1.5204670924834902, 1.5369626783269648, 1.5429995060862909, 1.5528302082680649, 1.5603346150105988, 1.5701362113384683, 1.5704192411183175, 1.5760427708085567, 1.5819865323011721, 1.5943051179564911, 1.5981910853753536, 1.5988564922374835, 1.6047344399592567, 1.607980451234762, 1.609318005291243, 1.6123649837385721, 1.6200364473929882, 1.6250446825721943, 1.6253901541761919, 1.6255551225496319, 1.6278844347536261, 1.6307584464729796, 1.6440009556338091, 1.6480716972314116, 1.657954502993773, 1.659343041541125, 1.6648204801505964, 1.6658344395876761, 1.670429297244272, 1.6749386063788578, 1.697331702849497, 1.7063746617167761, 1.7224120924055106, 1.7326445472583032, 1.7339749530347508, 1.7359535749798847, 1.7366973343128551, 1.7463401187924714, 1.7472145975657916, 1.7537432033061571, 1.7605862487654398, 1.7694569291586391, 1.7734244329687152, 1.7745738389183865, 1.7873747260492225, 1.7924080257449022, 1.8067215909468854, 1.8077648479779347, 1.8117144969492953, 1.8122627641872344, 1.8146716270999823, 1.8293761773722592, 1.8399041080654845, 1.8433144205750032, 1.8440049311643674, 1.8474906394483148, 1.8552838897373758, 1.8620268607278929, 1.8696194719640564, 1.8847975701110933, 1.9047405169460732, 1.9279756374623174, 1.951363565136095, 1.9775517743267028, 1.9788969000917382, 1.9825799252472185, 1.9951275655029188, 1.9971920363267825, 2.0012669219087442, 2.0021580899284519, 2.0102412828484879, 2.0119972722421875, 2.0224432765646831, 2.0381366949571786, 2.0542448627935741, 2.070954336251146, 2.0872695316868595, 2.0959544125588585, 2.1115269050740908, 2.1118945264310489, 2.1179498731986071, 2.1314253955010183, 2.1487089784832443, 2.1516106838351208, 2.1696818048824178, 2.1795904178439445, 2.197453557227115, 2.198076397413141, 2.247455856253032, 2.2866635377547264, 2.3018658002088395, 2.3111155936750123, 2.3253418040129272, 2.3264244200909858, 2.336058265959859, 2.3427962331800001, 2.3453512525165277, 2.3580102914570666, 2.3682298992506805, 2.3877941354440533, 2.3992051353829322, 2.4032996722208586, 2.4534181435313065, 2.4787023871157055, 2.4837233792890938, 2.4909494220705595, 2.4912548839073145, 2.4917309985694622, 2.5171638236363867, 2.5250948006470426, 2.5328723499626848, 2.5719750940250803, 2.5733072694224508, 2.5828671274014479, 2.5839209801543452, 2.5928582764539292, 2.6144585749245657, 2.6240797873497543, 2.6243142842165241, 2.6398192643913414, 2.6601674933288937, 2.6632482199321386, 2.6828450451250658, 2.6942059553343638, 2.7297605844730977, 2.7365709696087128, 2.7464416360705202, 2.7642776909599571, 2.8177089216621218, 2.8259894620278012, 2.8863800402615629, 2.9262754739683428, 2.9347267006633562, 2.9412648159533745, 2.9467331671655814, 2.9997178110544955, 3.0413193992825156, 3.0468924574837106, 3.0829536997965454, 3.1117214936573458, 3.170506214387423, 3.2077798810621414, 3.2556979505456725, 3.3113431403603029, 3.3183906999333739, 3.3980037190482415, 3.4204474259240798, 3.4959177434886461, 3.4960609104407316, 3.5413737367656464, 3.571648824350933, 3.6375512525598399, 3.6475897222211415, 4.081727626915117, 4.098148558632623, 4.1501008494985872, 4.2580785612900316, 4.2888723887852391, 4.5814320053819735, 4.6677141741115085, 4.7379957183351289, 4.8245144685867567, 4.9743425176593679, 5.5733035022239283, 10.989691188392923]\n",
      "[0.10348790424266649]\n"
     ]
    },
    {
     "name": "stderr",
     "output_type": "stream",
     "text": [
      "\r",
      " 12%|████▊                                    | 20/172 [00:05<00:44,  3.40it/s]"
     ]
    },
    {
     "name": "stdout",
     "output_type": "stream",
     "text": [
      "[0.10901102628763636, 0.14973421425712455, 0.92060355885776601, 0.86817298313525559, 0.69627433805217398, 0.47700188707427854, 0.70638376047276352, 0.86459053321812784, 0.57794938773701332, 0.93780587168022767, 0.80086941284433888, 0.72383057418327879, 1.4571754046810448, 1.084855876937981, 0.96772075148329129, 0.81435562510777471, 0.96667375771378028, 0.64658218281213198, 0.03559581641212467, 1.1057900217047825, 0.59059499716048924, 0.12905050558026099, 0.70026808345351277, 0.35283344600277444, 0.4811372662534959, 0.42363062805045432, 0.61793787138905798, 1.1478490453546348, 0.67023918951912609, 1.2573807756109585, 0.76331169907027485, 0.55621289847996969, 0.71585927592299614, 0.41744298250928241, 0.51370526997926513, 0.75842006487740987, 0.31935448236855485, 0.87998523370234794, 0.86977467252449336, 0.15129173110991656, 0.7653832147368369, 0.34112419770850333, 0.33251136994115954, 0.52147974915516571, 0.39700557924239643, 0.15662949822144892, 0.30327928146730093, 0.48557099969673734, 0.6925961081694938, 0.54761294294925855, 0.7752502689048435, 0.15349718506119461, 0.12413830213820036, 0.37432464240943081, 0.16029590353959902, 0.48971000519837199, 1.7911813584769767, 1.2368925484434217, 0.29427099950436297, 0.16055348782728335, 0.52393133172341111, 0.48389226206680247, 0.9163364769203981, 0.93661525020168634, 0.5385904161508337, 0.083444352670642014, 0.39756798199674598, 0.44625017414697354, 0.27936273384739574, 0.83145201516835987, 0.58539072376818868, 0.81049318006862003, 0.68329284411413127, 0.88757018017006328, 1.0807926724646375, 0.70740312907094827, 0.90934604466645841, 0.87824806037108638, 1.2416607891085745, 0.087375659584133514, 0.27133873437433942, 0.19887315094920388, 0.95491660224975294, 1.0444948723067504, 0.90730173718123641, 0.50247106529726737, 0.4724548824983702, 1.5016781872873004, 1.8397631213306886, 0.55688830383911825, 2.0677787964073229, 0.5414414490961954, 1.724224958991065, 1.3393674046341866, 2.5546862315648351, 1.947154486614157, 0.89053281966932907, 0.34052528756333028, 0.27350834348782954, 0.89878135842399709, 1.2989578905572776, 0.90577026907226965, 0.077874444700426176, 0.68554291974436299, 0.2854192618550544, 0.63985241821849703, 1.7157642603012448, 0.51630846885922443, 0.87893105677440586, 1.2553840090851667, 0.50418821623599219, 0.37009095482957782, 0.080288010316147948, 0.92009524932723163, 0.31237633955545063, 0.91047926885635377, 0.39565617872129905, 1.8669838845734783, 1.0602308083302414, 0.81363144748485405, 1.0424345397449231, 0.63337505297084906, 0.49238530068281927, 1.503301509199567, 1.8366885741364327, 0.86148428135245869, 0.26619189716023867, 0.62462160121223009, 1.6109765538027168, 0.76661705276302616, 0.97609002722999594, 0.46260948511863853, 0.77952193142109427, 0.59723444850659213, 0.48519725512711603, 0.13903508447922278, 3.0330603840211681, 0.88794484396722084, 1.606416494826326, 0.052759248582670233, 0.73595768944533435, 1.2297484778758232, 2.3767491304906363, 0.15730746747225047, 0.081328952111337713, 0.1380634359841143, 0.58261589240790346, 0.22680846271517704, 0.18005564150116646, 1.2534009116759952, 0.28116569581378603, 0.070771832408234286, 0.11868283832812111, 0.60812440083113983, 2.3931682553038529, 0.56568143313226549, 0.88293796970594918, 1.1211177318826986, 0.44673303206753079, 1.3779848725304968, 2.5839261671443308, 1.1131567248234377, 1.3142711681172559, 0.68326719228926702, 2.4451790534429176, 0.82216157386892141, 0.38412826545789075, 0.06750924006586978, 1.6135308566698552, 0.33822860868247401, 0.46747091535906599, 1.0323188752233257, 0.43003955784497216, 0.08076757862919591, 0.40847468876171505, 1.7913934735620525, 0.62374537508253425, 1.5511043906389945, 1.9328583952161642, 0.78804752098996744, 0.11435560129035818, 0.40049912269713872, 0.28566412998748986, 0.096092178495149422, 0.47803992205815554, 0.8694520038646657, 0.53926838903084784, 0.70044814450078485, 0.22919620849257505, 0.99990393532359723, 0.24525711864789598, 0.12284763086708281, 0.64206200850547135, 0.9902170314633747, 0.1523883943381886, 1.242337049118585, 0.74895524330316643, 2.1346452667386373, 0.3469996897623564, 0.075178381058967014, 1.0102294631394129, 0.18691621185231394, 0.13604555801792179, 0.20041788455333109, 0.28380209244827598, 0.59753222631206437, 0.89360429260178453, 0.26107130910238047, 0.51668371826170145, 0.67094869182463868, 0.29257917196914546, 0.66268994632958567, 0.89253387605982881, 0.73357577330906309, 0.75675641689766304, 0.495785850961389, 0.69421703498580056, 0.85256310473354524, 0.072578294876825086, 0.17804711296396003, 0.58430362691535565, 0.076677610845385463, 0.10747663256786613, 0.87163280765615836, 0.29910853079823679, 1.1747406502021154, 0.80010089331414269, 1.1018939494865694, 0.77381698691428114, 0.50541317550358855, 0.53600392495585802, 3.1280392248860784, 4.0880995219282825, 2.1669130399878713, 3.9696106060949239, 2.1876563936355695, 0.6567229969873698, 0.99541479386751286, 2.5550833223252636, 3.9268239525218807, 1.7964410162356783, 1.1845271278361706, 2.8117960720666848, 2.1397146882391453, 10.780323329186302, 1.8590651990231362, 1.7043863250001723, 1.6376690512528076, 3.7861184298847177, 2.6061082630281995, 3.8663934329563432, 3.3925166873973094, 2.8011419212905015, 1.3478019177594147, 0.85674232893768865, 2.4330615241017899, 0.98885668706397356, 4.8230613857643583, 1.4551248720200491, 3.0634520985090381, 1.6762080275662736, 1.1048260137433732, 3.3543507237381074, 5.1640886029899384, 4.0828724721512231, 1.8613611524412408, 1.4870072566136654, 1.7455644767504654, 1.6478280807734074, 3.412095906596714, 3.8940630411189607, 6.1438567207235488, 2.1308994412634723, 1.2838489761194742, 1.0494644165698712, 0.96824045747535048, 1.643493989372145, 1.6968429533790397, 4.5330534711810149, 0.93499909371738199, 1.0791111948025016, 0.98710335488286571, 0.72114251925380779, 0.615018395428645, 1.2937094403026952, 1.6833558548943379, 1.7805301287981812, 0.73884846557260797, 1.1399166808310923, 1.741373741065585, 0.079660747880416008, 0.73200199098238539, 1.1551254620848128, 0.85290504645876497, 0.80891476671311824, 0.6177815049742309, 1.5208291630998376, 0.89193895704673165, 1.2206902043657106, 0.91850525435909613, 0.96232786014056348, 0.78522751395248236, 0.63419172784115752, 0.9762567993713468, 1.0861403871201669, 0.8659903608158126, 1.9947775038505806, 1.8767645785055591, 0.66157529366308432, 0.37613229886600447, 1.749846621184157, 0.85605941180074885, 0.52044232521413092, 2.4196788703051513, 0.69823135041690554, 0.97321796489076973, 1.0708867188734243, 0.82974792160813826, 0.9850973606248824, 1.4608341322462555, 1.5155929831956401, 1.9562112327644363, 0.7357643684198909, 0.7357074376040853, 1.1135390594533325, 0.81246562826161872, 1.164270940031281, 1.5481533181402314, 0.68523055370791885, 0.67439140602371683, 0.12441857242569636, 0.5493706404636628, 0.38570914978536797, 0.67215323290923423]\n",
      "[0.03559581641212467, 0.052759248582670233, 0.06750924006586978, 0.070771832408234286, 0.072578294876825086, 0.075178381058967014, 0.076677610845385463, 0.077874444700426176, 0.079660747880416008, 0.080288010316147948, 0.08076757862919591, 0.081328952111337713, 0.083444352670642014, 0.087375659584133514, 0.096092178495149422, 0.10747663256786613, 0.10901102628763636, 0.11435560129035818, 0.11868283832812111, 0.12284763086708281, 0.12413830213820036, 0.12441857242569636, 0.12905050558026099, 0.13604555801792179, 0.1380634359841143, 0.13903508447922278, 0.14973421425712455, 0.15129173110991656, 0.1523883943381886, 0.15349718506119461, 0.15662949822144892, 0.15730746747225047, 0.16029590353959902, 0.16055348782728335, 0.17804711296396003, 0.18005564150116646, 0.18691621185231394, 0.19887315094920388, 0.20041788455333109, 0.22680846271517704, 0.22919620849257505, 0.24525711864789598, 0.26107130910238047, 0.26619189716023867, 0.27133873437433942, 0.27350834348782954, 0.27936273384739574, 0.28116569581378603, 0.28380209244827598, 0.2854192618550544, 0.28566412998748986, 0.29257917196914546, 0.29427099950436297, 0.29910853079823679, 0.30327928146730093, 0.31237633955545063, 0.31935448236855485, 0.33251136994115954, 0.33822860868247401, 0.34052528756333028, 0.34112419770850333, 0.3469996897623564, 0.35283344600277444, 0.37009095482957782, 0.37432464240943081, 0.37613229886600447, 0.38412826545789075, 0.38570914978536797, 0.39565617872129905, 0.39700557924239643, 0.39756798199674598, 0.40049912269713872, 0.40847468876171505, 0.41744298250928241, 0.42363062805045432, 0.43003955784497216, 0.44625017414697354, 0.44673303206753079, 0.46260948511863853, 0.46747091535906599, 0.4724548824983702, 0.47700188707427854, 0.47803992205815554, 0.4811372662534959, 0.48389226206680247, 0.48519725512711603, 0.48557099969673734, 0.48971000519837199, 0.49238530068281927, 0.495785850961389, 0.50247106529726737, 0.50418821623599219, 0.50541317550358855, 0.51370526997926513, 0.51630846885922443, 0.51668371826170145, 0.52044232521413092, 0.52147974915516571, 0.52393133172341111, 0.53600392495585802, 0.5385904161508337, 0.53926838903084784, 0.5414414490961954, 0.54761294294925855, 0.5493706404636628, 0.55621289847996969, 0.55688830383911825, 0.56568143313226549, 0.57794938773701332, 0.58261589240790346, 0.58430362691535565, 0.58539072376818868, 0.59059499716048924, 0.59723444850659213, 0.59753222631206437, 0.60812440083113983, 0.615018395428645, 0.6177815049742309, 0.61793787138905798, 0.62374537508253425, 0.62462160121223009, 0.63337505297084906, 0.63419172784115752, 0.63985241821849703, 0.64206200850547135, 0.64658218281213198, 0.6567229969873698, 0.66157529366308432, 0.66268994632958567, 0.67023918951912609, 0.67094869182463868, 0.67215323290923423, 0.67439140602371683, 0.68326719228926702, 0.68329284411413127, 0.68523055370791885, 0.68554291974436299, 0.6925961081694938, 0.69421703498580056, 0.69627433805217398, 0.69823135041690554, 0.70026808345351277, 0.70044814450078485, 0.70638376047276352, 0.70740312907094827, 0.71585927592299614, 0.72114251925380779, 0.72383057418327879, 0.73200199098238539, 0.73357577330906309, 0.7357074376040853, 0.7357643684198909, 0.73595768944533435, 0.73884846557260797, 0.74895524330316643, 0.75675641689766304, 0.75842006487740987, 0.76331169907027485, 0.7653832147368369, 0.76661705276302616, 0.77381698691428114, 0.7752502689048435, 0.77952193142109427, 0.78522751395248236, 0.78804752098996744, 0.80010089331414269, 0.80086941284433888, 0.80891476671311824, 0.81049318006862003, 0.81246562826161872, 0.81363144748485405, 0.81435562510777471, 0.82216157386892141, 0.82974792160813826, 0.83145201516835987, 0.85256310473354524, 0.85290504645876497, 0.85605941180074885, 0.85674232893768865, 0.86148428135245869, 0.86459053321812784, 0.8659903608158126, 0.86817298313525559, 0.8694520038646657, 0.86977467252449336, 0.87163280765615836, 0.87824806037108638, 0.87893105677440586, 0.87998523370234794, 0.88293796970594918, 0.88757018017006328, 0.88794484396722084, 0.89053281966932907, 0.89193895704673165, 0.89253387605982881, 0.89360429260178453, 0.89878135842399709, 0.90577026907226965, 0.90730173718123641, 0.90934604466645841, 0.91047926885635377, 0.9163364769203981, 0.91850525435909613, 0.92009524932723163, 0.92060355885776601, 0.93499909371738199, 0.93661525020168634, 0.93780587168022767, 0.95491660224975294, 0.96232786014056348, 0.96667375771378028, 0.96772075148329129, 0.96824045747535048, 0.97321796489076973, 0.97609002722999594, 0.9762567993713468, 0.9850973606248824, 0.98710335488286571, 0.98885668706397356, 0.9902170314633747, 0.99541479386751286, 0.99990393532359723, 1.0102294631394129, 1.0323188752233257, 1.0424345397449231, 1.0444948723067504, 1.0494644165698712, 1.0602308083302414, 1.0708867188734243, 1.0791111948025016, 1.0807926724646375, 1.084855876937981, 1.0861403871201669, 1.1018939494865694, 1.1048260137433732, 1.1057900217047825, 1.1131567248234377, 1.1135390594533325, 1.1211177318826986, 1.1399166808310923, 1.1478490453546348, 1.1551254620848128, 1.164270940031281, 1.1747406502021154, 1.1845271278361706, 1.2206902043657106, 1.2297484778758232, 1.2368925484434217, 1.2416607891085745, 1.242337049118585, 1.2534009116759952, 1.2553840090851667, 1.2573807756109585, 1.2838489761194742, 1.2937094403026952, 1.2989578905572776, 1.3142711681172559, 1.3393674046341866, 1.3478019177594147, 1.3779848725304968, 1.4551248720200491, 1.4571754046810448, 1.4608341322462555, 1.4870072566136654, 1.5016781872873004, 1.503301509199567, 1.5155929831956401, 1.5208291630998376, 1.5481533181402314, 1.5511043906389945, 1.606416494826326, 1.6109765538027168, 1.6135308566698552, 1.6376690512528076, 1.643493989372145, 1.6478280807734074, 1.6762080275662736, 1.6833558548943379, 1.6968429533790397, 1.7043863250001723, 1.7157642603012448, 1.724224958991065, 1.741373741065585, 1.7455644767504654, 1.749846621184157, 1.7805301287981812, 1.7911813584769767, 1.7913934735620525, 1.7964410162356783, 1.8366885741364327, 1.8397631213306886, 1.8590651990231362, 1.8613611524412408, 1.8669838845734783, 1.8767645785055591, 1.9328583952161642, 1.947154486614157, 1.9562112327644363, 1.9947775038505806, 2.0677787964073229, 2.1308994412634723, 2.1346452667386373, 2.1397146882391453, 2.1669130399878713, 2.1876563936355695, 2.3767491304906363, 2.3931682553038529, 2.4196788703051513, 2.4330615241017899, 2.4451790534429176, 2.5546862315648351, 2.5550833223252636, 2.5839261671443308, 2.6061082630281995, 2.8011419212905015, 2.8117960720666848, 3.0330603840211681, 3.0634520985090381, 3.1280392248860784, 3.3543507237381074, 3.3925166873973094, 3.412095906596714, 3.7861184298847177, 3.8663934329563432, 3.8940630411189607, 3.9268239525218807, 3.9696106060949239, 4.0828724721512231, 4.0880995219282825, 4.5330534711810149, 4.8230613857643583, 5.1640886029899384, 6.1438567207235488, 10.780323329186302]\n",
      "[0.03559581641212467]\n"
     ]
    },
    {
     "name": "stderr",
     "output_type": "stream",
     "text": [
      "\r",
      " 12%|█████                                    | 21/172 [00:06<00:44,  3.41it/s]"
     ]
    }
   ],
   "source": [
    "\"\"\"\n",
    "Function\n",
    "--------\n",
    "nneighbor\n",
    "\n",
    "Given a training dataset, a testing dataset, and a value for L, return the RMSE\n",
    "\n",
    "Parameters\n",
    "----------\n",
    "bdata_train: \n",
    "    training dataset\n",
    "\n",
    "bdata_test:\n",
    "    testing dataset\n",
    "\n",
    "L: int\n",
    "    Value of L to use in computing distances\n",
    "\n",
    "K: int\n",
    "    number of neighbors to consider\n",
    "Returns\n",
    "-------\n",
    "rmse : float\n",
    "    The RMSE for the Nearest Neighbor prediction on the test set\n",
    "    \n",
    "    \n",
    "\"\"\"\n",
    "from tqdm import tqdm\n",
    "import time\n",
    "import sys\n",
    "\n",
    "def nneighbor(bdata_train, bdata_test, input_feat, output, L, K):\n",
    "    start_time = time.time()\n",
    "    rmse = 0\n",
    "    #goes through each row of test data and calculates distance from each row in train data\n",
    "    pred_arr = []\n",
    "    count = 0\n",
    "    for i in tqdm(set(bdata_test.index)):\n",
    "        dist = 0\n",
    "        #initialize as maximum possible int to be replaced by lower numbers\n",
    "        \n",
    "        prediction = sys.maxint\n",
    "        min_distance = sys.maxint\n",
    "        val_list = []\n",
    "        for j in set(bdata_train.index):\n",
    "            train_row = bdata_train.loc[j][input_feat]\n",
    "            test_row = bdata_test.loc[i][input_feat]\n",
    "            dist = distance(train_row,test_row,L)\n",
    "            val_list.append(dist)\n",
    "        print(val_list)\n",
    "        val_list = sorted(val_list)\n",
    "        print(val_list)\n",
    "        val_list = val_list[:K]\n",
    "        print(val_list)\n",
    "\n",
    "        pred_arr.append(np.mean(val_list))\n",
    "               \n",
    "#         prediction = sys.maxint\n",
    "#         min_distance = sys.maxint\n",
    "#         for j in set(bdata_train.index):\n",
    "#             train_row = bdata_train.loc[j][input_feat]\n",
    "#             test_row = bdata_test.loc[i][input_feat]\n",
    "#             dist = distance(train_row,test_row,L)\n",
    "#             if(dist < min_distance):\n",
    "#                 min_distance = dist\n",
    "#                 prediction = bdata_train.loc[j][output]\n",
    "#         pred_arr.append(prediction)\n",
    "    rmse = compute_rmse(pred_arr, bdata_test.MEDV.values)\n",
    "    \n",
    "    print \"Time taken: \" + str(round(time.time() - start_time,2)) + \" seconds\"\n",
    "    return rmse\n",
    "\n",
    "print(nneighbor(bdata_train, bdata_test, ['CRIM', 'RM'], 'MEDV', 2, 1))"
   ]
  },
  {
   "cell_type": "code",
   "execution_count": 284,
   "metadata": {
    "collapsed": false
   },
   "outputs": [
    {
     "data": {
      "text/html": [
       "<div>\n",
       "<table border=\"1\" class=\"dataframe\">\n",
       "  <thead>\n",
       "    <tr style=\"text-align: right;\">\n",
       "      <th></th>\n",
       "      <th>CRIM</th>\n",
       "      <th>ZN</th>\n",
       "      <th>INDUS</th>\n",
       "      <th>CHAS</th>\n",
       "      <th>NOX</th>\n",
       "      <th>RM</th>\n",
       "      <th>AGE</th>\n",
       "      <th>DIS</th>\n",
       "      <th>RAD</th>\n",
       "      <th>TAX</th>\n",
       "      <th>PTRATIO</th>\n",
       "      <th>B</th>\n",
       "      <th>LSTAT</th>\n",
       "      <th>MEDV</th>\n",
       "    </tr>\n",
       "  </thead>\n",
       "  <tbody>\n",
       "    <tr>\n",
       "      <th>152</th>\n",
       "      <td>1.12658</td>\n",
       "      <td>0.0</td>\n",
       "      <td>19.58</td>\n",
       "      <td>1.0</td>\n",
       "      <td>0.871</td>\n",
       "      <td>5.012</td>\n",
       "      <td>88.0</td>\n",
       "      <td>1.6102</td>\n",
       "      <td>5.0</td>\n",
       "      <td>403.0</td>\n",
       "      <td>14.7</td>\n",
       "      <td>343.28</td>\n",
       "      <td>12.12</td>\n",
       "      <td>15.3</td>\n",
       "    </tr>\n",
       "    <tr>\n",
       "      <th>205</th>\n",
       "      <td>0.13642</td>\n",
       "      <td>0.0</td>\n",
       "      <td>10.59</td>\n",
       "      <td>0.0</td>\n",
       "      <td>0.489</td>\n",
       "      <td>5.891</td>\n",
       "      <td>22.3</td>\n",
       "      <td>3.9454</td>\n",
       "      <td>4.0</td>\n",
       "      <td>277.0</td>\n",
       "      <td>18.6</td>\n",
       "      <td>396.90</td>\n",
       "      <td>10.87</td>\n",
       "      <td>22.6</td>\n",
       "    </tr>\n",
       "    <tr>\n",
       "      <th>192</th>\n",
       "      <td>0.08664</td>\n",
       "      <td>45.0</td>\n",
       "      <td>3.44</td>\n",
       "      <td>0.0</td>\n",
       "      <td>0.437</td>\n",
       "      <td>7.178</td>\n",
       "      <td>26.3</td>\n",
       "      <td>6.4798</td>\n",
       "      <td>5.0</td>\n",
       "      <td>398.0</td>\n",
       "      <td>15.2</td>\n",
       "      <td>390.49</td>\n",
       "      <td>2.87</td>\n",
       "      <td>36.4</td>\n",
       "    </tr>\n",
       "    <tr>\n",
       "      <th>502</th>\n",
       "      <td>0.04527</td>\n",
       "      <td>0.0</td>\n",
       "      <td>11.93</td>\n",
       "      <td>0.0</td>\n",
       "      <td>0.573</td>\n",
       "      <td>6.120</td>\n",
       "      <td>76.7</td>\n",
       "      <td>2.2875</td>\n",
       "      <td>1.0</td>\n",
       "      <td>273.0</td>\n",
       "      <td>21.0</td>\n",
       "      <td>396.90</td>\n",
       "      <td>9.08</td>\n",
       "      <td>20.6</td>\n",
       "    </tr>\n",
       "    <tr>\n",
       "      <th>108</th>\n",
       "      <td>0.12802</td>\n",
       "      <td>0.0</td>\n",
       "      <td>8.56</td>\n",
       "      <td>0.0</td>\n",
       "      <td>0.520</td>\n",
       "      <td>6.474</td>\n",
       "      <td>97.1</td>\n",
       "      <td>2.4329</td>\n",
       "      <td>5.0</td>\n",
       "      <td>384.0</td>\n",
       "      <td>20.9</td>\n",
       "      <td>395.24</td>\n",
       "      <td>12.27</td>\n",
       "      <td>19.8</td>\n",
       "    </tr>\n",
       "  </tbody>\n",
       "</table>\n",
       "</div>"
      ],
      "text/plain": [
       "        CRIM    ZN  INDUS  CHAS    NOX     RM   AGE     DIS  RAD    TAX  \\\n",
       "152  1.12658   0.0  19.58   1.0  0.871  5.012  88.0  1.6102  5.0  403.0   \n",
       "205  0.13642   0.0  10.59   0.0  0.489  5.891  22.3  3.9454  4.0  277.0   \n",
       "192  0.08664  45.0   3.44   0.0  0.437  7.178  26.3  6.4798  5.0  398.0   \n",
       "502  0.04527   0.0  11.93   0.0  0.573  6.120  76.7  2.2875  1.0  273.0   \n",
       "108  0.12802   0.0   8.56   0.0  0.520  6.474  97.1  2.4329  5.0  384.0   \n",
       "\n",
       "     PTRATIO       B  LSTAT  MEDV  \n",
       "152     14.7  343.28  12.12  15.3  \n",
       "205     18.6  396.90  10.87  22.6  \n",
       "192     15.2  390.49   2.87  36.4  \n",
       "502     21.0  396.90   9.08  20.6  \n",
       "108     20.9  395.24  12.27  19.8  "
      ]
     },
     "execution_count": 284,
     "metadata": {},
     "output_type": "execute_result"
    }
   ],
   "source": [
    "bdata_train.head(5)"
   ]
  },
  {
   "cell_type": "markdown",
   "metadata": {},
   "source": [
    "### 2.3 Results and Normalization\n",
    "\n",
    "If you were being astute, you would have noticed that we never normalized our features -- a big no-no with Nearest Neighbor algorithms.  Write a generic normalization function that takes as input an array of values for a given feature, and returns the normalized array (subtract the mean and divide by the standard deviation).\n",
    "\n",
    "Re-run the Nearest Neighbor algorithm on the normalized dataset (still just using CRIM and RM as input), and compare the RMSE from this method with your previous RMSE evaluations.\n",
    "\n",
    "*NOTE*: To normalize properly, best practice is to compute the mean and standard deviation on the training set, and use these values to normalize the testing dataset. However, for this problem set, it is okay if you separately normalize each dataset using the respective mean and standard deviation."
   ]
  },
  {
   "cell_type": "code",
   "execution_count": 285,
   "metadata": {
    "collapsed": false
   },
   "outputs": [
    {
     "name": "stderr",
     "output_type": "stream",
     "text": [
      "100%|████████████████████████████████████████| 172/172 [00:50<00:00,  3.46it/s]\n"
     ]
    },
    {
     "name": "stdout",
     "output_type": "stream",
     "text": [
      "Time taken: 50.62 seconds\n",
      "6.63376230548\n"
     ]
    }
   ],
   "source": [
    "\"\"\"\n",
    "Function\n",
    "--------\n",
    "normalize\n",
    "\n",
    "Given an inputted array, return a normalized version of the array\n",
    "\n",
    "Parameters\n",
    "----------\n",
    "raw_data:\n",
    "    un-normalized array\n",
    "\n",
    "\n",
    "Returns\n",
    "-------\n",
    "normalized_data\n",
    "    normalized array of data\n",
    "    \n",
    "\"\"\"\n",
    "\n",
    "def normalize(raw_data):\n",
    "    #your code here\n",
    "    raw_stdev = raw_data.std()\n",
    "    raw_mean = np.mean(raw_data)\n",
    "    \n",
    "    normalized_data = (raw_data - raw_mean) / raw_stdev\n",
    "    \n",
    "    return normalized_data\n",
    "\n",
    "#your additional code here\n",
    "\n",
    "#normalize all cols in test and train except the output (MEDV)\n",
    "n_bdata_test = bdata_test\n",
    "n_bdata_train = bdata_train\n",
    "\n",
    "for item in n_bdata_test.columns:\n",
    "    if(item != u'MEDV'):\n",
    "        n_bdata_test[item] = normalize(n_bdata_test[item])\n",
    "for item in n_bdata_train.columns:\n",
    "    if(item != u'MEDV'):\n",
    "        n_bdata_train[item] = normalize(n_bdata_train[item])\n",
    "    \n",
    "print(nneighbor(n_bdata_train, n_bdata_test, ['CRIM', 'RM'], 'MEDV', 2))"
   ]
  },
  {
   "cell_type": "code",
   "execution_count": 286,
   "metadata": {
    "collapsed": false
   },
   "outputs": [
    {
     "data": {
      "text/plain": [
       "Index([u'CRIM', u'ZN', u'INDUS', u'CHAS', u'NOX', u'RM', u'AGE', u'DIS',\n",
       "       u'RAD', u'TAX', u'PTRATIO', u'B', u'LSTAT', u'MEDV'],\n",
       "      dtype='object')"
      ]
     },
     "execution_count": 286,
     "metadata": {},
     "output_type": "execute_result"
    }
   ],
   "source": [
    "df.columns"
   ]
  },
  {
   "cell_type": "markdown",
   "metadata": {},
   "source": [
    "*enter your observations here*"
   ]
  },
  {
   "cell_type": "markdown",
   "metadata": {},
   "source": [
    "### 2.4 Optimization\n",
    "\n",
    "A lot of the decisions we've made so far have been arbitrary.  Try to increase the performance of your nearest neighbor algorithm by adding features that you think might be relevant, and by using different values of L in the distance function.  Try a model that uses a different set of 2 features, then try at least one model that uses more than 4 features, then try using a different value of L.  If you're having fun, try a few different combinations of features and L!\n",
    "\n",
    "What combination of features and distance function provide the lowest RMSE?  Do your decisions affect the running time of the algorithm?"
   ]
  },
  {
   "cell_type": "code",
   "execution_count": 287,
   "metadata": {
    "collapsed": false
   },
   "outputs": [
    {
     "name": "stderr",
     "output_type": "stream",
     "text": [
      "100%|████████████████████████████████████████| 172/172 [00:50<00:00,  3.46it/s]\n"
     ]
    },
    {
     "name": "stdout",
     "output_type": "stream",
     "text": [
      "Time taken: 50.16 seconds\n",
      "9.31919749015\n"
     ]
    }
   ],
   "source": [
    "# enter your code here\n",
    "print(nneighbor(n_bdata_train, n_bdata_test, ['CRIM', 'LSTAT'], 'MEDV', 2))"
   ]
  },
  {
   "cell_type": "code",
   "execution_count": 288,
   "metadata": {
    "collapsed": false
   },
   "outputs": [
    {
     "name": "stderr",
     "output_type": "stream",
     "text": [
      "100%|████████████████████████████████████████| 172/172 [00:50<00:00,  3.39it/s]\n"
     ]
    },
    {
     "name": "stdout",
     "output_type": "stream",
     "text": [
      "Time taken: 50.37 seconds\n",
      "6.68199159143\n"
     ]
    }
   ],
   "source": [
    "print(nneighbor(n_bdata_train, n_bdata_test, ['DIS', 'LSTAT'], 'MEDV', 2))"
   ]
  },
  {
   "cell_type": "code",
   "execution_count": 289,
   "metadata": {
    "collapsed": false
   },
   "outputs": [
    {
     "name": "stderr",
     "output_type": "stream",
     "text": [
      "100%|████████████████████████████████████████| 172/172 [00:51<00:00,  3.35it/s]\n"
     ]
    },
    {
     "name": "stdout",
     "output_type": "stream",
     "text": [
      "Time taken: 51.91 seconds\n",
      "6.81654109928\n"
     ]
    }
   ],
   "source": [
    "print(nneighbor(n_bdata_train, n_bdata_test, ['NOX','CRIM', 'LSTAT'], 'MEDV', 2))"
   ]
  },
  {
   "cell_type": "code",
   "execution_count": 290,
   "metadata": {
    "collapsed": false
   },
   "outputs": [
    {
     "name": "stderr",
     "output_type": "stream",
     "text": [
      "100%|████████████████████████████████████████| 172/172 [00:53<00:00,  3.18it/s]\n"
     ]
    },
    {
     "name": "stdout",
     "output_type": "stream",
     "text": [
      "Time taken: 53.61 seconds\n",
      "5.75049542861\n"
     ]
    }
   ],
   "source": [
    "print(nneighbor(n_bdata_train, n_bdata_test, ['RM','NOX','CRIM','LSTAT'], 'MEDV', 2))"
   ]
  },
  {
   "cell_type": "code",
   "execution_count": 291,
   "metadata": {
    "collapsed": false
   },
   "outputs": [
    {
     "name": "stderr",
     "output_type": "stream",
     "text": [
      "100%|████████████████████████████████████████| 172/172 [00:53<00:00,  3.09it/s]\n"
     ]
    },
    {
     "name": "stdout",
     "output_type": "stream",
     "text": [
      "Time taken: 53.73 seconds\n",
      "4.75714884319\n"
     ]
    }
   ],
   "source": [
    "print(nneighbor(n_bdata_train, n_bdata_test, ['RM', 'CHAS','CRIM', 'LSTAT'], 'MEDV', 1))"
   ]
  },
  {
   "cell_type": "code",
   "execution_count": 292,
   "metadata": {
    "collapsed": false
   },
   "outputs": [
    {
     "name": "stderr",
     "output_type": "stream",
     "text": [
      "100%|████████████████████████████████████████| 172/172 [00:53<00:00,  3.21it/s]\n"
     ]
    },
    {
     "name": "stdout",
     "output_type": "stream",
     "text": [
      "Time taken: 53.85 seconds\n",
      "5.6278532815\n"
     ]
    }
   ],
   "source": [
    "print(nneighbor(n_bdata_train, n_bdata_test, ['RM', 'CHAS','CRIM', 'LSTAT'], 'MEDV', 5))"
   ]
  },
  {
   "cell_type": "markdown",
   "metadata": {},
   "source": [
    "*enter your observations here*"
   ]
  },
  {
   "cell_type": "markdown",
   "metadata": {},
   "source": [
    "### 2.5 Cross-Validation\n",
    "\n",
    "The more you tinkered with your features and distance function, the higher the risk that you overfit your training data.  To prevent this sort of overfitting, you need to use cross-validation (see K-fold [cross-validation](http://en.wikipedia.org/wiki/Cross-validation_(statistics)).  Here you must implement a simple k-fold cross-validation algorithm yourself.  The function you write here will be used several more times in this problem set, so do your best to write efficient code! (Note that the sklearn package has a built-in [K-fold](http://scikit-learn.org/stable/modules/cross_validation.html#cross-validation) iterator -- you should *not* be invoking that or any related algorithms in this section of the problem set.)\n",
    "\n",
    "Use 10-fold cross-validation and report the average RMSE for Nearest Neighbors using Euclidean distance with CRIM and RM input features, as well as the total running time for the full run of 10 folds.  In other words, randomly divide your dataset into 10 equally-sized samples, and for each of 10 iterations (the \"folds\"), use 9 samples as \"training data\" (even though there is no training in k-NN!), and the remaining 1 sample for testing.  Compute the RMSE of that particular test set, then move on to the next iteration.  Report the average RMSE across the 10 iterations."
   ]
  },
  {
   "cell_type": "code",
   "execution_count": 347,
   "metadata": {
    "collapsed": false
   },
   "outputs": [
    {
     "name": "stderr",
     "output_type": "stream",
     "text": [
      "100%|██████████████████████████████████████████| 50/50 [00:19<00:00,  2.56it/s]\n"
     ]
    },
    {
     "name": "stdout",
     "output_type": "stream",
     "text": [
      "Time taken: 19.97 seconds\n"
     ]
    },
    {
     "name": "stderr",
     "output_type": "stream",
     "text": [
      "100%|██████████████████████████████████████████| 50/50 [00:19<00:00,  2.56it/s]\n"
     ]
    },
    {
     "name": "stdout",
     "output_type": "stream",
     "text": [
      "Time taken: 19.63 seconds\n"
     ]
    },
    {
     "name": "stderr",
     "output_type": "stream",
     "text": [
      "100%|██████████████████████████████████████████| 50/50 [00:20<00:00,  2.57it/s]\n"
     ]
    },
    {
     "name": "stdout",
     "output_type": "stream",
     "text": [
      "Time taken: 20.03 seconds\n"
     ]
    },
    {
     "name": "stderr",
     "output_type": "stream",
     "text": [
      "100%|██████████████████████████████████████████| 50/50 [00:19<00:00,  2.43it/s]\n"
     ]
    },
    {
     "name": "stdout",
     "output_type": "stream",
     "text": [
      "Time taken: 19.76 seconds\n"
     ]
    },
    {
     "name": "stderr",
     "output_type": "stream",
     "text": [
      "100%|██████████████████████████████████████████| 50/50 [00:19<00:00,  2.53it/s]\n"
     ]
    },
    {
     "name": "stdout",
     "output_type": "stream",
     "text": [
      "Time taken: 19.89 seconds\n"
     ]
    },
    {
     "name": "stderr",
     "output_type": "stream",
     "text": [
      "100%|██████████████████████████████████████████| 50/50 [00:20<00:00,  2.54it/s]\n"
     ]
    },
    {
     "name": "stdout",
     "output_type": "stream",
     "text": [
      "Time taken: 20.45 seconds\n"
     ]
    },
    {
     "name": "stderr",
     "output_type": "stream",
     "text": [
      "100%|██████████████████████████████████████████| 50/50 [00:19<00:00,  2.53it/s]\n"
     ]
    },
    {
     "name": "stdout",
     "output_type": "stream",
     "text": [
      "Time taken: 19.68 seconds\n"
     ]
    },
    {
     "name": "stderr",
     "output_type": "stream",
     "text": [
      "100%|██████████████████████████████████████████| 50/50 [00:19<00:00,  2.45it/s]\n"
     ]
    },
    {
     "name": "stdout",
     "output_type": "stream",
     "text": [
      "Time taken: 19.92 seconds\n"
     ]
    },
    {
     "name": "stderr",
     "output_type": "stream",
     "text": [
      "100%|██████████████████████████████████████████| 50/50 [00:20<00:00,  2.58it/s]\n"
     ]
    },
    {
     "name": "stdout",
     "output_type": "stream",
     "text": [
      "Time taken: 20.09 seconds\n"
     ]
    },
    {
     "name": "stderr",
     "output_type": "stream",
     "text": [
      "100%|██████████████████████████████████████████| 50/50 [00:19<00:00,  2.52it/s]\n"
     ]
    },
    {
     "name": "stdout",
     "output_type": "stream",
     "text": [
      "Time taken: 19.78 seconds\n",
      "Time taken: 199.8 seconds\n",
      "[16.718606401252469, 9.9117405131490397, 15.252003147127921, 12.308127396155761, 13.594712207325315, 9.3771104291247429, 16.274821043562969, 10.659118162399739, 13.717004046073619, 13.434210062374342]\n",
      "13.1247453409\n"
     ]
    }
   ],
   "source": [
    "\"\"\"\n",
    "Function\n",
    "--------\n",
    "kfold\n",
    "\n",
    "Given a K, and dataset, splits the dataset into k pieces and runs a k-fold cross validation\n",
    "\n",
    "Parameters\n",
    "----------\n",
    "k_num:\n",
    "    number of folds\n",
    "\n",
    "dataset:\n",
    "    data being split\n",
    "\n",
    "L:\n",
    "    Value of L to use in computing distances\n",
    "\n",
    "\n",
    "Returns\n",
    "-------\n",
    "mean RMSE of the k-fold cross validation\n",
    "    \n",
    "\"\"\"\n",
    "\n",
    "# enter your code here\n",
    "import random\n",
    "\n",
    "def kfold(k_num, dataset, L):\n",
    "    start_time = time.time()\n",
    "    #print(len(dataset))\n",
    "    rows = len(dataset)\n",
    "    \n",
    "    k_fold_output = []\n",
    "    #k partitions of data (start blank)\n",
    "    k = [None for _ in xrange(k_num)]\n",
    "\n",
    "    \n",
    "    #for each k value add equal number of random rows\n",
    "    for i in xrange(k_num):\n",
    "        #creating k equal datasets\n",
    "        row_per_k = int(float(rows)/float(k_num))\n",
    "        index = (random.sample(dataset.index, row_per_k))\n",
    "        k[i] = dataset.ix[index]\n",
    "        dataset = dataset.drop(index)\n",
    "    \n",
    "    #calculate nearest neighbor for each k as a validation dataset\n",
    "    for i in xrange(k_num):\n",
    "        #print(k[0].columns)\n",
    "        #test dataset (1 fold) \n",
    "        test = pd.DataFrame(k[i], columns = k[0].columns)\n",
    "        \n",
    "        #train dataset (k-1 folds)\n",
    "        train = []\n",
    "        for j in xrange(k_num):\n",
    "            if(i != j):\n",
    "                for ind in k[j].index:\n",
    "                    train.append(k[j].loc[ind])\n",
    "        train = pd.DataFrame(train, columns = k[0].columns)\n",
    "    \n",
    "        k_fold_output.append(nneighbor(train, test, ['CRIM', 'RM'], 'MEDV', L))\n",
    "        \n",
    "    print \"Time taken: \" + str(round(time.time() - start_time,2)) + \" seconds\"\n",
    "    print(k_fold_output)\n",
    "    return np.mean(k_fold_output)\n",
    "print(kfold(10, df, 2))"
   ]
  },
  {
   "cell_type": "markdown",
   "metadata": {},
   "source": [
    "### 2.6 K-Nearest Neighbors Algorithm\n",
    "\n",
    "Implement the K-Nearest Neighbors algorithm.  Using 10-fold cross validation, report the RMSE for K=3 and the running time of the algorithm."
   ]
  },
  {
   "cell_type": "code",
   "execution_count": 352,
   "metadata": {
    "collapsed": false
   },
   "outputs": [],
   "source": [
    "\"\"\"\n",
    "# write your function specification here!\n",
    "\"\"\"\n",
    "def knn(dataset, folds, K):\n",
    "    # enter your code here\n",
    "    start_time = time.time()\n",
    "        k_num = folds\n",
    "#     \n",
    "#     \n",
    "#     \n",
    "        rows = len(dataset)\n",
    "\n",
    "        k_fold_output = []\n",
    "        #k partitions of data (start blank)\n",
    "        k = [None for _ in xrange(k_num)]\n",
    "\n",
    "\n",
    "        #for each k value add equal number of random rows\n",
    "        for i in xrange(k_num):\n",
    "            #creating k equal datasets\n",
    "            row_per_k = int(float(rows)/float(k_num))\n",
    "            index = (random.sample(dataset.index, row_per_k))\n",
    "            k[i] = dataset.ix[index]\n",
    "            dataset = dataset.drop(index)\n",
    "\n",
    "        #calculate nearest neighbor for each k as a validation dataset\n",
    "        for i in xrange(k_num):\n",
    "            #test dataset (1 fold) \n",
    "            test = pd.DataFrame(k[i], columns = k[0].columns)\n",
    "\n",
    "            #train dataset (k-1 folds)\n",
    "            train = []\n",
    "            for j in xrange(k_num):\n",
    "                if(i != j):\n",
    "                    for ind in k[j].index:\n",
    "                        train.append(k[j].loc[ind])\n",
    "            train = pd.DataFrame(train, columns = k[0].columns)\n",
    "\n",
    "            \n",
    "            k_fold_output.append(nneighbor(train, test, ['CRIM', 'RM'], 'MEDV', L))\n",
    "\n",
    "        print \"Time taken: \" + str(round(time.time() - start_time,2)) + \" seconds\"\n",
    "        print(k_fold_output)\n",
    "        return np.mean(k_fold_output)\n",
    "#     \n",
    "#     \n",
    "#     \n",
    "    \n",
    "    \n",
    "    pred_arr = []\n",
    "    \n",
    "    for row in test:\n",
    "        prediction = sys.maxint\n",
    "        min_distance = sys.maxint\n",
    "        val_list = []\n",
    "        for j in set(train.index):\n",
    "            train_row = train.loc[j][input_feat]\n",
    "            test_row = test.loc[i][input_feat]\n",
    "            dist = distance(train_row,test_row,L)\n",
    "            val_list.append(dist)\n",
    "        val_list = val_list[:K]\n",
    "        \n",
    "        pred_arr.append(val_list.mean())\n",
    "    rmse = compute_rmse(pred_arr, test.MEDV)\n",
    "        \n",
    "    print \"Time taken: \" + str(round(time.time() - start_time,2)) + \" seconds\"    \n",
    "    return rmse\n",
    "\n",
    "# enter your additional code here\n",
    "\n",
    "kfold(10, df, 2)"
   ]
  },
  {
   "cell_type": "markdown",
   "metadata": {},
   "source": [
    "### 2.7 Using cross validation to find K\n",
    "\n",
    "What is the best choice of K?  Compute the RMSE for values of K between 1 and 25 using 10-fold cross-validation.  Use the following features in your model, and don't forget to normalize: CRIM, ZN, RM, AGE, DIS, TAX.  Create a graph that shows how RMSE changes as K increases from 1 to 25.  Label your axes, and summarize what you see.  What do you think is a reasonable choice of K for this model?"
   ]
  },
  {
   "cell_type": "code",
   "execution_count": null,
   "metadata": {
    "collapsed": false
   },
   "outputs": [],
   "source": [
    "# enter your code here"
   ]
  },
  {
   "cell_type": "markdown",
   "metadata": {},
   "source": [
    "*Enter your observations here*"
   ]
  },
  {
   "cell_type": "markdown",
   "metadata": {},
   "source": [
    "### Extra-Credit: Forward selection\n",
    "\n",
    "Thus far the choice of predictor variables has been rather arbitrary. For extra credit, implement a basic [forward selection](http://www.stat.ubc.ca/~rollin/teach/643w04/lec/node41.html) algorithm to progressively include features that decrease the cross-validated RMSE of the model. Note that the optimal value of K may be different for each model, so you may want to use cross-validation to choose K each time (but it is also fine if you fix K at the optimal value from 2.7).  Create a graph that shows RMSE as a function of the number of features in the model. Label each point on the x-axis with the name of the feature that is added at that step in the forward selection algorithm. *(For instance, if the optimal single-feature model has CRIM with RMSE = 10, and the optimal two-feature model has CRIM+ZN with RMSE=9, the first x-axis label will say CRIM and the second x-axis lable with say ZN)*"
   ]
  }
 ],
 "metadata": {
  "kernelspec": {
   "display_name": "Python 2",
   "language": "python",
   "name": "python2"
  },
  "language_info": {
   "codemirror_mode": {
    "name": "ipython",
    "version": 2
   },
   "file_extension": ".py",
   "mimetype": "text/x-python",
   "name": "python",
   "nbconvert_exporter": "python",
   "pygments_lexer": "ipython2",
   "version": "2.7.11"
  }
 },
 "nbformat": 4,
 "nbformat_minor": 0
}
