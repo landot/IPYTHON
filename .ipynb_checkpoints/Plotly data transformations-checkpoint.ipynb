{
 "cells": [
  {
   "cell_type": "code",
   "execution_count": 16,
   "metadata": {
    "collapsed": true
   },
   "outputs": [],
   "source": [
    "import numpy as np\n",
    "import pandas as pd\n",
    "import matplotlib.pyplot as plt  \n",
    "%matplotlib inline"
   ]
  },
  {
   "cell_type": "code",
   "execution_count": 17,
   "metadata": {
    "collapsed": false
   },
   "outputs": [],
   "source": [
    "df = pd.read_csv('antibiotics_data.csv')"
   ]
  },
  {
   "cell_type": "code",
   "execution_count": 18,
   "metadata": {
    "collapsed": false
   },
   "outputs": [
    {
     "data": {
      "text/html": [
       "<div>\n",
       "<table border=\"1\" class=\"dataframe\">\n",
       "  <thead>\n",
       "    <tr style=\"text-align: right;\">\n",
       "      <th></th>\n",
       "      <th>Bacteria</th>\n",
       "      <th>Penicilin</th>\n",
       "      <th>Streptomycin</th>\n",
       "      <th>Neomycin</th>\n",
       "      <th>Gram Staining</th>\n",
       "    </tr>\n",
       "  </thead>\n",
       "  <tbody>\n",
       "    <tr>\n",
       "      <th>0</th>\n",
       "      <td>Aerobacter aerogenes</td>\n",
       "      <td>870.000</td>\n",
       "      <td>1.00</td>\n",
       "      <td>1.600</td>\n",
       "      <td>negative</td>\n",
       "    </tr>\n",
       "    <tr>\n",
       "      <th>1</th>\n",
       "      <td>Brucella abortus</td>\n",
       "      <td>1.000</td>\n",
       "      <td>2.00</td>\n",
       "      <td>0.020</td>\n",
       "      <td>negative</td>\n",
       "    </tr>\n",
       "    <tr>\n",
       "      <th>2</th>\n",
       "      <td>Brucella anthracis</td>\n",
       "      <td>0.001</td>\n",
       "      <td>0.01</td>\n",
       "      <td>0.007</td>\n",
       "      <td>positive</td>\n",
       "    </tr>\n",
       "    <tr>\n",
       "      <th>3</th>\n",
       "      <td>Diplococcus pneumoniae</td>\n",
       "      <td>0.005</td>\n",
       "      <td>11.00</td>\n",
       "      <td>10.000</td>\n",
       "      <td>positive</td>\n",
       "    </tr>\n",
       "    <tr>\n",
       "      <th>4</th>\n",
       "      <td>Escherichia coli</td>\n",
       "      <td>100.000</td>\n",
       "      <td>0.40</td>\n",
       "      <td>0.100</td>\n",
       "      <td>negative</td>\n",
       "    </tr>\n",
       "    <tr>\n",
       "      <th>5</th>\n",
       "      <td>Klebsiella pneumoniae</td>\n",
       "      <td>850.000</td>\n",
       "      <td>1.20</td>\n",
       "      <td>1.000</td>\n",
       "      <td>negative</td>\n",
       "    </tr>\n",
       "    <tr>\n",
       "      <th>6</th>\n",
       "      <td>Mycobacterium tuberculosis</td>\n",
       "      <td>800.000</td>\n",
       "      <td>5.00</td>\n",
       "      <td>2.000</td>\n",
       "      <td>negative</td>\n",
       "    </tr>\n",
       "    <tr>\n",
       "      <th>7</th>\n",
       "      <td>Proteus vulgaris</td>\n",
       "      <td>3.000</td>\n",
       "      <td>0.10</td>\n",
       "      <td>0.100</td>\n",
       "      <td>negative</td>\n",
       "    </tr>\n",
       "    <tr>\n",
       "      <th>8</th>\n",
       "      <td>Pseudomonas aeruginosa</td>\n",
       "      <td>850.000</td>\n",
       "      <td>2.00</td>\n",
       "      <td>0.400</td>\n",
       "      <td>negative</td>\n",
       "    </tr>\n",
       "    <tr>\n",
       "      <th>9</th>\n",
       "      <td>Salmonella (Eberthella) typhosa</td>\n",
       "      <td>1.000</td>\n",
       "      <td>0.40</td>\n",
       "      <td>0.008</td>\n",
       "      <td>negative</td>\n",
       "    </tr>\n",
       "    <tr>\n",
       "      <th>10</th>\n",
       "      <td>Salmonella schottmuelleri</td>\n",
       "      <td>10.000</td>\n",
       "      <td>0.80</td>\n",
       "      <td>0.090</td>\n",
       "      <td>negative</td>\n",
       "    </tr>\n",
       "    <tr>\n",
       "      <th>11</th>\n",
       "      <td>Staphylococcus albus</td>\n",
       "      <td>0.007</td>\n",
       "      <td>0.10</td>\n",
       "      <td>0.001</td>\n",
       "      <td>positive</td>\n",
       "    </tr>\n",
       "    <tr>\n",
       "      <th>12</th>\n",
       "      <td>Staphylococcus aureus</td>\n",
       "      <td>0.030</td>\n",
       "      <td>0.03</td>\n",
       "      <td>0.001</td>\n",
       "      <td>positive</td>\n",
       "    </tr>\n",
       "    <tr>\n",
       "      <th>13</th>\n",
       "      <td>Streptococcus fecalis</td>\n",
       "      <td>1.000</td>\n",
       "      <td>1.00</td>\n",
       "      <td>0.100</td>\n",
       "      <td>positive</td>\n",
       "    </tr>\n",
       "    <tr>\n",
       "      <th>14</th>\n",
       "      <td>Streptococcus hemolyticus</td>\n",
       "      <td>0.001</td>\n",
       "      <td>14.00</td>\n",
       "      <td>10.000</td>\n",
       "      <td>positive</td>\n",
       "    </tr>\n",
       "    <tr>\n",
       "      <th>15</th>\n",
       "      <td>Streptococcus viridans</td>\n",
       "      <td>0.005</td>\n",
       "      <td>10.00</td>\n",
       "      <td>40.000</td>\n",
       "      <td>positive</td>\n",
       "    </tr>\n",
       "  </tbody>\n",
       "</table>\n",
       "</div>"
      ],
      "text/plain": [
       "                           Bacteria   Penicilin  Streptomycin   Neomycin  \\\n",
       "0               Aerobacter aerogenes    870.000           1.00     1.600   \n",
       "1                   Brucella abortus      1.000           2.00     0.020   \n",
       "2                 Brucella anthracis      0.001           0.01     0.007   \n",
       "3             Diplococcus pneumoniae      0.005          11.00    10.000   \n",
       "4                   Escherichia coli    100.000           0.40     0.100   \n",
       "5              Klebsiella pneumoniae    850.000           1.20     1.000   \n",
       "6         Mycobacterium tuberculosis    800.000           5.00     2.000   \n",
       "7                   Proteus vulgaris      3.000           0.10     0.100   \n",
       "8            Pseudomonas aeruginosa     850.000           2.00     0.400   \n",
       "9   Salmonella (Eberthella) typhosa       1.000           0.40     0.008   \n",
       "10        Salmonella schottmuelleri      10.000           0.80     0.090   \n",
       "11             Staphylococcus albus       0.007           0.10     0.001   \n",
       "12            Staphylococcus aureus       0.030           0.03     0.001   \n",
       "13            Streptococcus fecalis       1.000           1.00     0.100   \n",
       "14        Streptococcus hemolyticus       0.001          14.00    10.000   \n",
       "15            Streptococcus viridans      0.005          10.00    40.000   \n",
       "\n",
       "   Gram Staining   \n",
       "0        negative  \n",
       "1        negative  \n",
       "2        positive  \n",
       "3        positive  \n",
       "4        negative  \n",
       "5        negative  \n",
       "6        negative  \n",
       "7        negative  \n",
       "8        negative  \n",
       "9        negative  \n",
       "10       negative  \n",
       "11       positive  \n",
       "12       positive  \n",
       "13       positive  \n",
       "14       positive  \n",
       "15       positive  "
      ]
     },
     "execution_count": 18,
     "metadata": {},
     "output_type": "execute_result"
    }
   ],
   "source": [
    "df"
   ]
  },
  {
   "cell_type": "code",
   "execution_count": 19,
   "metadata": {
    "collapsed": false
   },
   "outputs": [
    {
     "name": "stdout",
     "output_type": "stream",
     "text": [
      "positive gram mean\n",
      "0.149857142857\n",
      "5.16285714286\n",
      "8.587\n",
      " \n",
      "negative gram mean\n",
      "387.222222222\n",
      "1.43333333333\n",
      "0.590888888889\n",
      " \n",
      "effectiveness of each drug type\n",
      "217.8780625\n",
      "3.065\n",
      "4.0891875\n"
     ]
    }
   ],
   "source": [
    "pos = df[df['Gram Staining '] == 'positive']\n",
    "neg = df[df['Gram Staining '] == 'negative']\n",
    "print('positive gram mean')\n",
    "print(pos[\"Penicilin\"].mean())\n",
    "print(pos[\"Streptomycin \"].mean())\n",
    "print(pos[\"Neomycin\"].mean())\n",
    "\n",
    "print(' ')\n",
    "print('negative gram mean')\n",
    "print(neg[\"Penicilin\"].mean())\n",
    "print(neg[\"Streptomycin \"].mean())\n",
    "print(neg[\"Neomycin\"].mean())\n",
    "\n",
    "#this data above 'position nonstandard bar graphs'\n",
    "\n",
    "print(' ')\n",
    "\n",
    "#overall effeciveness of each drug\n",
    "print('effectiveness of each drug type')\n",
    "print(df['Penicilin'].mean())\n",
    "print(df['Streptomycin '].mean())\n",
    "print(df['Neomycin'].mean())\n",
    "\n",
    "\n",
    "#ranged histogram for gram staining (0-1, 1-10, 10+)\n",
    "\n",
    "#box plot of effectiveness of Streptomycin (because it is the general most effective drug)\n"
   ]
  },
  {
   "cell_type": "code",
   "execution_count": 32,
   "metadata": {
    "collapsed": false
   },
   "outputs": [
    {
     "data": {
      "text/plain": [
       "[array(['Aerobacter aerogenes', 870.0, 1.0, 1.6, 'negative'], dtype=object),\n",
       " array(['Brucella abortus', 1.0, 2.0, 0.02, 'negative'], dtype=object),\n",
       " array(['Brucella anthracis', 0.001, 0.01, 0.006999999999999999, 'positive'], dtype=object),\n",
       " array(['Diplococcus pneumoniae', 0.005, 11.0, 10.0, 'positive'], dtype=object),\n",
       " array(['Escherichia coli', 100.0, 0.4, 0.1, 'negative'], dtype=object),\n",
       " array(['Klebsiella pneumoniae', 850.0, 1.2, 1.0, 'negative'], dtype=object),\n",
       " array(['Mycobacterium tuberculosis', 800.0, 5.0, 2.0, 'negative'], dtype=object),\n",
       " array(['Proteus vulgaris', 3.0, 0.1, 0.1, 'negative'], dtype=object),\n",
       " array(['Pseudomonas aeruginosa ', 850.0, 2.0, 0.4, 'negative'], dtype=object),\n",
       " array(['Salmonella (Eberthella) typhosa ', 1.0, 0.4, 0.008, 'negative'], dtype=object),\n",
       " array(['Salmonella schottmuelleri ', 10.0, 0.8, 0.09, 'negative'], dtype=object),\n",
       " array(['Staphylococcus albus ', 0.006999999999999999, 0.1, 0.001,\n",
       "        'positive'], dtype=object),\n",
       " array(['Staphylococcus aureus ', 0.03, 0.03, 0.001, 'positive'], dtype=object),\n",
       " array(['Streptococcus fecalis ', 1.0, 1.0, 0.1, 'positive'], dtype=object),\n",
       " array(['Streptococcus hemolyticus ', 0.001, 14.0, 10.0, 'positive'], dtype=object),\n",
       " array(['Streptococcus viridans', 0.005, 10.0, 40.0, 'positive'], dtype=object)]"
      ]
     },
     "execution_count": 32,
     "metadata": {},
     "output_type": "execute_result"
    }
   ],
   "source": [
    "arr = []\n",
    "for item in df.values:\n",
    "    arr.append(item)\n",
    "arr"
   ]
  },
  {
   "cell_type": "code",
   "execution_count": 6,
   "metadata": {
    "collapsed": false
   },
   "outputs": [
    {
     "data": {
      "text/plain": [
       "Index([u'Bacteria ', u'Penicilin', u'Streptomycin ', u'Neomycin',\n",
       "       u'Gram Staining '],\n",
       "      dtype='object')"
      ]
     },
     "execution_count": 6,
     "metadata": {},
     "output_type": "execute_result"
    }
   ],
   "source": [
    "df.columns"
   ]
  },
  {
   "cell_type": "code",
   "execution_count": 7,
   "metadata": {
    "collapsed": false
   },
   "outputs": [
    {
     "data": {
      "text/plain": [
       "2     positive\n",
       "3     positive\n",
       "11    positive\n",
       "12    positive\n",
       "13    positive\n",
       "14    positive\n",
       "15    positive\n",
       "Name: Gram Staining , dtype: object"
      ]
     },
     "execution_count": 7,
     "metadata": {},
     "output_type": "execute_result"
    }
   ],
   "source": [
    "df[df['Gram Staining '] == 'positive']['Gram Staining ']"
   ]
  },
  {
   "cell_type": "code",
   "execution_count": 8,
   "metadata": {
    "collapsed": false
   },
   "outputs": [
    {
     "data": {
      "image/png": "[encoded data removed]",
      "text/plain": [
       "<matplotlib.figure.Figure at 0x8f3fc88>"
      ]
     },
     "metadata": {},
     "output_type": "display_data"
    }
   ],
   "source": [
    "fig, ax = plt.subplots()\n",
    "\n",
    "# Create the boxplot\n",
    "bp = ax.boxplot(df[df['Gram Staining '] == 'negative']['Penicilin'])\n",
    "#bp = ax.boxplot(df[df['Gram Staining '] == 'positive']['Penicilin'])"
   ]
  },
  {
   "cell_type": "code",
   "execution_count": 9,
   "metadata": {
    "collapsed": false
   },
   "outputs": [
    {
     "data": {
      "text/plain": [
       "0     870.000\n",
       "1       1.000\n",
       "2       0.001\n",
       "3       0.005\n",
       "4     100.000\n",
       "5     850.000\n",
       "6     800.000\n",
       "7       3.000\n",
       "8     850.000\n",
       "9       1.000\n",
       "10     10.000\n",
       "11      0.007\n",
       "12      0.030\n",
       "13      1.000\n",
       "14      0.001\n",
       "15      0.005\n",
       "Name: Penicilin, dtype: float64"
      ]
     },
     "execution_count": 9,
     "metadata": {},
     "output_type": "execute_result"
    }
   ],
   "source": [
    "df['Penicilin']"
   ]
  },
  {
   "cell_type": "code",
   "execution_count": 10,
   "metadata": {
    "collapsed": false
   },
   "outputs": [
    {
     "data": {
      "text/html": [
       "<div>\n",
       "<table border=\"1\" class=\"dataframe\">\n",
       "  <thead>\n",
       "    <tr style=\"text-align: right;\">\n",
       "      <th></th>\n",
       "      <th>Bacteria</th>\n",
       "      <th>Penicilin</th>\n",
       "      <th>Streptomycin</th>\n",
       "      <th>Neomycin</th>\n",
       "      <th>Gram Staining</th>\n",
       "    </tr>\n",
       "  </thead>\n",
       "  <tbody>\n",
       "    <tr>\n",
       "      <th>0</th>\n",
       "      <td>Aerobacter aerogenes</td>\n",
       "      <td>870</td>\n",
       "      <td>1.0</td>\n",
       "      <td>1.600</td>\n",
       "      <td>negative</td>\n",
       "    </tr>\n",
       "    <tr>\n",
       "      <th>1</th>\n",
       "      <td>Brucella abortus</td>\n",
       "      <td>1</td>\n",
       "      <td>2.0</td>\n",
       "      <td>0.020</td>\n",
       "      <td>negative</td>\n",
       "    </tr>\n",
       "    <tr>\n",
       "      <th>4</th>\n",
       "      <td>Escherichia coli</td>\n",
       "      <td>100</td>\n",
       "      <td>0.4</td>\n",
       "      <td>0.100</td>\n",
       "      <td>negative</td>\n",
       "    </tr>\n",
       "    <tr>\n",
       "      <th>5</th>\n",
       "      <td>Klebsiella pneumoniae</td>\n",
       "      <td>850</td>\n",
       "      <td>1.2</td>\n",
       "      <td>1.000</td>\n",
       "      <td>negative</td>\n",
       "    </tr>\n",
       "    <tr>\n",
       "      <th>6</th>\n",
       "      <td>Mycobacterium tuberculosis</td>\n",
       "      <td>800</td>\n",
       "      <td>5.0</td>\n",
       "      <td>2.000</td>\n",
       "      <td>negative</td>\n",
       "    </tr>\n",
       "    <tr>\n",
       "      <th>7</th>\n",
       "      <td>Proteus vulgaris</td>\n",
       "      <td>3</td>\n",
       "      <td>0.1</td>\n",
       "      <td>0.100</td>\n",
       "      <td>negative</td>\n",
       "    </tr>\n",
       "    <tr>\n",
       "      <th>8</th>\n",
       "      <td>Pseudomonas aeruginosa</td>\n",
       "      <td>850</td>\n",
       "      <td>2.0</td>\n",
       "      <td>0.400</td>\n",
       "      <td>negative</td>\n",
       "    </tr>\n",
       "    <tr>\n",
       "      <th>9</th>\n",
       "      <td>Salmonella (Eberthella) typhosa</td>\n",
       "      <td>1</td>\n",
       "      <td>0.4</td>\n",
       "      <td>0.008</td>\n",
       "      <td>negative</td>\n",
       "    </tr>\n",
       "    <tr>\n",
       "      <th>10</th>\n",
       "      <td>Salmonella schottmuelleri</td>\n",
       "      <td>10</td>\n",
       "      <td>0.8</td>\n",
       "      <td>0.090</td>\n",
       "      <td>negative</td>\n",
       "    </tr>\n",
       "  </tbody>\n",
       "</table>\n",
       "</div>"
      ],
      "text/plain": [
       "                           Bacteria   Penicilin  Streptomycin   Neomycin  \\\n",
       "0               Aerobacter aerogenes        870            1.0     1.600   \n",
       "1                   Brucella abortus          1            2.0     0.020   \n",
       "4                   Escherichia coli        100            0.4     0.100   \n",
       "5              Klebsiella pneumoniae        850            1.2     1.000   \n",
       "6         Mycobacterium tuberculosis        800            5.0     2.000   \n",
       "7                   Proteus vulgaris          3            0.1     0.100   \n",
       "8            Pseudomonas aeruginosa         850            2.0     0.400   \n",
       "9   Salmonella (Eberthella) typhosa           1            0.4     0.008   \n",
       "10        Salmonella schottmuelleri          10            0.8     0.090   \n",
       "\n",
       "   Gram Staining   \n",
       "0        negative  \n",
       "1        negative  \n",
       "4        negative  \n",
       "5        negative  \n",
       "6        negative  \n",
       "7        negative  \n",
       "8        negative  \n",
       "9        negative  \n",
       "10       negative  "
      ]
     },
     "execution_count": 10,
     "metadata": {},
     "output_type": "execute_result"
    }
   ],
   "source": [
    "df[df['Gram Staining '] == 'negative']"
   ]
  }
 ],
 "metadata": {
  "kernelspec": {
   "display_name": "Python 2",
   "language": "python",
   "name": "python2"
  },
  "language_info": {
   "codemirror_mode": {
    "name": "ipython",
    "version": 2
   },
   "file_extension": ".py",
   "mimetype": "text/x-python",
   "name": "python",
   "nbconvert_exporter": "python",
   "pygments_lexer": "ipython2",
   "version": "2.7.11"
  }
 },
 "nbformat": 4,
 "nbformat_minor": 0
}
