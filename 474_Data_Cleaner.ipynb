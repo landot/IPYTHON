{
 "cells": [
  {
   "cell_type": "code",
   "execution_count": 365,
   "metadata": {
    "collapsed": true
   },
   "outputs": [],
   "source": [
    "import numpy as np\n",
    "import pandas as pd\n",
    "import matplotlib.pyplot as plt  \n",
    "%matplotlib inline"
   ]
  },
  {
   "cell_type": "code",
   "execution_count": 366,
   "metadata": {
    "collapsed": true
   },
   "outputs": [],
   "source": [
    "#http://fiscal.wa.gov/salaries.aspx\n",
    "df = pd.read_csv('data\\WA_SALARY_DATA.csv', thousands=\",\")"
   ]
  },
  {
   "cell_type": "code",
   "execution_count": 367,
   "metadata": {
    "collapsed": false
   },
   "outputs": [
    {
     "data": {
      "text/html": [
       "<div>\n",
       "<table border=\"1\" class=\"dataframe\">\n",
       "  <thead>\n",
       "    <tr style=\"text-align: right;\">\n",
       "      <th></th>\n",
       "      <th>Agy</th>\n",
       "      <th>Agency_Title</th>\n",
       "      <th>employee_name</th>\n",
       "      <th>job_title</th>\n",
       "      <th>Sal2011</th>\n",
       "      <th>Sal2012</th>\n",
       "      <th>Sal2013</th>\n",
       "      <th>Sal2014</th>\n",
       "    </tr>\n",
       "  </thead>\n",
       "  <tbody>\n",
       "    <tr>\n",
       "      <th>0</th>\n",
       "      <td>165</td>\n",
       "      <td>Accountancy</td>\n",
       "      <td>ASMATH, MOSAR</td>\n",
       "      <td>FORMS &amp; RECORDS ANALYST 2</td>\n",
       "      <td>0</td>\n",
       "      <td>0</td>\n",
       "      <td>32272</td>\n",
       "      <td>17745</td>\n",
       "    </tr>\n",
       "    <tr>\n",
       "      <th>1</th>\n",
       "      <td>165</td>\n",
       "      <td>Accountancy</td>\n",
       "      <td>AUBREY, DONALD F</td>\n",
       "      <td>BOARD MEMBER</td>\n",
       "      <td>950</td>\n",
       "      <td>0</td>\n",
       "      <td>0</td>\n",
       "      <td>400</td>\n",
       "    </tr>\n",
       "    <tr>\n",
       "      <th>2</th>\n",
       "      <td>165</td>\n",
       "      <td>Accountancy</td>\n",
       "      <td>AUBREY, DONALD F.</td>\n",
       "      <td>BOARD MEMBER</td>\n",
       "      <td>0</td>\n",
       "      <td>1450</td>\n",
       "      <td>0</td>\n",
       "      <td>0</td>\n",
       "    </tr>\n",
       "    <tr>\n",
       "      <th>3</th>\n",
       "      <td>165</td>\n",
       "      <td>Accountancy</td>\n",
       "      <td>DONOVAN, KIRSTEN M</td>\n",
       "      <td>ADMINISTRATIVE TRAINEE 3</td>\n",
       "      <td>0</td>\n",
       "      <td>0</td>\n",
       "      <td>15182</td>\n",
       "      <td>13620</td>\n",
       "    </tr>\n",
       "    <tr>\n",
       "      <th>4</th>\n",
       "      <td>165</td>\n",
       "      <td>Accountancy</td>\n",
       "      <td>DONOVAN, KIRSTEN M</td>\n",
       "      <td>LEGAL SECRETARY 2</td>\n",
       "      <td>0</td>\n",
       "      <td>0</td>\n",
       "      <td>0</td>\n",
       "      <td>20750</td>\n",
       "    </tr>\n",
       "  </tbody>\n",
       "</table>\n",
       "</div>"
      ],
      "text/plain": [
       "   Agy Agency_Title       employee_name                  job_title  Sal2011  \\\n",
       "0  165  Accountancy       ASMATH, MOSAR  FORMS & RECORDS ANALYST 2        0   \n",
       "1  165  Accountancy    AUBREY, DONALD F               BOARD MEMBER      950   \n",
       "2  165  Accountancy   AUBREY, DONALD F.               BOARD MEMBER        0   \n",
       "3  165  Accountancy  DONOVAN, KIRSTEN M   ADMINISTRATIVE TRAINEE 3        0   \n",
       "4  165  Accountancy  DONOVAN, KIRSTEN M          LEGAL SECRETARY 2        0   \n",
       "\n",
       "   Sal2012  Sal2013  Sal2014  \n",
       "0        0    32272    17745  \n",
       "1        0        0      400  \n",
       "2     1450        0        0  \n",
       "3        0    15182    13620  \n",
       "4        0        0    20750  "
      ]
     },
     "execution_count": 367,
     "metadata": {},
     "output_type": "execute_result"
    }
   ],
   "source": [
    "df.head(5)"
   ]
  },
  {
   "cell_type": "code",
   "execution_count": 368,
   "metadata": {
    "collapsed": false
   },
   "outputs": [],
   "source": [
    "agy_count = df.Agency_Title.value_counts()"
   ]
  },
  {
   "cell_type": "code",
   "execution_count": 369,
   "metadata": {
    "collapsed": false,
    "scrolled": false
   },
   "outputs": [
    {
     "data": {
      "text/plain": [
       "University of Washington          91105\n",
       "Social and Health Services        36268\n",
       "Washington State University       26618\n",
       "Corrections                       16052\n",
       "Transportation                    12492\n",
       "Western Washington University      7623\n",
       "Labor and Industries               6046\n",
       "Eastern Washington University      5725\n",
       "State Patrol                       5682\n",
       "Employment Security Department     4345\n",
       "Name: Agency_Title, dtype: int64"
      ]
     },
     "execution_count": 369,
     "metadata": {},
     "output_type": "execute_result"
    }
   ],
   "source": [
    "agy_count.head(10)"
   ]
  },
  {
   "cell_type": "code",
   "execution_count": 370,
   "metadata": {
    "collapsed": false
   },
   "outputs": [],
   "source": [
    "college_set = set(df[df['Agency_Title'].str.contains(\"College\")].Agency_Title)"
   ]
  },
  {
   "cell_type": "code",
   "execution_count": 371,
   "metadata": {
    "collapsed": false
   },
   "outputs": [],
   "source": [
    "univ_set = set(df[df['Agency_Title'].str.contains(\"University\")].Agency_Title)"
   ]
  },
  {
   "cell_type": "code",
   "execution_count": 372,
   "metadata": {
    "collapsed": false
   },
   "outputs": [
    {
     "data": {
      "text/plain": [
       "{'Bates Technical College',\n",
       " 'Bellevue Community College',\n",
       " 'Bellingham Technical College',\n",
       " 'Big Bend Community College',\n",
       " 'Cascadia Community College',\n",
       " 'Centralia College',\n",
       " 'Clark College',\n",
       " 'Clover Park Technical College',\n",
       " 'Columbia Basin Community College',\n",
       " 'Edmonds Community College',\n",
       " 'Everett Community College',\n",
       " 'Grays Harbor College',\n",
       " 'Green River Community College',\n",
       " 'Highline Community College',\n",
       " 'Lake Washington Technical College',\n",
       " 'Lower Columbia Community College',\n",
       " 'Olympic College',\n",
       " 'Peninsula Community College',\n",
       " 'Pierce Community College',\n",
       " 'Renton Technical College',\n",
       " 'Seattle Community College',\n",
       " 'Shoreline Community College',\n",
       " 'Skagit Valley College',\n",
       " 'South Puget Sound Community College',\n",
       " 'Spokane Community College',\n",
       " 'Tacoma Community College',\n",
       " 'The Evergreen State College',\n",
       " 'Walla Walla Community College',\n",
       " 'Wenatchee Valley College',\n",
       " 'Whatcom Community College',\n",
       " 'Yakima Valley College'}"
      ]
     },
     "execution_count": 372,
     "metadata": {},
     "output_type": "execute_result"
    }
   ],
   "source": [
    "college_set"
   ]
  },
  {
   "cell_type": "code",
   "execution_count": 373,
   "metadata": {
    "collapsed": false
   },
   "outputs": [
    {
     "data": {
      "text/plain": [
       "{'Central Washington University',\n",
       " 'Eastern Washington University',\n",
       " 'University of Washington',\n",
       " 'Washington State University',\n",
       " 'Western Washington University'}"
      ]
     },
     "execution_count": 373,
     "metadata": {},
     "output_type": "execute_result"
    }
   ],
   "source": [
    "univ_set"
   ]
  },
  {
   "cell_type": "code",
   "execution_count": 381,
   "metadata": {
    "collapsed": false
   },
   "outputs": [
    {
     "name": "stdout",
     "output_type": "stream",
     "text": [
      "Central Washington University\n",
      "32\n",
      "Western Washington University\n",
      "453\n",
      "University of Washington\n",
      "970\n",
      "Washington State University\n",
      "131\n",
      "Eastern Washington University\n",
      "38\n"
     ]
    }
   ],
   "source": [
    "for item in univ_set:\n",
    "    print(item)\n",
    "    tempdf = df[df.Agency_Title == item]\n",
    "    tempdf = tempdf[tempdf.job_title.str.contains(\"PROFESSOR\")]\n",
    "    fortyk = tempdf[tempdf.Sal2011 <= 40000]\n",
    "    fortyk = fortyk[fortyk.Sal2011 >= 1]\n",
    "    print(len(fortyk))"
   ]
  },
  {
   "cell_type": "code",
   "execution_count": 388,
   "metadata": {
    "collapsed": false
   },
   "outputs": [
    {
     "name": "stdout",
     "output_type": "stream",
     "text": [
      "Sal2011\n",
      "Central Washington University\n",
      "32\n",
      "230\n",
      "109\n",
      "15\n",
      "1\n",
      "Western Washington University\n",
      "453\n",
      "263\n",
      "58\n",
      "1\n",
      "0\n",
      "University of Washington\n",
      "970\n",
      "1054\n",
      "1283\n",
      "755\n",
      "701\n",
      "Washington State University\n",
      "131\n",
      "492\n",
      "382\n",
      "131\n",
      "66\n",
      "Eastern Washington University\n",
      "38\n",
      "244\n",
      "47\n",
      "1\n",
      "0\n",
      "Sal2012\n",
      "Central Washington University\n",
      "27\n",
      "225\n",
      "94\n",
      "10\n",
      "2\n",
      "Western Washington University\n",
      "225\n",
      "292\n",
      "85\n",
      "5\n",
      "0\n",
      "University of Washington\n",
      "988\n",
      "1010\n",
      "1292\n",
      "787\n",
      "753\n",
      "Washington State University\n",
      "154\n",
      "465\n",
      "395\n",
      "132\n",
      "82\n",
      "Eastern Washington University\n",
      "48\n",
      "231\n",
      "54\n",
      "1\n",
      "0\n",
      "Sal2013\n",
      "Central Washington University\n",
      "36\n",
      "212\n",
      "129\n",
      "19\n",
      "1\n",
      "Western Washington University\n",
      "126\n",
      "309\n",
      "125\n",
      "5\n",
      "0\n",
      "University of Washington\n",
      "1016\n",
      "1024\n",
      "1300\n",
      "818\n",
      "847\n",
      "Washington State University\n",
      "159\n",
      "496\n",
      "401\n",
      "124\n",
      "88\n",
      "Eastern Washington University\n",
      "62\n",
      "228\n",
      "64\n",
      "1\n",
      "0\n"
     ]
    }
   ],
   "source": [
    "for item1 in ['Sal2011', 'Sal2012', 'Sal2013']:\n",
    "    print(item1)\n",
    "    for item in univ_set:\n",
    "        tempdf = df[df.Agency_Title == item]\n",
    "        tempdf = tempdf[tempdf.job_title.str.contains(\"PROFESSOR\")]\n",
    "        print(item)\n",
    "        fortyk = tempdf[tempdf[item1] <= 40000]\n",
    "        fortyk = fortyk[fortyk[item1] >= 1]\n",
    "        #print('1 - 40k')\n",
    "        print(len(fortyk))\n",
    "        eightyk = tempdf[tempdf[item1] <= 80000]\n",
    "        eightyk = eightyk[eightyk[item1] > 40000]\n",
    "        #print('40k - 80k')\n",
    "        print(len(eightyk))\n",
    "        hundtwentyk = tempdf[tempdf[item1] <= 120000]\n",
    "        hundtwentyk = hundtwentyk[hundtwentyk[item1] > 80000]\n",
    "        #print('80k - 120k')\n",
    "        print(len(hundtwentyk))\n",
    "        greater120 = tempdf[tempdf[item1] <= 160000]\n",
    "        greater120 = greater120[greater120[item1] > 120000]\n",
    "        print(len(greater120))\n",
    "        greater160 = tempdf[tempdf[item1] > 160000]\n",
    "        #print('120k+')\n",
    "        print(len(greater160))"
   ]
  },
  {
   "cell_type": "code",
   "execution_count": null,
   "metadata": {
    "collapsed": false
   },
   "outputs": [],
   "source": [
    "school_list = {\n",
    " 'Bates Technical College',\n",
    " 'Bellevue Community College',\n",
    " 'Bellingham Technical College',\n",
    " 'Big Bend Community College',\n",
    " 'Cascadia Community College',\n",
    " 'Centralia College',\n",
    " 'Clark College',\n",
    " 'Clover Park Technical College',\n",
    " 'Columbia Basin Community College',\n",
    " 'Edmonds Community College',\n",
    " 'Everett Community College',\n",
    " 'Grays Harbor College',\n",
    " 'Green River Community College',\n",
    " 'Highline Community College',\n",
    " 'Lake Washington Technical College',\n",
    " 'Lower Columbia Community College',\n",
    " 'Olympic College',\n",
    " 'Peninsula Community College',\n",
    " 'Pierce Community College',\n",
    " 'Renton Technical College',\n",
    " 'Seattle Community College',\n",
    " 'Shoreline Community College',\n",
    " 'Skagit Valley College',\n",
    " 'South Puget Sound Community College',\n",
    " 'Spokane Community College',\n",
    " 'Tacoma Community College',\n",
    " 'The Evergreen State College',\n",
    " 'Walla Walla Community College',\n",
    " 'Wenatchee Valley College',\n",
    " 'Whatcom Community College',\n",
    " 'Yakima Valley College',\n",
    " 'Central Washington University',\n",
    " 'Eastern Washington University',\n",
    " 'University of Washington',\n",
    " 'Washington State University',\n",
    " 'Western Washington University'\n",
    "}"
   ]
  },
  {
   "cell_type": "code",
   "execution_count": null,
   "metadata": {
    "collapsed": false
   },
   "outputs": [],
   "source": [
    "school_list2 = list()\n",
    "for item in school_list:\n",
    "    school_list2.append(item)"
   ]
  },
  {
   "cell_type": "code",
   "execution_count": null,
   "metadata": {
    "collapsed": false
   },
   "outputs": [],
   "source": [
    "school_list2"
   ]
  },
  {
   "cell_type": "code",
   "execution_count": null,
   "metadata": {
    "collapsed": false
   },
   "outputs": [],
   "source": [
    "csv = df[df.Agency_Title.isin(school_list2)]"
   ]
  },
  {
   "cell_type": "code",
   "execution_count": null,
   "metadata": {
    "collapsed": false
   },
   "outputs": [],
   "source": [
    "csv.to_csv('professordata.csv')"
   ]
  },
  {
   "cell_type": "code",
   "execution_count": null,
   "metadata": {
    "collapsed": false
   },
   "outputs": [],
   "source": [
    "df2.head(5)"
   ]
  },
  {
   "cell_type": "code",
   "execution_count": null,
   "metadata": {
    "collapsed": false
   },
   "outputs": [],
   "source": [
    "prof_df = df2[df2.job_title.str.contains(\"PROFESSOR\")]"
   ]
  },
  {
   "cell_type": "code",
   "execution_count": null,
   "metadata": {
    "collapsed": false
   },
   "outputs": [],
   "source": [
    "prof_df.head(50)"
   ]
  },
  {
   "cell_type": "code",
   "execution_count": null,
   "metadata": {
    "collapsed": false
   },
   "outputs": [],
   "source": [
    "len(prof_df)"
   ]
  },
  {
   "cell_type": "code",
   "execution_count": null,
   "metadata": {
    "collapsed": false
   },
   "outputs": [],
   "source": [
    "zero = prof_df[prof_df.Sal2011 == 0]\n",
    "len(zero) /7328.0"
   ]
  },
  {
   "cell_type": "code",
   "execution_count": null,
   "metadata": {
    "collapsed": true
   },
   "outputs": [],
   "source": [
    "fortyk = prof_df[prof_df.Sal2011 <= 40000]\n",
    "fortyk = fortyk[fortyk.Sal2011 >= 1]\n",
    "\n",
    "eightyk = prof_df[prof_df.Sal2011 <= 80000]\n",
    "eightyk = eightyk[eightyk.Sal2011 > 40000]\n",
    "\n",
    "hundtwentyk = prof_df[prof_df.Sal2011 <= 120000]\n",
    "hundtwentyk = hundtwentyk[hundtwentyk.Sal2011 > 80000]\n",
    "\n",
    "greater120 = prof_df[prof_df.Sal2011 <= 160000]\n",
    "greater120 = greater120[greater120.Sal2011 > 120000]\n",
    "\n",
    "greater160 = prof_df[prof_df.Sal2011 > 160000]"
   ]
  },
  {
   "cell_type": "code",
   "execution_count": null,
   "metadata": {
    "collapsed": false
   },
   "outputs": [],
   "source": [
    "fortyk = prof_df[prof_df.Sal2011 <= 40000]\n",
    "fortyk = fortyk[fortyk.Sal2011 >= 1]\n",
    "len(fortyk)/7328.0"
   ]
  },
  {
   "cell_type": "code",
   "execution_count": null,
   "metadata": {
    "collapsed": false
   },
   "outputs": [],
   "source": [
    "eightyk = prof_df[prof_df.Sal2011 <= 80000]\n",
    "eightyk = eightyk[eightyk.Sal2011 > 40000]\n",
    "len(eightyk)/7328.0"
   ]
  },
  {
   "cell_type": "code",
   "execution_count": null,
   "metadata": {
    "collapsed": false
   },
   "outputs": [],
   "source": [
    "hundtwentyk = prof_df[prof_df.Sal2011 <= 120000]\n",
    "hundtwentyk = hundtwentyk[hundtwentyk.Sal2011 > 80000]\n",
    "len(hundtwentyk)/7328.0"
   ]
  },
  {
   "cell_type": "code",
   "execution_count": null,
   "metadata": {
    "collapsed": false
   },
   "outputs": [],
   "source": [
    "greater120 = prof_df[prof_df.Sal2011 <= 160000]\n",
    "greater120 = greater120[greater120.Sal2011 > 120000]\n",
    "len(greater120)/7328.0"
   ]
  },
  {
   "cell_type": "code",
   "execution_count": null,
   "metadata": {
    "collapsed": false
   },
   "outputs": [],
   "source": [
    "greater160 = prof_df[prof_df.Sal2011 > 160000]\n",
    "len(greater160)/7328.0"
   ]
  },
  {
   "cell_type": "code",
   "execution_count": null,
   "metadata": {
    "collapsed": false
   },
   "outputs": [],
   "source": [
    "len(zero) + len(fortyk) + len(eightyk) + len(hundtwentyk) + len(greater120) + len(greater160)"
   ]
  },
  {
   "cell_type": "code",
   "execution_count": null,
   "metadata": {
    "collapsed": false
   },
   "outputs": [],
   "source": [
    "csv2 = csv[csv.Agency_Title ]\n",
    "csv2 = csv.Sal2011.sort_values(ascending = False)"
   ]
  },
  {
   "cell_type": "code",
   "execution_count": null,
   "metadata": {
    "collapsed": false
   },
   "outputs": [],
   "source": [
    "csv2"
   ]
  }
 ],
 "metadata": {
  "kernelspec": {
   "display_name": "Python 2",
   "language": "python",
   "name": "python2"
  },
  "language_info": {
   "codemirror_mode": {
    "name": "ipython",
    "version": 2
   },
   "file_extension": ".py",
   "mimetype": "text/x-python",
   "name": "python",
   "nbconvert_exporter": "python",
   "pygments_lexer": "ipython2",
   "version": "2.7.11"
  }
 },
 "nbformat": 4,
 "nbformat_minor": 0
}
